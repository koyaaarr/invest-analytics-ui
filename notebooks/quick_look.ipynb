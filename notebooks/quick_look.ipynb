{
 "cells": [
  {
   "cell_type": "markdown",
   "metadata": {},
   "source": [
    "## Retrieve / Transform / Visualize Stock data"
   ]
  },
  {
   "cell_type": "code",
   "execution_count": 2,
   "metadata": {},
   "outputs": [],
   "source": [
    "from datetime import datetime\n",
    "import pandas as pd\n",
    "import numpy as np\n",
    "import yaml\n",
    "import time\n",
    "import pandas_datareader.data as web\n",
    "import plotly.express as px"
   ]
  },
  {
   "cell_type": "markdown",
   "metadata": {},
   "source": [
    "### retrieve stock data"
   ]
  },
  {
   "cell_type": "code",
   "execution_count": 3,
   "metadata": {},
   "outputs": [],
   "source": [
    "with open(f\"../retrieve_target.yaml\", 'rb') as file:\n",
    "    retrieves = yaml.safe_load(file)"
   ]
  },
  {
   "cell_type": "code",
   "execution_count": 4,
   "metadata": {},
   "outputs": [
    {
     "name": "stdout",
     "output_type": "stream",
     "text": [
      "retrieve from 20170101 to 20220628\n",
      "successfuly retrived: VOO\n",
      "successfuly retrived: VWO\n",
      "successfuly retrived: VEA\n",
      "successfuly retrived: VTI\n",
      "successfuly retrived: BND\n",
      "successfuly retrived: BTC-USD\n",
      "successfuly retrived: ETH-USD\n",
      "successfuly retrived: DBA\n",
      "successfuly retrived: USO\n",
      "successfuly retrived: QQQ\n",
      "successfuly retrived: VGT\n",
      "successfuly retrived: VHT\n",
      "successfuly retrived: VCR\n",
      "successfuly retrived: XLC\n",
      "successfuly retrived: VFH\n",
      "successfuly retrived: XLI\n",
      "successfuly retrived: VDC\n",
      "successfuly retrived: VPU\n",
      "successfuly retrived: XLB\n",
      "successfuly retrived: XLRE\n",
      "successfuly retrived: XLE\n"
     ]
    }
   ],
   "source": [
    "start = datetime(2017, 1, 1)\n",
    "end = datetime.today()\n",
    "print(f\"retrieve from {start.strftime('%Y%m%d')} to {end.strftime('%Y%m%d')}\")\n",
    "for k, v in retrieves[\"ticker\"].items():\n",
    "    # read ticker and source\n",
    "    ticker = k\n",
    "    source = v[\"source\"]\n",
    "\n",
    "    # retrive data\n",
    "    if source == \"stooq\":\n",
    "        stock = web.StooqDailyReader(ticker, start=start, end=end).read()\n",
    "    elif source == \"yahoo\":\n",
    "        stock = web.DataReader(ticker, \"yahoo\", start=start, end=end)\n",
    "\n",
    "    # data null check\n",
    "    if len(stock) == 0:\n",
    "        raise ValueError(\"retrieved data is null\")\n",
    "\n",
    "    # save data\n",
    "    stock = stock.reset_index(drop=False)\n",
    "    # stock.to_csv(f\"../data/{ticker}.csv\", index=None)\n",
    "    with open(f\"../data/{ticker}.csv\", \"wb\") as f:\n",
    "        stock.to_csv(f, index=False)\n",
    "    print(f\"successfuly retrived: {ticker}\")\n",
    "\n",
    "    # gentle to data source\n",
    "    time.sleep(1)\n"
   ]
  },
  {
   "cell_type": "markdown",
   "metadata": {},
   "source": [
    "### Transform Stock data"
   ]
  },
  {
   "cell_type": "markdown",
   "metadata": {},
   "source": [
    "#### transform portfolio"
   ]
  },
  {
   "cell_type": "code",
   "execution_count": 5,
   "metadata": {},
   "outputs": [],
   "source": [
    "# create date master\n",
    "dt_master = pd.DataFrame(columns=['Date'])\n",
    "for t in retrieves[\"ticker\"].keys():\n",
    "    with open(f\"../data/{ticker}.csv\", \"rb\") as f:\n",
    "        df = pd.read_csv(f)\n",
    "    dt_master = pd.concat([dt_master, df.loc[:, ['Date']]], axis=0)\n",
    "dt_master = dt_master.drop_duplicates(subset=\"Date\", keep=\"first\")\n",
    "dt_master = dt_master.sort_values('Date')"
   ]
  },
  {
   "cell_type": "code",
   "execution_count": 6,
   "metadata": {},
   "outputs": [],
   "source": [
    "# load portfolio settings\n",
    "with open(f\"../portfolio.yaml\", 'rb') as file:\n",
    "    portfolio = yaml.safe_load(file)"
   ]
  },
  {
   "cell_type": "code",
   "execution_count": 7,
   "metadata": {},
   "outputs": [],
   "source": [
    "# create dict with each stock's number of holds\n",
    "num_holds = {k: 0 for k in retrieves['ticker'].keys()}\n",
    "for k in portfolio['ticker'].keys():\n",
    "    num_holds[k] = 1\n",
    "num_holds['BTC-USD'] = 0.01\n",
    "num_holds['ETH-USD'] = 0.1"
   ]
  },
  {
   "cell_type": "code",
   "execution_count": 8,
   "metadata": {},
   "outputs": [],
   "source": [
    "# create data warehouse contains every stock data\n",
    "stocks = dt_master\n",
    "for k in num_holds.keys():\n",
    "    with open(f\"../data/{k}.csv\", \"rb\") as f:\n",
    "        df = pd.read_csv(f)\n",
    "    df = df.add_suffix(f'_{k}')\n",
    "    df_unq = f'Date_{k}'\n",
    "    stocks = pd.merge(stocks, df, how='left', left_on='Date', right_on=df_unq)"
   ]
  },
  {
   "cell_type": "code",
   "execution_count": 9,
   "metadata": {},
   "outputs": [],
   "source": [
    "# select use column\n",
    "cols = [f'Close_{k}' for k in num_holds.keys()]\n",
    "cols.insert(0, 'Date')\n",
    "stocks = stocks.loc[:, cols]"
   ]
  },
  {
   "cell_type": "code",
   "execution_count": 10,
   "metadata": {},
   "outputs": [],
   "source": [
    "# calculate portfolio value\n",
    "def calc_portfolio(x):\n",
    "    pf = 0\n",
    "    for k, v in num_holds.items():\n",
    "        pf += x[f'Close_{k}'] * v\n",
    "    return pf\n",
    "stocks['Close_Portfolio'] = stocks.apply(lambda x: calc_portfolio(x), axis=1)"
   ]
  },
  {
   "cell_type": "code",
   "execution_count": 11,
   "metadata": {},
   "outputs": [],
   "source": [
    "# convert to int\n",
    "for k in num_holds.keys():\n",
    "    ticker = k\n",
    "    stocks[f\"Close_{k}\"] = np.floor(\n",
    "        pd.to_numeric(stocks[f\"Close_{k}\"], errors=\"coerce\")\n",
    "    ).astype(\"Int64\")\n",
    "stocks[\"Close_Portfolio\"] = np.floor(\n",
    "        pd.to_numeric(stocks[\"Close_Portfolio\"], errors=\"coerce\")\n",
    "    ).astype(\"Int64\")"
   ]
  },
  {
   "cell_type": "code",
   "execution_count": 12,
   "metadata": {},
   "outputs": [
    {
     "data": {
      "text/html": [
       "<div>\n",
       "<style scoped>\n",
       "    .dataframe tbody tr th:only-of-type {\n",
       "        vertical-align: middle;\n",
       "    }\n",
       "\n",
       "    .dataframe tbody tr th {\n",
       "        vertical-align: top;\n",
       "    }\n",
       "\n",
       "    .dataframe thead th {\n",
       "        text-align: right;\n",
       "    }\n",
       "</style>\n",
       "<table border=\"1\" class=\"dataframe\">\n",
       "  <thead>\n",
       "    <tr style=\"text-align: right;\">\n",
       "      <th></th>\n",
       "      <th>Date</th>\n",
       "      <th>Close_VOO</th>\n",
       "      <th>Close_VWO</th>\n",
       "      <th>Close_VEA</th>\n",
       "      <th>Close_VTI</th>\n",
       "      <th>Close_BND</th>\n",
       "      <th>Close_BTC-USD</th>\n",
       "      <th>Close_ETH-USD</th>\n",
       "      <th>Close_DBA</th>\n",
       "      <th>Close_USO</th>\n",
       "      <th>...</th>\n",
       "      <th>Close_VCR</th>\n",
       "      <th>Close_XLC</th>\n",
       "      <th>Close_VFH</th>\n",
       "      <th>Close_XLI</th>\n",
       "      <th>Close_VDC</th>\n",
       "      <th>Close_VPU</th>\n",
       "      <th>Close_XLB</th>\n",
       "      <th>Close_XLRE</th>\n",
       "      <th>Close_XLE</th>\n",
       "      <th>Close_Portfolio</th>\n",
       "    </tr>\n",
       "  </thead>\n",
       "  <tbody>\n",
       "    <tr>\n",
       "      <th>1374</th>\n",
       "      <td>2022-06-17</td>\n",
       "      <td>337</td>\n",
       "      <td>41</td>\n",
       "      <td>40</td>\n",
       "      <td>183</td>\n",
       "      <td>74</td>\n",
       "      <td>20471</td>\n",
       "      <td>1086</td>\n",
       "      <td>21</td>\n",
       "      <td>83</td>\n",
       "      <td>...</td>\n",
       "      <td>225</td>\n",
       "      <td>53</td>\n",
       "      <td>75</td>\n",
       "      <td>85</td>\n",
       "      <td>177</td>\n",
       "      <td>141</td>\n",
       "      <td>74</td>\n",
       "      <td>39</td>\n",
       "      <td>73</td>\n",
       "      <td>1266</td>\n",
       "    </tr>\n",
       "    <tr>\n",
       "      <th>1375</th>\n",
       "      <td>2022-06-21</td>\n",
       "      <td>346</td>\n",
       "      <td>41</td>\n",
       "      <td>40</td>\n",
       "      <td>188</td>\n",
       "      <td>74</td>\n",
       "      <td>20710</td>\n",
       "      <td>1124</td>\n",
       "      <td>21</td>\n",
       "      <td>84</td>\n",
       "      <td>...</td>\n",
       "      <td>231</td>\n",
       "      <td>54</td>\n",
       "      <td>77</td>\n",
       "      <td>86</td>\n",
       "      <td>181</td>\n",
       "      <td>143</td>\n",
       "      <td>75</td>\n",
       "      <td>39</td>\n",
       "      <td>76</td>\n",
       "      <td>1291</td>\n",
       "    </tr>\n",
       "    <tr>\n",
       "      <th>1376</th>\n",
       "      <td>2022-06-22</td>\n",
       "      <td>345</td>\n",
       "      <td>41</td>\n",
       "      <td>40</td>\n",
       "      <td>188</td>\n",
       "      <td>74</td>\n",
       "      <td>19987</td>\n",
       "      <td>1051</td>\n",
       "      <td>21</td>\n",
       "      <td>80</td>\n",
       "      <td>...</td>\n",
       "      <td>231</td>\n",
       "      <td>54</td>\n",
       "      <td>77</td>\n",
       "      <td>86</td>\n",
       "      <td>181</td>\n",
       "      <td>145</td>\n",
       "      <td>74</td>\n",
       "      <td>40</td>\n",
       "      <td>73</td>\n",
       "      <td>1275</td>\n",
       "    </tr>\n",
       "    <tr>\n",
       "      <th>1377</th>\n",
       "      <td>2022-06-23</td>\n",
       "      <td>349</td>\n",
       "      <td>41</td>\n",
       "      <td>40</td>\n",
       "      <td>189</td>\n",
       "      <td>74</td>\n",
       "      <td>21085</td>\n",
       "      <td>1143</td>\n",
       "      <td>20</td>\n",
       "      <td>78</td>\n",
       "      <td>...</td>\n",
       "      <td>234</td>\n",
       "      <td>54</td>\n",
       "      <td>76</td>\n",
       "      <td>85</td>\n",
       "      <td>183</td>\n",
       "      <td>147</td>\n",
       "      <td>73</td>\n",
       "      <td>40</td>\n",
       "      <td>70</td>\n",
       "      <td>1304</td>\n",
       "    </tr>\n",
       "    <tr>\n",
       "      <th>1378</th>\n",
       "      <td>2022-06-24</td>\n",
       "      <td>360</td>\n",
       "      <td>42</td>\n",
       "      <td>41</td>\n",
       "      <td>195</td>\n",
       "      <td>74</td>\n",
       "      <td>21231</td>\n",
       "      <td>1226</td>\n",
       "      <td>20</td>\n",
       "      <td>81</td>\n",
       "      <td>...</td>\n",
       "      <td>243</td>\n",
       "      <td>56</td>\n",
       "      <td>79</td>\n",
       "      <td>88</td>\n",
       "      <td>187</td>\n",
       "      <td>150</td>\n",
       "      <td>76</td>\n",
       "      <td>41</td>\n",
       "      <td>71</td>\n",
       "      <td>1343</td>\n",
       "    </tr>\n",
       "  </tbody>\n",
       "</table>\n",
       "<p>5 rows × 23 columns</p>\n",
       "</div>"
      ],
      "text/plain": [
       "            Date  Close_VOO  Close_VWO  Close_VEA  Close_VTI  Close_BND  \\\n",
       "1374  2022-06-17        337         41         40        183         74   \n",
       "1375  2022-06-21        346         41         40        188         74   \n",
       "1376  2022-06-22        345         41         40        188         74   \n",
       "1377  2022-06-23        349         41         40        189         74   \n",
       "1378  2022-06-24        360         42         41        195         74   \n",
       "\n",
       "      Close_BTC-USD  Close_ETH-USD  Close_DBA  Close_USO  ...  Close_VCR  \\\n",
       "1374          20471           1086         21         83  ...        225   \n",
       "1375          20710           1124         21         84  ...        231   \n",
       "1376          19987           1051         21         80  ...        231   \n",
       "1377          21085           1143         20         78  ...        234   \n",
       "1378          21231           1226         20         81  ...        243   \n",
       "\n",
       "      Close_XLC  Close_VFH  Close_XLI  Close_VDC  Close_VPU  Close_XLB  \\\n",
       "1374         53         75         85        177        141         74   \n",
       "1375         54         77         86        181        143         75   \n",
       "1376         54         77         86        181        145         74   \n",
       "1377         54         76         85        183        147         73   \n",
       "1378         56         79         88        187        150         76   \n",
       "\n",
       "      Close_XLRE  Close_XLE  Close_Portfolio  \n",
       "1374          39         73             1266  \n",
       "1375          39         76             1291  \n",
       "1376          40         73             1275  \n",
       "1377          40         70             1304  \n",
       "1378          41         71             1343  \n",
       "\n",
       "[5 rows x 23 columns]"
      ]
     },
     "execution_count": 12,
     "metadata": {},
     "output_type": "execute_result"
    }
   ],
   "source": [
    "stocks.tail()"
   ]
  },
  {
   "cell_type": "code",
   "execution_count": 13,
   "metadata": {},
   "outputs": [],
   "source": [
    "# save portfolio and every stock data\n",
    "stocks.to_pickle('../data/stocks.pkl')"
   ]
  },
  {
   "cell_type": "markdown",
   "metadata": {},
   "source": [
    "#### transform ratio"
   ]
  },
  {
   "cell_type": "code",
   "execution_count": 15,
   "metadata": {},
   "outputs": [],
   "source": [
    "# recent value ratio\n",
    "recent_valid_index = stocks.dropna(subset=['Close_Portfolio']).tail(1).index.values[0]\n",
    "# recent value percent\n",
    "recent_values = []\n",
    "recent_ratios = []\n",
    "for k in portfolio[\"ticker\"].keys():\n",
    "    value = stocks.loc[recent_valid_index, f\"Close_{k}\"] * num_holds[k]\n",
    "    ratio = value / stocks.loc[recent_valid_index, \"Close_Portfolio\"] * 100\n",
    "    value = round(value, 2)\n",
    "    ratio = round(ratio, 2)\n",
    "    recent_values.append(value)\n",
    "    recent_ratios.append(ratio)"
   ]
  },
  {
   "cell_type": "code",
   "execution_count": 16,
   "metadata": {},
   "outputs": [],
   "source": [
    "ratio = pd.DataFrame(\n",
    "    data={\n",
    "        \"ticker\": portfolio[\"ticker\"].keys(),\n",
    "        \"latest_value_sum\": recent_values,\n",
    "        \"ratio_percent\": recent_ratios,\n",
    "    }\n",
    ")"
   ]
  },
  {
   "cell_type": "code",
   "execution_count": 17,
   "metadata": {},
   "outputs": [],
   "source": [
    "# create every stock's feature\n",
    "ratio[\"type\"] = ratio.ticker.apply(lambda x: portfolio[\"ticker\"][x][\"type\"])\n",
    "ratio[\"detail\"] = ratio.ticker.apply(lambda x: portfolio[\"ticker\"][x][\"detail\"])\n",
    "ratio[\"sector\"] = ratio.ticker.apply(lambda x: portfolio[\"ticker\"][x][\"sector\"])\n",
    "ratio[\"num_holds\"] = ratio.ticker.apply(lambda x: num_holds[x])\n",
    "ratio[\"latest_value\"] = ratio.latest_value_sum / ratio.num_holds"
   ]
  },
  {
   "cell_type": "code",
   "execution_count": 18,
   "metadata": {},
   "outputs": [],
   "source": [
    "# save every stock stats\n",
    "ratio.to_pickle('../data/ratio.pkl')"
   ]
  },
  {
   "cell_type": "code",
   "execution_count": 19,
   "metadata": {},
   "outputs": [
    {
     "data": {
      "text/html": [
       "<div>\n",
       "<style scoped>\n",
       "    .dataframe tbody tr th:only-of-type {\n",
       "        vertical-align: middle;\n",
       "    }\n",
       "\n",
       "    .dataframe tbody tr th {\n",
       "        vertical-align: top;\n",
       "    }\n",
       "\n",
       "    .dataframe thead th {\n",
       "        text-align: right;\n",
       "    }\n",
       "</style>\n",
       "<table border=\"1\" class=\"dataframe\">\n",
       "  <thead>\n",
       "    <tr style=\"text-align: right;\">\n",
       "      <th></th>\n",
       "      <th>ticker</th>\n",
       "      <th>latest_value_sum</th>\n",
       "      <th>ratio_percent</th>\n",
       "      <th>type</th>\n",
       "      <th>detail</th>\n",
       "      <th>sector</th>\n",
       "      <th>num_holds</th>\n",
       "      <th>latest_value</th>\n",
       "    </tr>\n",
       "  </thead>\n",
       "  <tbody>\n",
       "    <tr>\n",
       "      <th>0</th>\n",
       "      <td>BND</td>\n",
       "      <td>74.00</td>\n",
       "      <td>5.51</td>\n",
       "      <td>bond</td>\n",
       "      <td>VANGUARD TOTAL BOND MARKET ETF</td>\n",
       "      <td>none</td>\n",
       "      <td>1.00</td>\n",
       "      <td>74.0</td>\n",
       "    </tr>\n",
       "    <tr>\n",
       "      <th>1</th>\n",
       "      <td>BTC-USD</td>\n",
       "      <td>212.31</td>\n",
       "      <td>15.81</td>\n",
       "      <td>cripto</td>\n",
       "      <td>Bitcoin / USD</td>\n",
       "      <td>none</td>\n",
       "      <td>0.01</td>\n",
       "      <td>21231.0</td>\n",
       "    </tr>\n",
       "    <tr>\n",
       "      <th>2</th>\n",
       "      <td>ETH-USD</td>\n",
       "      <td>122.60</td>\n",
       "      <td>9.13</td>\n",
       "      <td>cripto</td>\n",
       "      <td>Etherium / USD</td>\n",
       "      <td>none</td>\n",
       "      <td>0.10</td>\n",
       "      <td>1226.0</td>\n",
       "    </tr>\n",
       "    <tr>\n",
       "      <th>3</th>\n",
       "      <td>VEA</td>\n",
       "      <td>41.00</td>\n",
       "      <td>3.05</td>\n",
       "      <td>stock</td>\n",
       "      <td>VANGUARD FTSE DEVELOPED MARKETS ETF</td>\n",
       "      <td>none</td>\n",
       "      <td>1.00</td>\n",
       "      <td>41.0</td>\n",
       "    </tr>\n",
       "    <tr>\n",
       "      <th>4</th>\n",
       "      <td>VOO</td>\n",
       "      <td>360.00</td>\n",
       "      <td>26.81</td>\n",
       "      <td>stock</td>\n",
       "      <td>VANGUARD S&amp;P 500 ETF</td>\n",
       "      <td>none</td>\n",
       "      <td>1.00</td>\n",
       "      <td>360.0</td>\n",
       "    </tr>\n",
       "    <tr>\n",
       "      <th>5</th>\n",
       "      <td>VTI</td>\n",
       "      <td>195.00</td>\n",
       "      <td>14.52</td>\n",
       "      <td>stock</td>\n",
       "      <td>VANGUARD TOTAL STOCK MARKET ETF</td>\n",
       "      <td>none</td>\n",
       "      <td>1.00</td>\n",
       "      <td>195.0</td>\n",
       "    </tr>\n",
       "    <tr>\n",
       "      <th>6</th>\n",
       "      <td>VWO</td>\n",
       "      <td>42.00</td>\n",
       "      <td>3.13</td>\n",
       "      <td>stock</td>\n",
       "      <td>VANGUARD FTSE EMERGING MARKETS ETF</td>\n",
       "      <td>none</td>\n",
       "      <td>1.00</td>\n",
       "      <td>42.0</td>\n",
       "    </tr>\n",
       "    <tr>\n",
       "      <th>7</th>\n",
       "      <td>QQQ</td>\n",
       "      <td>294.00</td>\n",
       "      <td>21.89</td>\n",
       "      <td>stock</td>\n",
       "      <td>Invesco QQQ ETF</td>\n",
       "      <td>IT</td>\n",
       "      <td>1.00</td>\n",
       "      <td>294.0</td>\n",
       "    </tr>\n",
       "  </tbody>\n",
       "</table>\n",
       "</div>"
      ],
      "text/plain": [
       "    ticker  latest_value_sum  ratio_percent    type  \\\n",
       "0      BND             74.00           5.51    bond   \n",
       "1  BTC-USD            212.31          15.81  cripto   \n",
       "2  ETH-USD            122.60           9.13  cripto   \n",
       "3      VEA             41.00           3.05   stock   \n",
       "4      VOO            360.00          26.81   stock   \n",
       "5      VTI            195.00          14.52   stock   \n",
       "6      VWO             42.00           3.13   stock   \n",
       "7      QQQ            294.00          21.89   stock   \n",
       "\n",
       "                                detail sector  num_holds  latest_value  \n",
       "0       VANGUARD TOTAL BOND MARKET ETF   none       1.00          74.0  \n",
       "1                        Bitcoin / USD   none       0.01       21231.0  \n",
       "2                       Etherium / USD   none       0.10        1226.0  \n",
       "3  VANGUARD FTSE DEVELOPED MARKETS ETF   none       1.00          41.0  \n",
       "4                 VANGUARD S&P 500 ETF   none       1.00         360.0  \n",
       "5      VANGUARD TOTAL STOCK MARKET ETF   none       1.00         195.0  \n",
       "6   VANGUARD FTSE EMERGING MARKETS ETF   none       1.00          42.0  \n",
       "7                      Invesco QQQ ETF     IT       1.00         294.0  "
      ]
     },
     "execution_count": 19,
     "metadata": {},
     "output_type": "execute_result"
    }
   ],
   "source": [
    "ratio"
   ]
  },
  {
   "cell_type": "markdown",
   "metadata": {},
   "source": [
    "#### transform sharpe ratio"
   ]
  },
  {
   "cell_type": "code",
   "execution_count": 20,
   "metadata": {},
   "outputs": [],
   "source": [
    "# calc sharpe ratio\n",
    "sharpe = stocks.loc[:, [\"Date\", \"Close_Portfolio\"]]\n",
    "sharpe = sharpe.dropna(subset=[\"Close_Portfolio\"])\n",
    "sharpe[\"lag_1d\"] = sharpe[\"Close_Portfolio\"].shift(1)\n",
    "sharpe[\"rate_change\"] = np.log(sharpe.Close_Portfolio / sharpe.lag_1d)\n",
    "sharpe[\"one_year_mean\"] = sharpe[\"rate_change\"].rolling(252).mean()\n",
    "sharpe[\"one_year_std\"] = sharpe[\"rate_change\"].rolling(252).std()\n",
    "sharpe[\"sharpe_ratio\"] = sharpe.one_year_mean / sharpe.one_year_std\n",
    "sharpe[\"sharpe_ratio_annual\"] = sharpe[\"sharpe_ratio\"] * 252**0.5\n",
    "sharpe = sharpe.dropna(subset=[\"sharpe_ratio_annual\"])\n",
    "sharpe = sharpe.loc[:, [\"Date\", \"sharpe_ratio_annual\"]]"
   ]
  },
  {
   "cell_type": "code",
   "execution_count": 21,
   "metadata": {},
   "outputs": [
    {
     "data": {
      "text/html": [
       "<div>\n",
       "<style scoped>\n",
       "    .dataframe tbody tr th:only-of-type {\n",
       "        vertical-align: middle;\n",
       "    }\n",
       "\n",
       "    .dataframe tbody tr th {\n",
       "        vertical-align: top;\n",
       "    }\n",
       "\n",
       "    .dataframe thead th {\n",
       "        text-align: right;\n",
       "    }\n",
       "</style>\n",
       "<table border=\"1\" class=\"dataframe\">\n",
       "  <thead>\n",
       "    <tr style=\"text-align: right;\">\n",
       "      <th></th>\n",
       "      <th>Date</th>\n",
       "      <th>sharpe_ratio_annual</th>\n",
       "    </tr>\n",
       "  </thead>\n",
       "  <tbody>\n",
       "    <tr>\n",
       "      <th>1374</th>\n",
       "      <td>2022-06-17</td>\n",
       "      <td>-0.834188</td>\n",
       "    </tr>\n",
       "    <tr>\n",
       "      <th>1375</th>\n",
       "      <td>2022-06-21</td>\n",
       "      <td>-0.671261</td>\n",
       "    </tr>\n",
       "    <tr>\n",
       "      <th>1376</th>\n",
       "      <td>2022-06-22</td>\n",
       "      <td>-0.730804</td>\n",
       "    </tr>\n",
       "    <tr>\n",
       "      <th>1377</th>\n",
       "      <td>2022-06-23</td>\n",
       "      <td>-0.705313</td>\n",
       "    </tr>\n",
       "    <tr>\n",
       "      <th>1378</th>\n",
       "      <td>2022-06-24</td>\n",
       "      <td>-0.646594</td>\n",
       "    </tr>\n",
       "  </tbody>\n",
       "</table>\n",
       "</div>"
      ],
      "text/plain": [
       "            Date  sharpe_ratio_annual\n",
       "1374  2022-06-17            -0.834188\n",
       "1375  2022-06-21            -0.671261\n",
       "1376  2022-06-22            -0.730804\n",
       "1377  2022-06-23            -0.705313\n",
       "1378  2022-06-24            -0.646594"
      ]
     },
     "execution_count": 21,
     "metadata": {},
     "output_type": "execute_result"
    }
   ],
   "source": [
    "sharpe.tail()"
   ]
  },
  {
   "cell_type": "code",
   "execution_count": 23,
   "metadata": {},
   "outputs": [],
   "source": [
    "# save sharpe ratio\n",
    "sharpe.to_pickle('../data/sharpe.pkl')"
   ]
  },
  {
   "cell_type": "markdown",
   "metadata": {},
   "source": [
    "### Visualize"
   ]
  },
  {
   "cell_type": "code",
   "execution_count": 22,
   "metadata": {},
   "outputs": [
    {
     "data": {
      "application/vnd.plotly.v1+json": {
       "config": {
        "plotlyServerURL": "https://plot.ly"
       },
       "data": [
        {
         "hovertemplate": "Date=%{x}<br>sharpe_ratio_annual=%{y}<extra></extra>",
         "legendgroup": "",
         "line": {
          "color": "#636efa",
          "dash": "solid"
         },
         "marker": {
          "symbol": "circle"
         },
         "mode": "lines",
         "name": "",
         "orientation": "v",
         "showlegend": false,
         "type": "scatter",
         "x": [
          "2019-06-24",
          "2019-06-25",
          "2019-06-26",
          "2019-06-27",
          "2019-06-28",
          "2019-07-01",
          "2019-07-02",
          "2019-07-03",
          "2019-07-05",
          "2019-07-08",
          "2019-07-09",
          "2019-07-10",
          "2019-07-11",
          "2019-07-12",
          "2019-07-15",
          "2019-07-16",
          "2019-07-17",
          "2019-07-18",
          "2019-07-19",
          "2019-07-22",
          "2019-07-23",
          "2019-07-24",
          "2019-07-25",
          "2019-07-26",
          "2019-07-29",
          "2019-07-30",
          "2019-07-31",
          "2019-08-01",
          "2019-08-02",
          "2019-08-05",
          "2019-08-06",
          "2019-08-07",
          "2019-08-08",
          "2019-08-09",
          "2019-08-12",
          "2019-08-13",
          "2019-08-14",
          "2019-08-15",
          "2019-08-16",
          "2019-08-19",
          "2019-08-20",
          "2019-08-21",
          "2019-08-22",
          "2019-08-23",
          "2019-08-26",
          "2019-08-27",
          "2019-08-28",
          "2019-08-29",
          "2019-08-30",
          "2019-09-03",
          "2019-09-04",
          "2019-09-05",
          "2019-09-06",
          "2019-09-09",
          "2019-09-10",
          "2019-09-11",
          "2019-09-12",
          "2019-09-13",
          "2019-09-16",
          "2019-09-17",
          "2019-09-18",
          "2019-09-19",
          "2019-09-20",
          "2019-09-23",
          "2019-09-24",
          "2019-09-25",
          "2019-09-26",
          "2019-09-27",
          "2019-09-30",
          "2019-10-01",
          "2019-10-02",
          "2019-10-03",
          "2019-10-04",
          "2019-10-07",
          "2019-10-08",
          "2019-10-09",
          "2019-10-10",
          "2019-10-11",
          "2019-10-14",
          "2019-10-15",
          "2019-10-16",
          "2019-10-17",
          "2019-10-18",
          "2019-10-21",
          "2019-10-22",
          "2019-10-23",
          "2019-10-24",
          "2019-10-25",
          "2019-10-28",
          "2019-10-29",
          "2019-10-30",
          "2019-10-31",
          "2019-11-01",
          "2019-11-04",
          "2019-11-05",
          "2019-11-06",
          "2019-11-07",
          "2019-11-08",
          "2019-11-11",
          "2019-11-12",
          "2019-11-13",
          "2019-11-14",
          "2019-11-15",
          "2019-11-18",
          "2019-11-19",
          "2019-11-20",
          "2019-11-21",
          "2019-11-22",
          "2019-11-25",
          "2019-11-26",
          "2019-11-27",
          "2019-11-29",
          "2019-12-02",
          "2019-12-03",
          "2019-12-04",
          "2019-12-05",
          "2019-12-06",
          "2019-12-09",
          "2019-12-10",
          "2019-12-11",
          "2019-12-12",
          "2019-12-13",
          "2019-12-16",
          "2019-12-17",
          "2019-12-18",
          "2019-12-19",
          "2019-12-20",
          "2019-12-23",
          "2019-12-24",
          "2019-12-26",
          "2019-12-27",
          "2019-12-30",
          "2019-12-31",
          "2020-01-02",
          "2020-01-03",
          "2020-01-06",
          "2020-01-07",
          "2020-01-08",
          "2020-01-09",
          "2020-01-10",
          "2020-01-13",
          "2020-01-14",
          "2020-01-15",
          "2020-01-16",
          "2020-01-17",
          "2020-01-21",
          "2020-01-22",
          "2020-01-23",
          "2020-01-24",
          "2020-01-27",
          "2020-01-28",
          "2020-01-29",
          "2020-01-30",
          "2020-01-31",
          "2020-02-03",
          "2020-02-04",
          "2020-02-05",
          "2020-02-06",
          "2020-02-07",
          "2020-02-10",
          "2020-02-11",
          "2020-02-12",
          "2020-02-13",
          "2020-02-14",
          "2020-02-18",
          "2020-02-19",
          "2020-02-20",
          "2020-02-21",
          "2020-02-24",
          "2020-02-25",
          "2020-02-26",
          "2020-02-27",
          "2020-02-28",
          "2020-03-02",
          "2020-03-03",
          "2020-03-04",
          "2020-03-05",
          "2020-03-06",
          "2020-03-09",
          "2020-03-10",
          "2020-03-11",
          "2020-03-12",
          "2020-03-13",
          "2020-03-16",
          "2020-03-17",
          "2020-03-18",
          "2020-03-19",
          "2020-03-20",
          "2020-03-23",
          "2020-03-24",
          "2020-03-25",
          "2020-03-26",
          "2020-03-27",
          "2020-03-30",
          "2020-03-31",
          "2020-04-01",
          "2020-04-02",
          "2020-04-03",
          "2020-04-06",
          "2020-04-07",
          "2020-04-08",
          "2020-04-09",
          "2020-04-13",
          "2020-04-14",
          "2020-04-15",
          "2020-04-16",
          "2020-04-17",
          "2020-04-20",
          "2020-04-21",
          "2020-04-22",
          "2020-04-23",
          "2020-04-24",
          "2020-04-27",
          "2020-04-28",
          "2020-04-29",
          "2020-04-30",
          "2020-05-01",
          "2020-05-04",
          "2020-05-05",
          "2020-05-06",
          "2020-05-07",
          "2020-05-08",
          "2020-05-11",
          "2020-05-12",
          "2020-05-13",
          "2020-05-14",
          "2020-05-15",
          "2020-05-18",
          "2020-05-19",
          "2020-05-20",
          "2020-05-21",
          "2020-05-22",
          "2020-05-26",
          "2020-05-27",
          "2020-05-28",
          "2020-05-29",
          "2020-06-01",
          "2020-06-02",
          "2020-06-03",
          "2020-06-04",
          "2020-06-05",
          "2020-06-08",
          "2020-06-09",
          "2020-06-10",
          "2020-06-11",
          "2020-06-12",
          "2020-06-15",
          "2020-06-16",
          "2020-06-17",
          "2020-06-18",
          "2020-06-19",
          "2020-06-22",
          "2020-06-23",
          "2020-06-24",
          "2020-06-25",
          "2020-06-26",
          "2020-06-29",
          "2020-06-30",
          "2020-07-01",
          "2020-07-02",
          "2020-07-06",
          "2020-07-07",
          "2020-07-08",
          "2020-07-09",
          "2020-07-10",
          "2020-07-13",
          "2020-07-14",
          "2020-07-15",
          "2020-07-16",
          "2020-07-17",
          "2020-07-20",
          "2020-07-21",
          "2020-07-22",
          "2020-07-23",
          "2020-07-24",
          "2020-07-27",
          "2020-07-28",
          "2020-07-29",
          "2020-07-30",
          "2020-07-31",
          "2020-08-03",
          "2020-08-04",
          "2020-08-05",
          "2020-08-06",
          "2020-08-07",
          "2020-08-10",
          "2020-08-11",
          "2020-08-12",
          "2020-08-13",
          "2020-08-14",
          "2020-08-17",
          "2020-08-18",
          "2020-08-19",
          "2020-08-20",
          "2020-08-21",
          "2020-08-24",
          "2020-08-25",
          "2020-08-26",
          "2020-08-27",
          "2020-08-28",
          "2020-08-31",
          "2020-09-01",
          "2020-09-02",
          "2020-09-03",
          "2020-09-04",
          "2020-09-08",
          "2020-09-09",
          "2020-09-10",
          "2020-09-11",
          "2020-09-14",
          "2020-09-15",
          "2020-09-16",
          "2020-09-17",
          "2020-09-18",
          "2020-09-21",
          "2020-09-22",
          "2020-09-23",
          "2020-09-24",
          "2020-09-25",
          "2020-09-28",
          "2020-09-29",
          "2020-09-30",
          "2020-10-01",
          "2020-10-02",
          "2020-10-05",
          "2020-10-06",
          "2020-10-07",
          "2020-10-08",
          "2020-10-09",
          "2020-10-12",
          "2020-10-13",
          "2020-10-14",
          "2020-10-15",
          "2020-10-16",
          "2020-10-19",
          "2020-10-20",
          "2020-10-21",
          "2020-10-22",
          "2020-10-23",
          "2020-10-26",
          "2020-10-27",
          "2020-10-28",
          "2020-10-29",
          "2020-10-30",
          "2020-11-02",
          "2020-11-03",
          "2020-11-04",
          "2020-11-05",
          "2020-11-06",
          "2020-11-09",
          "2020-11-10",
          "2020-11-11",
          "2020-11-12",
          "2020-11-13",
          "2020-11-16",
          "2020-11-17",
          "2020-11-18",
          "2020-11-19",
          "2020-11-20",
          "2020-11-23",
          "2020-11-24",
          "2020-11-25",
          "2020-11-27",
          "2020-11-30",
          "2020-12-01",
          "2020-12-02",
          "2020-12-03",
          "2020-12-04",
          "2020-12-07",
          "2020-12-08",
          "2020-12-09",
          "2020-12-10",
          "2020-12-11",
          "2020-12-14",
          "2020-12-15",
          "2020-12-16",
          "2020-12-17",
          "2020-12-18",
          "2020-12-21",
          "2020-12-22",
          "2020-12-23",
          "2020-12-24",
          "2020-12-28",
          "2020-12-29",
          "2020-12-30",
          "2020-12-31",
          "2021-01-04",
          "2021-01-05",
          "2021-01-06",
          "2021-01-07",
          "2021-01-08",
          "2021-01-11",
          "2021-01-12",
          "2021-01-13",
          "2021-01-14",
          "2021-01-15",
          "2021-01-19",
          "2021-01-20",
          "2021-01-21",
          "2021-01-22",
          "2021-01-25",
          "2021-01-26",
          "2021-01-27",
          "2021-01-28",
          "2021-01-29",
          "2021-02-01",
          "2021-02-02",
          "2021-02-03",
          "2021-02-04",
          "2021-02-05",
          "2021-02-08",
          "2021-02-09",
          "2021-02-10",
          "2021-02-11",
          "2021-02-12",
          "2021-02-16",
          "2021-02-17",
          "2021-02-18",
          "2021-02-19",
          "2021-02-22",
          "2021-02-23",
          "2021-02-24",
          "2021-02-25",
          "2021-02-26",
          "2021-03-01",
          "2021-03-02",
          "2021-03-03",
          "2021-03-04",
          "2021-03-05",
          "2021-03-08",
          "2021-03-09",
          "2021-03-10",
          "2021-03-11",
          "2021-03-12",
          "2021-03-15",
          "2021-03-16",
          "2021-03-17",
          "2021-03-18",
          "2021-03-19",
          "2021-03-22",
          "2021-03-23",
          "2021-03-24",
          "2021-03-25",
          "2021-03-26",
          "2021-03-29",
          "2021-03-30",
          "2021-03-31",
          "2021-04-01",
          "2021-04-05",
          "2021-04-06",
          "2021-04-07",
          "2021-04-08",
          "2021-04-09",
          "2021-04-12",
          "2021-04-13",
          "2021-04-14",
          "2021-04-15",
          "2021-04-16",
          "2021-04-19",
          "2021-04-20",
          "2021-04-21",
          "2021-04-22",
          "2021-04-23",
          "2021-04-26",
          "2021-04-27",
          "2021-04-28",
          "2021-04-29",
          "2021-04-30",
          "2021-05-03",
          "2021-05-04",
          "2021-05-05",
          "2021-05-06",
          "2021-05-07",
          "2021-05-10",
          "2021-05-11",
          "2021-05-12",
          "2021-05-13",
          "2021-05-14",
          "2021-05-17",
          "2021-05-18",
          "2021-05-19",
          "2021-05-20",
          "2021-05-21",
          "2021-05-24",
          "2021-05-25",
          "2021-05-26",
          "2021-05-27",
          "2021-05-28",
          "2021-06-01",
          "2021-06-02",
          "2021-06-03",
          "2021-06-04",
          "2021-06-07",
          "2021-06-08",
          "2021-06-09",
          "2021-06-10",
          "2021-06-11",
          "2021-06-14",
          "2021-06-15",
          "2021-06-16",
          "2021-06-17",
          "2021-06-18",
          "2021-06-21",
          "2021-06-22",
          "2021-06-23",
          "2021-06-24",
          "2021-06-25",
          "2021-06-28",
          "2021-06-29",
          "2021-06-30",
          "2021-07-01",
          "2021-07-02",
          "2021-07-06",
          "2021-07-07",
          "2021-07-08",
          "2021-07-09",
          "2021-07-12",
          "2021-07-13",
          "2021-07-14",
          "2021-07-15",
          "2021-07-16",
          "2021-07-19",
          "2021-07-20",
          "2021-07-21",
          "2021-07-22",
          "2021-07-23",
          "2021-07-26",
          "2021-07-27",
          "2021-07-28",
          "2021-07-29",
          "2021-07-30",
          "2021-08-02",
          "2021-08-03",
          "2021-08-04",
          "2021-08-05",
          "2021-08-06",
          "2021-08-09",
          "2021-08-10",
          "2021-08-11",
          "2021-08-12",
          "2021-08-13",
          "2021-08-16",
          "2021-08-17",
          "2021-08-18",
          "2021-08-19",
          "2021-08-20",
          "2021-08-23",
          "2021-08-24",
          "2021-08-25",
          "2021-08-26",
          "2021-08-27",
          "2021-08-30",
          "2021-08-31",
          "2021-09-01",
          "2021-09-02",
          "2021-09-03",
          "2021-09-07",
          "2021-09-08",
          "2021-09-09",
          "2021-09-10",
          "2021-09-13",
          "2021-09-14",
          "2021-09-15",
          "2021-09-16",
          "2021-09-17",
          "2021-09-20",
          "2021-09-21",
          "2021-09-22",
          "2021-09-23",
          "2021-09-24",
          "2021-09-27",
          "2021-09-28",
          "2021-09-29",
          "2021-09-30",
          "2021-10-01",
          "2021-10-04",
          "2021-10-05",
          "2021-10-06",
          "2021-10-07",
          "2021-10-08",
          "2021-10-11",
          "2021-10-12",
          "2021-10-13",
          "2021-10-14",
          "2021-10-15",
          "2021-10-18",
          "2021-10-19",
          "2021-10-20",
          "2021-10-21",
          "2021-10-22",
          "2021-10-25",
          "2021-10-26",
          "2021-10-27",
          "2021-10-28",
          "2021-10-29",
          "2021-11-01",
          "2021-11-02",
          "2021-11-03",
          "2021-11-04",
          "2021-11-05",
          "2021-11-08",
          "2021-11-09",
          "2021-11-10",
          "2021-11-11",
          "2021-11-12",
          "2021-11-15",
          "2021-11-16",
          "2021-11-17",
          "2021-11-18",
          "2021-11-19",
          "2021-11-22",
          "2021-11-23",
          "2021-11-24",
          "2021-11-26",
          "2021-11-29",
          "2021-11-30",
          "2021-12-01",
          "2021-12-02",
          "2021-12-03",
          "2021-12-06",
          "2021-12-07",
          "2021-12-08",
          "2021-12-09",
          "2021-12-10",
          "2021-12-13",
          "2021-12-14",
          "2021-12-15",
          "2021-12-16",
          "2021-12-17",
          "2021-12-20",
          "2021-12-21",
          "2021-12-22",
          "2021-12-23",
          "2021-12-27",
          "2021-12-28",
          "2021-12-29",
          "2021-12-30",
          "2021-12-31",
          "2022-01-03",
          "2022-01-04",
          "2022-01-05",
          "2022-01-06",
          "2022-01-07",
          "2022-01-10",
          "2022-01-11",
          "2022-01-12",
          "2022-01-13",
          "2022-01-14",
          "2022-01-18",
          "2022-01-19",
          "2022-01-20",
          "2022-01-21",
          "2022-01-24",
          "2022-01-25",
          "2022-01-26",
          "2022-01-27",
          "2022-01-28",
          "2022-01-31",
          "2022-02-01",
          "2022-02-02",
          "2022-02-03",
          "2022-02-04",
          "2022-02-07",
          "2022-02-08",
          "2022-02-09",
          "2022-02-10",
          "2022-02-11",
          "2022-02-14",
          "2022-02-15",
          "2022-02-16",
          "2022-02-17",
          "2022-02-18",
          "2022-02-22",
          "2022-02-23",
          "2022-02-24",
          "2022-02-25",
          "2022-02-28",
          "2022-03-01",
          "2022-03-02",
          "2022-03-03",
          "2022-03-04",
          "2022-03-07",
          "2022-03-08",
          "2022-03-09",
          "2022-03-10",
          "2022-03-11",
          "2022-03-14",
          "2022-03-15",
          "2022-03-16",
          "2022-03-17",
          "2022-03-18",
          "2022-03-21",
          "2022-03-22",
          "2022-03-23",
          "2022-03-24",
          "2022-03-25",
          "2022-03-28",
          "2022-03-29",
          "2022-03-30",
          "2022-03-31",
          "2022-04-01",
          "2022-04-04",
          "2022-04-05",
          "2022-04-06",
          "2022-04-07",
          "2022-04-08",
          "2022-04-11",
          "2022-04-12",
          "2022-04-13",
          "2022-04-14",
          "2022-04-18",
          "2022-04-19",
          "2022-04-20",
          "2022-04-21",
          "2022-04-22",
          "2022-04-25",
          "2022-04-26",
          "2022-04-27",
          "2022-04-28",
          "2022-04-29",
          "2022-05-02",
          "2022-05-03",
          "2022-05-04",
          "2022-05-05",
          "2022-05-06",
          "2022-05-09",
          "2022-05-10",
          "2022-05-11",
          "2022-05-12",
          "2022-05-13",
          "2022-05-16",
          "2022-05-17",
          "2022-05-18",
          "2022-05-19",
          "2022-05-20",
          "2022-05-23",
          "2022-05-24",
          "2022-05-25",
          "2022-05-26",
          "2022-05-27",
          "2022-05-31",
          "2022-06-01",
          "2022-06-02",
          "2022-06-03",
          "2022-06-06",
          "2022-06-07",
          "2022-06-08",
          "2022-06-09",
          "2022-06-10",
          "2022-06-13",
          "2022-06-14",
          "2022-06-15",
          "2022-06-16",
          "2022-06-17",
          "2022-06-21",
          "2022-06-22",
          "2022-06-23",
          "2022-06-24"
         ],
         "xaxis": "x",
         "y": [
          0.5812907950245703,
          0.6827134230805448,
          0.8613915452608679,
          0.7368893145445119,
          0.8992913130979661,
          0.7916958847484358,
          0.7719143767673713,
          0.824206446875418,
          0.7683044402159064,
          0.7817875647470026,
          0.7626186738053485,
          0.6933748241794533,
          0.6767181559244697,
          0.7642720893823342,
          0.6360989243604147,
          0.4770918688585919,
          0.40766790322476665,
          0.423938954021492,
          0.38794089569047724,
          0.41841625699358903,
          0.42669203239049985,
          0.41757452206839957,
          0.29783551410598175,
          0.29646469664877556,
          0.3215283416947078,
          0.3222860598684922,
          0.35429857452598307,
          0.36297345074153886,
          0.34934419193689825,
          0.2889784505420682,
          0.3103400595389776,
          0.3854671481565137,
          0.48676580057288277,
          0.4909182234322996,
          0.37814957047633496,
          0.5110208259873695,
          0.3272355721202059,
          0.34839822350074917,
          0.452845379964588,
          0.5194719480165296,
          0.42281208008416216,
          0.455159776434337,
          0.40963100607045794,
          0.31394974232440487,
          0.36430641716623485,
          0.2747565709180375,
          0.20754086724831708,
          0.22093196897008768,
          0.19852549059498908,
          0.27872177281616145,
          0.3353018259496798,
          0.38373042401761503,
          0.4859456565008791,
          0.5326963331701327,
          0.5425241967821461,
          0.6002315600222139,
          0.6273358431273091,
          0.6202873103897985,
          0.5304532390316397,
          0.5592228523270498,
          0.6305596355471506,
          0.5909993783200339,
          0.5475365490482819,
          0.44367093844191907,
          0.2659556218355158,
          0.31797187627917345,
          0.30451555048642087,
          0.28266338983105255,
          0.28098134493862265,
          0.23743598290043988,
          0.14871387266405492,
          0.19304478085161755,
          0.25837099969706956,
          0.31234704930351814,
          0.2693997293635975,
          0.3489468417511295,
          0.3846906824822173,
          0.6011758175963151,
          0.745917282044039,
          0.6945752327340943,
          0.6724167187345107,
          0.5698662220617408,
          0.548748574340328,
          0.7077739610934282,
          0.6703453854071743,
          0.6327580072775435,
          0.6809383542451234,
          0.9904625308454065,
          0.9629058360839354,
          1.0688969667690396,
          1.1412774912637285,
          1.0512158115909207,
          1.0346726470119456,
          0.9965583648119808,
          1.0328863342488401,
          1.0148146760844117,
          0.9730974899166341,
          0.8314217815259036,
          0.8593679099617656,
          0.9442274979310468,
          1.0632845672906923,
          1.0557766695697783,
          1.2010505270935,
          1.133004967037609,
          1.1344142755678546,
          1.3219673142081187,
          1.4463376034146276,
          1.3660911997808995,
          1.4687550762953738,
          1.4727953331248966,
          1.5064620048561297,
          1.3237511772940769,
          1.2500152262164146,
          1.1990992553661743,
          1.1664968058693046,
          1.3973817438320775,
          1.526070146692839,
          1.6650759434823574,
          1.627695449857336,
          1.6521215476690234,
          1.6499892491734172,
          1.690102917146777,
          1.8469461921809667,
          1.893168366350521,
          1.9242379284229765,
          2.0480123786990645,
          2.106621997268105,
          2.3235992309171674,
          2.4268245979774195,
          2.2722928064549213,
          2.2722928064549213,
          2.1812977871107417,
          2.1673546566835022,
          2.152689924661722,
          2.370305151299323,
          2.2607214427533533,
          2.2125872590792026,
          2.1733638163499926,
          2.154971120273696,
          2.2218489442765224,
          2.2843363916043935,
          2.3866651845320486,
          2.321427525469743,
          2.359623507753096,
          2.3466272331325855,
          2.245834187427326,
          2.3781634577425197,
          2.3483746089708326,
          2.2688752056624177,
          2.127137356848047,
          2.3314353838351716,
          2.355660997075865,
          2.2708101220562846,
          2.0653516159437086,
          2.1352838483363783,
          2.175369749451463,
          2.224606392613697,
          2.3083856710768487,
          2.3557203460614806,
          2.3754877390028453,
          2.4235108791720785,
          2.418321141352688,
          2.390053863660672,
          2.4337515035414348,
          2.336632135232902,
          2.2481979933047342,
          2.1825139183923365,
          2.1442487870932525,
          1.8135382200675454,
          1.5648402089770126,
          1.5038854171314795,
          1.1933991700507323,
          1.1877198069695951,
          1.3634003744052705,
          1.2258219986010885,
          1.3752732353394754,
          1.2621867904549882,
          1.2385108904716582,
          0.619111606641891,
          0.7461528174212131,
          0.4681457089984095,
          -0.2705913297342847,
          0.10493552009717899,
          -0.35817512851215627,
          -0.17083835388383348,
          -0.33420682198232704,
          -0.260036011956594,
          -0.39204182854196207,
          -0.3619889678943527,
          -0.09539407209662425,
          -0.08526414556695448,
          0.07797759958271877,
          -0.036994644421966934,
          0.02270498929119513,
          -0.04538805505812877,
          -0.2050286184856635,
          -0.14382531018251943,
          -0.19421894943582171,
          -1.0370018291269297e-15,
          -0.021273166125897375,
          0.07990084467837769,
          0.09174821363434062,
          0.07984916440894692,
          0.14847269199769816,
          0.09144756200249858,
          0.13155069677202735,
          0.18723668894469048,
          0.12683884185638825,
          0.03713854848421474,
          0.08098343713945749,
          0.1052834291571029,
          0.1652115629020444,
          0.19538698580413544,
          0.17593134718362785,
          0.2920229342632007,
          0.27830827174081696,
          0.21331756116812206,
          0.18415209278949948,
          0.22683499542945856,
          0.27574128420319216,
          0.33098166531300105,
          0.3758045159484793,
          0.30331435665891465,
          0.26983565853154096,
          0.2106272619299972,
          0.215573302378982,
          0.1922522429434408,
          0.33120429417956365,
          0.3089888059117599,
          0.3211625086812905,
          0.3050765431554795,
          0.33652232343262994,
          0.33935368301233215,
          0.3582930113926772,
          0.38905562710787206,
          0.41885347076502494,
          0.4830739497843384,
          0.5171617382609007,
          0.5266835176354987,
          0.49565126196039305,
          0.5304622851556319,
          0.5207767261255367,
          0.5022191661924185,
          0.5055914570118378,
          0.32743548588277144,
          0.3500313816533269,
          0.3591119610330028,
          0.3722603750266303,
          0.3500103738706627,
          0.3312509269533629,
          0.28079575130173123,
          0.2953513930294964,
          0.2756304691474267,
          0.19701193153334853,
          0.17057775338459444,
          0.17770328656938525,
          0.14735144231562544,
          0.23229628438346528,
          0.2413739032132766,
          0.190471458389375,
          0.3002125101424121,
          0.23094462197398072,
          0.2529314682802252,
          0.25347010480364973,
          0.30916591975398405,
          0.240595197670875,
          0.31722830418049214,
          0.4047367613328142,
          0.38823330262344524,
          0.34723978544531514,
          0.4115998793083558,
          0.4143992572114523,
          0.4374137460007699,
          0.3904806408751368,
          0.38516945044752765,
          0.4559763594624712,
          0.4487425200280415,
          0.49394321472815744,
          0.5044931838508152,
          0.5430708751787197,
          0.5956105337119793,
          0.6304911793057295,
          0.6452805895151439,
          0.641296052556202,
          0.5763168935730831,
          0.6143443727176893,
          0.6128230309541449,
          0.6455149889682296,
          0.778914303311841,
          0.759758638662592,
          0.7557072847149554,
          0.7002186535816146,
          0.6985022466820224,
          0.7271400131759396,
          0.7248653665366157,
          0.8121844840111508,
          0.7795745803118568,
          0.8303735485871154,
          0.8291200242753817,
          0.8327590899720845,
          0.8503288841278385,
          0.8725556115958052,
          0.8456607591548954,
          0.6577278688428517,
          0.6500266732356842,
          0.5334255483079468,
          0.6045934786759821,
          0.5490162940428481,
          0.530975990070319,
          0.5795738376188678,
          0.6077311371729343,
          0.584867140632023,
          0.5636363812575339,
          0.5289078999195027,
          0.5004567965891269,
          0.5528615037793049,
          0.5528540034569034,
          0.572637005353387,
          0.6309973094476532,
          0.6872140862048953,
          0.6625774561052102,
          0.7040423543023324,
          0.7603399137819434,
          0.7023476956774388,
          0.725614772943621,
          0.6867640519853179,
          0.7663296968045824,
          0.7584535900144433,
          0.7746304717117918,
          0.8271479600734777,
          0.8098845122931518,
          0.7742119919722471,
          0.7795434853988089,
          0.7576515600433656,
          0.7557521052717143,
          0.7381613461714198,
          0.7853121113756272,
          0.821091749509305,
          0.8194008674769743,
          0.7175510857229559,
          0.6984271758129527,
          0.5893647774543109,
          0.62426259614386,
          0.5927608527127194,
          0.5885467308360945,
          0.6253348237471184,
          0.7063244738768008,
          0.7957430767964407,
          0.8065069208238452,
          0.808927735983526,
          0.7995936109822334,
          0.8350188849930112,
          0.8323348919948895,
          0.8674306192352287,
          0.8882170100430323,
          0.9150242406678224,
          0.9000796569689384,
          0.9307955685596855,
          0.9739415691567728,
          1.0127318548784392,
          1.0483220767322867,
          1.0224145525813695,
          0.9536580081694364,
          1.0328182899204268,
          1.07235590683695,
          1.1052101886133714,
          1.1059008528249716,
          1.0802599202578116,
          1.0756010433642098,
          1.0671159575373146,
          1.053949287875473,
          1.038384010032241,
          1.0023099726822151,
          1.0381813789471115,
          1.0653273289406189,
          1.140618286638279,
          1.1642952565330673,
          1.1597763282097588,
          1.1229415765607613,
          1.1441644984911674,
          1.1176537538541114,
          1.129810867082041,
          1.2434470587624016,
          1.2616709879079868,
          1.2996909744956613,
          1.286233587603988,
          1.3887659743416927,
          1.4305510569971733,
          1.497592135041325,
          1.5679890875968177,
          1.599669395918401,
          1.4289205976653416,
          1.3682852167448714,
          1.4291970684447215,
          1.4779910203039017,
          1.383431245454854,
          1.413291986452119,
          1.4468786118061472,
          1.2946597607921881,
          1.3578006111897813,
          1.3921871644253339,
          1.4255284435189655,
          1.2675829030095824,
          1.3509995353512916,
          1.327065483257549,
          1.388930272780106,
          1.4545184671376352,
          1.4769144811058514,
          1.439663306085405,
          1.4707646962366208,
          1.6189342084273446,
          1.605698525968144,
          1.5554775659385622,
          1.5860524265902498,
          1.6033462694383107,
          1.6065153655305742,
          1.671037888236296,
          1.6752600759261127,
          1.7545259665065962,
          1.695286716924208,
          1.6431614888459964,
          1.761252327118105,
          1.65893186958431,
          1.7476077532330445,
          1.8636931091149653,
          1.721441661004719,
          1.804384562348875,
          1.6620177939678435,
          1.751099048779615,
          1.861555809434316,
          2.220113308043502,
          2.136655430557699,
          2.328462838254825,
          2.9584582196630045,
          2.7751288005304993,
          3.408573342573455,
          3.3217010763327792,
          3.446415582548339,
          3.400261990929612,
          3.427609303705199,
          3.447042063763331,
          3.1928651882459067,
          3.1464153681387206,
          3.1267821599994226,
          3.336026802180502,
          3.2809318680254136,
          3.350116319239714,
          3.545961322588436,
          3.5283484047638862,
          3.5692344821278343,
          3.32800595435354,
          3.4074714214889332,
          3.3312635914859876,
          3.339500398623586,
          3.4818446696397443,
          3.4023964047281323,
          3.5307929483214116,
          3.4181333263560294,
          3.107904811399829,
          3.206808910458775,
          3.3000194515615413,
          3.1549715121359334,
          3.142803968181875,
          3.184554003945369,
          3.1736752498787064,
          3.2106774430851894,
          3.0782629075453527,
          3.1848524491455295,
          3.3754392985208224,
          3.188226693180496,
          3.2667454745803464,
          3.249987872020591,
          3.2168237197624934,
          3.20477839980152,
          3.3179863047597644,
          2.9850697412168623,
          3.023624900989392,
          3.0685464160527083,
          2.678165417714068,
          2.582221580431091,
          2.1848728251116056,
          2.2851558053646057,
          2.16346484220416,
          2.240721788922364,
          2.2352938322217564,
          2.2464052780175883,
          2.18737436350119,
          2.0461615627042047,
          2.051594226233254,
          2.0921770841844847,
          2.0995759856447,
          2.0508123287666002,
          1.9135519281431685,
          1.8642523413829848,
          1.954025116602173,
          1.9252765292002456,
          2.121648910048517,
          2.1725557483848763,
          2.160664996518745,
          2.00656226484843,
          2.01394156699152,
          1.9123146320118785,
          1.7854334920444228,
          1.7727729913563415,
          1.7997715381717319,
          1.9122688380908457,
          1.791614840877668,
          1.9624558819142768,
          1.9757908902586783,
          1.9477323112556213,
          1.8676704244373592,
          1.8840217232506073,
          1.8601333102753392,
          1.8875644500006297,
          1.774261137982664,
          1.8216492433353868,
          1.7745541224732297,
          1.7787556961295907,
          1.7646943124050591,
          1.7051801752928175,
          1.6918529364621149,
          1.6315064939556627,
          1.5921741723567964,
          1.6793228544044585,
          1.6772406135502709,
          1.7734545915847106,
          1.8735784684897572,
          1.826490377898933,
          1.868842951325823,
          1.8528238353310633,
          1.892346985486443,
          1.832413252605313,
          1.7733881609628277,
          1.8214053770709377,
          1.8351827196965194,
          1.856851485797499,
          1.9739865602529159,
          1.9433975284621277,
          1.9981627756344704,
          1.9123573561966718,
          1.9920738541843896,
          1.9338630313257787,
          1.8420677295147967,
          1.8268676588224864,
          1.9076240814091754,
          1.9564064981259643,
          1.990285042062508,
          1.9103773034703118,
          1.945809106089541,
          1.8456188500805812,
          1.9270066900516705,
          1.8723114806182832,
          1.8874801685135565,
          1.9260875854014428,
          1.926311057356648,
          2.1299806215814794,
          1.996003499684264,
          2.116448913436614,
          2.0457598248804656,
          2.002854310516519,
          2.0188358989033435,
          2.0224906211205673,
          2.0568612392809107,
          2.053132311303173,
          2.019796481083952,
          1.8410030802619008,
          1.8172957882247074,
          1.892824058425735,
          2.0233954623531765,
          1.9196020644264502,
          1.8651409277847533,
          1.733542037011172,
          1.7559114297490175,
          1.7857464679259822,
          1.8865606555239838,
          1.929068382392581,
          1.9505653223975152,
          2.0613848438671227,
          2.0147257935529783,
          1.9807212965864518,
          1.9847497805061152,
          1.888154074738457,
          1.9489407173026645,
          2.0144256399698817,
          2.095822919056399,
          2.108688867475047,
          2.1850231800248276,
          2.2335268143249745,
          2.1426474611517907,
          2.0861374891822693,
          2.151175552445186,
          2.1432404832337126,
          2.0627596295098707,
          2.2571008566233712,
          2.2626771795536373,
          2.2780043444508955,
          2.3223470680220966,
          2.283374266855928,
          2.1933772461544425,
          2.100100940390858,
          2.199847431374535,
          2.184413911765334,
          2.142112137639725,
          2.1157976286790667,
          2.1132329198540662,
          2.059099849294264,
          1.9397415086459993,
          1.9278881926705922,
          1.8627174387579184,
          1.9035829621132578,
          1.8197962374182908,
          1.839247026330075,
          1.765013378423237,
          1.674052233129093,
          1.8356348580594073,
          1.7535883146947808,
          1.7307362063050535,
          1.7152761375051795,
          1.5986734534280629,
          1.6061404837746607,
          1.6179577241993512,
          1.6593605034239682,
          1.573262845221991,
          1.5569798300602427,
          1.5267362181171629,
          1.4699819826794562,
          1.528270193705655,
          1.4216144798599235,
          1.3294724786800995,
          1.3272531818842752,
          1.4194249533257448,
          1.3999750653853635,
          1.479363879600676,
          1.4658926808720865,
          1.2785747045137767,
          1.23336551569297,
          1.2133222711260374,
          1.1832192860735706,
          1.1126432482995543,
          1.0357665376339238,
          0.8530522264880024,
          0.7463490810175658,
          0.63862050206302,
          0.7748746047212751,
          0.8702098111213096,
          0.8267152728950281,
          0.7084916606394928,
          0.8020657832479045,
          0.6859399346102973,
          0.6297452693203054,
          0.7243087194318895,
          0.47853127958417485,
          0.45325576507935694,
          0.4256617105639628,
          0.5334379036387583,
          0.42943237457707667,
          0.5147305236578948,
          0.5717446687936477,
          0.5134985748384499,
          0.42072934896749226,
          0.3737152719348425,
          0.4481491359508134,
          0.34614265979992165,
          0.3510875338973771,
          0.4335731117233573,
          0.30163394181172465,
          0.20985626503086183,
          0.19316697455707763,
          0.2362381237219829,
          0.22268149887663372,
          0.02220921129836169,
          0.06328145894233103,
          0.12154141001764572,
          0.022000963253107002,
          0.19293578294124508,
          0.29094384321261374,
          0.2555019707623796,
          0.3096376018582483,
          0.3044396828818468,
          0.31265296802656817,
          0.17033238941552795,
          -0.011933151138062748,
          -0.0790236885834212,
          0.03742944180392785,
          -0.09618233706068646,
          -0.12193445753978144,
          -0.11385771985234881,
          -0.09310078391586878,
          -0.030128812353483476,
          0.04791024528666782,
          0.08973405905711097,
          0.13452548197452321,
          0.2000129148006154,
          0.2590692922530287,
          0.32533061503606847,
          0.235983211303912,
          0.26770261497253467,
          0.28757040421568253,
          0.24210696971304088,
          0.14881245816304886,
          0.14675272503825124,
          0.19380616505120415,
          0.19155364985128973,
          0.030493539823429814,
          0.04403541373962373,
          -0.02581357056404888,
          -0.21897022565259253,
          -0.21377466778381973,
          -0.19245124523376647,
          -0.21813967845699,
          -0.06397633119723782,
          -0.0416063456719875,
          -0.03719293489192366,
          -0.05197635817831074,
          -0.11435260840678095,
          -0.1609804622535906,
          -0.3136568838241962,
          -0.28767831239688124,
          -0.21664767728858164,
          -0.36991349597825957,
          -0.4378597807526831,
          -0.35950924677915214,
          -0.35123880610462727,
          -0.48919039170280926,
          -0.5467903585668917,
          -0.7879820039492942,
          -0.780814812581683,
          -0.7171408180536166,
          -0.7493036927839702,
          -0.7680686992547224,
          -0.5648226119028346,
          -0.4976112293233208,
          -0.3982481813264145,
          -0.5011664406586389,
          -0.4140112944465666,
          -0.46600629508982244,
          -0.48103737296709215,
          -0.5202340982585757,
          -0.4742686988379273,
          -0.355964264424527,
          -0.3135721663938184,
          -0.4208081698529344,
          -0.40651978365697156,
          -0.42285355738408115,
          -0.29656447914636275,
          -0.27683736797555575,
          -0.39970066004988614,
          -0.42815781497547234,
          -0.5234619851855568,
          -0.8949169760122611,
          -0.9094508004790833,
          -0.7812161170078061,
          -0.9285011880643148,
          -0.8341878408235501,
          -0.6712613879140947,
          -0.7308036188739314,
          -0.705313437333219,
          -0.6465939131723593
         ],
         "yaxis": "y"
        }
       ],
       "layout": {
        "legend": {
         "tracegroupgap": 0
        },
        "margin": {
         "t": 60
        },
        "shapes": [
         {
          "line": {
           "color": "red"
          },
          "type": "line",
          "x0": 0,
          "x1": 1,
          "xref": "x domain",
          "y0": 1,
          "y1": 1,
          "yref": "y"
         }
        ],
        "template": {
         "data": {
          "bar": [
           {
            "error_x": {
             "color": "#2a3f5f"
            },
            "error_y": {
             "color": "#2a3f5f"
            },
            "marker": {
             "line": {
              "color": "#E5ECF6",
              "width": 0.5
             },
             "pattern": {
              "fillmode": "overlay",
              "size": 10,
              "solidity": 0.2
             }
            },
            "type": "bar"
           }
          ],
          "barpolar": [
           {
            "marker": {
             "line": {
              "color": "#E5ECF6",
              "width": 0.5
             },
             "pattern": {
              "fillmode": "overlay",
              "size": 10,
              "solidity": 0.2
             }
            },
            "type": "barpolar"
           }
          ],
          "carpet": [
           {
            "aaxis": {
             "endlinecolor": "#2a3f5f",
             "gridcolor": "white",
             "linecolor": "white",
             "minorgridcolor": "white",
             "startlinecolor": "#2a3f5f"
            },
            "baxis": {
             "endlinecolor": "#2a3f5f",
             "gridcolor": "white",
             "linecolor": "white",
             "minorgridcolor": "white",
             "startlinecolor": "#2a3f5f"
            },
            "type": "carpet"
           }
          ],
          "choropleth": [
           {
            "colorbar": {
             "outlinewidth": 0,
             "ticks": ""
            },
            "type": "choropleth"
           }
          ],
          "contour": [
           {
            "colorbar": {
             "outlinewidth": 0,
             "ticks": ""
            },
            "colorscale": [
             [
              0,
              "#0d0887"
             ],
             [
              0.1111111111111111,
              "#46039f"
             ],
             [
              0.2222222222222222,
              "#7201a8"
             ],
             [
              0.3333333333333333,
              "#9c179e"
             ],
             [
              0.4444444444444444,
              "#bd3786"
             ],
             [
              0.5555555555555556,
              "#d8576b"
             ],
             [
              0.6666666666666666,
              "#ed7953"
             ],
             [
              0.7777777777777778,
              "#fb9f3a"
             ],
             [
              0.8888888888888888,
              "#fdca26"
             ],
             [
              1,
              "#f0f921"
             ]
            ],
            "type": "contour"
           }
          ],
          "contourcarpet": [
           {
            "colorbar": {
             "outlinewidth": 0,
             "ticks": ""
            },
            "type": "contourcarpet"
           }
          ],
          "heatmap": [
           {
            "colorbar": {
             "outlinewidth": 0,
             "ticks": ""
            },
            "colorscale": [
             [
              0,
              "#0d0887"
             ],
             [
              0.1111111111111111,
              "#46039f"
             ],
             [
              0.2222222222222222,
              "#7201a8"
             ],
             [
              0.3333333333333333,
              "#9c179e"
             ],
             [
              0.4444444444444444,
              "#bd3786"
             ],
             [
              0.5555555555555556,
              "#d8576b"
             ],
             [
              0.6666666666666666,
              "#ed7953"
             ],
             [
              0.7777777777777778,
              "#fb9f3a"
             ],
             [
              0.8888888888888888,
              "#fdca26"
             ],
             [
              1,
              "#f0f921"
             ]
            ],
            "type": "heatmap"
           }
          ],
          "heatmapgl": [
           {
            "colorbar": {
             "outlinewidth": 0,
             "ticks": ""
            },
            "colorscale": [
             [
              0,
              "#0d0887"
             ],
             [
              0.1111111111111111,
              "#46039f"
             ],
             [
              0.2222222222222222,
              "#7201a8"
             ],
             [
              0.3333333333333333,
              "#9c179e"
             ],
             [
              0.4444444444444444,
              "#bd3786"
             ],
             [
              0.5555555555555556,
              "#d8576b"
             ],
             [
              0.6666666666666666,
              "#ed7953"
             ],
             [
              0.7777777777777778,
              "#fb9f3a"
             ],
             [
              0.8888888888888888,
              "#fdca26"
             ],
             [
              1,
              "#f0f921"
             ]
            ],
            "type": "heatmapgl"
           }
          ],
          "histogram": [
           {
            "marker": {
             "pattern": {
              "fillmode": "overlay",
              "size": 10,
              "solidity": 0.2
             }
            },
            "type": "histogram"
           }
          ],
          "histogram2d": [
           {
            "colorbar": {
             "outlinewidth": 0,
             "ticks": ""
            },
            "colorscale": [
             [
              0,
              "#0d0887"
             ],
             [
              0.1111111111111111,
              "#46039f"
             ],
             [
              0.2222222222222222,
              "#7201a8"
             ],
             [
              0.3333333333333333,
              "#9c179e"
             ],
             [
              0.4444444444444444,
              "#bd3786"
             ],
             [
              0.5555555555555556,
              "#d8576b"
             ],
             [
              0.6666666666666666,
              "#ed7953"
             ],
             [
              0.7777777777777778,
              "#fb9f3a"
             ],
             [
              0.8888888888888888,
              "#fdca26"
             ],
             [
              1,
              "#f0f921"
             ]
            ],
            "type": "histogram2d"
           }
          ],
          "histogram2dcontour": [
           {
            "colorbar": {
             "outlinewidth": 0,
             "ticks": ""
            },
            "colorscale": [
             [
              0,
              "#0d0887"
             ],
             [
              0.1111111111111111,
              "#46039f"
             ],
             [
              0.2222222222222222,
              "#7201a8"
             ],
             [
              0.3333333333333333,
              "#9c179e"
             ],
             [
              0.4444444444444444,
              "#bd3786"
             ],
             [
              0.5555555555555556,
              "#d8576b"
             ],
             [
              0.6666666666666666,
              "#ed7953"
             ],
             [
              0.7777777777777778,
              "#fb9f3a"
             ],
             [
              0.8888888888888888,
              "#fdca26"
             ],
             [
              1,
              "#f0f921"
             ]
            ],
            "type": "histogram2dcontour"
           }
          ],
          "mesh3d": [
           {
            "colorbar": {
             "outlinewidth": 0,
             "ticks": ""
            },
            "type": "mesh3d"
           }
          ],
          "parcoords": [
           {
            "line": {
             "colorbar": {
              "outlinewidth": 0,
              "ticks": ""
             }
            },
            "type": "parcoords"
           }
          ],
          "pie": [
           {
            "automargin": true,
            "type": "pie"
           }
          ],
          "scatter": [
           {
            "fillpattern": {
             "fillmode": "overlay",
             "size": 10,
             "solidity": 0.2
            },
            "type": "scatter"
           }
          ],
          "scatter3d": [
           {
            "line": {
             "colorbar": {
              "outlinewidth": 0,
              "ticks": ""
             }
            },
            "marker": {
             "colorbar": {
              "outlinewidth": 0,
              "ticks": ""
             }
            },
            "type": "scatter3d"
           }
          ],
          "scattercarpet": [
           {
            "marker": {
             "colorbar": {
              "outlinewidth": 0,
              "ticks": ""
             }
            },
            "type": "scattercarpet"
           }
          ],
          "scattergeo": [
           {
            "marker": {
             "colorbar": {
              "outlinewidth": 0,
              "ticks": ""
             }
            },
            "type": "scattergeo"
           }
          ],
          "scattergl": [
           {
            "marker": {
             "colorbar": {
              "outlinewidth": 0,
              "ticks": ""
             }
            },
            "type": "scattergl"
           }
          ],
          "scattermapbox": [
           {
            "marker": {
             "colorbar": {
              "outlinewidth": 0,
              "ticks": ""
             }
            },
            "type": "scattermapbox"
           }
          ],
          "scatterpolar": [
           {
            "marker": {
             "colorbar": {
              "outlinewidth": 0,
              "ticks": ""
             }
            },
            "type": "scatterpolar"
           }
          ],
          "scatterpolargl": [
           {
            "marker": {
             "colorbar": {
              "outlinewidth": 0,
              "ticks": ""
             }
            },
            "type": "scatterpolargl"
           }
          ],
          "scatterternary": [
           {
            "marker": {
             "colorbar": {
              "outlinewidth": 0,
              "ticks": ""
             }
            },
            "type": "scatterternary"
           }
          ],
          "surface": [
           {
            "colorbar": {
             "outlinewidth": 0,
             "ticks": ""
            },
            "colorscale": [
             [
              0,
              "#0d0887"
             ],
             [
              0.1111111111111111,
              "#46039f"
             ],
             [
              0.2222222222222222,
              "#7201a8"
             ],
             [
              0.3333333333333333,
              "#9c179e"
             ],
             [
              0.4444444444444444,
              "#bd3786"
             ],
             [
              0.5555555555555556,
              "#d8576b"
             ],
             [
              0.6666666666666666,
              "#ed7953"
             ],
             [
              0.7777777777777778,
              "#fb9f3a"
             ],
             [
              0.8888888888888888,
              "#fdca26"
             ],
             [
              1,
              "#f0f921"
             ]
            ],
            "type": "surface"
           }
          ],
          "table": [
           {
            "cells": {
             "fill": {
              "color": "#EBF0F8"
             },
             "line": {
              "color": "white"
             }
            },
            "header": {
             "fill": {
              "color": "#C8D4E3"
             },
             "line": {
              "color": "white"
             }
            },
            "type": "table"
           }
          ]
         },
         "layout": {
          "annotationdefaults": {
           "arrowcolor": "#2a3f5f",
           "arrowhead": 0,
           "arrowwidth": 1
          },
          "autotypenumbers": "strict",
          "coloraxis": {
           "colorbar": {
            "outlinewidth": 0,
            "ticks": ""
           }
          },
          "colorscale": {
           "diverging": [
            [
             0,
             "#8e0152"
            ],
            [
             0.1,
             "#c51b7d"
            ],
            [
             0.2,
             "#de77ae"
            ],
            [
             0.3,
             "#f1b6da"
            ],
            [
             0.4,
             "#fde0ef"
            ],
            [
             0.5,
             "#f7f7f7"
            ],
            [
             0.6,
             "#e6f5d0"
            ],
            [
             0.7,
             "#b8e186"
            ],
            [
             0.8,
             "#7fbc41"
            ],
            [
             0.9,
             "#4d9221"
            ],
            [
             1,
             "#276419"
            ]
           ],
           "sequential": [
            [
             0,
             "#0d0887"
            ],
            [
             0.1111111111111111,
             "#46039f"
            ],
            [
             0.2222222222222222,
             "#7201a8"
            ],
            [
             0.3333333333333333,
             "#9c179e"
            ],
            [
             0.4444444444444444,
             "#bd3786"
            ],
            [
             0.5555555555555556,
             "#d8576b"
            ],
            [
             0.6666666666666666,
             "#ed7953"
            ],
            [
             0.7777777777777778,
             "#fb9f3a"
            ],
            [
             0.8888888888888888,
             "#fdca26"
            ],
            [
             1,
             "#f0f921"
            ]
           ],
           "sequentialminus": [
            [
             0,
             "#0d0887"
            ],
            [
             0.1111111111111111,
             "#46039f"
            ],
            [
             0.2222222222222222,
             "#7201a8"
            ],
            [
             0.3333333333333333,
             "#9c179e"
            ],
            [
             0.4444444444444444,
             "#bd3786"
            ],
            [
             0.5555555555555556,
             "#d8576b"
            ],
            [
             0.6666666666666666,
             "#ed7953"
            ],
            [
             0.7777777777777778,
             "#fb9f3a"
            ],
            [
             0.8888888888888888,
             "#fdca26"
            ],
            [
             1,
             "#f0f921"
            ]
           ]
          },
          "colorway": [
           "#636efa",
           "#EF553B",
           "#00cc96",
           "#ab63fa",
           "#FFA15A",
           "#19d3f3",
           "#FF6692",
           "#B6E880",
           "#FF97FF",
           "#FECB52"
          ],
          "font": {
           "color": "#2a3f5f"
          },
          "geo": {
           "bgcolor": "white",
           "lakecolor": "white",
           "landcolor": "#E5ECF6",
           "showlakes": true,
           "showland": true,
           "subunitcolor": "white"
          },
          "hoverlabel": {
           "align": "left"
          },
          "hovermode": "closest",
          "mapbox": {
           "style": "light"
          },
          "paper_bgcolor": "white",
          "plot_bgcolor": "#E5ECF6",
          "polar": {
           "angularaxis": {
            "gridcolor": "white",
            "linecolor": "white",
            "ticks": ""
           },
           "bgcolor": "#E5ECF6",
           "radialaxis": {
            "gridcolor": "white",
            "linecolor": "white",
            "ticks": ""
           }
          },
          "scene": {
           "xaxis": {
            "backgroundcolor": "#E5ECF6",
            "gridcolor": "white",
            "gridwidth": 2,
            "linecolor": "white",
            "showbackground": true,
            "ticks": "",
            "zerolinecolor": "white"
           },
           "yaxis": {
            "backgroundcolor": "#E5ECF6",
            "gridcolor": "white",
            "gridwidth": 2,
            "linecolor": "white",
            "showbackground": true,
            "ticks": "",
            "zerolinecolor": "white"
           },
           "zaxis": {
            "backgroundcolor": "#E5ECF6",
            "gridcolor": "white",
            "gridwidth": 2,
            "linecolor": "white",
            "showbackground": true,
            "ticks": "",
            "zerolinecolor": "white"
           }
          },
          "shapedefaults": {
           "line": {
            "color": "#2a3f5f"
           }
          },
          "ternary": {
           "aaxis": {
            "gridcolor": "white",
            "linecolor": "white",
            "ticks": ""
           },
           "baxis": {
            "gridcolor": "white",
            "linecolor": "white",
            "ticks": ""
           },
           "bgcolor": "#E5ECF6",
           "caxis": {
            "gridcolor": "white",
            "linecolor": "white",
            "ticks": ""
           }
          },
          "title": {
           "x": 0.05
          },
          "xaxis": {
           "automargin": true,
           "gridcolor": "white",
           "linecolor": "white",
           "ticks": "",
           "title": {
            "standoff": 15
           },
           "zerolinecolor": "white",
           "zerolinewidth": 2
          },
          "yaxis": {
           "automargin": true,
           "gridcolor": "white",
           "linecolor": "white",
           "ticks": "",
           "title": {
            "standoff": 15
           },
           "zerolinecolor": "white",
           "zerolinewidth": 2
          }
         }
        },
        "xaxis": {
         "anchor": "y",
         "domain": [
          0,
          1
         ],
         "showgrid": false,
         "title": {
          "text": "Date"
         },
         "zeroline": false
        },
        "yaxis": {
         "anchor": "x",
         "domain": [
          0,
          1
         ],
         "showgrid": false,
         "title": {
          "text": "sharpe_ratio_annual"
         },
         "zeroline": false
        }
       }
      }
     },
     "metadata": {},
     "output_type": "display_data"
    }
   ],
   "source": [
    "# plot sharpe ratio\n",
    "fig = px.line(sharpe.dropna(subset=['sharpe_ratio_annual']), x=\"Date\", y=\"sharpe_ratio_annual\")\n",
    "fig.add_hline(1, line_color=\"red\")\n",
    "fig.update_xaxes(showgrid=False, zeroline=False)\n",
    "fig.update_yaxes(showgrid=False, zeroline=False)\n",
    "fig.show()"
   ]
  },
  {
   "cell_type": "code",
   "execution_count": 24,
   "metadata": {},
   "outputs": [
    {
     "data": {
      "application/vnd.plotly.v1+json": {
       "config": {
        "plotlyServerURL": "https://plot.ly"
       },
       "data": [
        {
         "hovertemplate": "Date=%{x}<br>Close_Portfolio=%{y}<extra></extra>",
         "legendgroup": "",
         "line": {
          "color": "#636efa",
          "dash": "solid"
         },
         "marker": {
          "symbol": "circle"
         },
         "mode": "lines",
         "name": "",
         "showlegend": false,
         "type": "scattergl",
         "x": [
          "2018-06-21",
          "2018-06-22",
          "2018-06-25",
          "2018-06-26",
          "2018-06-27",
          "2018-06-28",
          "2018-06-29",
          "2018-07-02",
          "2018-07-03",
          "2018-07-05",
          "2018-07-06",
          "2018-07-09",
          "2018-07-10",
          "2018-07-11",
          "2018-07-12",
          "2018-07-13",
          "2018-07-16",
          "2018-07-17",
          "2018-07-18",
          "2018-07-19",
          "2018-07-20",
          "2018-07-23",
          "2018-07-24",
          "2018-07-25",
          "2018-07-26",
          "2018-07-27",
          "2018-07-30",
          "2018-07-31",
          "2018-08-01",
          "2018-08-02",
          "2018-08-03",
          "2018-08-06",
          "2018-08-07",
          "2018-08-08",
          "2018-08-09",
          "2018-08-10",
          "2018-08-13",
          "2018-08-14",
          "2018-08-15",
          "2018-08-16",
          "2018-08-17",
          "2018-08-20",
          "2018-08-21",
          "2018-08-22",
          "2018-08-23",
          "2018-08-24",
          "2018-08-27",
          "2018-08-28",
          "2018-08-29",
          "2018-08-30",
          "2018-08-31",
          "2018-09-04",
          "2018-09-05",
          "2018-09-06",
          "2018-09-07",
          "2018-09-10",
          "2018-09-11",
          "2018-09-12",
          "2018-09-13",
          "2018-09-14",
          "2018-09-17",
          "2018-09-18",
          "2018-09-19",
          "2018-09-20",
          "2018-09-21",
          "2018-09-24",
          "2018-09-25",
          "2018-09-26",
          "2018-09-27",
          "2018-09-28",
          "2018-10-01",
          "2018-10-02",
          "2018-10-03",
          "2018-10-04",
          "2018-10-05",
          "2018-10-08",
          "2018-10-09",
          "2018-10-10",
          "2018-10-11",
          "2018-10-12",
          "2018-10-15",
          "2018-10-16",
          "2018-10-17",
          "2018-10-18",
          "2018-10-19",
          "2018-10-22",
          "2018-10-23",
          "2018-10-24",
          "2018-10-25",
          "2018-10-26",
          "2018-10-29",
          "2018-10-30",
          "2018-10-31",
          "2018-11-01",
          "2018-11-02",
          "2018-11-05",
          "2018-11-06",
          "2018-11-07",
          "2018-11-08",
          "2018-11-09",
          "2018-11-12",
          "2018-11-13",
          "2018-11-14",
          "2018-11-15",
          "2018-11-16",
          "2018-11-19",
          "2018-11-20",
          "2018-11-21",
          "2018-11-23",
          "2018-11-26",
          "2018-11-27",
          "2018-11-28",
          "2018-11-29",
          "2018-11-30",
          "2018-12-03",
          "2018-12-04",
          "2018-12-06",
          "2018-12-07",
          "2018-12-10",
          "2018-12-11",
          "2018-12-12",
          "2018-12-13",
          "2018-12-14",
          "2018-12-17",
          "2018-12-18",
          "2018-12-19",
          "2018-12-20",
          "2018-12-21",
          "2018-12-24",
          "2018-12-26",
          "2018-12-27",
          "2018-12-28",
          "2018-12-31",
          "2019-01-02",
          "2019-01-03",
          "2019-01-04",
          "2019-01-07",
          "2019-01-08",
          "2019-01-09",
          "2019-01-10",
          "2019-01-11",
          "2019-01-14",
          "2019-01-15",
          "2019-01-16",
          "2019-01-17",
          "2019-01-18",
          "2019-01-22",
          "2019-01-23",
          "2019-01-24",
          "2019-01-25",
          "2019-01-28",
          "2019-01-29",
          "2019-01-30",
          "2019-01-31",
          "2019-02-01",
          "2019-02-04",
          "2019-02-05",
          "2019-02-06",
          "2019-02-07",
          "2019-02-08",
          "2019-02-11",
          "2019-02-12",
          "2019-02-13",
          "2019-02-14",
          "2019-02-15",
          "2019-02-19",
          "2019-02-20",
          "2019-02-21",
          "2019-02-22",
          "2019-02-25",
          "2019-02-26",
          "2019-02-27",
          "2019-02-28",
          "2019-03-01",
          "2019-03-04",
          "2019-03-05",
          "2019-03-06",
          "2019-03-07",
          "2019-03-08",
          "2019-03-11",
          "2019-03-12",
          "2019-03-13",
          "2019-03-14",
          "2019-03-15",
          "2019-03-18",
          "2019-03-19",
          "2019-03-20",
          "2019-03-21",
          "2019-03-22",
          "2019-03-25",
          "2019-03-26",
          "2019-03-27",
          "2019-03-28",
          "2019-03-29",
          "2019-04-01",
          "2019-04-02",
          "2019-04-03",
          "2019-04-04",
          "2019-04-05",
          "2019-04-08",
          "2019-04-09",
          "2019-04-10",
          "2019-04-11",
          "2019-04-12",
          "2019-04-15",
          "2019-04-16",
          "2019-04-17",
          "2019-04-18",
          "2019-04-22",
          "2019-04-23",
          "2019-04-24",
          "2019-04-25",
          "2019-04-26",
          "2019-04-29",
          "2019-04-30",
          "2019-05-01",
          "2019-05-02",
          "2019-05-03",
          "2019-05-06",
          "2019-05-07",
          "2019-05-08",
          "2019-05-09",
          "2019-05-10",
          "2019-05-13",
          "2019-05-14",
          "2019-05-15",
          "2019-05-16",
          "2019-05-17",
          "2019-05-20",
          "2019-05-21",
          "2019-05-22",
          "2019-05-23",
          "2019-05-24",
          "2019-05-28",
          "2019-05-29",
          "2019-05-30",
          "2019-05-31",
          "2019-06-03",
          "2019-06-04",
          "2019-06-05",
          "2019-06-06",
          "2019-06-07",
          "2019-06-10",
          "2019-06-11",
          "2019-06-12",
          "2019-06-13",
          "2019-06-14",
          "2019-06-17",
          "2019-06-18",
          "2019-06-19",
          "2019-06-20",
          "2019-06-21",
          "2019-06-24",
          "2019-06-25",
          "2019-06-26",
          "2019-06-27",
          "2019-06-28",
          "2019-07-01",
          "2019-07-02",
          "2019-07-03",
          "2019-07-05",
          "2019-07-08",
          "2019-07-09",
          "2019-07-10",
          "2019-07-11",
          "2019-07-12",
          "2019-07-15",
          "2019-07-16",
          "2019-07-17",
          "2019-07-18",
          "2019-07-19",
          "2019-07-22",
          "2019-07-23",
          "2019-07-24",
          "2019-07-25",
          "2019-07-26",
          "2019-07-29",
          "2019-07-30",
          "2019-07-31",
          "2019-08-01",
          "2019-08-02",
          "2019-08-05",
          "2019-08-06",
          "2019-08-07",
          "2019-08-08",
          "2019-08-09",
          "2019-08-12",
          "2019-08-13",
          "2019-08-14",
          "2019-08-15",
          "2019-08-16",
          "2019-08-19",
          "2019-08-20",
          "2019-08-21",
          "2019-08-22",
          "2019-08-23",
          "2019-08-26",
          "2019-08-27",
          "2019-08-28",
          "2019-08-29",
          "2019-08-30",
          "2019-09-03",
          "2019-09-04",
          "2019-09-05",
          "2019-09-06",
          "2019-09-09",
          "2019-09-10",
          "2019-09-11",
          "2019-09-12",
          "2019-09-13",
          "2019-09-16",
          "2019-09-17",
          "2019-09-18",
          "2019-09-19",
          "2019-09-20",
          "2019-09-23",
          "2019-09-24",
          "2019-09-25",
          "2019-09-26",
          "2019-09-27",
          "2019-09-30",
          "2019-10-01",
          "2019-10-02",
          "2019-10-03",
          "2019-10-04",
          "2019-10-07",
          "2019-10-08",
          "2019-10-09",
          "2019-10-10",
          "2019-10-11",
          "2019-10-14",
          "2019-10-15",
          "2019-10-16",
          "2019-10-17",
          "2019-10-18",
          "2019-10-21",
          "2019-10-22",
          "2019-10-23",
          "2019-10-24",
          "2019-10-25",
          "2019-10-28",
          "2019-10-29",
          "2019-10-30",
          "2019-10-31",
          "2019-11-01",
          "2019-11-04",
          "2019-11-05",
          "2019-11-06",
          "2019-11-07",
          "2019-11-08",
          "2019-11-11",
          "2019-11-12",
          "2019-11-13",
          "2019-11-14",
          "2019-11-15",
          "2019-11-18",
          "2019-11-19",
          "2019-11-20",
          "2019-11-21",
          "2019-11-22",
          "2019-11-25",
          "2019-11-26",
          "2019-11-27",
          "2019-11-29",
          "2019-12-02",
          "2019-12-03",
          "2019-12-04",
          "2019-12-05",
          "2019-12-06",
          "2019-12-09",
          "2019-12-10",
          "2019-12-11",
          "2019-12-12",
          "2019-12-13",
          "2019-12-16",
          "2019-12-17",
          "2019-12-18",
          "2019-12-19",
          "2019-12-20",
          "2019-12-23",
          "2019-12-24",
          "2019-12-26",
          "2019-12-27",
          "2019-12-30",
          "2019-12-31",
          "2020-01-02",
          "2020-01-03",
          "2020-01-06",
          "2020-01-07",
          "2020-01-08",
          "2020-01-09",
          "2020-01-10",
          "2020-01-13",
          "2020-01-14",
          "2020-01-15",
          "2020-01-16",
          "2020-01-17",
          "2020-01-21",
          "2020-01-22",
          "2020-01-23",
          "2020-01-24",
          "2020-01-27",
          "2020-01-28",
          "2020-01-29",
          "2020-01-30",
          "2020-01-31",
          "2020-02-03",
          "2020-02-04",
          "2020-02-05",
          "2020-02-06",
          "2020-02-07",
          "2020-02-10",
          "2020-02-11",
          "2020-02-12",
          "2020-02-13",
          "2020-02-14",
          "2020-02-18",
          "2020-02-19",
          "2020-02-20",
          "2020-02-21",
          "2020-02-24",
          "2020-02-25",
          "2020-02-26",
          "2020-02-27",
          "2020-02-28",
          "2020-03-02",
          "2020-03-03",
          "2020-03-04",
          "2020-03-05",
          "2020-03-06",
          "2020-03-09",
          "2020-03-10",
          "2020-03-11",
          "2020-03-12",
          "2020-03-13",
          "2020-03-16",
          "2020-03-17",
          "2020-03-18",
          "2020-03-19",
          "2020-03-20",
          "2020-03-23",
          "2020-03-24",
          "2020-03-25",
          "2020-03-26",
          "2020-03-27",
          "2020-03-30",
          "2020-03-31",
          "2020-04-01",
          "2020-04-02",
          "2020-04-03",
          "2020-04-06",
          "2020-04-07",
          "2020-04-08",
          "2020-04-09",
          "2020-04-13",
          "2020-04-14",
          "2020-04-15",
          "2020-04-16",
          "2020-04-17",
          "2020-04-20",
          "2020-04-21",
          "2020-04-22",
          "2020-04-23",
          "2020-04-24",
          "2020-04-27",
          "2020-04-28",
          "2020-04-29",
          "2020-04-30",
          "2020-05-01",
          "2020-05-04",
          "2020-05-05",
          "2020-05-06",
          "2020-05-07",
          "2020-05-08",
          "2020-05-11",
          "2020-05-12",
          "2020-05-13",
          "2020-05-14",
          "2020-05-15",
          "2020-05-18",
          "2020-05-19",
          "2020-05-20",
          "2020-05-21",
          "2020-05-22",
          "2020-05-26",
          "2020-05-27",
          "2020-05-28",
          "2020-05-29",
          "2020-06-01",
          "2020-06-02",
          "2020-06-03",
          "2020-06-04",
          "2020-06-05",
          "2020-06-08",
          "2020-06-09",
          "2020-06-10",
          "2020-06-11",
          "2020-06-12",
          "2020-06-15",
          "2020-06-16",
          "2020-06-17",
          "2020-06-18",
          "2020-06-19",
          "2020-06-22",
          "2020-06-23",
          "2020-06-24",
          "2020-06-25",
          "2020-06-26",
          "2020-06-29",
          "2020-06-30",
          "2020-07-01",
          "2020-07-02",
          "2020-07-06",
          "2020-07-07",
          "2020-07-08",
          "2020-07-09",
          "2020-07-10",
          "2020-07-13",
          "2020-07-14",
          "2020-07-15",
          "2020-07-16",
          "2020-07-17",
          "2020-07-20",
          "2020-07-21",
          "2020-07-22",
          "2020-07-23",
          "2020-07-24",
          "2020-07-27",
          "2020-07-28",
          "2020-07-29",
          "2020-07-30",
          "2020-07-31",
          "2020-08-03",
          "2020-08-04",
          "2020-08-05",
          "2020-08-06",
          "2020-08-07",
          "2020-08-10",
          "2020-08-11",
          "2020-08-12",
          "2020-08-13",
          "2020-08-14",
          "2020-08-17",
          "2020-08-18",
          "2020-08-19",
          "2020-08-20",
          "2020-08-21",
          "2020-08-24",
          "2020-08-25",
          "2020-08-26",
          "2020-08-27",
          "2020-08-28",
          "2020-08-31",
          "2020-09-01",
          "2020-09-02",
          "2020-09-03",
          "2020-09-04",
          "2020-09-08",
          "2020-09-09",
          "2020-09-10",
          "2020-09-11",
          "2020-09-14",
          "2020-09-15",
          "2020-09-16",
          "2020-09-17",
          "2020-09-18",
          "2020-09-21",
          "2020-09-22",
          "2020-09-23",
          "2020-09-24",
          "2020-09-25",
          "2020-09-28",
          "2020-09-29",
          "2020-09-30",
          "2020-10-01",
          "2020-10-02",
          "2020-10-05",
          "2020-10-06",
          "2020-10-07",
          "2020-10-08",
          "2020-10-09",
          "2020-10-12",
          "2020-10-13",
          "2020-10-14",
          "2020-10-15",
          "2020-10-16",
          "2020-10-19",
          "2020-10-20",
          "2020-10-21",
          "2020-10-22",
          "2020-10-23",
          "2020-10-26",
          "2020-10-27",
          "2020-10-28",
          "2020-10-29",
          "2020-10-30",
          "2020-11-02",
          "2020-11-03",
          "2020-11-04",
          "2020-11-05",
          "2020-11-06",
          "2020-11-09",
          "2020-11-10",
          "2020-11-11",
          "2020-11-12",
          "2020-11-13",
          "2020-11-16",
          "2020-11-17",
          "2020-11-18",
          "2020-11-19",
          "2020-11-20",
          "2020-11-23",
          "2020-11-24",
          "2020-11-25",
          "2020-11-27",
          "2020-11-30",
          "2020-12-01",
          "2020-12-02",
          "2020-12-03",
          "2020-12-04",
          "2020-12-07",
          "2020-12-08",
          "2020-12-09",
          "2020-12-10",
          "2020-12-11",
          "2020-12-14",
          "2020-12-15",
          "2020-12-16",
          "2020-12-17",
          "2020-12-18",
          "2020-12-21",
          "2020-12-22",
          "2020-12-23",
          "2020-12-24",
          "2020-12-28",
          "2020-12-29",
          "2020-12-30",
          "2020-12-31",
          "2021-01-04",
          "2021-01-05",
          "2021-01-06",
          "2021-01-07",
          "2021-01-08",
          "2021-01-11",
          "2021-01-12",
          "2021-01-13",
          "2021-01-14",
          "2021-01-15",
          "2021-01-19",
          "2021-01-20",
          "2021-01-21",
          "2021-01-22",
          "2021-01-25",
          "2021-01-26",
          "2021-01-27",
          "2021-01-28",
          "2021-01-29",
          "2021-02-01",
          "2021-02-02",
          "2021-02-03",
          "2021-02-04",
          "2021-02-05",
          "2021-02-08",
          "2021-02-09",
          "2021-02-10",
          "2021-02-11",
          "2021-02-12",
          "2021-02-16",
          "2021-02-17",
          "2021-02-18",
          "2021-02-19",
          "2021-02-22",
          "2021-02-23",
          "2021-02-24",
          "2021-02-25",
          "2021-02-26",
          "2021-03-01",
          "2021-03-02",
          "2021-03-03",
          "2021-03-04",
          "2021-03-05",
          "2021-03-08",
          "2021-03-09",
          "2021-03-10",
          "2021-03-11",
          "2021-03-12",
          "2021-03-15",
          "2021-03-16",
          "2021-03-17",
          "2021-03-18",
          "2021-03-19",
          "2021-03-22",
          "2021-03-23",
          "2021-03-24",
          "2021-03-25",
          "2021-03-26",
          "2021-03-29",
          "2021-03-30",
          "2021-03-31",
          "2021-04-01",
          "2021-04-05",
          "2021-04-06",
          "2021-04-07",
          "2021-04-08",
          "2021-04-09",
          "2021-04-12",
          "2021-04-13",
          "2021-04-14",
          "2021-04-15",
          "2021-04-16",
          "2021-04-19",
          "2021-04-20",
          "2021-04-21",
          "2021-04-22",
          "2021-04-23",
          "2021-04-26",
          "2021-04-27",
          "2021-04-28",
          "2021-04-29",
          "2021-04-30",
          "2021-05-03",
          "2021-05-04",
          "2021-05-05",
          "2021-05-06",
          "2021-05-07",
          "2021-05-10",
          "2021-05-11",
          "2021-05-12",
          "2021-05-13",
          "2021-05-14",
          "2021-05-17",
          "2021-05-18",
          "2021-05-19",
          "2021-05-20",
          "2021-05-21",
          "2021-05-24",
          "2021-05-25",
          "2021-05-26",
          "2021-05-27",
          "2021-05-28",
          "2021-06-01",
          "2021-06-02",
          "2021-06-03",
          "2021-06-04",
          "2021-06-07",
          "2021-06-08",
          "2021-06-09",
          "2021-06-10",
          "2021-06-11",
          "2021-06-14",
          "2021-06-15",
          "2021-06-16",
          "2021-06-17",
          "2021-06-18",
          "2021-06-21",
          "2021-06-22",
          "2021-06-23",
          "2021-06-24",
          "2021-06-25",
          "2021-06-28",
          "2021-06-29",
          "2021-06-30",
          "2021-07-01",
          "2021-07-02",
          "2021-07-06",
          "2021-07-07",
          "2021-07-08",
          "2021-07-09",
          "2021-07-12",
          "2021-07-13",
          "2021-07-14",
          "2021-07-15",
          "2021-07-16",
          "2021-07-19",
          "2021-07-20",
          "2021-07-21",
          "2021-07-22",
          "2021-07-23",
          "2021-07-26",
          "2021-07-27",
          "2021-07-28",
          "2021-07-29",
          "2021-07-30",
          "2021-08-02",
          "2021-08-03",
          "2021-08-04",
          "2021-08-05",
          "2021-08-06",
          "2021-08-09",
          "2021-08-10",
          "2021-08-11",
          "2021-08-12",
          "2021-08-13",
          "2021-08-16",
          "2021-08-17",
          "2021-08-18",
          "2021-08-19",
          "2021-08-20",
          "2021-08-23",
          "2021-08-24",
          "2021-08-25",
          "2021-08-26",
          "2021-08-27",
          "2021-08-30",
          "2021-08-31",
          "2021-09-01",
          "2021-09-02",
          "2021-09-03",
          "2021-09-07",
          "2021-09-08",
          "2021-09-09",
          "2021-09-10",
          "2021-09-13",
          "2021-09-14",
          "2021-09-15",
          "2021-09-16",
          "2021-09-17",
          "2021-09-20",
          "2021-09-21",
          "2021-09-22",
          "2021-09-23",
          "2021-09-24",
          "2021-09-27",
          "2021-09-28",
          "2021-09-29",
          "2021-09-30",
          "2021-10-01",
          "2021-10-04",
          "2021-10-05",
          "2021-10-06",
          "2021-10-07",
          "2021-10-08",
          "2021-10-11",
          "2021-10-12",
          "2021-10-13",
          "2021-10-14",
          "2021-10-15",
          "2021-10-18",
          "2021-10-19",
          "2021-10-20",
          "2021-10-21",
          "2021-10-22",
          "2021-10-25",
          "2021-10-26",
          "2021-10-27",
          "2021-10-28",
          "2021-10-29",
          "2021-11-01",
          "2021-11-02",
          "2021-11-03",
          "2021-11-04",
          "2021-11-05",
          "2021-11-08",
          "2021-11-09",
          "2021-11-10",
          "2021-11-11",
          "2021-11-12",
          "2021-11-15",
          "2021-11-16",
          "2021-11-17",
          "2021-11-18",
          "2021-11-19",
          "2021-11-22",
          "2021-11-23",
          "2021-11-24",
          "2021-11-26",
          "2021-11-29",
          "2021-11-30",
          "2021-12-01",
          "2021-12-02",
          "2021-12-03",
          "2021-12-06",
          "2021-12-07",
          "2021-12-08",
          "2021-12-09",
          "2021-12-10",
          "2021-12-13",
          "2021-12-14",
          "2021-12-15",
          "2021-12-16",
          "2021-12-17",
          "2021-12-20",
          "2021-12-21",
          "2021-12-22",
          "2021-12-23",
          "2021-12-27",
          "2021-12-28",
          "2021-12-29",
          "2021-12-30",
          "2021-12-31",
          "2022-01-03",
          "2022-01-04",
          "2022-01-05",
          "2022-01-06",
          "2022-01-07",
          "2022-01-10",
          "2022-01-11",
          "2022-01-12",
          "2022-01-13",
          "2022-01-14",
          "2022-01-18",
          "2022-01-19",
          "2022-01-20",
          "2022-01-21",
          "2022-01-24",
          "2022-01-25",
          "2022-01-26",
          "2022-01-27",
          "2022-01-28",
          "2022-01-31",
          "2022-02-01",
          "2022-02-02",
          "2022-02-03",
          "2022-02-04",
          "2022-02-07",
          "2022-02-08",
          "2022-02-09",
          "2022-02-10",
          "2022-02-11",
          "2022-02-14",
          "2022-02-15",
          "2022-02-16",
          "2022-02-17",
          "2022-02-18",
          "2022-02-22",
          "2022-02-23",
          "2022-02-24",
          "2022-02-25",
          "2022-02-28",
          "2022-03-01",
          "2022-03-02",
          "2022-03-03",
          "2022-03-04",
          "2022-03-07",
          "2022-03-08",
          "2022-03-09",
          "2022-03-10",
          "2022-03-11",
          "2022-03-14",
          "2022-03-15",
          "2022-03-16",
          "2022-03-17",
          "2022-03-18",
          "2022-03-21",
          "2022-03-22",
          "2022-03-23",
          "2022-03-24",
          "2022-03-25",
          "2022-03-28",
          "2022-03-29",
          "2022-03-30",
          "2022-03-31",
          "2022-04-01",
          "2022-04-04",
          "2022-04-05",
          "2022-04-06",
          "2022-04-07",
          "2022-04-08",
          "2022-04-11",
          "2022-04-12",
          "2022-04-13",
          "2022-04-14",
          "2022-04-18",
          "2022-04-19",
          "2022-04-20",
          "2022-04-21",
          "2022-04-22",
          "2022-04-25",
          "2022-04-26",
          "2022-04-27",
          "2022-04-28",
          "2022-04-29",
          "2022-05-02",
          "2022-05-03",
          "2022-05-04",
          "2022-05-05",
          "2022-05-06",
          "2022-05-09",
          "2022-05-10",
          "2022-05-11",
          "2022-05-12",
          "2022-05-13",
          "2022-05-16",
          "2022-05-17",
          "2022-05-18",
          "2022-05-19",
          "2022-05-20",
          "2022-05-23",
          "2022-05-24",
          "2022-05-25",
          "2022-05-26",
          "2022-05-27",
          "2022-05-31",
          "2022-06-01",
          "2022-06-02",
          "2022-06-03",
          "2022-06-06",
          "2022-06-07",
          "2022-06-08",
          "2022-06-09",
          "2022-06-10",
          "2022-06-13",
          "2022-06-14",
          "2022-06-15",
          "2022-06-16",
          "2022-06-17",
          "2022-06-21",
          "2022-06-22",
          "2022-06-23",
          "2022-06-24"
         ],
         "xaxis": "x",
         "y": [
          810,
          799,
          790,
          787,
          782,
          782,
          788,
          797,
          792,
          800,
          806,
          813,
          806,
          803,
          807,
          808,
          817,
          827,
          826,
          823,
          821,
          825,
          838,
          842,
          834,
          832,
          826,
          823,
          820,
          822,
          824,
          820,
          818,
          811,
          814,
          802,
          796,
          798,
          793,
          798,
          805,
          799,
          804,
          803,
          803,
          811,
          818,
          822,
          825,
          821,
          821,
          822,
          807,
          801,
          797,
          795,
          796,
          796,
          806,
          805,
          796,
          803,
          804,
          812,
          815,
          811,
          808,
          808,
          813,
          812,
          814,
          812,
          811,
          803,
          799,
          798,
          798,
          775,
          758,
          769,
          769,
          784,
          782,
          770,
          770,
          770,
          766,
          745,
          758,
          747,
          739,
          748,
          756,
          765,
          760,
          763,
          768,
          783,
          778,
          770,
          757,
          757,
          744,
          751,
          750,
          728,
          711,
          717,
          710,
          712,
          714,
          735,
          733,
          734,
          741,
          722,
          715,
          700,
          702,
          702,
          707,
          704,
          692,
          685,
          688,
          679,
          676,
          661,
          653,
          676,
          676,
          681,
          683,
          689,
          673,
          693,
          699,
          705,
          709,
          705,
          704,
          701,
          707,
          708,
          713,
          719,
          709,
          710,
          712,
          718,
          710,
          708,
          720,
          726,
          725,
          730,
          734,
          731,
          725,
          729,
          729,
          737,
          738,
          737,
          743,
          750,
          752,
          749,
          754,
          754,
          753,
          752,
          750,
          754,
          751,
          754,
          750,
          744,
          742,
          752,
          755,
          759,
          758,
          764,
          767,
          768,
          768,
          774,
          761,
          760,
          764,
          762,
          764,
          769,
          777,
          788,
          790,
          791,
          796,
          801,
          796,
          801,
          796,
          800,
          799,
          802,
          802,
          804,
          805,
          813,
          810,
          806,
          810,
          810,
          811,
          807,
          807,
          818,
          814,
          803,
          804,
          802,
          807,
          806,
          816,
          826,
          830,
          818,
          819,
          825,
          819,
          813,
          815,
          821,
          816,
          813,
          810,
          800,
          807,
          813,
          817,
          828,
          831,
          831,
          832,
          836,
          839,
          848,
          853,
          858,
          867,
          874,
          884,
          885,
          899,
          880,
          897,
          883,
          887,
          905,
          892,
          903,
          907,
          905,
          895,
          904,
          891,
          871,
          871,
          884,
          878,
          879,
          878,
          881,
          878,
          882,
          877,
          875,
          873,
          871,
          866,
          860,
          865,
          871,
          883,
          876,
          864,
          869,
          839,
          844,
          853,
          868,
          862,
          860,
          859,
          845,
          852,
          848,
          846,
          852,
          852,
          859,
          867,
          875,
          873,
          873,
          870,
          876,
          881,
          880,
          878,
          881,
          881,
          883,
          878,
          872,
          851,
          854,
          849,
          846,
          851,
          844,
          834,
          838,
          846,
          845,
          835,
          845,
          850,
          854,
          854,
          859,
          856,
          858,
          853,
          861,
          856,
          851,
          853,
          870,
          881,
          882,
          882,
          880,
          887,
          892,
          891,
          892,
          892,
          889,
          887,
          889,
          889,
          888,
          891,
          890,
          889,
          884,
          877,
          874,
          878,
          881,
          888,
          887,
          876,
          871,
          875,
          878,
          885,
          881,
          879,
          882,
          888,
          889,
          891,
          887,
          895,
          897,
          900,
          902,
          902,
          906,
          906,
          902,
          903,
          909,
          908,
          916,
          918,
          921,
          924,
          926,
          932,
          940,
          940,
          946,
          951,
          947,
          947,
          945,
          939,
          931,
          944,
          944,
          948,
          934,
          941,
          953,
          965,
          971,
          968,
          976,
          982,
          992,
          990,
          994,
          990,
          988,
          983,
          975,
          948,
          923,
          915,
          883,
          880,
          911,
          892,
          918,
          900,
          890,
          822,
          853,
          819,
          715,
          777,
          696,
          733,
          702,
          716,
          696,
          690,
          740,
          746,
          779,
          756,
          774,
          767,
          743,
          758,
          748,
          796,
          796,
          815,
          823,
          815,
          836,
          821,
          834,
          848,
          835,
          814,
          833,
          836,
          847,
          859,
          854,
          886,
          878,
          861,
          865,
          872,
          873,
          889,
          899,
          885,
          875,
          870,
          882,
          880,
          905,
          900,
          910,
          899,
          901,
          904,
          916,
          919,
          924,
          939,
          937,
          948,
          946,
          961,
          971,
          969,
          970,
          921,
          932,
          938,
          952,
          951,
          951,
          946,
          958,
          963,
          941,
          948,
          930,
          939,
          949,
          956,
          960,
          979,
          970,
          981,
          979,
          985,
          974,
          983,
          987,
          982,
          984,
          997,
          999,
          1005,
          994,
          989,
          1016,
          1008,
          1020,
          1021,
          1031,
          1042,
          1046,
          1057,
          1063,
          1056,
          1060,
          1045,
          1062,
          1067,
          1067,
          1077,
          1077,
          1069,
          1076,
          1074,
          1085,
          1083,
          1095,
          1092,
          1101,
          1107,
          1124,
          1125,
          1074,
          1069,
          1032,
          1052,
          1041,
          1041,
          1056,
          1063,
          1059,
          1052,
          1043,
          1028,
          1038,
          1013,
          1023,
          1036,
          1051,
          1049,
          1054,
          1060,
          1046,
          1064,
          1050,
          1064,
          1074,
          1086,
          1110,
          1104,
          1098,
          1096,
          1091,
          1084,
          1088,
          1098,
          1104,
          1106,
          1092,
          1099,
          1064,
          1076,
          1063,
          1070,
          1089,
          1117,
          1152,
          1156,
          1153,
          1147,
          1163,
          1162,
          1174,
          1186,
          1195,
          1188,
          1193,
          1200,
          1211,
          1231,
          1225,
          1208,
          1239,
          1239,
          1245,
          1251,
          1245,
          1253,
          1244,
          1236,
          1234,
          1228,
          1244,
          1258,
          1284,
          1306,
          1307,
          1296,
          1308,
          1297,
          1308,
          1361,
          1363,
          1382,
          1385,
          1434,
          1468,
          1506,
          1549,
          1571,
          1496,
          1476,
          1522,
          1548,
          1511,
          1535,
          1546,
          1475,
          1505,
          1513,
          1517,
          1461,
          1506,
          1500,
          1509,
          1558,
          1591,
          1590,
          1618,
          1709,
          1715,
          1696,
          1733,
          1740,
          1749,
          1783,
          1782,
          1825,
          1776,
          1700,
          1723,
          1654,
          1642,
          1712,
          1682,
          1694,
          1657,
          1675,
          1725,
          1775,
          1783,
          1819,
          1806,
          1801,
          1812,
          1838,
          1803,
          1813,
          1772,
          1765,
          1727,
          1720,
          1780,
          1816,
          1828,
          1843,
          1864,
          1891,
          1883,
          1847,
          1889,
          1892,
          1915,
          1973,
          1977,
          2000,
          1976,
          1885,
          1900,
          1888,
          1861,
          1862,
          1912,
          1933,
          1939,
          1932,
          1968,
          2028,
          1960,
          2028,
          2022,
          2039,
          2055,
          2079,
          1941,
          1949,
          2006,
          1859,
          1856,
          1703,
          1787,
          1714,
          1762,
          1765,
          1795,
          1771,
          1714,
          1745,
          1763,
          1788,
          1760,
          1718,
          1710,
          1757,
          1744,
          1740,
          1792,
          1797,
          1746,
          1748,
          1700,
          1635,
          1649,
          1672,
          1688,
          1643,
          1702,
          1726,
          1729,
          1701,
          1717,
          1737,
          1735,
          1697,
          1719,
          1705,
          1688,
          1696,
          1673,
          1658,
          1632,
          1633,
          1685,
          1694,
          1727,
          1776,
          1795,
          1804,
          1816,
          1841,
          1825,
          1811,
          1847,
          1875,
          1899,
          1962,
          1951,
          1955,
          1934,
          1998,
          1964,
          1928,
          1919,
          1955,
          2001,
          2019,
          1990,
          2009,
          1970,
          2019,
          2001,
          2022,
          2082,
          2084,
          2107,
          2022,
          2019,
          2011,
          1966,
          1976,
          2007,
          2044,
          2034,
          2001,
          1892,
          1852,
          1923,
          1955,
          1912,
          1902,
          1852,
          1862,
          1890,
          1974,
          1974,
          2024,
          2073,
          2068,
          2064,
          2090,
          2068,
          2099,
          2134,
          2192,
          2191,
          2234,
          2281,
          2237,
          2209,
          2265,
          2231,
          2189,
          2258,
          2288,
          2271,
          2323,
          2332,
          2318,
          2312,
          2410,
          2392,
          2349,
          2360,
          2356,
          2338,
          2275,
          2283,
          2225,
          2267,
          2220,
          2256,
          2236,
          2164,
          2264,
          2255,
          2238,
          2237,
          2166,
          2161,
          2184,
          2199,
          2127,
          2112,
          2081,
          2067,
          2137,
          2102,
          2071,
          2071,
          2122,
          2127,
          2169,
          2177,
          2120,
          2091,
          2105,
          2088,
          2106,
          2098,
          2023,
          2004,
          1959,
          1950,
          1988,
          2018,
          1972,
          1986,
          1940,
          1917,
          1885,
          1774,
          1768,
          1756,
          1753,
          1743,
          1788,
          1835,
          1856,
          1836,
          1806,
          1887,
          1922,
          1932,
          1965,
          1920,
          1869,
          1868,
          1933,
          1923,
          1839,
          1815,
          1772,
          1736,
          1766,
          1813,
          1867,
          1868,
          1878,
          1842,
          1775,
          1718,
          1728,
          1806,
          1760,
          1732,
          1732,
          1755,
          1819,
          1833,
          1870,
          1856,
          1891,
          1888,
          1924,
          1930,
          1991,
          2018,
          2003,
          1962,
          1989,
          2013,
          1973,
          1909,
          1921,
          1898,
          1829,
          1836,
          1871,
          1832,
          1844,
          1873,
          1864,
          1828,
          1790,
          1809,
          1734,
          1755,
          1792,
          1730,
          1742,
          1731,
          1796,
          1704,
          1684,
          1548,
          1570,
          1504,
          1493,
          1527,
          1528,
          1561,
          1487,
          1509,
          1492,
          1508,
          1503,
          1509,
          1512,
          1523,
          1572,
          1532,
          1561,
          1528,
          1556,
          1559,
          1538,
          1512,
          1460,
          1309,
          1306,
          1328,
          1258,
          1266,
          1291,
          1275,
          1304,
          1343
         ],
         "yaxis": "y"
        }
       ],
       "layout": {
        "legend": {
         "tracegroupgap": 0
        },
        "margin": {
         "t": 60
        },
        "template": {
         "data": {
          "bar": [
           {
            "error_x": {
             "color": "#2a3f5f"
            },
            "error_y": {
             "color": "#2a3f5f"
            },
            "marker": {
             "line": {
              "color": "#E5ECF6",
              "width": 0.5
             },
             "pattern": {
              "fillmode": "overlay",
              "size": 10,
              "solidity": 0.2
             }
            },
            "type": "bar"
           }
          ],
          "barpolar": [
           {
            "marker": {
             "line": {
              "color": "#E5ECF6",
              "width": 0.5
             },
             "pattern": {
              "fillmode": "overlay",
              "size": 10,
              "solidity": 0.2
             }
            },
            "type": "barpolar"
           }
          ],
          "carpet": [
           {
            "aaxis": {
             "endlinecolor": "#2a3f5f",
             "gridcolor": "white",
             "linecolor": "white",
             "minorgridcolor": "white",
             "startlinecolor": "#2a3f5f"
            },
            "baxis": {
             "endlinecolor": "#2a3f5f",
             "gridcolor": "white",
             "linecolor": "white",
             "minorgridcolor": "white",
             "startlinecolor": "#2a3f5f"
            },
            "type": "carpet"
           }
          ],
          "choropleth": [
           {
            "colorbar": {
             "outlinewidth": 0,
             "ticks": ""
            },
            "type": "choropleth"
           }
          ],
          "contour": [
           {
            "colorbar": {
             "outlinewidth": 0,
             "ticks": ""
            },
            "colorscale": [
             [
              0,
              "#0d0887"
             ],
             [
              0.1111111111111111,
              "#46039f"
             ],
             [
              0.2222222222222222,
              "#7201a8"
             ],
             [
              0.3333333333333333,
              "#9c179e"
             ],
             [
              0.4444444444444444,
              "#bd3786"
             ],
             [
              0.5555555555555556,
              "#d8576b"
             ],
             [
              0.6666666666666666,
              "#ed7953"
             ],
             [
              0.7777777777777778,
              "#fb9f3a"
             ],
             [
              0.8888888888888888,
              "#fdca26"
             ],
             [
              1,
              "#f0f921"
             ]
            ],
            "type": "contour"
           }
          ],
          "contourcarpet": [
           {
            "colorbar": {
             "outlinewidth": 0,
             "ticks": ""
            },
            "type": "contourcarpet"
           }
          ],
          "heatmap": [
           {
            "colorbar": {
             "outlinewidth": 0,
             "ticks": ""
            },
            "colorscale": [
             [
              0,
              "#0d0887"
             ],
             [
              0.1111111111111111,
              "#46039f"
             ],
             [
              0.2222222222222222,
              "#7201a8"
             ],
             [
              0.3333333333333333,
              "#9c179e"
             ],
             [
              0.4444444444444444,
              "#bd3786"
             ],
             [
              0.5555555555555556,
              "#d8576b"
             ],
             [
              0.6666666666666666,
              "#ed7953"
             ],
             [
              0.7777777777777778,
              "#fb9f3a"
             ],
             [
              0.8888888888888888,
              "#fdca26"
             ],
             [
              1,
              "#f0f921"
             ]
            ],
            "type": "heatmap"
           }
          ],
          "heatmapgl": [
           {
            "colorbar": {
             "outlinewidth": 0,
             "ticks": ""
            },
            "colorscale": [
             [
              0,
              "#0d0887"
             ],
             [
              0.1111111111111111,
              "#46039f"
             ],
             [
              0.2222222222222222,
              "#7201a8"
             ],
             [
              0.3333333333333333,
              "#9c179e"
             ],
             [
              0.4444444444444444,
              "#bd3786"
             ],
             [
              0.5555555555555556,
              "#d8576b"
             ],
             [
              0.6666666666666666,
              "#ed7953"
             ],
             [
              0.7777777777777778,
              "#fb9f3a"
             ],
             [
              0.8888888888888888,
              "#fdca26"
             ],
             [
              1,
              "#f0f921"
             ]
            ],
            "type": "heatmapgl"
           }
          ],
          "histogram": [
           {
            "marker": {
             "pattern": {
              "fillmode": "overlay",
              "size": 10,
              "solidity": 0.2
             }
            },
            "type": "histogram"
           }
          ],
          "histogram2d": [
           {
            "colorbar": {
             "outlinewidth": 0,
             "ticks": ""
            },
            "colorscale": [
             [
              0,
              "#0d0887"
             ],
             [
              0.1111111111111111,
              "#46039f"
             ],
             [
              0.2222222222222222,
              "#7201a8"
             ],
             [
              0.3333333333333333,
              "#9c179e"
             ],
             [
              0.4444444444444444,
              "#bd3786"
             ],
             [
              0.5555555555555556,
              "#d8576b"
             ],
             [
              0.6666666666666666,
              "#ed7953"
             ],
             [
              0.7777777777777778,
              "#fb9f3a"
             ],
             [
              0.8888888888888888,
              "#fdca26"
             ],
             [
              1,
              "#f0f921"
             ]
            ],
            "type": "histogram2d"
           }
          ],
          "histogram2dcontour": [
           {
            "colorbar": {
             "outlinewidth": 0,
             "ticks": ""
            },
            "colorscale": [
             [
              0,
              "#0d0887"
             ],
             [
              0.1111111111111111,
              "#46039f"
             ],
             [
              0.2222222222222222,
              "#7201a8"
             ],
             [
              0.3333333333333333,
              "#9c179e"
             ],
             [
              0.4444444444444444,
              "#bd3786"
             ],
             [
              0.5555555555555556,
              "#d8576b"
             ],
             [
              0.6666666666666666,
              "#ed7953"
             ],
             [
              0.7777777777777778,
              "#fb9f3a"
             ],
             [
              0.8888888888888888,
              "#fdca26"
             ],
             [
              1,
              "#f0f921"
             ]
            ],
            "type": "histogram2dcontour"
           }
          ],
          "mesh3d": [
           {
            "colorbar": {
             "outlinewidth": 0,
             "ticks": ""
            },
            "type": "mesh3d"
           }
          ],
          "parcoords": [
           {
            "line": {
             "colorbar": {
              "outlinewidth": 0,
              "ticks": ""
             }
            },
            "type": "parcoords"
           }
          ],
          "pie": [
           {
            "automargin": true,
            "type": "pie"
           }
          ],
          "scatter": [
           {
            "fillpattern": {
             "fillmode": "overlay",
             "size": 10,
             "solidity": 0.2
            },
            "type": "scatter"
           }
          ],
          "scatter3d": [
           {
            "line": {
             "colorbar": {
              "outlinewidth": 0,
              "ticks": ""
             }
            },
            "marker": {
             "colorbar": {
              "outlinewidth": 0,
              "ticks": ""
             }
            },
            "type": "scatter3d"
           }
          ],
          "scattercarpet": [
           {
            "marker": {
             "colorbar": {
              "outlinewidth": 0,
              "ticks": ""
             }
            },
            "type": "scattercarpet"
           }
          ],
          "scattergeo": [
           {
            "marker": {
             "colorbar": {
              "outlinewidth": 0,
              "ticks": ""
             }
            },
            "type": "scattergeo"
           }
          ],
          "scattergl": [
           {
            "marker": {
             "colorbar": {
              "outlinewidth": 0,
              "ticks": ""
             }
            },
            "type": "scattergl"
           }
          ],
          "scattermapbox": [
           {
            "marker": {
             "colorbar": {
              "outlinewidth": 0,
              "ticks": ""
             }
            },
            "type": "scattermapbox"
           }
          ],
          "scatterpolar": [
           {
            "marker": {
             "colorbar": {
              "outlinewidth": 0,
              "ticks": ""
             }
            },
            "type": "scatterpolar"
           }
          ],
          "scatterpolargl": [
           {
            "marker": {
             "colorbar": {
              "outlinewidth": 0,
              "ticks": ""
             }
            },
            "type": "scatterpolargl"
           }
          ],
          "scatterternary": [
           {
            "marker": {
             "colorbar": {
              "outlinewidth": 0,
              "ticks": ""
             }
            },
            "type": "scatterternary"
           }
          ],
          "surface": [
           {
            "colorbar": {
             "outlinewidth": 0,
             "ticks": ""
            },
            "colorscale": [
             [
              0,
              "#0d0887"
             ],
             [
              0.1111111111111111,
              "#46039f"
             ],
             [
              0.2222222222222222,
              "#7201a8"
             ],
             [
              0.3333333333333333,
              "#9c179e"
             ],
             [
              0.4444444444444444,
              "#bd3786"
             ],
             [
              0.5555555555555556,
              "#d8576b"
             ],
             [
              0.6666666666666666,
              "#ed7953"
             ],
             [
              0.7777777777777778,
              "#fb9f3a"
             ],
             [
              0.8888888888888888,
              "#fdca26"
             ],
             [
              1,
              "#f0f921"
             ]
            ],
            "type": "surface"
           }
          ],
          "table": [
           {
            "cells": {
             "fill": {
              "color": "#EBF0F8"
             },
             "line": {
              "color": "white"
             }
            },
            "header": {
             "fill": {
              "color": "#C8D4E3"
             },
             "line": {
              "color": "white"
             }
            },
            "type": "table"
           }
          ]
         },
         "layout": {
          "annotationdefaults": {
           "arrowcolor": "#2a3f5f",
           "arrowhead": 0,
           "arrowwidth": 1
          },
          "autotypenumbers": "strict",
          "coloraxis": {
           "colorbar": {
            "outlinewidth": 0,
            "ticks": ""
           }
          },
          "colorscale": {
           "diverging": [
            [
             0,
             "#8e0152"
            ],
            [
             0.1,
             "#c51b7d"
            ],
            [
             0.2,
             "#de77ae"
            ],
            [
             0.3,
             "#f1b6da"
            ],
            [
             0.4,
             "#fde0ef"
            ],
            [
             0.5,
             "#f7f7f7"
            ],
            [
             0.6,
             "#e6f5d0"
            ],
            [
             0.7,
             "#b8e186"
            ],
            [
             0.8,
             "#7fbc41"
            ],
            [
             0.9,
             "#4d9221"
            ],
            [
             1,
             "#276419"
            ]
           ],
           "sequential": [
            [
             0,
             "#0d0887"
            ],
            [
             0.1111111111111111,
             "#46039f"
            ],
            [
             0.2222222222222222,
             "#7201a8"
            ],
            [
             0.3333333333333333,
             "#9c179e"
            ],
            [
             0.4444444444444444,
             "#bd3786"
            ],
            [
             0.5555555555555556,
             "#d8576b"
            ],
            [
             0.6666666666666666,
             "#ed7953"
            ],
            [
             0.7777777777777778,
             "#fb9f3a"
            ],
            [
             0.8888888888888888,
             "#fdca26"
            ],
            [
             1,
             "#f0f921"
            ]
           ],
           "sequentialminus": [
            [
             0,
             "#0d0887"
            ],
            [
             0.1111111111111111,
             "#46039f"
            ],
            [
             0.2222222222222222,
             "#7201a8"
            ],
            [
             0.3333333333333333,
             "#9c179e"
            ],
            [
             0.4444444444444444,
             "#bd3786"
            ],
            [
             0.5555555555555556,
             "#d8576b"
            ],
            [
             0.6666666666666666,
             "#ed7953"
            ],
            [
             0.7777777777777778,
             "#fb9f3a"
            ],
            [
             0.8888888888888888,
             "#fdca26"
            ],
            [
             1,
             "#f0f921"
            ]
           ]
          },
          "colorway": [
           "#636efa",
           "#EF553B",
           "#00cc96",
           "#ab63fa",
           "#FFA15A",
           "#19d3f3",
           "#FF6692",
           "#B6E880",
           "#FF97FF",
           "#FECB52"
          ],
          "font": {
           "color": "#2a3f5f"
          },
          "geo": {
           "bgcolor": "white",
           "lakecolor": "white",
           "landcolor": "#E5ECF6",
           "showlakes": true,
           "showland": true,
           "subunitcolor": "white"
          },
          "hoverlabel": {
           "align": "left"
          },
          "hovermode": "closest",
          "mapbox": {
           "style": "light"
          },
          "paper_bgcolor": "white",
          "plot_bgcolor": "#E5ECF6",
          "polar": {
           "angularaxis": {
            "gridcolor": "white",
            "linecolor": "white",
            "ticks": ""
           },
           "bgcolor": "#E5ECF6",
           "radialaxis": {
            "gridcolor": "white",
            "linecolor": "white",
            "ticks": ""
           }
          },
          "scene": {
           "xaxis": {
            "backgroundcolor": "#E5ECF6",
            "gridcolor": "white",
            "gridwidth": 2,
            "linecolor": "white",
            "showbackground": true,
            "ticks": "",
            "zerolinecolor": "white"
           },
           "yaxis": {
            "backgroundcolor": "#E5ECF6",
            "gridcolor": "white",
            "gridwidth": 2,
            "linecolor": "white",
            "showbackground": true,
            "ticks": "",
            "zerolinecolor": "white"
           },
           "zaxis": {
            "backgroundcolor": "#E5ECF6",
            "gridcolor": "white",
            "gridwidth": 2,
            "linecolor": "white",
            "showbackground": true,
            "ticks": "",
            "zerolinecolor": "white"
           }
          },
          "shapedefaults": {
           "line": {
            "color": "#2a3f5f"
           }
          },
          "ternary": {
           "aaxis": {
            "gridcolor": "white",
            "linecolor": "white",
            "ticks": ""
           },
           "baxis": {
            "gridcolor": "white",
            "linecolor": "white",
            "ticks": ""
           },
           "bgcolor": "#E5ECF6",
           "caxis": {
            "gridcolor": "white",
            "linecolor": "white",
            "ticks": ""
           }
          },
          "title": {
           "x": 0.05
          },
          "xaxis": {
           "automargin": true,
           "gridcolor": "white",
           "linecolor": "white",
           "ticks": "",
           "title": {
            "standoff": 15
           },
           "zerolinecolor": "white",
           "zerolinewidth": 2
          },
          "yaxis": {
           "automargin": true,
           "gridcolor": "white",
           "linecolor": "white",
           "ticks": "",
           "title": {
            "standoff": 15
           },
           "zerolinecolor": "white",
           "zerolinewidth": 2
          }
         }
        },
        "xaxis": {
         "anchor": "y",
         "domain": [
          0,
          1
         ],
         "showgrid": false,
         "title": {
          "text": "Date"
         },
         "zeroline": false
        },
        "yaxis": {
         "anchor": "x",
         "domain": [
          0,
          1
         ],
         "showgrid": false,
         "title": {
          "text": "Close_Portfolio"
         },
         "zeroline": false
        }
       }
      }
     },
     "metadata": {},
     "output_type": "display_data"
    }
   ],
   "source": [
    "# plot portfolio\n",
    "fig = px.line(stocks.dropna(subset=['Close_Portfolio']), x=\"Date\", y=\"Close_Portfolio\")\n",
    "fig.update_xaxes(showgrid=False, zeroline=False)\n",
    "fig.update_yaxes(showgrid=False, zeroline=False)\n",
    "fig.show()"
   ]
  },
  {
   "cell_type": "code",
   "execution_count": 25,
   "metadata": {},
   "outputs": [
    {
     "data": {
      "application/vnd.plotly.v1+json": {
       "config": {
        "plotlyServerURL": "https://plot.ly"
       },
       "data": [
        {
         "branchvalues": "total",
         "domain": {
          "x": [
           0,
           1
          ],
          "y": [
           0,
           1
          ]
         },
         "hovertemplate": "labels=%{label}<br>ratio_percent=%{value}<br>parent=%{parent}<br>id=%{id}<extra></extra>",
         "ids": [
          "bond/BND",
          "cripto/BTC-USD",
          "cripto/ETH-USD",
          "stock/QQQ",
          "stock/VEA",
          "stock/VOO",
          "stock/VTI",
          "stock/VWO",
          "bond",
          "cripto",
          "stock"
         ],
         "labels": [
          "BND",
          "BTC-USD",
          "ETH-USD",
          "QQQ",
          "VEA",
          "VOO",
          "VTI",
          "VWO",
          "bond",
          "cripto",
          "stock"
         ],
         "name": "",
         "parents": [
          "bond",
          "cripto",
          "cripto",
          "stock",
          "stock",
          "stock",
          "stock",
          "stock",
          "",
          "",
          ""
         ],
         "type": "sunburst",
         "values": [
          5.51,
          15.81,
          9.13,
          21.89,
          3.05,
          26.81,
          14.52,
          3.13,
          5.51,
          24.94,
          69.4
         ]
        }
       ],
       "layout": {
        "legend": {
         "tracegroupgap": 0
        },
        "template": {
         "data": {
          "bar": [
           {
            "error_x": {
             "color": "#2a3f5f"
            },
            "error_y": {
             "color": "#2a3f5f"
            },
            "marker": {
             "line": {
              "color": "#E5ECF6",
              "width": 0.5
             },
             "pattern": {
              "fillmode": "overlay",
              "size": 10,
              "solidity": 0.2
             }
            },
            "type": "bar"
           }
          ],
          "barpolar": [
           {
            "marker": {
             "line": {
              "color": "#E5ECF6",
              "width": 0.5
             },
             "pattern": {
              "fillmode": "overlay",
              "size": 10,
              "solidity": 0.2
             }
            },
            "type": "barpolar"
           }
          ],
          "carpet": [
           {
            "aaxis": {
             "endlinecolor": "#2a3f5f",
             "gridcolor": "white",
             "linecolor": "white",
             "minorgridcolor": "white",
             "startlinecolor": "#2a3f5f"
            },
            "baxis": {
             "endlinecolor": "#2a3f5f",
             "gridcolor": "white",
             "linecolor": "white",
             "minorgridcolor": "white",
             "startlinecolor": "#2a3f5f"
            },
            "type": "carpet"
           }
          ],
          "choropleth": [
           {
            "colorbar": {
             "outlinewidth": 0,
             "ticks": ""
            },
            "type": "choropleth"
           }
          ],
          "contour": [
           {
            "colorbar": {
             "outlinewidth": 0,
             "ticks": ""
            },
            "colorscale": [
             [
              0,
              "#0d0887"
             ],
             [
              0.1111111111111111,
              "#46039f"
             ],
             [
              0.2222222222222222,
              "#7201a8"
             ],
             [
              0.3333333333333333,
              "#9c179e"
             ],
             [
              0.4444444444444444,
              "#bd3786"
             ],
             [
              0.5555555555555556,
              "#d8576b"
             ],
             [
              0.6666666666666666,
              "#ed7953"
             ],
             [
              0.7777777777777778,
              "#fb9f3a"
             ],
             [
              0.8888888888888888,
              "#fdca26"
             ],
             [
              1,
              "#f0f921"
             ]
            ],
            "type": "contour"
           }
          ],
          "contourcarpet": [
           {
            "colorbar": {
             "outlinewidth": 0,
             "ticks": ""
            },
            "type": "contourcarpet"
           }
          ],
          "heatmap": [
           {
            "colorbar": {
             "outlinewidth": 0,
             "ticks": ""
            },
            "colorscale": [
             [
              0,
              "#0d0887"
             ],
             [
              0.1111111111111111,
              "#46039f"
             ],
             [
              0.2222222222222222,
              "#7201a8"
             ],
             [
              0.3333333333333333,
              "#9c179e"
             ],
             [
              0.4444444444444444,
              "#bd3786"
             ],
             [
              0.5555555555555556,
              "#d8576b"
             ],
             [
              0.6666666666666666,
              "#ed7953"
             ],
             [
              0.7777777777777778,
              "#fb9f3a"
             ],
             [
              0.8888888888888888,
              "#fdca26"
             ],
             [
              1,
              "#f0f921"
             ]
            ],
            "type": "heatmap"
           }
          ],
          "heatmapgl": [
           {
            "colorbar": {
             "outlinewidth": 0,
             "ticks": ""
            },
            "colorscale": [
             [
              0,
              "#0d0887"
             ],
             [
              0.1111111111111111,
              "#46039f"
             ],
             [
              0.2222222222222222,
              "#7201a8"
             ],
             [
              0.3333333333333333,
              "#9c179e"
             ],
             [
              0.4444444444444444,
              "#bd3786"
             ],
             [
              0.5555555555555556,
              "#d8576b"
             ],
             [
              0.6666666666666666,
              "#ed7953"
             ],
             [
              0.7777777777777778,
              "#fb9f3a"
             ],
             [
              0.8888888888888888,
              "#fdca26"
             ],
             [
              1,
              "#f0f921"
             ]
            ],
            "type": "heatmapgl"
           }
          ],
          "histogram": [
           {
            "marker": {
             "pattern": {
              "fillmode": "overlay",
              "size": 10,
              "solidity": 0.2
             }
            },
            "type": "histogram"
           }
          ],
          "histogram2d": [
           {
            "colorbar": {
             "outlinewidth": 0,
             "ticks": ""
            },
            "colorscale": [
             [
              0,
              "#0d0887"
             ],
             [
              0.1111111111111111,
              "#46039f"
             ],
             [
              0.2222222222222222,
              "#7201a8"
             ],
             [
              0.3333333333333333,
              "#9c179e"
             ],
             [
              0.4444444444444444,
              "#bd3786"
             ],
             [
              0.5555555555555556,
              "#d8576b"
             ],
             [
              0.6666666666666666,
              "#ed7953"
             ],
             [
              0.7777777777777778,
              "#fb9f3a"
             ],
             [
              0.8888888888888888,
              "#fdca26"
             ],
             [
              1,
              "#f0f921"
             ]
            ],
            "type": "histogram2d"
           }
          ],
          "histogram2dcontour": [
           {
            "colorbar": {
             "outlinewidth": 0,
             "ticks": ""
            },
            "colorscale": [
             [
              0,
              "#0d0887"
             ],
             [
              0.1111111111111111,
              "#46039f"
             ],
             [
              0.2222222222222222,
              "#7201a8"
             ],
             [
              0.3333333333333333,
              "#9c179e"
             ],
             [
              0.4444444444444444,
              "#bd3786"
             ],
             [
              0.5555555555555556,
              "#d8576b"
             ],
             [
              0.6666666666666666,
              "#ed7953"
             ],
             [
              0.7777777777777778,
              "#fb9f3a"
             ],
             [
              0.8888888888888888,
              "#fdca26"
             ],
             [
              1,
              "#f0f921"
             ]
            ],
            "type": "histogram2dcontour"
           }
          ],
          "mesh3d": [
           {
            "colorbar": {
             "outlinewidth": 0,
             "ticks": ""
            },
            "type": "mesh3d"
           }
          ],
          "parcoords": [
           {
            "line": {
             "colorbar": {
              "outlinewidth": 0,
              "ticks": ""
             }
            },
            "type": "parcoords"
           }
          ],
          "pie": [
           {
            "automargin": true,
            "type": "pie"
           }
          ],
          "scatter": [
           {
            "fillpattern": {
             "fillmode": "overlay",
             "size": 10,
             "solidity": 0.2
            },
            "type": "scatter"
           }
          ],
          "scatter3d": [
           {
            "line": {
             "colorbar": {
              "outlinewidth": 0,
              "ticks": ""
             }
            },
            "marker": {
             "colorbar": {
              "outlinewidth": 0,
              "ticks": ""
             }
            },
            "type": "scatter3d"
           }
          ],
          "scattercarpet": [
           {
            "marker": {
             "colorbar": {
              "outlinewidth": 0,
              "ticks": ""
             }
            },
            "type": "scattercarpet"
           }
          ],
          "scattergeo": [
           {
            "marker": {
             "colorbar": {
              "outlinewidth": 0,
              "ticks": ""
             }
            },
            "type": "scattergeo"
           }
          ],
          "scattergl": [
           {
            "marker": {
             "colorbar": {
              "outlinewidth": 0,
              "ticks": ""
             }
            },
            "type": "scattergl"
           }
          ],
          "scattermapbox": [
           {
            "marker": {
             "colorbar": {
              "outlinewidth": 0,
              "ticks": ""
             }
            },
            "type": "scattermapbox"
           }
          ],
          "scatterpolar": [
           {
            "marker": {
             "colorbar": {
              "outlinewidth": 0,
              "ticks": ""
             }
            },
            "type": "scatterpolar"
           }
          ],
          "scatterpolargl": [
           {
            "marker": {
             "colorbar": {
              "outlinewidth": 0,
              "ticks": ""
             }
            },
            "type": "scatterpolargl"
           }
          ],
          "scatterternary": [
           {
            "marker": {
             "colorbar": {
              "outlinewidth": 0,
              "ticks": ""
             }
            },
            "type": "scatterternary"
           }
          ],
          "surface": [
           {
            "colorbar": {
             "outlinewidth": 0,
             "ticks": ""
            },
            "colorscale": [
             [
              0,
              "#0d0887"
             ],
             [
              0.1111111111111111,
              "#46039f"
             ],
             [
              0.2222222222222222,
              "#7201a8"
             ],
             [
              0.3333333333333333,
              "#9c179e"
             ],
             [
              0.4444444444444444,
              "#bd3786"
             ],
             [
              0.5555555555555556,
              "#d8576b"
             ],
             [
              0.6666666666666666,
              "#ed7953"
             ],
             [
              0.7777777777777778,
              "#fb9f3a"
             ],
             [
              0.8888888888888888,
              "#fdca26"
             ],
             [
              1,
              "#f0f921"
             ]
            ],
            "type": "surface"
           }
          ],
          "table": [
           {
            "cells": {
             "fill": {
              "color": "#EBF0F8"
             },
             "line": {
              "color": "white"
             }
            },
            "header": {
             "fill": {
              "color": "#C8D4E3"
             },
             "line": {
              "color": "white"
             }
            },
            "type": "table"
           }
          ]
         },
         "layout": {
          "annotationdefaults": {
           "arrowcolor": "#2a3f5f",
           "arrowhead": 0,
           "arrowwidth": 1
          },
          "autotypenumbers": "strict",
          "coloraxis": {
           "colorbar": {
            "outlinewidth": 0,
            "ticks": ""
           }
          },
          "colorscale": {
           "diverging": [
            [
             0,
             "#8e0152"
            ],
            [
             0.1,
             "#c51b7d"
            ],
            [
             0.2,
             "#de77ae"
            ],
            [
             0.3,
             "#f1b6da"
            ],
            [
             0.4,
             "#fde0ef"
            ],
            [
             0.5,
             "#f7f7f7"
            ],
            [
             0.6,
             "#e6f5d0"
            ],
            [
             0.7,
             "#b8e186"
            ],
            [
             0.8,
             "#7fbc41"
            ],
            [
             0.9,
             "#4d9221"
            ],
            [
             1,
             "#276419"
            ]
           ],
           "sequential": [
            [
             0,
             "#0d0887"
            ],
            [
             0.1111111111111111,
             "#46039f"
            ],
            [
             0.2222222222222222,
             "#7201a8"
            ],
            [
             0.3333333333333333,
             "#9c179e"
            ],
            [
             0.4444444444444444,
             "#bd3786"
            ],
            [
             0.5555555555555556,
             "#d8576b"
            ],
            [
             0.6666666666666666,
             "#ed7953"
            ],
            [
             0.7777777777777778,
             "#fb9f3a"
            ],
            [
             0.8888888888888888,
             "#fdca26"
            ],
            [
             1,
             "#f0f921"
            ]
           ],
           "sequentialminus": [
            [
             0,
             "#0d0887"
            ],
            [
             0.1111111111111111,
             "#46039f"
            ],
            [
             0.2222222222222222,
             "#7201a8"
            ],
            [
             0.3333333333333333,
             "#9c179e"
            ],
            [
             0.4444444444444444,
             "#bd3786"
            ],
            [
             0.5555555555555556,
             "#d8576b"
            ],
            [
             0.6666666666666666,
             "#ed7953"
            ],
            [
             0.7777777777777778,
             "#fb9f3a"
            ],
            [
             0.8888888888888888,
             "#fdca26"
            ],
            [
             1,
             "#f0f921"
            ]
           ]
          },
          "colorway": [
           "#636efa",
           "#EF553B",
           "#00cc96",
           "#ab63fa",
           "#FFA15A",
           "#19d3f3",
           "#FF6692",
           "#B6E880",
           "#FF97FF",
           "#FECB52"
          ],
          "font": {
           "color": "#2a3f5f"
          },
          "geo": {
           "bgcolor": "white",
           "lakecolor": "white",
           "landcolor": "#E5ECF6",
           "showlakes": true,
           "showland": true,
           "subunitcolor": "white"
          },
          "hoverlabel": {
           "align": "left"
          },
          "hovermode": "closest",
          "mapbox": {
           "style": "light"
          },
          "paper_bgcolor": "white",
          "plot_bgcolor": "#E5ECF6",
          "polar": {
           "angularaxis": {
            "gridcolor": "white",
            "linecolor": "white",
            "ticks": ""
           },
           "bgcolor": "#E5ECF6",
           "radialaxis": {
            "gridcolor": "white",
            "linecolor": "white",
            "ticks": ""
           }
          },
          "scene": {
           "xaxis": {
            "backgroundcolor": "#E5ECF6",
            "gridcolor": "white",
            "gridwidth": 2,
            "linecolor": "white",
            "showbackground": true,
            "ticks": "",
            "zerolinecolor": "white"
           },
           "yaxis": {
            "backgroundcolor": "#E5ECF6",
            "gridcolor": "white",
            "gridwidth": 2,
            "linecolor": "white",
            "showbackground": true,
            "ticks": "",
            "zerolinecolor": "white"
           },
           "zaxis": {
            "backgroundcolor": "#E5ECF6",
            "gridcolor": "white",
            "gridwidth": 2,
            "linecolor": "white",
            "showbackground": true,
            "ticks": "",
            "zerolinecolor": "white"
           }
          },
          "shapedefaults": {
           "line": {
            "color": "#2a3f5f"
           }
          },
          "ternary": {
           "aaxis": {
            "gridcolor": "white",
            "linecolor": "white",
            "ticks": ""
           },
           "baxis": {
            "gridcolor": "white",
            "linecolor": "white",
            "ticks": ""
           },
           "bgcolor": "#E5ECF6",
           "caxis": {
            "gridcolor": "white",
            "linecolor": "white",
            "ticks": ""
           }
          },
          "title": {
           "x": 0.05
          },
          "xaxis": {
           "automargin": true,
           "gridcolor": "white",
           "linecolor": "white",
           "ticks": "",
           "title": {
            "standoff": 15
           },
           "zerolinecolor": "white",
           "zerolinewidth": 2
          },
          "yaxis": {
           "automargin": true,
           "gridcolor": "white",
           "linecolor": "white",
           "ticks": "",
           "title": {
            "standoff": 15
           },
           "zerolinecolor": "white",
           "zerolinewidth": 2
          }
         }
        },
        "title": {
         "text": "Portfolio Recent Value Ratio"
        }
       }
      }
     },
     "metadata": {},
     "output_type": "display_data"
    }
   ],
   "source": [
    "# plot ratio\n",
    "fig = px.sunburst(\n",
    "ratio,\n",
    "path=[\"type\", \"ticker\"],\n",
    "values=\"ratio_percent\",\n",
    "title=\"Portfolio Recent Value Ratio\",\n",
    ")\n",
    "fig.show()"
   ]
  },
  {
   "cell_type": "code",
   "execution_count": null,
   "metadata": {},
   "outputs": [],
   "source": []
  }
 ],
 "metadata": {
  "kernelspec": {
   "display_name": "Python 3 (ipykernel)",
   "language": "python",
   "name": "python3"
  },
  "language_info": {
   "codemirror_mode": {
    "name": "ipython",
    "version": 3
   },
   "file_extension": ".py",
   "mimetype": "text/x-python",
   "name": "python",
   "nbconvert_exporter": "python",
   "pygments_lexer": "ipython3",
   "version": "3.9.11"
  },
  "vscode": {
   "interpreter": {
    "hash": "7fb20f604ddbfb0687a99cebfa886fb7d4f5a0a76c1c1e49b943b15fc350e9cd"
   }
  }
 },
 "nbformat": 4,
 "nbformat_minor": 4
}
