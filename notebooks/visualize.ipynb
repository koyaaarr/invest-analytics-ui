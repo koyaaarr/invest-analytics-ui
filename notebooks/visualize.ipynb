{
 "cells": [
  {
   "cell_type": "code",
   "execution_count": 5,
   "id": "f01290be-fc38-4c2e-9596-41ae2a6a2441",
   "metadata": {},
   "outputs": [],
   "source": [
    "import pandas_datareader.data as web\n",
    "from datetime import datetime\n",
    "import plotly.express as px\n",
    "import pandas as pd\n",
    "import numpy as np\n",
    "import plotly.graph_objects as go\n",
    "from plotly.subplots import make_subplots\n",
    "import yaml"
   ]
  },
  {
   "cell_type": "code",
   "execution_count": 9,
   "id": "6b97a624-c403-4351-9362-b96fb551a9c8",
   "metadata": {},
   "outputs": [],
   "source": [
    "start = datetime(2020, 1, 1)\n",
    "end = datetime(2022, 5, 1)"
   ]
  },
  {
   "cell_type": "code",
   "execution_count": null,
   "id": "c98c2ffc-8b4d-4d3a-bead-eb3b50e8f060",
   "metadata": {},
   "outputs": [],
   "source": [
    "# stooq = web.StooqDailyReader('1306.JP',start=st,end=ed).read()\n",
    "# display(stooq.head(3))\n",
    "# display(stooq.tail(3))"
   ]
  },
  {
   "cell_type": "code",
   "execution_count": 10,
   "id": "131cc50c-f541-426e-a252-dea56c07ce0e",
   "metadata": {},
   "outputs": [],
   "source": [
    "# voo = web.StooqDailyReader('VOO',start=st,end=ed).read()\n",
    "# display(voo.head(3))\n",
    "# display(voo.tail(3))"
   ]
  },
  {
   "cell_type": "code",
   "execution_count": 11,
   "id": "2e7ee05e-3847-4ed9-89ec-f1f842d6d939",
   "metadata": {},
   "outputs": [],
   "source": [
    "# voo = voo.reset_index(drop=False)"
   ]
  },
  {
   "cell_type": "code",
   "execution_count": null,
   "id": "cc6e5d4f",
   "metadata": {},
   "outputs": [],
   "source": [
    "# function"
   ]
  },
  {
   "cell_type": "code",
   "execution_count": 81,
   "id": "002328ce",
   "metadata": {},
   "outputs": [
    {
     "ename": "KeyboardInterrupt",
     "evalue": "",
     "output_type": "error",
     "traceback": [
      "\u001b[0;31m---------------------------------------------------------------------------\u001b[0m",
      "\u001b[0;31mKeyboardInterrupt\u001b[0m                         Traceback (most recent call last)",
      "\u001b[1;32m/Users/koyajima/code/invest-analytics/notebooks/vis_stock.ipynb Cell 7'\u001b[0m in \u001b[0;36m<cell line: 3>\u001b[0;34m()\u001b[0m\n\u001b[1;32m      <a href='vscode-notebook-cell:/Users/koyajima/code/invest-analytics/notebooks/vis_stock.ipynb#ch0000006?line=1'>2</a>\u001b[0m tickers \u001b[39m=\u001b[39m [\u001b[39m'\u001b[39m\u001b[39m2833.H\u001b[39m\u001b[39m'\u001b[39m]\n\u001b[1;32m      <a href='vscode-notebook-cell:/Users/koyajima/code/invest-analytics/notebooks/vis_stock.ipynb#ch0000006?line=2'>3</a>\u001b[0m \u001b[39mfor\u001b[39;00m ticker \u001b[39min\u001b[39;00m tickers:\n\u001b[0;32m----> <a href='vscode-notebook-cell:/Users/koyajima/code/invest-analytics/notebooks/vis_stock.ipynb#ch0000006?line=3'>4</a>\u001b[0m     stock \u001b[39m=\u001b[39m web\u001b[39m.\u001b[39;49mStooqDailyReader(ticker, start\u001b[39m=\u001b[39;49mstart,end\u001b[39m=\u001b[39;49mend)\u001b[39m.\u001b[39;49mread()\n\u001b[1;32m      <a href='vscode-notebook-cell:/Users/koyajima/code/invest-analytics/notebooks/vis_stock.ipynb#ch0000006?line=4'>5</a>\u001b[0m     stock \u001b[39m=\u001b[39m stock\u001b[39m.\u001b[39mreset_index(drop\u001b[39m=\u001b[39m\u001b[39mFalse\u001b[39;00m)\n\u001b[1;32m      <a href='vscode-notebook-cell:/Users/koyajima/code/invest-analytics/notebooks/vis_stock.ipynb#ch0000006?line=5'>6</a>\u001b[0m     stock\u001b[39m.\u001b[39mto_csv(\u001b[39mf\u001b[39m\u001b[39m'\u001b[39m\u001b[39m../data/\u001b[39m\u001b[39m{\u001b[39;00mticker\u001b[39m}\u001b[39;00m\u001b[39m.csv\u001b[39m\u001b[39m'\u001b[39m, index\u001b[39m=\u001b[39m\u001b[39mNone\u001b[39;00m)\n",
      "File \u001b[0;32m~/code/invest-analytics/.venv/lib/python3.9/site-packages/pandas_datareader/base.py:253\u001b[0m, in \u001b[0;36m_DailyBaseReader.read\u001b[0;34m(self)\u001b[0m\n\u001b[1;32m    <a href='file:///Users/koyajima/code/invest-analytics/.venv/lib/python3.9/site-packages/pandas_datareader/base.py?line=250'>251</a>\u001b[0m \u001b[39m# If a single symbol, (e.g., 'GOOG')\u001b[39;00m\n\u001b[1;32m    <a href='file:///Users/koyajima/code/invest-analytics/.venv/lib/python3.9/site-packages/pandas_datareader/base.py?line=251'>252</a>\u001b[0m \u001b[39mif\u001b[39;00m \u001b[39misinstance\u001b[39m(\u001b[39mself\u001b[39m\u001b[39m.\u001b[39msymbols, (string_types, \u001b[39mint\u001b[39m)):\n\u001b[0;32m--> <a href='file:///Users/koyajima/code/invest-analytics/.venv/lib/python3.9/site-packages/pandas_datareader/base.py?line=252'>253</a>\u001b[0m     df \u001b[39m=\u001b[39m \u001b[39mself\u001b[39;49m\u001b[39m.\u001b[39;49m_read_one_data(\u001b[39mself\u001b[39;49m\u001b[39m.\u001b[39;49murl, params\u001b[39m=\u001b[39;49m\u001b[39mself\u001b[39;49m\u001b[39m.\u001b[39;49m_get_params(\u001b[39mself\u001b[39;49m\u001b[39m.\u001b[39;49msymbols))\n\u001b[1;32m    <a href='file:///Users/koyajima/code/invest-analytics/.venv/lib/python3.9/site-packages/pandas_datareader/base.py?line=253'>254</a>\u001b[0m \u001b[39m# Or multiple symbols, (e.g., ['GOOG', 'AAPL', 'MSFT'])\u001b[39;00m\n\u001b[1;32m    <a href='file:///Users/koyajima/code/invest-analytics/.venv/lib/python3.9/site-packages/pandas_datareader/base.py?line=254'>255</a>\u001b[0m \u001b[39melif\u001b[39;00m \u001b[39misinstance\u001b[39m(\u001b[39mself\u001b[39m\u001b[39m.\u001b[39msymbols, DataFrame):\n",
      "File \u001b[0;32m~/code/invest-analytics/.venv/lib/python3.9/site-packages/pandas_datareader/base.py:108\u001b[0m, in \u001b[0;36m_BaseReader._read_one_data\u001b[0;34m(self, url, params)\u001b[0m\n\u001b[1;32m    <a href='file:///Users/koyajima/code/invest-analytics/.venv/lib/python3.9/site-packages/pandas_datareader/base.py?line=105'>106</a>\u001b[0m \u001b[39m\"\"\"read one data from specified URL\"\"\"\u001b[39;00m\n\u001b[1;32m    <a href='file:///Users/koyajima/code/invest-analytics/.venv/lib/python3.9/site-packages/pandas_datareader/base.py?line=106'>107</a>\u001b[0m \u001b[39mif\u001b[39;00m \u001b[39mself\u001b[39m\u001b[39m.\u001b[39m_format \u001b[39m==\u001b[39m \u001b[39m\"\u001b[39m\u001b[39mstring\u001b[39m\u001b[39m\"\u001b[39m:\n\u001b[0;32m--> <a href='file:///Users/koyajima/code/invest-analytics/.venv/lib/python3.9/site-packages/pandas_datareader/base.py?line=107'>108</a>\u001b[0m     out \u001b[39m=\u001b[39m \u001b[39mself\u001b[39;49m\u001b[39m.\u001b[39;49m_read_url_as_StringIO(url, params\u001b[39m=\u001b[39;49mparams)\n\u001b[1;32m    <a href='file:///Users/koyajima/code/invest-analytics/.venv/lib/python3.9/site-packages/pandas_datareader/base.py?line=108'>109</a>\u001b[0m \u001b[39melif\u001b[39;00m \u001b[39mself\u001b[39m\u001b[39m.\u001b[39m_format \u001b[39m==\u001b[39m \u001b[39m\"\u001b[39m\u001b[39mjson\u001b[39m\u001b[39m\"\u001b[39m:\n\u001b[1;32m    <a href='file:///Users/koyajima/code/invest-analytics/.venv/lib/python3.9/site-packages/pandas_datareader/base.py?line=109'>110</a>\u001b[0m     out \u001b[39m=\u001b[39m \u001b[39mself\u001b[39m\u001b[39m.\u001b[39m_get_response(url, params\u001b[39m=\u001b[39mparams)\u001b[39m.\u001b[39mjson()\n",
      "File \u001b[0;32m~/code/invest-analytics/.venv/lib/python3.9/site-packages/pandas_datareader/base.py:119\u001b[0m, in \u001b[0;36m_BaseReader._read_url_as_StringIO\u001b[0;34m(self, url, params)\u001b[0m\n\u001b[1;32m    <a href='file:///Users/koyajima/code/invest-analytics/.venv/lib/python3.9/site-packages/pandas_datareader/base.py?line=114'>115</a>\u001b[0m \u001b[39mdef\u001b[39;00m \u001b[39m_read_url_as_StringIO\u001b[39m(\u001b[39mself\u001b[39m, url, params\u001b[39m=\u001b[39m\u001b[39mNone\u001b[39;00m):\n\u001b[1;32m    <a href='file:///Users/koyajima/code/invest-analytics/.venv/lib/python3.9/site-packages/pandas_datareader/base.py?line=115'>116</a>\u001b[0m     \u001b[39m\"\"\"\u001b[39;00m\n\u001b[1;32m    <a href='file:///Users/koyajima/code/invest-analytics/.venv/lib/python3.9/site-packages/pandas_datareader/base.py?line=116'>117</a>\u001b[0m \u001b[39m    Open url (and retry)\u001b[39;00m\n\u001b[1;32m    <a href='file:///Users/koyajima/code/invest-analytics/.venv/lib/python3.9/site-packages/pandas_datareader/base.py?line=117'>118</a>\u001b[0m \u001b[39m    \"\"\"\u001b[39;00m\n\u001b[0;32m--> <a href='file:///Users/koyajima/code/invest-analytics/.venv/lib/python3.9/site-packages/pandas_datareader/base.py?line=118'>119</a>\u001b[0m     response \u001b[39m=\u001b[39m \u001b[39mself\u001b[39;49m\u001b[39m.\u001b[39;49m_get_response(url, params\u001b[39m=\u001b[39;49mparams)\n\u001b[1;32m    <a href='file:///Users/koyajima/code/invest-analytics/.venv/lib/python3.9/site-packages/pandas_datareader/base.py?line=119'>120</a>\u001b[0m     text \u001b[39m=\u001b[39m \u001b[39mself\u001b[39m\u001b[39m.\u001b[39m_sanitize_response(response)\n\u001b[1;32m    <a href='file:///Users/koyajima/code/invest-analytics/.venv/lib/python3.9/site-packages/pandas_datareader/base.py?line=120'>121</a>\u001b[0m     out \u001b[39m=\u001b[39m StringIO()\n",
      "File \u001b[0;32m~/code/invest-analytics/.venv/lib/python3.9/site-packages/pandas_datareader/base.py:155\u001b[0m, in \u001b[0;36m_BaseReader._get_response\u001b[0;34m(self, url, params, headers)\u001b[0m\n\u001b[1;32m    <a href='file:///Users/koyajima/code/invest-analytics/.venv/lib/python3.9/site-packages/pandas_datareader/base.py?line=152'>153</a>\u001b[0m last_response_text \u001b[39m=\u001b[39m \u001b[39m\"\u001b[39m\u001b[39m\"\u001b[39m\n\u001b[1;32m    <a href='file:///Users/koyajima/code/invest-analytics/.venv/lib/python3.9/site-packages/pandas_datareader/base.py?line=153'>154</a>\u001b[0m \u001b[39mfor\u001b[39;00m _ \u001b[39min\u001b[39;00m \u001b[39mrange\u001b[39m(\u001b[39mself\u001b[39m\u001b[39m.\u001b[39mretry_count \u001b[39m+\u001b[39m \u001b[39m1\u001b[39m):\n\u001b[0;32m--> <a href='file:///Users/koyajima/code/invest-analytics/.venv/lib/python3.9/site-packages/pandas_datareader/base.py?line=154'>155</a>\u001b[0m     response \u001b[39m=\u001b[39m \u001b[39mself\u001b[39;49m\u001b[39m.\u001b[39;49msession\u001b[39m.\u001b[39;49mget(\n\u001b[1;32m    <a href='file:///Users/koyajima/code/invest-analytics/.venv/lib/python3.9/site-packages/pandas_datareader/base.py?line=155'>156</a>\u001b[0m         url, params\u001b[39m=\u001b[39;49mparams, headers\u001b[39m=\u001b[39;49mheaders, timeout\u001b[39m=\u001b[39;49m\u001b[39mself\u001b[39;49m\u001b[39m.\u001b[39;49mtimeout\n\u001b[1;32m    <a href='file:///Users/koyajima/code/invest-analytics/.venv/lib/python3.9/site-packages/pandas_datareader/base.py?line=156'>157</a>\u001b[0m     )\n\u001b[1;32m    <a href='file:///Users/koyajima/code/invest-analytics/.venv/lib/python3.9/site-packages/pandas_datareader/base.py?line=157'>158</a>\u001b[0m     \u001b[39mif\u001b[39;00m response\u001b[39m.\u001b[39mstatus_code \u001b[39m==\u001b[39m requests\u001b[39m.\u001b[39mcodes\u001b[39m.\u001b[39mok:\n\u001b[1;32m    <a href='file:///Users/koyajima/code/invest-analytics/.venv/lib/python3.9/site-packages/pandas_datareader/base.py?line=158'>159</a>\u001b[0m         \u001b[39mreturn\u001b[39;00m response\n",
      "File \u001b[0;32m~/code/invest-analytics/.venv/lib/python3.9/site-packages/requests/sessions.py:542\u001b[0m, in \u001b[0;36mSession.get\u001b[0;34m(self, url, **kwargs)\u001b[0m\n\u001b[1;32m    <a href='file:///Users/koyajima/code/invest-analytics/.venv/lib/python3.9/site-packages/requests/sessions.py?line=533'>534</a>\u001b[0m \u001b[39mr\u001b[39m\u001b[39m\"\"\"Sends a GET request. Returns :class:`Response` object.\u001b[39;00m\n\u001b[1;32m    <a href='file:///Users/koyajima/code/invest-analytics/.venv/lib/python3.9/site-packages/requests/sessions.py?line=534'>535</a>\u001b[0m \n\u001b[1;32m    <a href='file:///Users/koyajima/code/invest-analytics/.venv/lib/python3.9/site-packages/requests/sessions.py?line=535'>536</a>\u001b[0m \u001b[39m:param url: URL for the new :class:`Request` object.\u001b[39;00m\n\u001b[1;32m    <a href='file:///Users/koyajima/code/invest-analytics/.venv/lib/python3.9/site-packages/requests/sessions.py?line=536'>537</a>\u001b[0m \u001b[39m:param \\*\\*kwargs: Optional arguments that ``request`` takes.\u001b[39;00m\n\u001b[1;32m    <a href='file:///Users/koyajima/code/invest-analytics/.venv/lib/python3.9/site-packages/requests/sessions.py?line=537'>538</a>\u001b[0m \u001b[39m:rtype: requests.Response\u001b[39;00m\n\u001b[1;32m    <a href='file:///Users/koyajima/code/invest-analytics/.venv/lib/python3.9/site-packages/requests/sessions.py?line=538'>539</a>\u001b[0m \u001b[39m\"\"\"\u001b[39;00m\n\u001b[1;32m    <a href='file:///Users/koyajima/code/invest-analytics/.venv/lib/python3.9/site-packages/requests/sessions.py?line=540'>541</a>\u001b[0m kwargs\u001b[39m.\u001b[39msetdefault(\u001b[39m'\u001b[39m\u001b[39mallow_redirects\u001b[39m\u001b[39m'\u001b[39m, \u001b[39mTrue\u001b[39;00m)\n\u001b[0;32m--> <a href='file:///Users/koyajima/code/invest-analytics/.venv/lib/python3.9/site-packages/requests/sessions.py?line=541'>542</a>\u001b[0m \u001b[39mreturn\u001b[39;00m \u001b[39mself\u001b[39;49m\u001b[39m.\u001b[39;49mrequest(\u001b[39m'\u001b[39;49m\u001b[39mGET\u001b[39;49m\u001b[39m'\u001b[39;49m, url, \u001b[39m*\u001b[39;49m\u001b[39m*\u001b[39;49mkwargs)\n",
      "File \u001b[0;32m~/code/invest-analytics/.venv/lib/python3.9/site-packages/requests/sessions.py:529\u001b[0m, in \u001b[0;36mSession.request\u001b[0;34m(self, method, url, params, data, headers, cookies, files, auth, timeout, allow_redirects, proxies, hooks, stream, verify, cert, json)\u001b[0m\n\u001b[1;32m    <a href='file:///Users/koyajima/code/invest-analytics/.venv/lib/python3.9/site-packages/requests/sessions.py?line=523'>524</a>\u001b[0m send_kwargs \u001b[39m=\u001b[39m {\n\u001b[1;32m    <a href='file:///Users/koyajima/code/invest-analytics/.venv/lib/python3.9/site-packages/requests/sessions.py?line=524'>525</a>\u001b[0m     \u001b[39m'\u001b[39m\u001b[39mtimeout\u001b[39m\u001b[39m'\u001b[39m: timeout,\n\u001b[1;32m    <a href='file:///Users/koyajima/code/invest-analytics/.venv/lib/python3.9/site-packages/requests/sessions.py?line=525'>526</a>\u001b[0m     \u001b[39m'\u001b[39m\u001b[39mallow_redirects\u001b[39m\u001b[39m'\u001b[39m: allow_redirects,\n\u001b[1;32m    <a href='file:///Users/koyajima/code/invest-analytics/.venv/lib/python3.9/site-packages/requests/sessions.py?line=526'>527</a>\u001b[0m }\n\u001b[1;32m    <a href='file:///Users/koyajima/code/invest-analytics/.venv/lib/python3.9/site-packages/requests/sessions.py?line=527'>528</a>\u001b[0m send_kwargs\u001b[39m.\u001b[39mupdate(settings)\n\u001b[0;32m--> <a href='file:///Users/koyajima/code/invest-analytics/.venv/lib/python3.9/site-packages/requests/sessions.py?line=528'>529</a>\u001b[0m resp \u001b[39m=\u001b[39m \u001b[39mself\u001b[39;49m\u001b[39m.\u001b[39;49msend(prep, \u001b[39m*\u001b[39;49m\u001b[39m*\u001b[39;49msend_kwargs)\n\u001b[1;32m    <a href='file:///Users/koyajima/code/invest-analytics/.venv/lib/python3.9/site-packages/requests/sessions.py?line=530'>531</a>\u001b[0m \u001b[39mreturn\u001b[39;00m resp\n",
      "File \u001b[0;32m~/code/invest-analytics/.venv/lib/python3.9/site-packages/requests/sessions.py:645\u001b[0m, in \u001b[0;36mSession.send\u001b[0;34m(self, request, **kwargs)\u001b[0m\n\u001b[1;32m    <a href='file:///Users/koyajima/code/invest-analytics/.venv/lib/python3.9/site-packages/requests/sessions.py?line=641'>642</a>\u001b[0m start \u001b[39m=\u001b[39m preferred_clock()\n\u001b[1;32m    <a href='file:///Users/koyajima/code/invest-analytics/.venv/lib/python3.9/site-packages/requests/sessions.py?line=643'>644</a>\u001b[0m \u001b[39m# Send the request\u001b[39;00m\n\u001b[0;32m--> <a href='file:///Users/koyajima/code/invest-analytics/.venv/lib/python3.9/site-packages/requests/sessions.py?line=644'>645</a>\u001b[0m r \u001b[39m=\u001b[39m adapter\u001b[39m.\u001b[39;49msend(request, \u001b[39m*\u001b[39;49m\u001b[39m*\u001b[39;49mkwargs)\n\u001b[1;32m    <a href='file:///Users/koyajima/code/invest-analytics/.venv/lib/python3.9/site-packages/requests/sessions.py?line=646'>647</a>\u001b[0m \u001b[39m# Total elapsed time of the request (approximately)\u001b[39;00m\n\u001b[1;32m    <a href='file:///Users/koyajima/code/invest-analytics/.venv/lib/python3.9/site-packages/requests/sessions.py?line=647'>648</a>\u001b[0m elapsed \u001b[39m=\u001b[39m preferred_clock() \u001b[39m-\u001b[39m start\n",
      "File \u001b[0;32m~/code/invest-analytics/.venv/lib/python3.9/site-packages/requests/adapters.py:440\u001b[0m, in \u001b[0;36mHTTPAdapter.send\u001b[0;34m(self, request, stream, timeout, verify, cert, proxies)\u001b[0m\n\u001b[1;32m    <a href='file:///Users/koyajima/code/invest-analytics/.venv/lib/python3.9/site-packages/requests/adapters.py?line=437'>438</a>\u001b[0m \u001b[39mtry\u001b[39;00m:\n\u001b[1;32m    <a href='file:///Users/koyajima/code/invest-analytics/.venv/lib/python3.9/site-packages/requests/adapters.py?line=438'>439</a>\u001b[0m     \u001b[39mif\u001b[39;00m \u001b[39mnot\u001b[39;00m chunked:\n\u001b[0;32m--> <a href='file:///Users/koyajima/code/invest-analytics/.venv/lib/python3.9/site-packages/requests/adapters.py?line=439'>440</a>\u001b[0m         resp \u001b[39m=\u001b[39m conn\u001b[39m.\u001b[39;49murlopen(\n\u001b[1;32m    <a href='file:///Users/koyajima/code/invest-analytics/.venv/lib/python3.9/site-packages/requests/adapters.py?line=440'>441</a>\u001b[0m             method\u001b[39m=\u001b[39;49mrequest\u001b[39m.\u001b[39;49mmethod,\n\u001b[1;32m    <a href='file:///Users/koyajima/code/invest-analytics/.venv/lib/python3.9/site-packages/requests/adapters.py?line=441'>442</a>\u001b[0m             url\u001b[39m=\u001b[39;49murl,\n\u001b[1;32m    <a href='file:///Users/koyajima/code/invest-analytics/.venv/lib/python3.9/site-packages/requests/adapters.py?line=442'>443</a>\u001b[0m             body\u001b[39m=\u001b[39;49mrequest\u001b[39m.\u001b[39;49mbody,\n\u001b[1;32m    <a href='file:///Users/koyajima/code/invest-analytics/.venv/lib/python3.9/site-packages/requests/adapters.py?line=443'>444</a>\u001b[0m             headers\u001b[39m=\u001b[39;49mrequest\u001b[39m.\u001b[39;49mheaders,\n\u001b[1;32m    <a href='file:///Users/koyajima/code/invest-analytics/.venv/lib/python3.9/site-packages/requests/adapters.py?line=444'>445</a>\u001b[0m             redirect\u001b[39m=\u001b[39;49m\u001b[39mFalse\u001b[39;49;00m,\n\u001b[1;32m    <a href='file:///Users/koyajima/code/invest-analytics/.venv/lib/python3.9/site-packages/requests/adapters.py?line=445'>446</a>\u001b[0m             assert_same_host\u001b[39m=\u001b[39;49m\u001b[39mFalse\u001b[39;49;00m,\n\u001b[1;32m    <a href='file:///Users/koyajima/code/invest-analytics/.venv/lib/python3.9/site-packages/requests/adapters.py?line=446'>447</a>\u001b[0m             preload_content\u001b[39m=\u001b[39;49m\u001b[39mFalse\u001b[39;49;00m,\n\u001b[1;32m    <a href='file:///Users/koyajima/code/invest-analytics/.venv/lib/python3.9/site-packages/requests/adapters.py?line=447'>448</a>\u001b[0m             decode_content\u001b[39m=\u001b[39;49m\u001b[39mFalse\u001b[39;49;00m,\n\u001b[1;32m    <a href='file:///Users/koyajima/code/invest-analytics/.venv/lib/python3.9/site-packages/requests/adapters.py?line=448'>449</a>\u001b[0m             retries\u001b[39m=\u001b[39;49m\u001b[39mself\u001b[39;49m\u001b[39m.\u001b[39;49mmax_retries,\n\u001b[1;32m    <a href='file:///Users/koyajima/code/invest-analytics/.venv/lib/python3.9/site-packages/requests/adapters.py?line=449'>450</a>\u001b[0m             timeout\u001b[39m=\u001b[39;49mtimeout\n\u001b[1;32m    <a href='file:///Users/koyajima/code/invest-analytics/.venv/lib/python3.9/site-packages/requests/adapters.py?line=450'>451</a>\u001b[0m         )\n\u001b[1;32m    <a href='file:///Users/koyajima/code/invest-analytics/.venv/lib/python3.9/site-packages/requests/adapters.py?line=452'>453</a>\u001b[0m     \u001b[39m# Send the request.\u001b[39;00m\n\u001b[1;32m    <a href='file:///Users/koyajima/code/invest-analytics/.venv/lib/python3.9/site-packages/requests/adapters.py?line=453'>454</a>\u001b[0m     \u001b[39melse\u001b[39;00m:\n\u001b[1;32m    <a href='file:///Users/koyajima/code/invest-analytics/.venv/lib/python3.9/site-packages/requests/adapters.py?line=454'>455</a>\u001b[0m         \u001b[39mif\u001b[39;00m \u001b[39mhasattr\u001b[39m(conn, \u001b[39m'\u001b[39m\u001b[39mproxy_pool\u001b[39m\u001b[39m'\u001b[39m):\n",
      "File \u001b[0;32m~/code/invest-analytics/.venv/lib/python3.9/site-packages/urllib3/connectionpool.py:703\u001b[0m, in \u001b[0;36mHTTPConnectionPool.urlopen\u001b[0;34m(self, method, url, body, headers, retries, redirect, assert_same_host, timeout, pool_timeout, release_conn, chunked, body_pos, **response_kw)\u001b[0m\n\u001b[1;32m    <a href='file:///Users/koyajima/code/invest-analytics/.venv/lib/python3.9/site-packages/urllib3/connectionpool.py?line=699'>700</a>\u001b[0m     \u001b[39mself\u001b[39m\u001b[39m.\u001b[39m_prepare_proxy(conn)\n\u001b[1;32m    <a href='file:///Users/koyajima/code/invest-analytics/.venv/lib/python3.9/site-packages/urllib3/connectionpool.py?line=701'>702</a>\u001b[0m \u001b[39m# Make the request on the httplib connection object.\u001b[39;00m\n\u001b[0;32m--> <a href='file:///Users/koyajima/code/invest-analytics/.venv/lib/python3.9/site-packages/urllib3/connectionpool.py?line=702'>703</a>\u001b[0m httplib_response \u001b[39m=\u001b[39m \u001b[39mself\u001b[39;49m\u001b[39m.\u001b[39;49m_make_request(\n\u001b[1;32m    <a href='file:///Users/koyajima/code/invest-analytics/.venv/lib/python3.9/site-packages/urllib3/connectionpool.py?line=703'>704</a>\u001b[0m     conn,\n\u001b[1;32m    <a href='file:///Users/koyajima/code/invest-analytics/.venv/lib/python3.9/site-packages/urllib3/connectionpool.py?line=704'>705</a>\u001b[0m     method,\n\u001b[1;32m    <a href='file:///Users/koyajima/code/invest-analytics/.venv/lib/python3.9/site-packages/urllib3/connectionpool.py?line=705'>706</a>\u001b[0m     url,\n\u001b[1;32m    <a href='file:///Users/koyajima/code/invest-analytics/.venv/lib/python3.9/site-packages/urllib3/connectionpool.py?line=706'>707</a>\u001b[0m     timeout\u001b[39m=\u001b[39;49mtimeout_obj,\n\u001b[1;32m    <a href='file:///Users/koyajima/code/invest-analytics/.venv/lib/python3.9/site-packages/urllib3/connectionpool.py?line=707'>708</a>\u001b[0m     body\u001b[39m=\u001b[39;49mbody,\n\u001b[1;32m    <a href='file:///Users/koyajima/code/invest-analytics/.venv/lib/python3.9/site-packages/urllib3/connectionpool.py?line=708'>709</a>\u001b[0m     headers\u001b[39m=\u001b[39;49mheaders,\n\u001b[1;32m    <a href='file:///Users/koyajima/code/invest-analytics/.venv/lib/python3.9/site-packages/urllib3/connectionpool.py?line=709'>710</a>\u001b[0m     chunked\u001b[39m=\u001b[39;49mchunked,\n\u001b[1;32m    <a href='file:///Users/koyajima/code/invest-analytics/.venv/lib/python3.9/site-packages/urllib3/connectionpool.py?line=710'>711</a>\u001b[0m )\n\u001b[1;32m    <a href='file:///Users/koyajima/code/invest-analytics/.venv/lib/python3.9/site-packages/urllib3/connectionpool.py?line=712'>713</a>\u001b[0m \u001b[39m# If we're going to release the connection in ``finally:``, then\u001b[39;00m\n\u001b[1;32m    <a href='file:///Users/koyajima/code/invest-analytics/.venv/lib/python3.9/site-packages/urllib3/connectionpool.py?line=713'>714</a>\u001b[0m \u001b[39m# the response doesn't need to know about the connection. Otherwise\u001b[39;00m\n\u001b[1;32m    <a href='file:///Users/koyajima/code/invest-analytics/.venv/lib/python3.9/site-packages/urllib3/connectionpool.py?line=714'>715</a>\u001b[0m \u001b[39m# it will also try to release it and we'll have a double-release\u001b[39;00m\n\u001b[1;32m    <a href='file:///Users/koyajima/code/invest-analytics/.venv/lib/python3.9/site-packages/urllib3/connectionpool.py?line=715'>716</a>\u001b[0m \u001b[39m# mess.\u001b[39;00m\n\u001b[1;32m    <a href='file:///Users/koyajima/code/invest-analytics/.venv/lib/python3.9/site-packages/urllib3/connectionpool.py?line=716'>717</a>\u001b[0m response_conn \u001b[39m=\u001b[39m conn \u001b[39mif\u001b[39;00m \u001b[39mnot\u001b[39;00m release_conn \u001b[39melse\u001b[39;00m \u001b[39mNone\u001b[39;00m\n",
      "File \u001b[0;32m~/code/invest-analytics/.venv/lib/python3.9/site-packages/urllib3/connectionpool.py:386\u001b[0m, in \u001b[0;36mHTTPConnectionPool._make_request\u001b[0;34m(self, conn, method, url, timeout, chunked, **httplib_request_kw)\u001b[0m\n\u001b[1;32m    <a href='file:///Users/koyajima/code/invest-analytics/.venv/lib/python3.9/site-packages/urllib3/connectionpool.py?line=383'>384</a>\u001b[0m \u001b[39m# Trigger any extra validation we need to do.\u001b[39;00m\n\u001b[1;32m    <a href='file:///Users/koyajima/code/invest-analytics/.venv/lib/python3.9/site-packages/urllib3/connectionpool.py?line=384'>385</a>\u001b[0m \u001b[39mtry\u001b[39;00m:\n\u001b[0;32m--> <a href='file:///Users/koyajima/code/invest-analytics/.venv/lib/python3.9/site-packages/urllib3/connectionpool.py?line=385'>386</a>\u001b[0m     \u001b[39mself\u001b[39;49m\u001b[39m.\u001b[39;49m_validate_conn(conn)\n\u001b[1;32m    <a href='file:///Users/koyajima/code/invest-analytics/.venv/lib/python3.9/site-packages/urllib3/connectionpool.py?line=386'>387</a>\u001b[0m \u001b[39mexcept\u001b[39;00m (SocketTimeout, BaseSSLError) \u001b[39mas\u001b[39;00m e:\n\u001b[1;32m    <a href='file:///Users/koyajima/code/invest-analytics/.venv/lib/python3.9/site-packages/urllib3/connectionpool.py?line=387'>388</a>\u001b[0m     \u001b[39m# Py2 raises this as a BaseSSLError, Py3 raises it as socket timeout.\u001b[39;00m\n\u001b[1;32m    <a href='file:///Users/koyajima/code/invest-analytics/.venv/lib/python3.9/site-packages/urllib3/connectionpool.py?line=388'>389</a>\u001b[0m     \u001b[39mself\u001b[39m\u001b[39m.\u001b[39m_raise_timeout(err\u001b[39m=\u001b[39me, url\u001b[39m=\u001b[39murl, timeout_value\u001b[39m=\u001b[39mconn\u001b[39m.\u001b[39mtimeout)\n",
      "File \u001b[0;32m~/code/invest-analytics/.venv/lib/python3.9/site-packages/urllib3/connectionpool.py:1040\u001b[0m, in \u001b[0;36mHTTPSConnectionPool._validate_conn\u001b[0;34m(self, conn)\u001b[0m\n\u001b[1;32m   <a href='file:///Users/koyajima/code/invest-analytics/.venv/lib/python3.9/site-packages/urllib3/connectionpool.py?line=1037'>1038</a>\u001b[0m \u001b[39m# Force connect early to allow us to validate the connection.\u001b[39;00m\n\u001b[1;32m   <a href='file:///Users/koyajima/code/invest-analytics/.venv/lib/python3.9/site-packages/urllib3/connectionpool.py?line=1038'>1039</a>\u001b[0m \u001b[39mif\u001b[39;00m \u001b[39mnot\u001b[39;00m \u001b[39mgetattr\u001b[39m(conn, \u001b[39m\"\u001b[39m\u001b[39msock\u001b[39m\u001b[39m\"\u001b[39m, \u001b[39mNone\u001b[39;00m):  \u001b[39m# AppEngine might not have  `.sock`\u001b[39;00m\n\u001b[0;32m-> <a href='file:///Users/koyajima/code/invest-analytics/.venv/lib/python3.9/site-packages/urllib3/connectionpool.py?line=1039'>1040</a>\u001b[0m     conn\u001b[39m.\u001b[39;49mconnect()\n\u001b[1;32m   <a href='file:///Users/koyajima/code/invest-analytics/.venv/lib/python3.9/site-packages/urllib3/connectionpool.py?line=1041'>1042</a>\u001b[0m \u001b[39mif\u001b[39;00m \u001b[39mnot\u001b[39;00m conn\u001b[39m.\u001b[39mis_verified:\n\u001b[1;32m   <a href='file:///Users/koyajima/code/invest-analytics/.venv/lib/python3.9/site-packages/urllib3/connectionpool.py?line=1042'>1043</a>\u001b[0m     warnings\u001b[39m.\u001b[39mwarn(\n\u001b[1;32m   <a href='file:///Users/koyajima/code/invest-analytics/.venv/lib/python3.9/site-packages/urllib3/connectionpool.py?line=1043'>1044</a>\u001b[0m         (\n\u001b[1;32m   <a href='file:///Users/koyajima/code/invest-analytics/.venv/lib/python3.9/site-packages/urllib3/connectionpool.py?line=1044'>1045</a>\u001b[0m             \u001b[39m\"\u001b[39m\u001b[39mUnverified HTTPS request is being made to host \u001b[39m\u001b[39m'\u001b[39m\u001b[39m%s\u001b[39;00m\u001b[39m'\u001b[39m\u001b[39m. \u001b[39m\u001b[39m\"\u001b[39m\n\u001b[0;32m   (...)\u001b[0m\n\u001b[1;32m   <a href='file:///Users/koyajima/code/invest-analytics/.venv/lib/python3.9/site-packages/urllib3/connectionpool.py?line=1049'>1050</a>\u001b[0m         InsecureRequestWarning,\n\u001b[1;32m   <a href='file:///Users/koyajima/code/invest-analytics/.venv/lib/python3.9/site-packages/urllib3/connectionpool.py?line=1050'>1051</a>\u001b[0m     )\n",
      "File \u001b[0;32m~/code/invest-analytics/.venv/lib/python3.9/site-packages/urllib3/connection.py:358\u001b[0m, in \u001b[0;36mHTTPSConnection.connect\u001b[0;34m(self)\u001b[0m\n\u001b[1;32m    <a href='file:///Users/koyajima/code/invest-analytics/.venv/lib/python3.9/site-packages/urllib3/connection.py?line=355'>356</a>\u001b[0m \u001b[39mdef\u001b[39;00m \u001b[39mconnect\u001b[39m(\u001b[39mself\u001b[39m):\n\u001b[1;32m    <a href='file:///Users/koyajima/code/invest-analytics/.venv/lib/python3.9/site-packages/urllib3/connection.py?line=356'>357</a>\u001b[0m     \u001b[39m# Add certificate verification\u001b[39;00m\n\u001b[0;32m--> <a href='file:///Users/koyajima/code/invest-analytics/.venv/lib/python3.9/site-packages/urllib3/connection.py?line=357'>358</a>\u001b[0m     \u001b[39mself\u001b[39m\u001b[39m.\u001b[39msock \u001b[39m=\u001b[39m conn \u001b[39m=\u001b[39m \u001b[39mself\u001b[39;49m\u001b[39m.\u001b[39;49m_new_conn()\n\u001b[1;32m    <a href='file:///Users/koyajima/code/invest-analytics/.venv/lib/python3.9/site-packages/urllib3/connection.py?line=358'>359</a>\u001b[0m     hostname \u001b[39m=\u001b[39m \u001b[39mself\u001b[39m\u001b[39m.\u001b[39mhost\n\u001b[1;32m    <a href='file:///Users/koyajima/code/invest-analytics/.venv/lib/python3.9/site-packages/urllib3/connection.py?line=359'>360</a>\u001b[0m     tls_in_tls \u001b[39m=\u001b[39m \u001b[39mFalse\u001b[39;00m\n",
      "File \u001b[0;32m~/code/invest-analytics/.venv/lib/python3.9/site-packages/urllib3/connection.py:174\u001b[0m, in \u001b[0;36mHTTPConnection._new_conn\u001b[0;34m(self)\u001b[0m\n\u001b[1;32m    <a href='file:///Users/koyajima/code/invest-analytics/.venv/lib/python3.9/site-packages/urllib3/connection.py?line=170'>171</a>\u001b[0m     extra_kw[\u001b[39m\"\u001b[39m\u001b[39msocket_options\u001b[39m\u001b[39m\"\u001b[39m] \u001b[39m=\u001b[39m \u001b[39mself\u001b[39m\u001b[39m.\u001b[39msocket_options\n\u001b[1;32m    <a href='file:///Users/koyajima/code/invest-analytics/.venv/lib/python3.9/site-packages/urllib3/connection.py?line=172'>173</a>\u001b[0m \u001b[39mtry\u001b[39;00m:\n\u001b[0;32m--> <a href='file:///Users/koyajima/code/invest-analytics/.venv/lib/python3.9/site-packages/urllib3/connection.py?line=173'>174</a>\u001b[0m     conn \u001b[39m=\u001b[39m connection\u001b[39m.\u001b[39;49mcreate_connection(\n\u001b[1;32m    <a href='file:///Users/koyajima/code/invest-analytics/.venv/lib/python3.9/site-packages/urllib3/connection.py?line=174'>175</a>\u001b[0m         (\u001b[39mself\u001b[39;49m\u001b[39m.\u001b[39;49m_dns_host, \u001b[39mself\u001b[39;49m\u001b[39m.\u001b[39;49mport), \u001b[39mself\u001b[39;49m\u001b[39m.\u001b[39;49mtimeout, \u001b[39m*\u001b[39;49m\u001b[39m*\u001b[39;49mextra_kw\n\u001b[1;32m    <a href='file:///Users/koyajima/code/invest-analytics/.venv/lib/python3.9/site-packages/urllib3/connection.py?line=175'>176</a>\u001b[0m     )\n\u001b[1;32m    <a href='file:///Users/koyajima/code/invest-analytics/.venv/lib/python3.9/site-packages/urllib3/connection.py?line=177'>178</a>\u001b[0m \u001b[39mexcept\u001b[39;00m SocketTimeout:\n\u001b[1;32m    <a href='file:///Users/koyajima/code/invest-analytics/.venv/lib/python3.9/site-packages/urllib3/connection.py?line=178'>179</a>\u001b[0m     \u001b[39mraise\u001b[39;00m ConnectTimeoutError(\n\u001b[1;32m    <a href='file:///Users/koyajima/code/invest-analytics/.venv/lib/python3.9/site-packages/urllib3/connection.py?line=179'>180</a>\u001b[0m         \u001b[39mself\u001b[39m,\n\u001b[1;32m    <a href='file:///Users/koyajima/code/invest-analytics/.venv/lib/python3.9/site-packages/urllib3/connection.py?line=180'>181</a>\u001b[0m         \u001b[39m\"\u001b[39m\u001b[39mConnection to \u001b[39m\u001b[39m%s\u001b[39;00m\u001b[39m timed out. (connect timeout=\u001b[39m\u001b[39m%s\u001b[39;00m\u001b[39m)\u001b[39m\u001b[39m\"\u001b[39m\n\u001b[1;32m    <a href='file:///Users/koyajima/code/invest-analytics/.venv/lib/python3.9/site-packages/urllib3/connection.py?line=181'>182</a>\u001b[0m         \u001b[39m%\u001b[39m (\u001b[39mself\u001b[39m\u001b[39m.\u001b[39mhost, \u001b[39mself\u001b[39m\u001b[39m.\u001b[39mtimeout),\n\u001b[1;32m    <a href='file:///Users/koyajima/code/invest-analytics/.venv/lib/python3.9/site-packages/urllib3/connection.py?line=182'>183</a>\u001b[0m     )\n",
      "File \u001b[0;32m~/code/invest-analytics/.venv/lib/python3.9/site-packages/urllib3/util/connection.py:85\u001b[0m, in \u001b[0;36mcreate_connection\u001b[0;34m(address, timeout, source_address, socket_options)\u001b[0m\n\u001b[1;32m     <a href='file:///Users/koyajima/code/invest-analytics/.venv/lib/python3.9/site-packages/urllib3/util/connection.py?line=82'>83</a>\u001b[0m     \u001b[39mif\u001b[39;00m source_address:\n\u001b[1;32m     <a href='file:///Users/koyajima/code/invest-analytics/.venv/lib/python3.9/site-packages/urllib3/util/connection.py?line=83'>84</a>\u001b[0m         sock\u001b[39m.\u001b[39mbind(source_address)\n\u001b[0;32m---> <a href='file:///Users/koyajima/code/invest-analytics/.venv/lib/python3.9/site-packages/urllib3/util/connection.py?line=84'>85</a>\u001b[0m     sock\u001b[39m.\u001b[39;49mconnect(sa)\n\u001b[1;32m     <a href='file:///Users/koyajima/code/invest-analytics/.venv/lib/python3.9/site-packages/urllib3/util/connection.py?line=85'>86</a>\u001b[0m     \u001b[39mreturn\u001b[39;00m sock\n\u001b[1;32m     <a href='file:///Users/koyajima/code/invest-analytics/.venv/lib/python3.9/site-packages/urllib3/util/connection.py?line=87'>88</a>\u001b[0m \u001b[39mexcept\u001b[39;00m socket\u001b[39m.\u001b[39merror \u001b[39mas\u001b[39;00m e:\n",
      "\u001b[0;31mKeyboardInterrupt\u001b[0m: "
     ]
    }
   ],
   "source": [
    "tickers = ['VOO', 'VWO', 'VEA', 'VTI', '1306.JP', '1540.JP', 'USO', 'DBA', 'HEZU', 'BND']\n",
    "for ticker in tickers:\n",
    "    stock = web.StooqDailyReader(ticker, start=start,end=end).read()\n",
    "    stock = stock.reset_index(drop=False)\n",
    "    stock.to_csv(f'../data/{ticker}.csv', index=None)"
   ]
  },
  {
   "cell_type": "code",
   "execution_count": 12,
   "id": "fae83f37",
   "metadata": {},
   "outputs": [],
   "source": [
    "# 2833 HK\n",
    "tic = web.DataReader('2833.HK', 'yahoo', start=start, end=end)"
   ]
  },
  {
   "cell_type": "code",
   "execution_count": 13,
   "id": "6b4c44bf",
   "metadata": {},
   "outputs": [
    {
     "data": {
      "text/html": [
       "<div>\n",
       "<style scoped>\n",
       "    .dataframe tbody tr th:only-of-type {\n",
       "        vertical-align: middle;\n",
       "    }\n",
       "\n",
       "    .dataframe tbody tr th {\n",
       "        vertical-align: top;\n",
       "    }\n",
       "\n",
       "    .dataframe thead th {\n",
       "        text-align: right;\n",
       "    }\n",
       "</style>\n",
       "<table border=\"1\" class=\"dataframe\">\n",
       "  <thead>\n",
       "    <tr style=\"text-align: right;\">\n",
       "      <th></th>\n",
       "      <th>High</th>\n",
       "      <th>Low</th>\n",
       "      <th>Open</th>\n",
       "      <th>Close</th>\n",
       "      <th>Volume</th>\n",
       "      <th>Adj Close</th>\n",
       "    </tr>\n",
       "    <tr>\n",
       "      <th>Date</th>\n",
       "      <th></th>\n",
       "      <th></th>\n",
       "      <th></th>\n",
       "      <th></th>\n",
       "      <th></th>\n",
       "      <th></th>\n",
       "    </tr>\n",
       "  </thead>\n",
       "  <tbody>\n",
       "    <tr>\n",
       "      <th>2020-01-02</th>\n",
       "      <td>29.000000</td>\n",
       "      <td>28.600000</td>\n",
       "      <td>28.750000</td>\n",
       "      <td>28.950001</td>\n",
       "      <td>50060</td>\n",
       "      <td>28.950001</td>\n",
       "    </tr>\n",
       "    <tr>\n",
       "      <th>2020-01-03</th>\n",
       "      <td>29.299999</td>\n",
       "      <td>28.850000</td>\n",
       "      <td>29.049999</td>\n",
       "      <td>28.900000</td>\n",
       "      <td>73200</td>\n",
       "      <td>28.900000</td>\n",
       "    </tr>\n",
       "    <tr>\n",
       "      <th>2020-01-06</th>\n",
       "      <td>28.750000</td>\n",
       "      <td>28.450001</td>\n",
       "      <td>28.750000</td>\n",
       "      <td>28.600000</td>\n",
       "      <td>129327</td>\n",
       "      <td>28.600000</td>\n",
       "    </tr>\n",
       "    <tr>\n",
       "      <th>2020-01-07</th>\n",
       "      <td>28.950001</td>\n",
       "      <td>28.750000</td>\n",
       "      <td>28.750000</td>\n",
       "      <td>28.750000</td>\n",
       "      <td>21600</td>\n",
       "      <td>28.750000</td>\n",
       "    </tr>\n",
       "    <tr>\n",
       "      <th>2020-01-08</th>\n",
       "      <td>28.650000</td>\n",
       "      <td>28.100000</td>\n",
       "      <td>28.100000</td>\n",
       "      <td>28.400000</td>\n",
       "      <td>120876</td>\n",
       "      <td>28.400000</td>\n",
       "    </tr>\n",
       "    <tr>\n",
       "      <th>...</th>\n",
       "      <td>...</td>\n",
       "      <td>...</td>\n",
       "      <td>...</td>\n",
       "      <td>...</td>\n",
       "      <td>...</td>\n",
       "      <td>...</td>\n",
       "    </tr>\n",
       "    <tr>\n",
       "      <th>2022-04-25</th>\n",
       "      <td>20.799999</td>\n",
       "      <td>20.139999</td>\n",
       "      <td>20.799999</td>\n",
       "      <td>20.219999</td>\n",
       "      <td>719549</td>\n",
       "      <td>20.219999</td>\n",
       "    </tr>\n",
       "    <tr>\n",
       "      <th>2022-04-26</th>\n",
       "      <td>20.600000</td>\n",
       "      <td>20.219999</td>\n",
       "      <td>20.299999</td>\n",
       "      <td>20.240000</td>\n",
       "      <td>360984</td>\n",
       "      <td>20.240000</td>\n",
       "    </tr>\n",
       "    <tr>\n",
       "      <th>2022-04-27</th>\n",
       "      <td>20.379999</td>\n",
       "      <td>20.080000</td>\n",
       "      <td>20.160000</td>\n",
       "      <td>20.320000</td>\n",
       "      <td>306102</td>\n",
       "      <td>20.320000</td>\n",
       "    </tr>\n",
       "    <tr>\n",
       "      <th>2022-04-28</th>\n",
       "      <td>20.639999</td>\n",
       "      <td>20.280001</td>\n",
       "      <td>20.320000</td>\n",
       "      <td>20.580000</td>\n",
       "      <td>217700</td>\n",
       "      <td>20.580000</td>\n",
       "    </tr>\n",
       "    <tr>\n",
       "      <th>2022-04-29</th>\n",
       "      <td>21.559999</td>\n",
       "      <td>20.400000</td>\n",
       "      <td>20.600000</td>\n",
       "      <td>21.500000</td>\n",
       "      <td>751500</td>\n",
       "      <td>21.500000</td>\n",
       "    </tr>\n",
       "  </tbody>\n",
       "</table>\n",
       "<p>574 rows × 6 columns</p>\n",
       "</div>"
      ],
      "text/plain": [
       "                 High        Low       Open      Close  Volume  Adj Close\n",
       "Date                                                                     \n",
       "2020-01-02  29.000000  28.600000  28.750000  28.950001   50060  28.950001\n",
       "2020-01-03  29.299999  28.850000  29.049999  28.900000   73200  28.900000\n",
       "2020-01-06  28.750000  28.450001  28.750000  28.600000  129327  28.600000\n",
       "2020-01-07  28.950001  28.750000  28.750000  28.750000   21600  28.750000\n",
       "2020-01-08  28.650000  28.100000  28.100000  28.400000  120876  28.400000\n",
       "...               ...        ...        ...        ...     ...        ...\n",
       "2022-04-25  20.799999  20.139999  20.799999  20.219999  719549  20.219999\n",
       "2022-04-26  20.600000  20.219999  20.299999  20.240000  360984  20.240000\n",
       "2022-04-27  20.379999  20.080000  20.160000  20.320000  306102  20.320000\n",
       "2022-04-28  20.639999  20.280001  20.320000  20.580000  217700  20.580000\n",
       "2022-04-29  21.559999  20.400000  20.600000  21.500000  751500  21.500000\n",
       "\n",
       "[574 rows x 6 columns]"
      ]
     },
     "execution_count": 13,
     "metadata": {},
     "output_type": "execute_result"
    }
   ],
   "source": [
    "tic"
   ]
  },
  {
   "cell_type": "code",
   "execution_count": 82,
   "id": "c72ed124",
   "metadata": {},
   "outputs": [],
   "source": [
    "# BTC-USD\n",
    "btc = web.DataReader('BTC-USD', 'yahoo', start=start, end=end)\n",
    "btc = btc.reset_index(drop=False)\n",
    "btc.to_csv(f'../data/BTC-USD.csv', index=None)"
   ]
  },
  {
   "cell_type": "code",
   "execution_count": null,
   "id": "c72ed124",
   "metadata": {},
   "outputs": [],
   "source": [
    "# JPY\n",
    "jpy = web.DataReader('JPY=X', 'yahoo', start=start, end=end)\n",
    "jpy = jpy.reset_index(drop=False)\n",
    "jpy.to_csv(f'../data/{ticker}.csv', index=None)"
   ]
  },
  {
   "cell_type": "code",
   "execution_count": 66,
   "id": "decfc7ca",
   "metadata": {},
   "outputs": [],
   "source": [
    "jpy = pd.read_csv('../data/JPY=X.csv')"
   ]
  },
  {
   "cell_type": "code",
   "execution_count": 63,
   "id": "0ee4f3f8",
   "metadata": {},
   "outputs": [],
   "source": [
    "# jpy.head()"
   ]
  },
  {
   "cell_type": "code",
   "execution_count": 64,
   "id": "9c88dfa5",
   "metadata": {},
   "outputs": [],
   "source": [
    "voo = pd.read_csv('../data/VOO.csv')"
   ]
  },
  {
   "cell_type": "code",
   "execution_count": 67,
   "id": "27587390",
   "metadata": {},
   "outputs": [],
   "source": [
    "stocks = pd.merge(jpy, voo, how='outer', on='Date')"
   ]
  },
  {
   "cell_type": "code",
   "execution_count": 68,
   "id": "da374ac6",
   "metadata": {},
   "outputs": [
    {
     "data": {
      "text/html": [
       "<div>\n",
       "<style scoped>\n",
       "    .dataframe tbody tr th:only-of-type {\n",
       "        vertical-align: middle;\n",
       "    }\n",
       "\n",
       "    .dataframe tbody tr th {\n",
       "        vertical-align: top;\n",
       "    }\n",
       "\n",
       "    .dataframe thead th {\n",
       "        text-align: right;\n",
       "    }\n",
       "</style>\n",
       "<table border=\"1\" class=\"dataframe\">\n",
       "  <thead>\n",
       "    <tr style=\"text-align: right;\">\n",
       "      <th></th>\n",
       "      <th>Date</th>\n",
       "      <th>High_x</th>\n",
       "      <th>Low_x</th>\n",
       "      <th>Open_x</th>\n",
       "      <th>Close_x</th>\n",
       "      <th>Volume_x</th>\n",
       "      <th>Adj Close</th>\n",
       "      <th>Open_y</th>\n",
       "      <th>High_y</th>\n",
       "      <th>Low_y</th>\n",
       "      <th>Close_y</th>\n",
       "      <th>Volume_y</th>\n",
       "    </tr>\n",
       "  </thead>\n",
       "  <tbody>\n",
       "    <tr>\n",
       "      <th>0</th>\n",
       "      <td>2019-12-31</td>\n",
       "      <td>108.867996</td>\n",
       "      <td>108.469002</td>\n",
       "      <td>108.867996</td>\n",
       "      <td>108.873001</td>\n",
       "      <td>0.0</td>\n",
       "      <td>108.873001</td>\n",
       "      <td>NaN</td>\n",
       "      <td>NaN</td>\n",
       "      <td>NaN</td>\n",
       "      <td>NaN</td>\n",
       "      <td>NaN</td>\n",
       "    </tr>\n",
       "  </tbody>\n",
       "</table>\n",
       "</div>"
      ],
      "text/plain": [
       "         Date      High_x       Low_x      Open_x     Close_x  Volume_x  \\\n",
       "0  2019-12-31  108.867996  108.469002  108.867996  108.873001       0.0   \n",
       "\n",
       "    Adj Close  Open_y  High_y  Low_y  Close_y  Volume_y  \n",
       "0  108.873001     NaN     NaN    NaN      NaN       NaN  "
      ]
     },
     "execution_count": 68,
     "metadata": {},
     "output_type": "execute_result"
    }
   ],
   "source": [
    "stocks.head(1)"
   ]
  },
  {
   "cell_type": "code",
   "execution_count": 69,
   "id": "8ac0031b",
   "metadata": {},
   "outputs": [],
   "source": [
    "stocks['jpy_voo'] = stocks.apply(lambda x: np.nan if np.isnan(x.Close_x) or np.isnan(x.Close_y) else x.Close_x * x.Close_y, axis=1)"
   ]
  },
  {
   "cell_type": "code",
   "execution_count": 70,
   "id": "1460bafa",
   "metadata": {},
   "outputs": [
    {
     "data": {
      "text/html": [
       "<div>\n",
       "<style scoped>\n",
       "    .dataframe tbody tr th:only-of-type {\n",
       "        vertical-align: middle;\n",
       "    }\n",
       "\n",
       "    .dataframe tbody tr th {\n",
       "        vertical-align: top;\n",
       "    }\n",
       "\n",
       "    .dataframe thead th {\n",
       "        text-align: right;\n",
       "    }\n",
       "</style>\n",
       "<table border=\"1\" class=\"dataframe\">\n",
       "  <thead>\n",
       "    <tr style=\"text-align: right;\">\n",
       "      <th></th>\n",
       "      <th>Date</th>\n",
       "      <th>High_x</th>\n",
       "      <th>Low_x</th>\n",
       "      <th>Open_x</th>\n",
       "      <th>Close_x</th>\n",
       "      <th>Volume_x</th>\n",
       "      <th>Adj Close</th>\n",
       "      <th>Open_y</th>\n",
       "      <th>High_y</th>\n",
       "      <th>Low_y</th>\n",
       "      <th>Close_y</th>\n",
       "      <th>Volume_y</th>\n",
       "      <th>jpy_voo</th>\n",
       "    </tr>\n",
       "  </thead>\n",
       "  <tbody>\n",
       "    <tr>\n",
       "      <th>0</th>\n",
       "      <td>2019-12-31</td>\n",
       "      <td>108.867996</td>\n",
       "      <td>108.469002</td>\n",
       "      <td>108.867996</td>\n",
       "      <td>108.873001</td>\n",
       "      <td>0.0</td>\n",
       "      <td>108.873001</td>\n",
       "      <td>NaN</td>\n",
       "      <td>NaN</td>\n",
       "      <td>NaN</td>\n",
       "      <td>NaN</td>\n",
       "      <td>NaN</td>\n",
       "      <td>NaN</td>\n",
       "    </tr>\n",
       "    <tr>\n",
       "      <th>1</th>\n",
       "      <td>2020-01-01</td>\n",
       "      <td>111.410004</td>\n",
       "      <td>108.629997</td>\n",
       "      <td>108.680000</td>\n",
       "      <td>108.681000</td>\n",
       "      <td>0.0</td>\n",
       "      <td>108.681000</td>\n",
       "      <td>NaN</td>\n",
       "      <td>NaN</td>\n",
       "      <td>NaN</td>\n",
       "      <td>NaN</td>\n",
       "      <td>NaN</td>\n",
       "      <td>NaN</td>\n",
       "    </tr>\n",
       "    <tr>\n",
       "      <th>2</th>\n",
       "      <td>2020-01-02</td>\n",
       "      <td>108.860001</td>\n",
       "      <td>108.221001</td>\n",
       "      <td>108.713997</td>\n",
       "      <td>108.712997</td>\n",
       "      <td>0.0</td>\n",
       "      <td>108.712997</td>\n",
       "      <td>286.95</td>\n",
       "      <td>288.07</td>\n",
       "      <td>286.03</td>\n",
       "      <td>288.04</td>\n",
       "      <td>3263224.0</td>\n",
       "      <td>31313.691782</td>\n",
       "    </tr>\n",
       "    <tr>\n",
       "      <th>3</th>\n",
       "      <td>2020-01-03</td>\n",
       "      <td>108.551003</td>\n",
       "      <td>107.915001</td>\n",
       "      <td>108.540001</td>\n",
       "      <td>108.542999</td>\n",
       "      <td>0.0</td>\n",
       "      <td>108.542999</td>\n",
       "      <td>284.96</td>\n",
       "      <td>287.02</td>\n",
       "      <td>284.78</td>\n",
       "      <td>285.93</td>\n",
       "      <td>3365065.0</td>\n",
       "      <td>31035.699781</td>\n",
       "    </tr>\n",
       "    <tr>\n",
       "      <th>4</th>\n",
       "      <td>2020-01-06</td>\n",
       "      <td>108.410004</td>\n",
       "      <td>107.921997</td>\n",
       "      <td>107.999001</td>\n",
       "      <td>107.963997</td>\n",
       "      <td>0.0</td>\n",
       "      <td>107.963997</td>\n",
       "      <td>284.17</td>\n",
       "      <td>287.08</td>\n",
       "      <td>284.11</td>\n",
       "      <td>287.01</td>\n",
       "      <td>2882328.0</td>\n",
       "      <td>30986.746747</td>\n",
       "    </tr>\n",
       "  </tbody>\n",
       "</table>\n",
       "</div>"
      ],
      "text/plain": [
       "         Date      High_x       Low_x      Open_x     Close_x  Volume_x  \\\n",
       "0  2019-12-31  108.867996  108.469002  108.867996  108.873001       0.0   \n",
       "1  2020-01-01  111.410004  108.629997  108.680000  108.681000       0.0   \n",
       "2  2020-01-02  108.860001  108.221001  108.713997  108.712997       0.0   \n",
       "3  2020-01-03  108.551003  107.915001  108.540001  108.542999       0.0   \n",
       "4  2020-01-06  108.410004  107.921997  107.999001  107.963997       0.0   \n",
       "\n",
       "    Adj Close  Open_y  High_y   Low_y  Close_y   Volume_y       jpy_voo  \n",
       "0  108.873001     NaN     NaN     NaN      NaN        NaN           NaN  \n",
       "1  108.681000     NaN     NaN     NaN      NaN        NaN           NaN  \n",
       "2  108.712997  286.95  288.07  286.03   288.04  3263224.0  31313.691782  \n",
       "3  108.542999  284.96  287.02  284.78   285.93  3365065.0  31035.699781  \n",
       "4  107.963997  284.17  287.08  284.11   287.01  2882328.0  30986.746747  "
      ]
     },
     "execution_count": 70,
     "metadata": {},
     "output_type": "execute_result"
    }
   ],
   "source": [
    "stocks.head()"
   ]
  },
  {
   "cell_type": "code",
   "execution_count": 49,
   "id": "e125b7bd-6897-48cf-96b3-37621ddc9573",
   "metadata": {},
   "outputs": [
    {
     "data": {
      "application/vnd.plotly.v1+json": {
       "config": {
        "plotlyServerURL": "https://plot.ly"
       },
       "data": [
        {
         "hovertemplate": "Date=%{x}<br>Open_y=%{y}<extra></extra>",
         "legendgroup": "",
         "line": {
          "color": "#636efa",
          "dash": "solid"
         },
         "marker": {
          "symbol": "circle"
         },
         "mode": "lines",
         "name": "",
         "orientation": "v",
         "showlegend": false,
         "type": "scatter",
         "x": [
          "2020-01-02",
          "2020-01-03",
          "2020-01-06",
          "2020-01-07",
          "2020-01-08",
          "2020-01-09",
          "2020-01-10",
          "2020-01-13",
          "2020-01-14",
          "2020-01-15",
          "2020-01-16",
          "2020-01-17",
          "2020-01-21",
          "2020-01-22",
          "2020-01-23",
          "2020-01-24",
          "2020-01-27",
          "2020-01-28",
          "2020-01-29",
          "2020-01-30",
          "2020-01-31",
          "2020-02-03",
          "2020-02-04",
          "2020-02-05",
          "2020-02-06",
          "2020-02-07",
          "2020-02-10",
          "2020-02-11",
          "2020-02-12",
          "2020-02-13",
          "2020-02-14",
          "2020-02-18",
          "2020-02-19",
          "2020-02-20",
          "2020-02-21",
          "2020-02-24",
          "2020-02-25",
          "2020-02-26",
          "2020-02-27",
          "2020-02-28",
          "2020-03-02",
          "2020-03-03",
          "2020-03-04",
          "2020-03-05",
          "2020-03-06",
          "2020-03-09",
          "2020-03-10",
          "2020-03-11",
          "2020-03-12",
          "2020-03-13",
          "2020-03-16",
          "2020-03-17",
          "2020-03-18",
          "2020-03-19",
          "2020-03-20",
          "2020-03-23",
          "2020-03-24",
          "2020-03-25",
          "2020-03-26",
          "2020-03-27",
          "2020-03-30",
          "2020-03-31",
          "2020-04-01",
          "2020-04-02",
          "2020-04-06",
          "2020-04-07",
          "2020-04-08",
          "2020-04-09",
          "2020-04-13",
          "2020-04-14",
          "2020-04-15",
          "2020-04-16",
          "2020-04-20",
          "2020-04-21",
          "2020-04-22",
          "2020-04-23",
          "2020-04-27",
          "2020-04-28",
          "2020-04-29",
          "2020-04-30",
          "2020-05-04",
          "2020-05-05",
          "2020-05-06",
          "2020-05-07",
          "2020-05-11",
          "2020-05-12",
          "2020-05-13",
          "2020-05-14",
          "2020-05-18",
          "2020-05-19",
          "2020-05-20",
          "2020-05-21",
          "2020-05-26",
          "2020-05-27",
          "2020-05-28",
          "2020-06-01",
          "2020-06-02",
          "2020-06-03",
          "2020-06-04",
          "2020-06-08",
          "2020-06-09",
          "2020-06-10",
          "2020-06-11",
          "2020-06-15",
          "2020-06-16",
          "2020-06-17",
          "2020-06-18",
          "2020-06-22",
          "2020-06-23",
          "2020-06-24",
          "2020-06-25",
          "2020-06-29",
          "2020-06-30",
          "2020-07-01",
          "2020-07-02",
          "2020-07-06",
          "2020-07-07",
          "2020-07-08",
          "2020-07-09",
          "2020-07-13",
          "2020-07-14",
          "2020-07-15",
          "2020-07-16",
          "2020-07-20",
          "2020-07-21",
          "2020-07-22",
          "2020-07-23",
          "2020-07-27",
          "2020-07-28",
          "2020-07-29",
          "2020-07-30",
          "2020-08-03",
          "2020-08-04",
          "2020-08-05",
          "2020-08-06",
          "2020-08-10",
          "2020-08-11",
          "2020-08-12",
          "2020-08-13",
          "2020-08-17",
          "2020-08-18",
          "2020-08-19",
          "2020-08-20",
          "2020-08-24",
          "2020-08-25",
          "2020-08-26",
          "2020-08-27",
          "2020-08-31",
          "2020-09-01",
          "2020-09-02",
          "2020-09-03",
          "2020-09-08",
          "2020-09-09",
          "2020-09-10",
          "2020-09-14",
          "2020-09-15",
          "2020-09-16",
          "2020-09-17",
          "2020-09-21",
          "2020-09-22",
          "2020-09-23",
          "2020-09-24",
          "2020-09-28",
          "2020-09-29",
          "2020-09-30",
          "2020-10-01",
          "2020-10-05",
          "2020-10-06",
          "2020-10-07",
          "2020-10-08",
          "2020-10-12",
          "2020-10-13",
          "2020-10-14",
          "2020-10-15",
          "2020-10-19",
          "2020-10-20",
          "2020-10-21",
          "2020-10-22",
          "2020-10-26",
          "2020-10-27",
          "2020-10-28",
          "2020-10-29",
          "2020-10-30",
          "2020-11-02",
          "2020-11-03",
          "2020-11-04",
          "2020-11-05",
          "2020-11-06",
          "2020-11-09",
          "2020-11-10",
          "2020-11-11",
          "2020-11-12",
          "2020-11-13",
          "2020-11-16",
          "2020-11-17",
          "2020-11-18",
          "2020-11-19",
          "2020-11-20",
          "2020-11-23",
          "2020-11-24",
          "2020-11-25",
          "2020-11-27",
          "2020-11-30",
          "2020-12-01",
          "2020-12-02",
          "2020-12-03",
          "2020-12-04",
          "2020-12-07",
          "2020-12-08",
          "2020-12-09",
          "2020-12-10",
          "2020-12-11",
          "2020-12-14",
          "2020-12-15",
          "2020-12-16",
          "2020-12-17",
          "2020-12-18",
          "2020-12-21",
          "2020-12-22",
          "2020-12-23",
          "2020-12-24",
          "2020-12-28",
          "2020-12-29",
          "2020-12-30",
          "2020-12-31",
          "2021-01-04",
          "2021-01-05",
          "2021-01-06",
          "2021-01-07",
          "2021-01-08",
          "2021-01-11",
          "2021-01-12",
          "2021-01-13",
          "2021-01-14",
          "2021-01-15",
          "2021-01-19",
          "2021-01-20",
          "2021-01-21",
          "2021-01-22",
          "2021-01-25",
          "2021-01-26",
          "2021-01-27",
          "2021-01-28",
          "2021-01-29",
          "2021-02-01",
          "2021-02-02",
          "2021-02-03",
          "2021-02-04",
          "2021-02-05",
          "2021-02-08",
          "2021-02-09",
          "2021-02-10",
          "2021-02-11",
          "2021-02-12",
          "2021-02-16",
          "2021-02-17",
          "2021-02-18",
          "2021-02-19",
          "2021-02-22",
          "2021-02-23",
          "2021-02-24",
          "2021-02-25",
          "2021-02-26",
          "2021-03-01",
          "2021-03-02",
          "2021-03-03",
          "2021-03-04",
          "2021-03-05",
          "2021-03-08",
          "2021-03-09",
          "2021-03-10",
          "2021-03-11",
          "2021-03-12",
          "2021-03-15",
          "2021-03-16",
          "2021-03-17",
          "2021-03-18",
          "2021-03-19",
          "2021-03-22",
          "2021-03-23",
          "2021-03-24",
          "2021-03-25",
          "2021-03-26",
          "2021-03-29",
          "2021-03-30",
          "2021-03-31",
          "2021-04-01",
          "2021-04-05",
          "2021-04-06",
          "2021-04-07",
          "2021-04-08",
          "2021-04-12",
          "2021-04-13",
          "2021-04-14",
          "2021-04-15",
          "2021-04-19",
          "2021-04-20",
          "2021-04-21",
          "2021-04-22",
          "2021-04-26",
          "2021-04-27",
          "2021-04-28",
          "2021-04-29",
          "2021-05-03",
          "2021-05-04",
          "2021-05-05",
          "2021-05-06",
          "2021-05-10",
          "2021-05-11",
          "2021-05-12",
          "2021-05-13",
          "2021-05-17",
          "2021-05-18",
          "2021-05-19",
          "2021-05-20",
          "2021-05-24",
          "2021-05-25",
          "2021-05-26",
          "2021-05-27",
          "2021-06-01",
          "2021-06-02",
          "2021-06-03",
          "2021-06-07",
          "2021-06-08",
          "2021-06-09",
          "2021-06-10",
          "2021-06-14",
          "2021-06-15",
          "2021-06-16",
          "2021-06-17",
          "2021-06-21",
          "2021-06-22",
          "2021-06-23",
          "2021-06-24",
          "2021-06-28",
          "2021-06-29",
          "2021-06-30",
          "2021-07-01",
          "2021-07-06",
          "2021-07-07",
          "2021-07-08",
          "2021-07-12",
          "2021-07-13",
          "2021-07-14",
          "2021-07-15",
          "2021-07-19",
          "2021-07-20",
          "2021-07-21",
          "2021-07-22",
          "2021-07-26",
          "2021-07-27",
          "2021-07-28",
          "2021-07-29",
          "2021-08-02",
          "2021-08-03",
          "2021-08-04",
          "2021-08-05",
          "2021-08-09",
          "2021-08-10",
          "2021-08-11",
          "2021-08-12",
          "2021-08-16",
          "2021-08-17",
          "2021-08-18",
          "2021-08-19",
          "2021-08-23",
          "2021-08-24",
          "2021-08-25",
          "2021-08-26",
          "2021-08-30",
          "2021-08-31",
          "2021-09-01",
          "2021-09-02",
          "2021-09-07",
          "2021-09-08",
          "2021-09-09",
          "2021-09-13",
          "2021-09-14",
          "2021-09-15",
          "2021-09-16",
          "2021-09-20",
          "2021-09-21",
          "2021-09-22",
          "2021-09-23",
          "2021-09-27",
          "2021-09-28",
          "2021-09-29",
          "2021-09-30",
          "2021-10-04",
          "2021-10-05",
          "2021-10-06",
          "2021-10-07",
          "2021-10-11",
          "2021-10-12",
          "2021-10-13",
          "2021-10-14",
          "2021-10-18",
          "2021-10-19",
          "2021-10-20",
          "2021-10-21",
          "2021-10-25",
          "2021-10-26",
          "2021-10-27",
          "2021-10-28",
          "2021-11-01",
          "2021-11-02",
          "2021-11-03",
          "2021-11-04",
          "2021-11-05",
          "2021-11-08",
          "2021-11-09",
          "2021-11-10",
          "2021-11-11",
          "2021-11-12",
          "2021-11-15",
          "2021-11-16",
          "2021-11-17",
          "2021-11-18",
          "2021-11-19",
          "2021-11-22",
          "2021-11-23",
          "2021-11-24",
          "2021-11-26",
          "2021-11-29",
          "2021-11-30",
          "2021-12-01",
          "2021-12-02",
          "2021-12-03",
          "2021-12-06",
          "2021-12-07",
          "2021-12-08",
          "2021-12-09",
          "2021-12-10",
          "2021-12-13",
          "2021-12-14",
          "2021-12-15",
          "2021-12-16",
          "2021-12-17",
          "2021-12-20",
          "2021-12-21",
          "2021-12-22",
          "2021-12-23",
          "2021-12-27",
          "2021-12-28",
          "2021-12-29",
          "2021-12-30",
          "2021-12-31",
          "2022-01-03",
          "2022-01-04",
          "2022-01-05",
          "2022-01-06",
          "2022-01-07",
          "2022-01-10",
          "2022-01-11",
          "2022-01-12",
          "2022-01-13",
          "2022-01-14",
          "2022-01-18",
          "2022-01-19",
          "2022-01-20",
          "2022-01-21",
          "2022-01-24",
          "2022-01-25",
          "2022-01-26",
          "2022-01-27",
          "2022-01-28",
          "2022-01-31",
          "2022-02-01",
          "2022-02-02",
          "2022-02-03",
          "2022-02-04",
          "2022-02-07",
          "2022-02-08",
          "2022-02-09",
          "2022-02-10",
          "2022-02-11",
          "2022-02-14",
          "2022-02-15",
          "2022-02-16",
          "2022-02-17",
          "2022-02-18",
          "2022-02-22",
          "2022-02-23",
          "2022-02-24",
          "2022-02-25",
          "2022-02-28",
          "2022-03-01"
         ],
         "xaxis": "x",
         "y": [
          286.95,
          284.96,
          284.17,
          286.5,
          286.39,
          289.32,
          290.27,
          289.49,
          290.41,
          290.33,
          292.41,
          294.18,
          293.5,
          294.71,
          293.27,
          294.81,
          286.52,
          288.3,
          291.29,
          287.69,
          290,
          286.79,
          291.01,
          294.79,
          296.13,
          295.19,
          293.81,
          298.19,
          298.79,
          297.86,
          299.33,
          298.49,
          299.63,
          299.56,
          297.58,
          286.63,
          287.39,
          278.58,
          270.81,
          256.09,
          264.49,
          274.45,
          271.45,
          270.57,
          259.94,
          245.05,
          252.6,
          248.9,
          227.83,
          233.38,
          216.12,
          216.98,
          209.54,
          211.83,
          216.07,
          203.29,
          209.85,
          218.2,
          222.34,
          225.67,
          227.81,
          232.22,
          221.03,
          218.52,
          229.79,
          244.31,
          238.8,
          247.4,
          246.93,
          250.43,
          247.36,
          248.77,
          251.79,
          246.56,
          248.1,
          249.96,
          254.08,
          259.39,
          259.86,
          259.96,
          250.12,
          255.49,
          256.7,
          256.46,
          258.72,
          261.81,
          254.92,
          248.58,
          261.19,
          262.42,
          263.7,
          264.56,
          269.13,
          269.38,
          271.56,
          270.62,
          273.29,
          276.56,
          277.35,
          285.53,
          285.59,
          286.59,
          277.7,
          265.62,
          281.28,
          280,
          276.36,
          275.77,
          280.75,
          277.43,
          271.78,
          269.92,
          272.25,
          277.2,
          281.48,
          283.35,
          282.37,
          281.72,
          283.68,
          286.69,
          280.55,
          288.72,
          286.4,
          287.89,
          292.32,
          290.7,
          292.38,
          288.03,
          288.72,
          288.54,
          288.28,
          294.05,
          293.63,
          296.94,
          296.91,
          300.12,
          301.72,
          300.48,
          301.5,
          302.62,
          303.1,
          303.71,
          300.35,
          306.44,
          307.73,
          308.76,
          312.15,
          313.87,
          313.7,
          317.73,
          318.78,
          301.55,
          302.34,
          306.14,
          302.27,
          305.58,
          305.91,
          298.75,
          292.89,
          295.46,
          297.59,
          288.84,
          299.68,
          300.39,
          299.61,
          303.64,
          302.2,
          305.68,
          304.07,
          308.34,
          314.38,
          316.82,
          315.45,
          309.07,
          313.56,
          308.84,
          308.77,
          308.44,
          307.69,
          305.62,
          298.7,
          294,
          295.21,
          296.99,
          300.12,
          306.61,
          314.19,
          314.67,
          327.33,
          317.94,
          320.53,
          319.86,
          319.57,
          324.68,
          323.78,
          324.66,
          319.88,
          321.51,
          321.38,
          324.05,
          326.65,
          327.26,
          326.39,
          328.84,
          328.16,
          329.82,
          330.4,
          331.93,
          330.79,
          333.63,
          328.68,
          328.25,
          331.63,
          330.54,
          332.68,
          334.58,
          335.18,
          329.74,
          332.7,
          332.77,
          332.6,
          335.91,
          337.78,
          336.45,
          335.99,
          339.14,
          332.63,
          334.01,
          339.86,
          343.91,
          341.43,
          342.37,
          342.18,
          343.88,
          340.37,
          341.87,
          344.34,
          347.43,
          345.4,
          346.69,
          348.2,
          343.58,
          340.08,
          339.43,
          337.78,
          343.11,
          345.72,
          346.13,
          350.82,
          351.84,
          352.12,
          354.4,
          353.58,
          352.33,
          355.97,
          352.9,
          352.14,
          354.34,
          349.76,
          347.66,
          349.11,
          352.9,
          347.44,
          348.52,
          352.26,
          348.67,
          344.51,
          343.8,
          347.6,
          348.72,
          352.19,
          354.53,
          354.36,
          356.49,
          358.89,
          356.65,
          356.55,
          353.52,
          353.66,
          355.35,
          354.58,
          350,
          354.5,
          357.65,
          357.64,
          358.44,
          361.22,
          365.85,
          367.97,
          368.07,
          369.88,
          372.58,
          373.23,
          374.3,
          375.17,
          377.42,
          375.33,
          373.14,
          377.12,
          378.53,
          378.98,
          378.88,
          381.16,
          380.32,
          377.32,
          378.52,
          377.06,
          383.13,
          374.59,
          372.9,
          369.13,
          376.7,
          377.05,
          368.98,
          373.42,
          378.49,
          381.16,
          379.85,
          381.04,
          383.22,
          381.21,
          378.95,
          383.24,
          383.72,
          383.8,
          383.58,
          384.9,
          385.82,
          385.11,
          382.35,
          379.28,
          382.96,
          385.04,
          386.57,
          388.67,
          389.32,
          388.69,
          390.26,
          394.68,
          394.58,
          390.17,
          396.2,
          396.97,
          397.94,
          395.65,
          387.76,
          387.34,
          393.41,
          395.62,
          399.78,
          400.31,
          400.03,
          400.22,
          400.63,
          398.94,
          400.17,
          400.56,
          402.58,
          402.74,
          403.81,
          403.64,
          404.52,
          404.22,
          403.05,
          396.98,
          405.06,
          407.68,
          407.84,
          408.19,
          410.41,
          411.4,
          411.79,
          412.53,
          412,
          410.28,
          410.09,
          408.29,
          407.8,
          404.6,
          407.03,
          397,
          398.53,
          398.05,
          401.55,
          404.23,
          401.39,
          397.3,
          398.05,
          395.34,
          392.8,
          391.89,
          400.25,
          399.1,
          397.75,
          396.84,
          400.88,
          405.34,
          409.85,
          411.84,
          412.47,
          414.71,
          417.33,
          416.73,
          415.85,
          420.22,
          420.18,
          421.17,
          424.86,
          428.53,
          428.86,
          428.54,
          425.1,
          424.71,
          424.67,
          427.94,
          426.51,
          428.23,
          428.42,
          428.85,
          429.9,
          426.55,
          425.57,
          422.22,
          423.72,
          421.83,
          421.5,
          411.49,
          419.17,
          416.48,
          423.99,
          427.94,
          427.45,
          428.42,
          429.33,
          422.83,
          423.12,
          431.52,
          422.87,
          416.46,
          420.23,
          424.02,
          429.46,
          432.52,
          437.81,
          437.03,
          437.92,
          435.76,
          436.46,
          439.1,
          437.31,
          428.76,
          428.77,
          423.95,
          426.24,
          432.1,
          432.63,
          422.52,
          421.2,
          419.76,
          415.77,
          408.33,
          395.93,
          396.83,
          404.3,
          401.58,
          396.48,
          404.31,
          412.95,
          417.57,
          413.2,
          408.96,
          411.84,
          409.34,
          417.15,
          413.54,
          411.76,
          403.07,
          406.81,
          406.83,
          406.12,
          400.8,
          395.72,
          396.4,
          376.49,
          393.62,
          395.85,
          398.67
         ],
         "yaxis": "y"
        }
       ],
       "layout": {
        "legend": {
         "tracegroupgap": 0
        },
        "margin": {
         "t": 60
        },
        "template": {
         "data": {
          "bar": [
           {
            "error_x": {
             "color": "#2a3f5f"
            },
            "error_y": {
             "color": "#2a3f5f"
            },
            "marker": {
             "line": {
              "color": "#E5ECF6",
              "width": 0.5
             },
             "pattern": {
              "fillmode": "overlay",
              "size": 10,
              "solidity": 0.2
             }
            },
            "type": "bar"
           }
          ],
          "barpolar": [
           {
            "marker": {
             "line": {
              "color": "#E5ECF6",
              "width": 0.5
             },
             "pattern": {
              "fillmode": "overlay",
              "size": 10,
              "solidity": 0.2
             }
            },
            "type": "barpolar"
           }
          ],
          "carpet": [
           {
            "aaxis": {
             "endlinecolor": "#2a3f5f",
             "gridcolor": "white",
             "linecolor": "white",
             "minorgridcolor": "white",
             "startlinecolor": "#2a3f5f"
            },
            "baxis": {
             "endlinecolor": "#2a3f5f",
             "gridcolor": "white",
             "linecolor": "white",
             "minorgridcolor": "white",
             "startlinecolor": "#2a3f5f"
            },
            "type": "carpet"
           }
          ],
          "choropleth": [
           {
            "colorbar": {
             "outlinewidth": 0,
             "ticks": ""
            },
            "type": "choropleth"
           }
          ],
          "contour": [
           {
            "colorbar": {
             "outlinewidth": 0,
             "ticks": ""
            },
            "colorscale": [
             [
              0,
              "#0d0887"
             ],
             [
              0.1111111111111111,
              "#46039f"
             ],
             [
              0.2222222222222222,
              "#7201a8"
             ],
             [
              0.3333333333333333,
              "#9c179e"
             ],
             [
              0.4444444444444444,
              "#bd3786"
             ],
             [
              0.5555555555555556,
              "#d8576b"
             ],
             [
              0.6666666666666666,
              "#ed7953"
             ],
             [
              0.7777777777777778,
              "#fb9f3a"
             ],
             [
              0.8888888888888888,
              "#fdca26"
             ],
             [
              1,
              "#f0f921"
             ]
            ],
            "type": "contour"
           }
          ],
          "contourcarpet": [
           {
            "colorbar": {
             "outlinewidth": 0,
             "ticks": ""
            },
            "type": "contourcarpet"
           }
          ],
          "heatmap": [
           {
            "colorbar": {
             "outlinewidth": 0,
             "ticks": ""
            },
            "colorscale": [
             [
              0,
              "#0d0887"
             ],
             [
              0.1111111111111111,
              "#46039f"
             ],
             [
              0.2222222222222222,
              "#7201a8"
             ],
             [
              0.3333333333333333,
              "#9c179e"
             ],
             [
              0.4444444444444444,
              "#bd3786"
             ],
             [
              0.5555555555555556,
              "#d8576b"
             ],
             [
              0.6666666666666666,
              "#ed7953"
             ],
             [
              0.7777777777777778,
              "#fb9f3a"
             ],
             [
              0.8888888888888888,
              "#fdca26"
             ],
             [
              1,
              "#f0f921"
             ]
            ],
            "type": "heatmap"
           }
          ],
          "heatmapgl": [
           {
            "colorbar": {
             "outlinewidth": 0,
             "ticks": ""
            },
            "colorscale": [
             [
              0,
              "#0d0887"
             ],
             [
              0.1111111111111111,
              "#46039f"
             ],
             [
              0.2222222222222222,
              "#7201a8"
             ],
             [
              0.3333333333333333,
              "#9c179e"
             ],
             [
              0.4444444444444444,
              "#bd3786"
             ],
             [
              0.5555555555555556,
              "#d8576b"
             ],
             [
              0.6666666666666666,
              "#ed7953"
             ],
             [
              0.7777777777777778,
              "#fb9f3a"
             ],
             [
              0.8888888888888888,
              "#fdca26"
             ],
             [
              1,
              "#f0f921"
             ]
            ],
            "type": "heatmapgl"
           }
          ],
          "histogram": [
           {
            "marker": {
             "pattern": {
              "fillmode": "overlay",
              "size": 10,
              "solidity": 0.2
             }
            },
            "type": "histogram"
           }
          ],
          "histogram2d": [
           {
            "colorbar": {
             "outlinewidth": 0,
             "ticks": ""
            },
            "colorscale": [
             [
              0,
              "#0d0887"
             ],
             [
              0.1111111111111111,
              "#46039f"
             ],
             [
              0.2222222222222222,
              "#7201a8"
             ],
             [
              0.3333333333333333,
              "#9c179e"
             ],
             [
              0.4444444444444444,
              "#bd3786"
             ],
             [
              0.5555555555555556,
              "#d8576b"
             ],
             [
              0.6666666666666666,
              "#ed7953"
             ],
             [
              0.7777777777777778,
              "#fb9f3a"
             ],
             [
              0.8888888888888888,
              "#fdca26"
             ],
             [
              1,
              "#f0f921"
             ]
            ],
            "type": "histogram2d"
           }
          ],
          "histogram2dcontour": [
           {
            "colorbar": {
             "outlinewidth": 0,
             "ticks": ""
            },
            "colorscale": [
             [
              0,
              "#0d0887"
             ],
             [
              0.1111111111111111,
              "#46039f"
             ],
             [
              0.2222222222222222,
              "#7201a8"
             ],
             [
              0.3333333333333333,
              "#9c179e"
             ],
             [
              0.4444444444444444,
              "#bd3786"
             ],
             [
              0.5555555555555556,
              "#d8576b"
             ],
             [
              0.6666666666666666,
              "#ed7953"
             ],
             [
              0.7777777777777778,
              "#fb9f3a"
             ],
             [
              0.8888888888888888,
              "#fdca26"
             ],
             [
              1,
              "#f0f921"
             ]
            ],
            "type": "histogram2dcontour"
           }
          ],
          "mesh3d": [
           {
            "colorbar": {
             "outlinewidth": 0,
             "ticks": ""
            },
            "type": "mesh3d"
           }
          ],
          "parcoords": [
           {
            "line": {
             "colorbar": {
              "outlinewidth": 0,
              "ticks": ""
             }
            },
            "type": "parcoords"
           }
          ],
          "pie": [
           {
            "automargin": true,
            "type": "pie"
           }
          ],
          "scatter": [
           {
            "fillpattern": {
             "fillmode": "overlay",
             "size": 10,
             "solidity": 0.2
            },
            "type": "scatter"
           }
          ],
          "scatter3d": [
           {
            "line": {
             "colorbar": {
              "outlinewidth": 0,
              "ticks": ""
             }
            },
            "marker": {
             "colorbar": {
              "outlinewidth": 0,
              "ticks": ""
             }
            },
            "type": "scatter3d"
           }
          ],
          "scattercarpet": [
           {
            "marker": {
             "colorbar": {
              "outlinewidth": 0,
              "ticks": ""
             }
            },
            "type": "scattercarpet"
           }
          ],
          "scattergeo": [
           {
            "marker": {
             "colorbar": {
              "outlinewidth": 0,
              "ticks": ""
             }
            },
            "type": "scattergeo"
           }
          ],
          "scattergl": [
           {
            "marker": {
             "colorbar": {
              "outlinewidth": 0,
              "ticks": ""
             }
            },
            "type": "scattergl"
           }
          ],
          "scattermapbox": [
           {
            "marker": {
             "colorbar": {
              "outlinewidth": 0,
              "ticks": ""
             }
            },
            "type": "scattermapbox"
           }
          ],
          "scatterpolar": [
           {
            "marker": {
             "colorbar": {
              "outlinewidth": 0,
              "ticks": ""
             }
            },
            "type": "scatterpolar"
           }
          ],
          "scatterpolargl": [
           {
            "marker": {
             "colorbar": {
              "outlinewidth": 0,
              "ticks": ""
             }
            },
            "type": "scatterpolargl"
           }
          ],
          "scatterternary": [
           {
            "marker": {
             "colorbar": {
              "outlinewidth": 0,
              "ticks": ""
             }
            },
            "type": "scatterternary"
           }
          ],
          "surface": [
           {
            "colorbar": {
             "outlinewidth": 0,
             "ticks": ""
            },
            "colorscale": [
             [
              0,
              "#0d0887"
             ],
             [
              0.1111111111111111,
              "#46039f"
             ],
             [
              0.2222222222222222,
              "#7201a8"
             ],
             [
              0.3333333333333333,
              "#9c179e"
             ],
             [
              0.4444444444444444,
              "#bd3786"
             ],
             [
              0.5555555555555556,
              "#d8576b"
             ],
             [
              0.6666666666666666,
              "#ed7953"
             ],
             [
              0.7777777777777778,
              "#fb9f3a"
             ],
             [
              0.8888888888888888,
              "#fdca26"
             ],
             [
              1,
              "#f0f921"
             ]
            ],
            "type": "surface"
           }
          ],
          "table": [
           {
            "cells": {
             "fill": {
              "color": "#EBF0F8"
             },
             "line": {
              "color": "white"
             }
            },
            "header": {
             "fill": {
              "color": "#C8D4E3"
             },
             "line": {
              "color": "white"
             }
            },
            "type": "table"
           }
          ]
         },
         "layout": {
          "annotationdefaults": {
           "arrowcolor": "#2a3f5f",
           "arrowhead": 0,
           "arrowwidth": 1
          },
          "autotypenumbers": "strict",
          "coloraxis": {
           "colorbar": {
            "outlinewidth": 0,
            "ticks": ""
           }
          },
          "colorscale": {
           "diverging": [
            [
             0,
             "#8e0152"
            ],
            [
             0.1,
             "#c51b7d"
            ],
            [
             0.2,
             "#de77ae"
            ],
            [
             0.3,
             "#f1b6da"
            ],
            [
             0.4,
             "#fde0ef"
            ],
            [
             0.5,
             "#f7f7f7"
            ],
            [
             0.6,
             "#e6f5d0"
            ],
            [
             0.7,
             "#b8e186"
            ],
            [
             0.8,
             "#7fbc41"
            ],
            [
             0.9,
             "#4d9221"
            ],
            [
             1,
             "#276419"
            ]
           ],
           "sequential": [
            [
             0,
             "#0d0887"
            ],
            [
             0.1111111111111111,
             "#46039f"
            ],
            [
             0.2222222222222222,
             "#7201a8"
            ],
            [
             0.3333333333333333,
             "#9c179e"
            ],
            [
             0.4444444444444444,
             "#bd3786"
            ],
            [
             0.5555555555555556,
             "#d8576b"
            ],
            [
             0.6666666666666666,
             "#ed7953"
            ],
            [
             0.7777777777777778,
             "#fb9f3a"
            ],
            [
             0.8888888888888888,
             "#fdca26"
            ],
            [
             1,
             "#f0f921"
            ]
           ],
           "sequentialminus": [
            [
             0,
             "#0d0887"
            ],
            [
             0.1111111111111111,
             "#46039f"
            ],
            [
             0.2222222222222222,
             "#7201a8"
            ],
            [
             0.3333333333333333,
             "#9c179e"
            ],
            [
             0.4444444444444444,
             "#bd3786"
            ],
            [
             0.5555555555555556,
             "#d8576b"
            ],
            [
             0.6666666666666666,
             "#ed7953"
            ],
            [
             0.7777777777777778,
             "#fb9f3a"
            ],
            [
             0.8888888888888888,
             "#fdca26"
            ],
            [
             1,
             "#f0f921"
            ]
           ]
          },
          "colorway": [
           "#636efa",
           "#EF553B",
           "#00cc96",
           "#ab63fa",
           "#FFA15A",
           "#19d3f3",
           "#FF6692",
           "#B6E880",
           "#FF97FF",
           "#FECB52"
          ],
          "font": {
           "color": "#2a3f5f"
          },
          "geo": {
           "bgcolor": "white",
           "lakecolor": "white",
           "landcolor": "#E5ECF6",
           "showlakes": true,
           "showland": true,
           "subunitcolor": "white"
          },
          "hoverlabel": {
           "align": "left"
          },
          "hovermode": "closest",
          "mapbox": {
           "style": "light"
          },
          "paper_bgcolor": "white",
          "plot_bgcolor": "#E5ECF6",
          "polar": {
           "angularaxis": {
            "gridcolor": "white",
            "linecolor": "white",
            "ticks": ""
           },
           "bgcolor": "#E5ECF6",
           "radialaxis": {
            "gridcolor": "white",
            "linecolor": "white",
            "ticks": ""
           }
          },
          "scene": {
           "xaxis": {
            "backgroundcolor": "#E5ECF6",
            "gridcolor": "white",
            "gridwidth": 2,
            "linecolor": "white",
            "showbackground": true,
            "ticks": "",
            "zerolinecolor": "white"
           },
           "yaxis": {
            "backgroundcolor": "#E5ECF6",
            "gridcolor": "white",
            "gridwidth": 2,
            "linecolor": "white",
            "showbackground": true,
            "ticks": "",
            "zerolinecolor": "white"
           },
           "zaxis": {
            "backgroundcolor": "#E5ECF6",
            "gridcolor": "white",
            "gridwidth": 2,
            "linecolor": "white",
            "showbackground": true,
            "ticks": "",
            "zerolinecolor": "white"
           }
          },
          "shapedefaults": {
           "line": {
            "color": "#2a3f5f"
           }
          },
          "ternary": {
           "aaxis": {
            "gridcolor": "white",
            "linecolor": "white",
            "ticks": ""
           },
           "baxis": {
            "gridcolor": "white",
            "linecolor": "white",
            "ticks": ""
           },
           "bgcolor": "#E5ECF6",
           "caxis": {
            "gridcolor": "white",
            "linecolor": "white",
            "ticks": ""
           }
          },
          "title": {
           "x": 0.05
          },
          "xaxis": {
           "automargin": true,
           "gridcolor": "white",
           "linecolor": "white",
           "ticks": "",
           "title": {
            "standoff": 15
           },
           "zerolinecolor": "white",
           "zerolinewidth": 2
          },
          "yaxis": {
           "automargin": true,
           "gridcolor": "white",
           "linecolor": "white",
           "ticks": "",
           "title": {
            "standoff": 15
           },
           "zerolinecolor": "white",
           "zerolinewidth": 2
          }
         }
        },
        "xaxis": {
         "anchor": "y",
         "domain": [
          0,
          1
         ],
         "title": {
          "text": "Date"
         }
        },
        "yaxis": {
         "anchor": "x",
         "domain": [
          0,
          1
         ],
         "title": {
          "text": "Open_y"
         }
        }
       }
      }
     },
     "metadata": {},
     "output_type": "display_data"
    }
   ],
   "source": [
    "fig = px.line(stocks.dropna(subset=['jpy_voo']), x=\"Date\", y=\"Close\")\n",
    "# fig = px.line(stocks.dropna(subset=['jpy_voo']), x=\"Date\", y=\"jpy_voo\")\n",
    "fig.show()"
   ]
  },
  {
   "cell_type": "code",
   "execution_count": 54,
   "id": "e125b7bd-6897-48cf-96b3-37621ddc9573",
   "metadata": {},
   "outputs": [
    {
     "data": {
      "application/vnd.plotly.v1+json": {
       "config": {
        "plotlyServerURL": "https://plot.ly"
       },
       "data": [
        {
         "hovertemplate": "Date=%{x}<br>jpy_voo=%{y}<extra></extra>",
         "legendgroup": "",
         "line": {
          "color": "#636efa",
          "dash": "solid"
         },
         "marker": {
          "symbol": "circle"
         },
         "mode": "lines",
         "name": "",
         "orientation": "v",
         "showlegend": false,
         "type": "scatter",
         "x": [
          "2020-01-02",
          "2020-01-03",
          "2020-01-06",
          "2020-01-07",
          "2020-01-08",
          "2020-01-09",
          "2020-01-10",
          "2020-01-13",
          "2020-01-14",
          "2020-01-15",
          "2020-01-16",
          "2020-01-17",
          "2020-01-21",
          "2020-01-22",
          "2020-01-23",
          "2020-01-24",
          "2020-01-27",
          "2020-01-28",
          "2020-01-29",
          "2020-01-30",
          "2020-01-31",
          "2020-02-03",
          "2020-02-04",
          "2020-02-05",
          "2020-02-06",
          "2020-02-07",
          "2020-02-10",
          "2020-02-11",
          "2020-02-12",
          "2020-02-13",
          "2020-02-14",
          "2020-02-18",
          "2020-02-19",
          "2020-02-20",
          "2020-02-21",
          "2020-02-24",
          "2020-02-25",
          "2020-02-26",
          "2020-02-27",
          "2020-02-28",
          "2020-03-02",
          "2020-03-03",
          "2020-03-04",
          "2020-03-05",
          "2020-03-06",
          "2020-03-09",
          "2020-03-10",
          "2020-03-11",
          "2020-03-12",
          "2020-03-13",
          "2020-03-16",
          "2020-03-17",
          "2020-03-18",
          "2020-03-19",
          "2020-03-20",
          "2020-03-23",
          "2020-03-24",
          "2020-03-25",
          "2020-03-26",
          "2020-03-27",
          "2020-03-30",
          "2020-03-31",
          "2020-04-01",
          "2020-04-02",
          "2020-04-06",
          "2020-04-07",
          "2020-04-08",
          "2020-04-09",
          "2020-04-13",
          "2020-04-14",
          "2020-04-15",
          "2020-04-16",
          "2020-04-20",
          "2020-04-21",
          "2020-04-22",
          "2020-04-23",
          "2020-04-27",
          "2020-04-28",
          "2020-04-29",
          "2020-04-30",
          "2020-05-04",
          "2020-05-05",
          "2020-05-06",
          "2020-05-07",
          "2020-05-11",
          "2020-05-12",
          "2020-05-13",
          "2020-05-14",
          "2020-05-18",
          "2020-05-19",
          "2020-05-20",
          "2020-05-21",
          "2020-05-26",
          "2020-05-27",
          "2020-05-28",
          "2020-06-01",
          "2020-06-02",
          "2020-06-03",
          "2020-06-04",
          "2020-06-08",
          "2020-06-09",
          "2020-06-10",
          "2020-06-11",
          "2020-06-15",
          "2020-06-16",
          "2020-06-17",
          "2020-06-18",
          "2020-06-22",
          "2020-06-23",
          "2020-06-24",
          "2020-06-25",
          "2020-06-29",
          "2020-06-30",
          "2020-07-01",
          "2020-07-02",
          "2020-07-06",
          "2020-07-07",
          "2020-07-08",
          "2020-07-09",
          "2020-07-13",
          "2020-07-14",
          "2020-07-15",
          "2020-07-16",
          "2020-07-20",
          "2020-07-21",
          "2020-07-22",
          "2020-07-23",
          "2020-07-27",
          "2020-07-28",
          "2020-07-29",
          "2020-07-30",
          "2020-08-03",
          "2020-08-04",
          "2020-08-05",
          "2020-08-06",
          "2020-08-10",
          "2020-08-11",
          "2020-08-12",
          "2020-08-13",
          "2020-08-17",
          "2020-08-18",
          "2020-08-19",
          "2020-08-20",
          "2020-08-24",
          "2020-08-25",
          "2020-08-26",
          "2020-08-27",
          "2020-08-31",
          "2020-09-01",
          "2020-09-02",
          "2020-09-03",
          "2020-09-08",
          "2020-09-09",
          "2020-09-10",
          "2020-09-14",
          "2020-09-15",
          "2020-09-16",
          "2020-09-17",
          "2020-09-21",
          "2020-09-22",
          "2020-09-23",
          "2020-09-24",
          "2020-09-28",
          "2020-09-29",
          "2020-09-30",
          "2020-10-01",
          "2020-10-05",
          "2020-10-06",
          "2020-10-07",
          "2020-10-08",
          "2020-10-12",
          "2020-10-13",
          "2020-10-14",
          "2020-10-15",
          "2020-10-19",
          "2020-10-20",
          "2020-10-21",
          "2020-10-22",
          "2020-10-26",
          "2020-10-27",
          "2020-10-28",
          "2020-10-29",
          "2020-10-30",
          "2020-11-02",
          "2020-11-03",
          "2020-11-04",
          "2020-11-05",
          "2020-11-06",
          "2020-11-09",
          "2020-11-10",
          "2020-11-11",
          "2020-11-12",
          "2020-11-13",
          "2020-11-16",
          "2020-11-17",
          "2020-11-18",
          "2020-11-19",
          "2020-11-20",
          "2020-11-23",
          "2020-11-24",
          "2020-11-25",
          "2020-11-27",
          "2020-11-30",
          "2020-12-01",
          "2020-12-02",
          "2020-12-03",
          "2020-12-04",
          "2020-12-07",
          "2020-12-08",
          "2020-12-09",
          "2020-12-10",
          "2020-12-11",
          "2020-12-14",
          "2020-12-15",
          "2020-12-16",
          "2020-12-17",
          "2020-12-18",
          "2020-12-21",
          "2020-12-22",
          "2020-12-23",
          "2020-12-24",
          "2020-12-28",
          "2020-12-29",
          "2020-12-30",
          "2020-12-31",
          "2021-01-04",
          "2021-01-05",
          "2021-01-06",
          "2021-01-07",
          "2021-01-08",
          "2021-01-11",
          "2021-01-12",
          "2021-01-13",
          "2021-01-14",
          "2021-01-15",
          "2021-01-19",
          "2021-01-20",
          "2021-01-21",
          "2021-01-22",
          "2021-01-25",
          "2021-01-26",
          "2021-01-27",
          "2021-01-28",
          "2021-01-29",
          "2021-02-01",
          "2021-02-02",
          "2021-02-03",
          "2021-02-04",
          "2021-02-05",
          "2021-02-08",
          "2021-02-09",
          "2021-02-10",
          "2021-02-11",
          "2021-02-12",
          "2021-02-16",
          "2021-02-17",
          "2021-02-18",
          "2021-02-19",
          "2021-02-22",
          "2021-02-23",
          "2021-02-24",
          "2021-02-25",
          "2021-02-26",
          "2021-03-01",
          "2021-03-02",
          "2021-03-03",
          "2021-03-04",
          "2021-03-05",
          "2021-03-08",
          "2021-03-09",
          "2021-03-10",
          "2021-03-11",
          "2021-03-12",
          "2021-03-15",
          "2021-03-16",
          "2021-03-17",
          "2021-03-18",
          "2021-03-19",
          "2021-03-22",
          "2021-03-23",
          "2021-03-24",
          "2021-03-25",
          "2021-03-26",
          "2021-03-29",
          "2021-03-30",
          "2021-03-31",
          "2021-04-01",
          "2021-04-05",
          "2021-04-06",
          "2021-04-07",
          "2021-04-08",
          "2021-04-12",
          "2021-04-13",
          "2021-04-14",
          "2021-04-15",
          "2021-04-19",
          "2021-04-20",
          "2021-04-21",
          "2021-04-22",
          "2021-04-26",
          "2021-04-27",
          "2021-04-28",
          "2021-04-29",
          "2021-05-03",
          "2021-05-04",
          "2021-05-05",
          "2021-05-06",
          "2021-05-10",
          "2021-05-11",
          "2021-05-12",
          "2021-05-13",
          "2021-05-17",
          "2021-05-18",
          "2021-05-19",
          "2021-05-20",
          "2021-05-24",
          "2021-05-25",
          "2021-05-26",
          "2021-05-27",
          "2021-06-01",
          "2021-06-02",
          "2021-06-03",
          "2021-06-07",
          "2021-06-08",
          "2021-06-09",
          "2021-06-10",
          "2021-06-14",
          "2021-06-15",
          "2021-06-16",
          "2021-06-17",
          "2021-06-21",
          "2021-06-22",
          "2021-06-23",
          "2021-06-24",
          "2021-06-28",
          "2021-06-29",
          "2021-06-30",
          "2021-07-01",
          "2021-07-06",
          "2021-07-07",
          "2021-07-08",
          "2021-07-12",
          "2021-07-13",
          "2021-07-14",
          "2021-07-15",
          "2021-07-19",
          "2021-07-20",
          "2021-07-21",
          "2021-07-22",
          "2021-07-26",
          "2021-07-27",
          "2021-07-28",
          "2021-07-29",
          "2021-08-02",
          "2021-08-03",
          "2021-08-04",
          "2021-08-05",
          "2021-08-09",
          "2021-08-10",
          "2021-08-11",
          "2021-08-12",
          "2021-08-16",
          "2021-08-17",
          "2021-08-18",
          "2021-08-19",
          "2021-08-23",
          "2021-08-24",
          "2021-08-25",
          "2021-08-26",
          "2021-08-30",
          "2021-08-31",
          "2021-09-01",
          "2021-09-02",
          "2021-09-07",
          "2021-09-08",
          "2021-09-09",
          "2021-09-13",
          "2021-09-14",
          "2021-09-15",
          "2021-09-16",
          "2021-09-20",
          "2021-09-21",
          "2021-09-22",
          "2021-09-23",
          "2021-09-27",
          "2021-09-28",
          "2021-09-29",
          "2021-09-30",
          "2021-10-04",
          "2021-10-05",
          "2021-10-06",
          "2021-10-07",
          "2021-10-11",
          "2021-10-12",
          "2021-10-13",
          "2021-10-14",
          "2021-10-18",
          "2021-10-19",
          "2021-10-20",
          "2021-10-21",
          "2021-10-25",
          "2021-10-26",
          "2021-10-27",
          "2021-10-28",
          "2021-11-01",
          "2021-11-02",
          "2021-11-03",
          "2021-11-04",
          "2021-11-05",
          "2021-11-08",
          "2021-11-09",
          "2021-11-10",
          "2021-11-11",
          "2021-11-12",
          "2021-11-15",
          "2021-11-16",
          "2021-11-17",
          "2021-11-18",
          "2021-11-19",
          "2021-11-22",
          "2021-11-23",
          "2021-11-24",
          "2021-11-26",
          "2021-11-29",
          "2021-11-30",
          "2021-12-01",
          "2021-12-02",
          "2021-12-03",
          "2021-12-06",
          "2021-12-07",
          "2021-12-08",
          "2021-12-09",
          "2021-12-10",
          "2021-12-13",
          "2021-12-14",
          "2021-12-15",
          "2021-12-16",
          "2021-12-17",
          "2021-12-20",
          "2021-12-21",
          "2021-12-22",
          "2021-12-23",
          "2021-12-27",
          "2021-12-28",
          "2021-12-29",
          "2021-12-30",
          "2021-12-31",
          "2022-01-03",
          "2022-01-04",
          "2022-01-05",
          "2022-01-06",
          "2022-01-07",
          "2022-01-10",
          "2022-01-11",
          "2022-01-12",
          "2022-01-13",
          "2022-01-14",
          "2022-01-18",
          "2022-01-19",
          "2022-01-20",
          "2022-01-21",
          "2022-01-24",
          "2022-01-25",
          "2022-01-26",
          "2022-01-27",
          "2022-01-28",
          "2022-01-31",
          "2022-02-01",
          "2022-02-02",
          "2022-02-03",
          "2022-02-04",
          "2022-02-07",
          "2022-02-08",
          "2022-02-09",
          "2022-02-10",
          "2022-02-11",
          "2022-02-14",
          "2022-02-15",
          "2022-02-16",
          "2022-02-17",
          "2022-02-18",
          "2022-02-22",
          "2022-02-23",
          "2022-02-24",
          "2022-02-25",
          "2022-02-28",
          "2022-03-01"
         ],
         "xaxis": "x",
         "y": [
          31313.691781616213,
          31035.699780578612,
          30986.74674659729,
          31026.88075340271,
          31077.28302635193,
          31584.099567260746,
          31631.0980430603,
          31857.410710144042,
          31937.2761807251,
          31969.70999649048,
          32245.16729927063,
          32442.1313986206,
          32374.335027694706,
          32304.158516845706,
          32284.171226196293,
          31938.790649414066,
          31214.206340332028,
          31587.888668975833,
          31616.63281631469,
          31672.71192810059,
          31075.673026428227,
          31155.86675376892,
          31706.014897460944,
          32309.84845558166,
          32529.10396591187,
          32410.869323577885,
          32547.02080352783,
          32641.11507514954,
          32873.813734130854,
          32842.85574073792,
          32871.4243888092,
          32801.82834686279,
          32987.790705337524,
          33244.005026321414,
          33118.232984161375,
          31897.49278312683,
          30746.189576339722,
          30453.274039535518,
          29122.58816619873,
          28762.72236053467,
          29507.900645370486,
          28905.276149902347,
          29701.69784133911,
          28876.818383789065,
          28016.53540969848,
          25293.313161468504,
          26381.205075073245,
          25537.072137451174,
          22962.317170257564,
          25122.09164657593,
          22614.65611038208,
          23978.562689208982,
          22922.84172546387,
          23153.281330413818,
          22743.42883483887,
          21880.312561035156,
          24047.243214874266,
          24420.843003616337,
          25830.781592025756,
          24638.994641876216,
          25184.039703674316,
          24691.363102951047,
          23521.460929870602,
          24238.66430671692,
          25768.59789550781,
          25673.145020751952,
          26611.82232421875,
          26916.613598480224,
          26424.675459747312,
          27100.524177932744,
          26635.37996704101,
          26854.55702407837,
          27028.14874824524,
          26216.059933395387,
          26815.250240478515,
          26773.552844467158,
          27455.86462585449,
          27190.13424591064,
          27859.32535949707,
          27788.96164855957,
          26968.73336517334,
          27154.841567459105,
          26906.676059417725,
          27267.257127304074,
          28041.3810332489,
          27369.473604736326,
          26831.628023071287,
          27264.267557525633,
          28227.242603607177,
          28073.723364257814,
          28475.034964599618,
          28278.968074035645,
          28671.073713684083,
          29170.137858581544,
          29073.29726005554,
          29304.678092041016,
          29889.83178024292,
          30339.871802902224,
          30303.31492362976,
          31240.220545043943,
          30843.954771728517,
          30420.048148345955,
          28617.864226150512,
          29407.522748184205,
          29968.465121765137,
          29688.7387802124,
          29747.667083740234,
          29740.414566040035,
          29741.357858276362,
          29148.080850982667,
          29486.912564086913,
          29335.48840148926,
          29836.280371551515,
          29868.146792907715,
          30054.01172073364,
          30481.367609252928,
          30227.267263183596,
          30367.52516799927,
          30199.80233718872,
          30237.88639526367,
          30634.53503456116,
          30810.271837234493,
          30826.333264923094,
          31139.36579177856,
          31098.79541320801,
          31375.482143402096,
          30905.027518463132,
          30472.007349395753,
          30239.284549713135,
          30582.166764678957,
          30370.631570434572,
          31214.171340637207,
          31220.554070892336,
          31398.851327590946,
          31617.286643829342,
          31858.014467697143,
          31758.172050018304,
          32284.812635726932,
          32278.746078414915,
          32083.62738136292,
          31916.543383789063,
          32039.04108894348,
          32015.43862739563,
          32555.748787689212,
          32798.27682373047,
          32961.44215423585,
          33270.74432373047,
          33171.83103240967,
          33448.31173599243,
          34034.35365867615,
          32819.825366821286,
          31626.15029220581,
          32329.28108444214,
          31738.879184722897,
          32046.443989868163,
          32108.535885772704,
          31883.16406570435,
          31494.20479248047,
          30788.282817993157,
          31202.44936462402,
          30558.16800796509,
          30679.475589599617,
          31692.10506637573,
          31579.800117797855,
          31759.731095428466,
          31989.02764801025,
          32295.60286376953,
          31824.04981613159,
          32469.794177856445,
          32773.34364189148,
          33381.92811355591,
          33210.393984375,
          32899.04447090149,
          32930.26819076538,
          32437.29887542725,
          32568.132479629516,
          32263.237491302494,
          32515.017162322994,
          31953.438510131837,
          31893.03958282471,
          30711.138662109377,
          30965.908474731445,
          30687.644790802005,
          31052.939943695066,
          31644.752788925172,
          32301.576884536746,
          32900.059875183106,
          32632.871940307617,
          32929.446234436036,
          33486.13483047485,
          33761.093085174565,
          33497.72484092712,
          33848.43692047119,
          34124.3768157959,
          33909.96428878784,
          33382.71775177002,
          33431.01041656493,
          33183.50727462769,
          33379.242271728515,
          34149.3632485199,
          34090.05049926758,
          34098.599561843876,
          33893.26271850586,
          34337.317965545655,
          34413.62465576172,
          34452.33762039185,
          34537.75853027344,
          34597.90327148438,
          34632.37434585571,
          34369.75745506287,
          34398.291127014156,
          34324.84327857971,
          34088.87481086731,
          34582.28561027528,
          34511.159234313964,
          34645.498989105225,
          34392.124780883794,
          34393.24532348633,
          34287.17738494873,
          34378.463565063474,
          34522.166411132814,
          34816.076275329586,
          34794.9187335968,
          34797.89454421997,
          34837.368172302246,
          34404.39622116089,
          34592.25,
          34651.77191375733,
          35288.811430816655,
          35749.42791534424,
          35619.94136962891,
          35635.72487602234,
          35596.27330307007,
          35503.94635131836,
          35248.56871459961,
          35484.05651245117,
          36031.4807006836,
          35947.04725593567,
          35803.75931991577,
          36041.75224838257,
          35980.855940780646,
          35056.146036071776,
          35534.632259445185,
          34872.82470245361,
          35581.72352348328,
          36158.772423706054,
          36246.21303787231,
          36641.1560585022,
          36988.20542816162,
          37199.8765385437,
          37102.30617713928,
          36863.73217422486,
          36938.50959571837,
          37171.532536926265,
          37368.12282791138,
          37630.488854370116,
          37381.63634155274,
          37238.10407058716,
          36897.19063865662,
          36759.09816604613,
          37273.339474411005,
          36607.889844360354,
          36555.01501495361,
          37491.18547988891,
          37321.98506515503,
          36797.34855499268,
          36446.82506286621,
          37424.76048477172,
          37402.38617782593,
          38105.77385612488,
          38215.84791450501,
          38566.00915779114,
          38665.12000869751,
          39090.07292114258,
          39052.51152099609,
          39142.50104896545,
          38519.101929779055,
          38463.53601379395,
          38746.10097198486,
          38428.385624999995,
          38127.415620574946,
          38435.507323455815,
          39201.81204681397,
          39413.54971435546,
          39481.46875923157,
          39798.012500000004,
          40170.21670318604,
          40595.10149230957,
          40424.68440032959,
          40496.93883247375,
          40500.20587829589,
          40827.126925048826,
          40769.16530784607,
          40627.26141250609,
          40985.5361377716,
          40704.301739120485,
          40419.03527915955,
          40763.11525268555,
          40366.49433349609,
          40970.68861732483,
          41166.225000000006,
          41053.95076080322,
          41479.355264282225,
          41367.97137619019,
          41206.10099716186,
          41172.28709724426,
          41443.36315979004,
          41252.9651108551,
          40843.136974182125,
          40319.06677856446,
          40744.332208557134,
          41165.66164100647,
          40670.906026306155,
          40716.21350791931,
          40993.410429840085,
          41372.087291259755,
          41267.51132080078,
          41481.32420425416,
          41742.792540740964,
          41671.93942977906,
          41781.99826538086,
          41875.7183795929,
          41839.922654571536,
          41921.15422782897,
          41909.383733367926,
          42027.277857055655,
          42448.31589126587,
          42375.73481903076,
          42406.07781486511,
          42220.27308212281,
          42262.20481033325,
          42594.04396156311,
          42687.444758987425,
          42896.47740943909,
          43020.14164550781,
          43012.48597503662,
          43281.68697395325,
          43700.52041015625,
          43568.338806152344,
          43731.803644409185,
          43056.267111282345,
          43876.25128631592,
          43835.43468383789,
          43652.65006027221,
          43431.47009170532,
          42354.60579833984,
          43104.02808197022,
          43599.236113891595,
          43646.27895812988,
          44258.678283691406,
          43864.20272247315,
          43875.08019699097,
          43870.819449462884,
          43512.007371978754,
          43751.16614196778,
          43756.835231781006,
          44120.30355834962,
          44377.20676177979,
          44549.980207901004,
          44566.813941802975,
          44708.7988305664,
          44453.2746484375,
          44257.330515747075,
          43903.84854660034,
          43936.83645606994,
          44638.9465713501,
          44731.43586845398,
          44914.19755249022,
          44681.68754745483,
          45241.95610046387,
          45211.00469970703,
          45274.778356094364,
          45347.91457412719,
          45307.38990219116,
          45231.263791809084,
          44849.92901687623,
          44694.96329925537,
          44350.614895477294,
          44584.51211853028,
          44635.42509178162,
          43373.16480697632,
          43216.45588165284,
          43902.44215881348,
          44636.79488304138,
          44841.66078208924,
          44169.54907165527,
          44400.53257369995,
          43652.585466308585,
          43438.42450790405,
          44066.35142700196,
          44232.07592964172,
          44712.81568649292,
          44987.82307373046,
          44950.11731826782,
          45007.69023406983,
          45978.69079208374,
          46662.566995239256,
          47132.15333862305,
          47251.80809478759,
          47145.28436813355,
          47305.762046203614,
          47527.33083343506,
          47149.91256469727,
          47543.750236206055,
          47990.54362564087,
          48115.72242645263,
          48349.51726547241,
          48621.196669921876,
          48688.0840385437,
          48592.26384658814,
          48326.613402404786,
          47792.263325042724,
          48228.51553314209,
          48646.18176757813,
          48642.53275817871,
          48893.009101104726,
          49105.37315307617,
          48969.24064697265,
          48917.26628723145,
          48725.512408447255,
          49068.13379135131,
          49339.06941307068,
          48235.77421234131,
          48245.28650093078,
          47357.25887557984,
          46604.412141265864,
          47140.65360031128,
          46783.19777374268,
          47349.902463302606,
          48501.02591827393,
          48665.89765411377,
          48402.09903442382,
          48762.21852050781,
          48352.560775985716,
          48054.43017196655,
          48877.64033386231,
          48603.67491577148,
          47899.86230880737,
          47322.247718582155,
          48222.24120758056,
          48852.13011245728,
          49207.834937438965,
          50002.39430007935,
          50165.25183998107,
          50217.77956832886,
          50151.81154785156,
          50063.912840271,
          50406.864011840815,
          50467.534082031256,
          49863.04408561706,
          49777.10521362304,
          49491.73383750915,
          49321.48100570679,
          49607.58168746947,
          49779.16677322388,
          48813.708549041745,
          48591.442788696295,
          47928.486072540276,
          47418.4831137085,
          46811.37490997315,
          45749.94910125733,
          45856.4943258667,
          45390.05995178223,
          45233.427500000005,
          45338.88667533874,
          46706.0237373352,
          47522.523027801515,
          47774.064701843265,
          48068.647225570676,
          46806.25976852416,
          47263.42128112793,
          47216.49031982422,
          47532.52676239014,
          48425.97321807862,
          47603.746499252324,
          46834.24707763672,
          46495.97553268432,
          47221.87519226074,
          47318.99922416687,
          46213.64778556824,
          45710.92363128662,
          45108.95676643371,
          44485.75521949768,
          45091.72112998962,
          46346.28207733153,
          46235.155483779905,
          45341.88393432617
         ],
         "yaxis": "y"
        }
       ],
       "layout": {
        "legend": {
         "tracegroupgap": 0
        },
        "margin": {
         "t": 60
        },
        "template": {
         "data": {
          "bar": [
           {
            "error_x": {
             "color": "#2a3f5f"
            },
            "error_y": {
             "color": "#2a3f5f"
            },
            "marker": {
             "line": {
              "color": "#E5ECF6",
              "width": 0.5
             },
             "pattern": {
              "fillmode": "overlay",
              "size": 10,
              "solidity": 0.2
             }
            },
            "type": "bar"
           }
          ],
          "barpolar": [
           {
            "marker": {
             "line": {
              "color": "#E5ECF6",
              "width": 0.5
             },
             "pattern": {
              "fillmode": "overlay",
              "size": 10,
              "solidity": 0.2
             }
            },
            "type": "barpolar"
           }
          ],
          "carpet": [
           {
            "aaxis": {
             "endlinecolor": "#2a3f5f",
             "gridcolor": "white",
             "linecolor": "white",
             "minorgridcolor": "white",
             "startlinecolor": "#2a3f5f"
            },
            "baxis": {
             "endlinecolor": "#2a3f5f",
             "gridcolor": "white",
             "linecolor": "white",
             "minorgridcolor": "white",
             "startlinecolor": "#2a3f5f"
            },
            "type": "carpet"
           }
          ],
          "choropleth": [
           {
            "colorbar": {
             "outlinewidth": 0,
             "ticks": ""
            },
            "type": "choropleth"
           }
          ],
          "contour": [
           {
            "colorbar": {
             "outlinewidth": 0,
             "ticks": ""
            },
            "colorscale": [
             [
              0,
              "#0d0887"
             ],
             [
              0.1111111111111111,
              "#46039f"
             ],
             [
              0.2222222222222222,
              "#7201a8"
             ],
             [
              0.3333333333333333,
              "#9c179e"
             ],
             [
              0.4444444444444444,
              "#bd3786"
             ],
             [
              0.5555555555555556,
              "#d8576b"
             ],
             [
              0.6666666666666666,
              "#ed7953"
             ],
             [
              0.7777777777777778,
              "#fb9f3a"
             ],
             [
              0.8888888888888888,
              "#fdca26"
             ],
             [
              1,
              "#f0f921"
             ]
            ],
            "type": "contour"
           }
          ],
          "contourcarpet": [
           {
            "colorbar": {
             "outlinewidth": 0,
             "ticks": ""
            },
            "type": "contourcarpet"
           }
          ],
          "heatmap": [
           {
            "colorbar": {
             "outlinewidth": 0,
             "ticks": ""
            },
            "colorscale": [
             [
              0,
              "#0d0887"
             ],
             [
              0.1111111111111111,
              "#46039f"
             ],
             [
              0.2222222222222222,
              "#7201a8"
             ],
             [
              0.3333333333333333,
              "#9c179e"
             ],
             [
              0.4444444444444444,
              "#bd3786"
             ],
             [
              0.5555555555555556,
              "#d8576b"
             ],
             [
              0.6666666666666666,
              "#ed7953"
             ],
             [
              0.7777777777777778,
              "#fb9f3a"
             ],
             [
              0.8888888888888888,
              "#fdca26"
             ],
             [
              1,
              "#f0f921"
             ]
            ],
            "type": "heatmap"
           }
          ],
          "heatmapgl": [
           {
            "colorbar": {
             "outlinewidth": 0,
             "ticks": ""
            },
            "colorscale": [
             [
              0,
              "#0d0887"
             ],
             [
              0.1111111111111111,
              "#46039f"
             ],
             [
              0.2222222222222222,
              "#7201a8"
             ],
             [
              0.3333333333333333,
              "#9c179e"
             ],
             [
              0.4444444444444444,
              "#bd3786"
             ],
             [
              0.5555555555555556,
              "#d8576b"
             ],
             [
              0.6666666666666666,
              "#ed7953"
             ],
             [
              0.7777777777777778,
              "#fb9f3a"
             ],
             [
              0.8888888888888888,
              "#fdca26"
             ],
             [
              1,
              "#f0f921"
             ]
            ],
            "type": "heatmapgl"
           }
          ],
          "histogram": [
           {
            "marker": {
             "pattern": {
              "fillmode": "overlay",
              "size": 10,
              "solidity": 0.2
             }
            },
            "type": "histogram"
           }
          ],
          "histogram2d": [
           {
            "colorbar": {
             "outlinewidth": 0,
             "ticks": ""
            },
            "colorscale": [
             [
              0,
              "#0d0887"
             ],
             [
              0.1111111111111111,
              "#46039f"
             ],
             [
              0.2222222222222222,
              "#7201a8"
             ],
             [
              0.3333333333333333,
              "#9c179e"
             ],
             [
              0.4444444444444444,
              "#bd3786"
             ],
             [
              0.5555555555555556,
              "#d8576b"
             ],
             [
              0.6666666666666666,
              "#ed7953"
             ],
             [
              0.7777777777777778,
              "#fb9f3a"
             ],
             [
              0.8888888888888888,
              "#fdca26"
             ],
             [
              1,
              "#f0f921"
             ]
            ],
            "type": "histogram2d"
           }
          ],
          "histogram2dcontour": [
           {
            "colorbar": {
             "outlinewidth": 0,
             "ticks": ""
            },
            "colorscale": [
             [
              0,
              "#0d0887"
             ],
             [
              0.1111111111111111,
              "#46039f"
             ],
             [
              0.2222222222222222,
              "#7201a8"
             ],
             [
              0.3333333333333333,
              "#9c179e"
             ],
             [
              0.4444444444444444,
              "#bd3786"
             ],
             [
              0.5555555555555556,
              "#d8576b"
             ],
             [
              0.6666666666666666,
              "#ed7953"
             ],
             [
              0.7777777777777778,
              "#fb9f3a"
             ],
             [
              0.8888888888888888,
              "#fdca26"
             ],
             [
              1,
              "#f0f921"
             ]
            ],
            "type": "histogram2dcontour"
           }
          ],
          "mesh3d": [
           {
            "colorbar": {
             "outlinewidth": 0,
             "ticks": ""
            },
            "type": "mesh3d"
           }
          ],
          "parcoords": [
           {
            "line": {
             "colorbar": {
              "outlinewidth": 0,
              "ticks": ""
             }
            },
            "type": "parcoords"
           }
          ],
          "pie": [
           {
            "automargin": true,
            "type": "pie"
           }
          ],
          "scatter": [
           {
            "fillpattern": {
             "fillmode": "overlay",
             "size": 10,
             "solidity": 0.2
            },
            "type": "scatter"
           }
          ],
          "scatter3d": [
           {
            "line": {
             "colorbar": {
              "outlinewidth": 0,
              "ticks": ""
             }
            },
            "marker": {
             "colorbar": {
              "outlinewidth": 0,
              "ticks": ""
             }
            },
            "type": "scatter3d"
           }
          ],
          "scattercarpet": [
           {
            "marker": {
             "colorbar": {
              "outlinewidth": 0,
              "ticks": ""
             }
            },
            "type": "scattercarpet"
           }
          ],
          "scattergeo": [
           {
            "marker": {
             "colorbar": {
              "outlinewidth": 0,
              "ticks": ""
             }
            },
            "type": "scattergeo"
           }
          ],
          "scattergl": [
           {
            "marker": {
             "colorbar": {
              "outlinewidth": 0,
              "ticks": ""
             }
            },
            "type": "scattergl"
           }
          ],
          "scattermapbox": [
           {
            "marker": {
             "colorbar": {
              "outlinewidth": 0,
              "ticks": ""
             }
            },
            "type": "scattermapbox"
           }
          ],
          "scatterpolar": [
           {
            "marker": {
             "colorbar": {
              "outlinewidth": 0,
              "ticks": ""
             }
            },
            "type": "scatterpolar"
           }
          ],
          "scatterpolargl": [
           {
            "marker": {
             "colorbar": {
              "outlinewidth": 0,
              "ticks": ""
             }
            },
            "type": "scatterpolargl"
           }
          ],
          "scatterternary": [
           {
            "marker": {
             "colorbar": {
              "outlinewidth": 0,
              "ticks": ""
             }
            },
            "type": "scatterternary"
           }
          ],
          "surface": [
           {
            "colorbar": {
             "outlinewidth": 0,
             "ticks": ""
            },
            "colorscale": [
             [
              0,
              "#0d0887"
             ],
             [
              0.1111111111111111,
              "#46039f"
             ],
             [
              0.2222222222222222,
              "#7201a8"
             ],
             [
              0.3333333333333333,
              "#9c179e"
             ],
             [
              0.4444444444444444,
              "#bd3786"
             ],
             [
              0.5555555555555556,
              "#d8576b"
             ],
             [
              0.6666666666666666,
              "#ed7953"
             ],
             [
              0.7777777777777778,
              "#fb9f3a"
             ],
             [
              0.8888888888888888,
              "#fdca26"
             ],
             [
              1,
              "#f0f921"
             ]
            ],
            "type": "surface"
           }
          ],
          "table": [
           {
            "cells": {
             "fill": {
              "color": "#EBF0F8"
             },
             "line": {
              "color": "white"
             }
            },
            "header": {
             "fill": {
              "color": "#C8D4E3"
             },
             "line": {
              "color": "white"
             }
            },
            "type": "table"
           }
          ]
         },
         "layout": {
          "annotationdefaults": {
           "arrowcolor": "#2a3f5f",
           "arrowhead": 0,
           "arrowwidth": 1
          },
          "autotypenumbers": "strict",
          "coloraxis": {
           "colorbar": {
            "outlinewidth": 0,
            "ticks": ""
           }
          },
          "colorscale": {
           "diverging": [
            [
             0,
             "#8e0152"
            ],
            [
             0.1,
             "#c51b7d"
            ],
            [
             0.2,
             "#de77ae"
            ],
            [
             0.3,
             "#f1b6da"
            ],
            [
             0.4,
             "#fde0ef"
            ],
            [
             0.5,
             "#f7f7f7"
            ],
            [
             0.6,
             "#e6f5d0"
            ],
            [
             0.7,
             "#b8e186"
            ],
            [
             0.8,
             "#7fbc41"
            ],
            [
             0.9,
             "#4d9221"
            ],
            [
             1,
             "#276419"
            ]
           ],
           "sequential": [
            [
             0,
             "#0d0887"
            ],
            [
             0.1111111111111111,
             "#46039f"
            ],
            [
             0.2222222222222222,
             "#7201a8"
            ],
            [
             0.3333333333333333,
             "#9c179e"
            ],
            [
             0.4444444444444444,
             "#bd3786"
            ],
            [
             0.5555555555555556,
             "#d8576b"
            ],
            [
             0.6666666666666666,
             "#ed7953"
            ],
            [
             0.7777777777777778,
             "#fb9f3a"
            ],
            [
             0.8888888888888888,
             "#fdca26"
            ],
            [
             1,
             "#f0f921"
            ]
           ],
           "sequentialminus": [
            [
             0,
             "#0d0887"
            ],
            [
             0.1111111111111111,
             "#46039f"
            ],
            [
             0.2222222222222222,
             "#7201a8"
            ],
            [
             0.3333333333333333,
             "#9c179e"
            ],
            [
             0.4444444444444444,
             "#bd3786"
            ],
            [
             0.5555555555555556,
             "#d8576b"
            ],
            [
             0.6666666666666666,
             "#ed7953"
            ],
            [
             0.7777777777777778,
             "#fb9f3a"
            ],
            [
             0.8888888888888888,
             "#fdca26"
            ],
            [
             1,
             "#f0f921"
            ]
           ]
          },
          "colorway": [
           "#636efa",
           "#EF553B",
           "#00cc96",
           "#ab63fa",
           "#FFA15A",
           "#19d3f3",
           "#FF6692",
           "#B6E880",
           "#FF97FF",
           "#FECB52"
          ],
          "font": {
           "color": "#2a3f5f"
          },
          "geo": {
           "bgcolor": "white",
           "lakecolor": "white",
           "landcolor": "#E5ECF6",
           "showlakes": true,
           "showland": true,
           "subunitcolor": "white"
          },
          "hoverlabel": {
           "align": "left"
          },
          "hovermode": "closest",
          "mapbox": {
           "style": "light"
          },
          "paper_bgcolor": "white",
          "plot_bgcolor": "#E5ECF6",
          "polar": {
           "angularaxis": {
            "gridcolor": "white",
            "linecolor": "white",
            "ticks": ""
           },
           "bgcolor": "#E5ECF6",
           "radialaxis": {
            "gridcolor": "white",
            "linecolor": "white",
            "ticks": ""
           }
          },
          "scene": {
           "xaxis": {
            "backgroundcolor": "#E5ECF6",
            "gridcolor": "white",
            "gridwidth": 2,
            "linecolor": "white",
            "showbackground": true,
            "ticks": "",
            "zerolinecolor": "white"
           },
           "yaxis": {
            "backgroundcolor": "#E5ECF6",
            "gridcolor": "white",
            "gridwidth": 2,
            "linecolor": "white",
            "showbackground": true,
            "ticks": "",
            "zerolinecolor": "white"
           },
           "zaxis": {
            "backgroundcolor": "#E5ECF6",
            "gridcolor": "white",
            "gridwidth": 2,
            "linecolor": "white",
            "showbackground": true,
            "ticks": "",
            "zerolinecolor": "white"
           }
          },
          "shapedefaults": {
           "line": {
            "color": "#2a3f5f"
           }
          },
          "ternary": {
           "aaxis": {
            "gridcolor": "white",
            "linecolor": "white",
            "ticks": ""
           },
           "baxis": {
            "gridcolor": "white",
            "linecolor": "white",
            "ticks": ""
           },
           "bgcolor": "#E5ECF6",
           "caxis": {
            "gridcolor": "white",
            "linecolor": "white",
            "ticks": ""
           }
          },
          "title": {
           "x": 0.05
          },
          "xaxis": {
           "automargin": true,
           "gridcolor": "white",
           "linecolor": "white",
           "ticks": "",
           "title": {
            "standoff": 15
           },
           "zerolinecolor": "white",
           "zerolinewidth": 2
          },
          "yaxis": {
           "automargin": true,
           "gridcolor": "white",
           "linecolor": "white",
           "ticks": "",
           "title": {
            "standoff": 15
           },
           "zerolinecolor": "white",
           "zerolinewidth": 2
          }
         }
        },
        "xaxis": {
         "anchor": "y",
         "domain": [
          0,
          1
         ],
         "title": {
          "text": "Date"
         }
        },
        "yaxis": {
         "anchor": "x",
         "domain": [
          0,
          1
         ],
         "title": {
          "text": "jpy_voo"
         }
        }
       }
      }
     },
     "metadata": {},
     "output_type": "display_data"
    }
   ],
   "source": [
    "# fig = px.line(stocks.dropna(subset=['jpy_voo']), x=\"Date\", y=\"Close\")\n",
    "fig = px.line(stocks.dropna(subset=['jpy_voo']), x=\"Date\", y=\"jpy_voo\")\n",
    "fig.show()"
   ]
  },
  {
   "cell_type": "code",
   "execution_count": 298,
   "id": "bbef0b95",
   "metadata": {},
   "outputs": [],
   "source": [
    "topix = pd.read_csv('../data/1306.JP.csv')"
   ]
  },
  {
   "cell_type": "code",
   "execution_count": 300,
   "id": "ba07b8fa",
   "metadata": {},
   "outputs": [
    {
     "data": {
      "application/vnd.plotly.v1+json": {
       "config": {
        "plotlyServerURL": "https://plot.ly"
       },
       "data": [
        {
         "hovertemplate": "Date=%{x}<br>Close=%{y}<extra></extra>",
         "legendgroup": "",
         "line": {
          "color": "#636efa",
          "dash": "solid"
         },
         "marker": {
          "symbol": "circle"
         },
         "mode": "lines",
         "name": "",
         "orientation": "v",
         "showlegend": false,
         "type": "scatter",
         "x": [
          "2022-04-28",
          "2022-04-27",
          "2022-04-26",
          "2022-04-25",
          "2022-04-22",
          "2022-04-21",
          "2022-04-20",
          "2022-04-19",
          "2022-04-18",
          "2022-04-15",
          "2022-04-14",
          "2022-04-13",
          "2022-04-12",
          "2022-04-11",
          "2022-04-08",
          "2022-04-07",
          "2022-04-06",
          "2022-04-05",
          "2022-04-04",
          "2022-04-01",
          "2022-03-31",
          "2022-03-30",
          "2022-03-29",
          "2022-03-28",
          "2022-03-25",
          "2022-03-24",
          "2022-03-23",
          "2022-03-22",
          "2022-03-18",
          "2022-03-17",
          "2022-03-16",
          "2022-03-15",
          "2022-03-14",
          "2022-03-11",
          "2022-03-10",
          "2022-03-09",
          "2022-03-08",
          "2022-03-07",
          "2022-03-04",
          "2022-03-03",
          "2022-03-02",
          "2022-03-01",
          "2022-02-28",
          "2022-02-25",
          "2022-02-24",
          "2022-02-22",
          "2022-02-21",
          "2022-02-18",
          "2022-02-17",
          "2022-02-16",
          "2022-02-15",
          "2022-02-14",
          "2022-02-10",
          "2022-02-09",
          "2022-02-08",
          "2022-02-07",
          "2022-02-04",
          "2022-02-03",
          "2022-02-02",
          "2022-02-01",
          "2022-01-31",
          "2022-01-28",
          "2022-01-27",
          "2022-01-26",
          "2022-01-25",
          "2022-01-24",
          "2022-01-21",
          "2022-01-20",
          "2022-01-19",
          "2022-01-18",
          "2022-01-17",
          "2022-01-14",
          "2022-01-13",
          "2022-01-12",
          "2022-01-11",
          "2022-01-07",
          "2022-01-06",
          "2022-01-05",
          "2022-01-04",
          "2021-12-30",
          "2021-12-29",
          "2021-12-28",
          "2021-12-27",
          "2021-12-24",
          "2021-12-23",
          "2021-12-22",
          "2021-12-21",
          "2021-12-20",
          "2021-12-17",
          "2021-12-16",
          "2021-12-15",
          "2021-12-14",
          "2021-12-13",
          "2021-12-10",
          "2021-12-09",
          "2021-12-08",
          "2021-12-07",
          "2021-12-06",
          "2021-12-03",
          "2021-12-02",
          "2021-12-01",
          "2021-11-30",
          "2021-11-29",
          "2021-11-26",
          "2021-11-25",
          "2021-11-24",
          "2021-11-22",
          "2021-11-19",
          "2021-11-18",
          "2021-11-17",
          "2021-11-16",
          "2021-11-15",
          "2021-11-12",
          "2021-11-11",
          "2021-11-10",
          "2021-11-09",
          "2021-11-08",
          "2021-11-05",
          "2021-11-04",
          "2021-11-02",
          "2021-11-01",
          "2021-10-29",
          "2021-10-28",
          "2021-10-27",
          "2021-10-26",
          "2021-10-25",
          "2021-10-22",
          "2021-10-21",
          "2021-10-20",
          "2021-10-19",
          "2021-10-18",
          "2021-10-15",
          "2021-10-14",
          "2021-10-13",
          "2021-10-12",
          "2021-10-11",
          "2021-10-08",
          "2021-10-07",
          "2021-10-06",
          "2021-10-05",
          "2021-10-04",
          "2021-10-01",
          "2021-09-30",
          "2021-09-29",
          "2021-09-28",
          "2021-09-27",
          "2021-09-24",
          "2021-09-22",
          "2021-09-21",
          "2021-09-17",
          "2021-09-16",
          "2021-09-15",
          "2021-09-14",
          "2021-09-13",
          "2021-09-10",
          "2021-09-09",
          "2021-09-08",
          "2021-09-07",
          "2021-09-06",
          "2021-09-03",
          "2021-09-02",
          "2021-09-01",
          "2021-08-31",
          "2021-08-30",
          "2021-08-27",
          "2021-08-26",
          "2021-08-25",
          "2021-08-24",
          "2021-08-23",
          "2021-08-20",
          "2021-08-19",
          "2021-08-18",
          "2021-08-17",
          "2021-08-16",
          "2021-08-13",
          "2021-08-12",
          "2021-08-11",
          "2021-08-10",
          "2021-08-06",
          "2021-08-05",
          "2021-08-04",
          "2021-08-03",
          "2021-08-02",
          "2021-07-30",
          "2021-07-29",
          "2021-07-28",
          "2021-07-27",
          "2021-07-26",
          "2021-07-21",
          "2021-07-20",
          "2021-07-19",
          "2021-07-16",
          "2021-07-15",
          "2021-07-14",
          "2021-07-13",
          "2021-07-12",
          "2021-07-09",
          "2021-07-08",
          "2021-07-07",
          "2021-07-06",
          "2021-07-05",
          "2021-07-02",
          "2021-07-01",
          "2021-06-30",
          "2021-06-29",
          "2021-06-28",
          "2021-06-25",
          "2021-06-24",
          "2021-06-23",
          "2021-06-22",
          "2021-06-21",
          "2021-06-18",
          "2021-06-17",
          "2021-06-16",
          "2021-06-15",
          "2021-06-14",
          "2021-06-11",
          "2021-06-10",
          "2021-06-09",
          "2021-06-08",
          "2021-06-07",
          "2021-06-04",
          "2021-06-03",
          "2021-06-02",
          "2021-06-01",
          "2021-05-31",
          "2021-05-28",
          "2021-05-27",
          "2021-05-26",
          "2021-05-25",
          "2021-05-24",
          "2021-05-21",
          "2021-05-20",
          "2021-05-19",
          "2021-05-18",
          "2021-05-17",
          "2021-05-14",
          "2021-05-13",
          "2021-05-12",
          "2021-05-11",
          "2021-05-10",
          "2021-05-07",
          "2021-05-06",
          "2021-04-30",
          "2021-04-28",
          "2021-04-27",
          "2021-04-26",
          "2021-04-23",
          "2021-04-22",
          "2021-04-21",
          "2021-04-20",
          "2021-04-19",
          "2021-04-16",
          "2021-04-15",
          "2021-04-14",
          "2021-04-13",
          "2021-04-12",
          "2021-04-09",
          "2021-04-08",
          "2021-04-07",
          "2021-04-06",
          "2021-04-05",
          "2021-04-02",
          "2021-04-01",
          "2021-03-31",
          "2021-03-30",
          "2021-03-29",
          "2021-03-26",
          "2021-03-25",
          "2021-03-24",
          "2021-03-23",
          "2021-03-22",
          "2021-03-19",
          "2021-03-18",
          "2021-03-17",
          "2021-03-16",
          "2021-03-15",
          "2021-03-12",
          "2021-03-11",
          "2021-03-10",
          "2021-03-09",
          "2021-03-08",
          "2021-03-05",
          "2021-03-04",
          "2021-03-03",
          "2021-03-02",
          "2021-03-01",
          "2021-02-26",
          "2021-02-25",
          "2021-02-24",
          "2021-02-22",
          "2021-02-19",
          "2021-02-18",
          "2021-02-17",
          "2021-02-16",
          "2021-02-15",
          "2021-02-12",
          "2021-02-10",
          "2021-02-09",
          "2021-02-08",
          "2021-02-05",
          "2021-02-04",
          "2021-02-03",
          "2021-02-02",
          "2021-02-01",
          "2021-01-29",
          "2021-01-28",
          "2021-01-27",
          "2021-01-26",
          "2021-01-25",
          "2021-01-22",
          "2021-01-21",
          "2021-01-20",
          "2021-01-19",
          "2021-01-18",
          "2021-01-15",
          "2021-01-14",
          "2021-01-13",
          "2021-01-12",
          "2021-01-08",
          "2021-01-07",
          "2021-01-06",
          "2021-01-05",
          "2021-01-04",
          "2020-12-30",
          "2020-12-29",
          "2020-12-28",
          "2020-12-25",
          "2020-12-24",
          "2020-12-23",
          "2020-12-22",
          "2020-12-21",
          "2020-12-18",
          "2020-12-17",
          "2020-12-16",
          "2020-12-15",
          "2020-12-14",
          "2020-12-11",
          "2020-12-10",
          "2020-12-09",
          "2020-12-08",
          "2020-12-07",
          "2020-12-04",
          "2020-12-03",
          "2020-12-02",
          "2020-12-01",
          "2020-11-30",
          "2020-11-27",
          "2020-11-26",
          "2020-11-25",
          "2020-11-24",
          "2020-11-20",
          "2020-11-19",
          "2020-11-18",
          "2020-11-17",
          "2020-11-16",
          "2020-11-13",
          "2020-11-12",
          "2020-11-11",
          "2020-11-10",
          "2020-11-09",
          "2020-11-06",
          "2020-11-05",
          "2020-11-04",
          "2020-11-02",
          "2020-10-30",
          "2020-10-29",
          "2020-10-28",
          "2020-10-27",
          "2020-10-26",
          "2020-10-23",
          "2020-10-22",
          "2020-10-21",
          "2020-10-20",
          "2020-10-19",
          "2020-10-16",
          "2020-10-15",
          "2020-10-14",
          "2020-10-13",
          "2020-10-12",
          "2020-10-09",
          "2020-10-08",
          "2020-10-07",
          "2020-10-06",
          "2020-10-05",
          "2020-10-02",
          "2020-09-30",
          "2020-09-29",
          "2020-09-28",
          "2020-09-25",
          "2020-09-24",
          "2020-09-23",
          "2020-09-18",
          "2020-09-17",
          "2020-09-16",
          "2020-09-15",
          "2020-09-14",
          "2020-09-11",
          "2020-09-10",
          "2020-09-09",
          "2020-09-08",
          "2020-09-07",
          "2020-09-04",
          "2020-09-03",
          "2020-09-02",
          "2020-09-01",
          "2020-08-31",
          "2020-08-28",
          "2020-08-27",
          "2020-08-26",
          "2020-08-25",
          "2020-08-24",
          "2020-08-21",
          "2020-08-20",
          "2020-08-19",
          "2020-08-18",
          "2020-08-17",
          "2020-08-14",
          "2020-08-13",
          "2020-08-12",
          "2020-08-11",
          "2020-08-07",
          "2020-08-06",
          "2020-08-05",
          "2020-08-04",
          "2020-08-03",
          "2020-07-31",
          "2020-07-30",
          "2020-07-29",
          "2020-07-28",
          "2020-07-27",
          "2020-07-22",
          "2020-07-21",
          "2020-07-20",
          "2020-07-17",
          "2020-07-16",
          "2020-07-15",
          "2020-07-14",
          "2020-07-13",
          "2020-07-10",
          "2020-07-09",
          "2020-07-08",
          "2020-07-07",
          "2020-07-06",
          "2020-07-03",
          "2020-07-02",
          "2020-07-01",
          "2020-06-30",
          "2020-06-29",
          "2020-06-26",
          "2020-06-25",
          "2020-06-24",
          "2020-06-23",
          "2020-06-22",
          "2020-06-19",
          "2020-06-18",
          "2020-06-17",
          "2020-06-16",
          "2020-06-15",
          "2020-06-12",
          "2020-06-11",
          "2020-06-10",
          "2020-06-09",
          "2020-06-08",
          "2020-06-05",
          "2020-06-04",
          "2020-06-03",
          "2020-06-02",
          "2020-06-01",
          "2020-05-29",
          "2020-05-28",
          "2020-05-27",
          "2020-05-26",
          "2020-05-25",
          "2020-05-22",
          "2020-05-21",
          "2020-05-20",
          "2020-05-19",
          "2020-05-18",
          "2020-05-15",
          "2020-05-14",
          "2020-05-13",
          "2020-05-12",
          "2020-05-11",
          "2020-05-08",
          "2020-05-07",
          "2020-05-01",
          "2020-04-30",
          "2020-04-28",
          "2020-04-27",
          "2020-04-24",
          "2020-04-23",
          "2020-04-22",
          "2020-04-21",
          "2020-04-20",
          "2020-04-17",
          "2020-04-16",
          "2020-04-15",
          "2020-04-14",
          "2020-04-13",
          "2020-04-10",
          "2020-04-09",
          "2020-04-08",
          "2020-04-07",
          "2020-04-06",
          "2020-04-03",
          "2020-04-02",
          "2020-04-01",
          "2020-03-31",
          "2020-03-30",
          "2020-03-27",
          "2020-03-26",
          "2020-03-25",
          "2020-03-24",
          "2020-03-23",
          "2020-03-19",
          "2020-03-18",
          "2020-03-17",
          "2020-03-16",
          "2020-03-13",
          "2020-03-12",
          "2020-03-11",
          "2020-03-10",
          "2020-03-09",
          "2020-03-06",
          "2020-03-05",
          "2020-03-04",
          "2020-03-03",
          "2020-03-02",
          "2020-02-28",
          "2020-02-27",
          "2020-02-26",
          "2020-02-25",
          "2020-02-21",
          "2020-02-20",
          "2020-02-19",
          "2020-02-18",
          "2020-02-17",
          "2020-02-14",
          "2020-02-13",
          "2020-02-12",
          "2020-02-10",
          "2020-02-07",
          "2020-02-06",
          "2020-02-05",
          "2020-02-04",
          "2020-02-03",
          "2020-01-31",
          "2020-01-30",
          "2020-01-29",
          "2020-01-28",
          "2020-01-27",
          "2020-01-24",
          "2020-01-23",
          "2020-01-22",
          "2020-01-21",
          "2020-01-20",
          "2020-01-17",
          "2020-01-16",
          "2020-01-15",
          "2020-01-14",
          "2020-01-10",
          "2020-01-09",
          "2020-01-08",
          "2020-01-07",
          "2020-01-06"
         ],
         "xaxis": "x",
         "y": [
          2000,
          1962,
          1981.5,
          1976,
          2006.5,
          2030,
          2018.5,
          1997.5,
          1978.5,
          1997.5,
          2011,
          1990,
          1962.5,
          1990,
          1996,
          1992.5,
          2023.5,
          2054,
          2058.5,
          2047.5,
          2049,
          2073,
          2073.5,
          2055,
          2065,
          2066,
          2059.5,
          2011.5,
          1989.5,
          1981,
          1930.5,
          1905.5,
          1887,
          1878.5,
          1904.5,
          1832,
          1835,
          1869,
          1920.5,
          1958.5,
          1938.5,
          1977.5,
          1967,
          1957,
          1934.5,
          1962,
          1990.5,
          2003.5,
          2010,
          2027,
          1993,
          2011,
          2045,
          2033.5,
          2017.5,
          2006.5,
          2012,
          2000,
          2015,
          1976,
          1973.5,
          1956,
          1917,
          1968,
          1973.5,
          2008,
          2005,
          2019,
          2000,
          2061,
          2069.5,
          2060.5,
          2088,
          2102.5,
          2072,
          2078,
          2082,
          2125,
          2122,
          2073.5,
          2082,
          2084,
          2056.5,
          2067,
          2068.5,
          2049,
          2051,
          2019,
          2064.5,
          2094,
          2061.5,
          2052,
          2056.5,
          2053.5,
          2069.5,
          2083.5,
          2071.5,
          2025,
          2037,
          2003,
          2013,
          2008,
          2028.5,
          2066,
          2107,
          2098,
          2126,
          2126,
          2115,
          2120,
          2134,
          2131,
          2124,
          2095,
          2087,
          2102,
          2119,
          2121,
          2136,
          2113,
          2126,
          2082,
          2079,
          2093,
          2098,
          2076,
          2082,
          2079,
          2109,
          2106,
          2101,
          2103,
          2066,
          2051,
          2060,
          2078,
          2041,
          2015,
          2018,
          2025,
          2055,
          2064,
          2115,
          2121,
          2145,
          2156,
          2159,
          2111,
          2129,
          2164,
          2157,
          2163,
          2184,
          2162,
          2157,
          2129,
          2147,
          2127,
          2106,
          2081,
          2043,
          2042,
          2024,
          2013,
          1989,
          1995,
          1997,
          1996,
          1975,
          1939,
          1959,
          1985,
          1975,
          1988,
          2017,
          2014,
          2015,
          1996,
          1992,
          1988,
          1983,
          1993,
          2002,
          1962,
          1986,
          1980,
          1998,
          1987,
          1966,
          1950,
          1967,
          1996,
          2002,
          2024,
          2029,
          2016,
          1983,
          1982,
          2038,
          2056,
          2050,
          2057,
          2038,
          2040,
          2048,
          2061,
          2058,
          2041,
          2048,
          2056,
          1995,
          2041,
          2063,
          2075,
          2075,
          2056,
          2052,
          2055,
          2052,
          2061,
          2056,
          2056,
          2053,
          2037,
          2021,
          2018,
          2043,
          2005,
          2018,
          2016,
          2009,
          1999,
          1989,
          1990,
          2002,
          1970,
          1978,
          1943,
          1969,
          2001,
          2049,
          2029,
          2024,
          1993,
          2000,
          1998,
          2012,
          2007,
          2016,
          1980,
          2019,
          2053,
          2058,
          2057,
          2047,
          2056,
          2051,
          2056,
          2049,
          2062,
          2050,
          2078,
          2069,
          2052,
          2052,
          2073,
          2068,
          2066,
          2033,
          2009,
          2052,
          2073,
          2095,
          2090,
          2064,
          2058,
          2046,
          2028,
          2005,
          1998,
          1996,
          1970,
          1975,
          1958,
          1982,
          1970,
          1979,
          1939,
          2006,
          1980,
          2014,
          2006,
          2018,
          2037,
          2043,
          2033,
          2010,
          2009,
          2001,
          2001,
          1967,
          1941,
          1948,
          1920,
          1899,
          1878,
          1910,
          1935,
          1924,
          1935,
          1929,
          1933,
          1922,
          1932,
          1919,
          1927,
          1949,
          1937,
          1930,
          1930,
          1900,
          1868,
          1862,
          1864,
          1875,
          1888,
          1856,
          1845,
          1843,
          1834,
          1828,
          1858,
          1863,
          1862,
          1857,
          1851,
          1861,
          1850,
          1847,
          1849,
          1828,
          1829,
          1844,
          1845,
          1840,
          1835,
          1818,
          1853,
          1848,
          1830,
          1827,
          1792,
          1790,
          1787,
          1801,
          1798,
          1768,
          1792,
          1794,
          1765,
          1745,
          1722,
          1712,
          1690,
          1670,
          1641,
          1675,
          1673,
          1679,
          1680,
          1687,
          1680,
          1699,
          1688,
          1700,
          1678,
          1693,
          1704,
          1710,
          1705,
          1708,
          1719,
          1710,
          1708,
          1699,
          1671,
          1686,
          1723,
          1713,
          1683,
          1676,
          1692,
          1694,
          1687,
          1693,
          1688,
          1699,
          1686,
          1673,
          1651,
          1670,
          1658,
          1664,
          1678,
          1672,
          1663,
          1660,
          1650,
          1662,
          1673,
          1671,
          1656,
          1653,
          1645,
          1662,
          1658,
          1657,
          1671,
          1674,
          1653,
          1635,
          1595,
          1596,
          1600,
          1601,
          1566,
          1542,
          1585,
          1595,
          1617,
          1625,
          1619,
          1631,
          1623,
          1621,
          1627,
          1636,
          1612,
          1621,
          1583,
          1604,
          1638,
          1653,
          1659,
          1633,
          1625,
          1619,
          1632,
          1628,
          1660,
          1640,
          1657,
          1665,
          1660,
          1663,
          1664,
          1665,
          1673,
          1610,
          1645,
          1671,
          1708,
          1711,
          1711,
          1690,
          1685,
          1680,
          1665,
          1646,
          1640,
          1660,
          1626,
          1612,
          1577,
          1550,
          1567,
          1568,
          1559,
          1533,
          1529,
          1519,
          1547,
          1550,
          1553,
          1529,
          1500,
          1502,
          1533,
          1522,
          1517,
          1492,
          1495,
          1474,
          1487,
          1505,
          1513,
          1494,
          1508,
          1503,
          1473,
          1503,
          1486,
          1499,
          1475,
          1448,
          1396,
          1397,
          1415,
          1473,
          1510,
          1508,
          1456,
          1475,
          1382,
          1354,
          1340,
          1328,
          1316,
          1275,
          1306,
          1377,
          1435,
          1459,
          1439,
          1525,
          1576,
          1557,
          1561,
          1581,
          1566,
          1624,
          1666,
          1677,
          1735,
          1736,
          1732,
          1726,
          1751,
          1766,
          1774,
          1781,
          1783,
          1794,
          1801,
          1765,
          1747,
          1733,
          1747,
          1736,
          1760,
          1753,
          1763,
          1794,
          1792,
          1811,
          1800,
          1807,
          1800,
          1792,
          1796,
          1805,
          1800,
          1794,
          1765,
          1789,
          1759
         ],
         "yaxis": "y"
        }
       ],
       "layout": {
        "legend": {
         "tracegroupgap": 0
        },
        "margin": {
         "t": 60
        },
        "template": {
         "data": {
          "bar": [
           {
            "error_x": {
             "color": "#2a3f5f"
            },
            "error_y": {
             "color": "#2a3f5f"
            },
            "marker": {
             "line": {
              "color": "#E5ECF6",
              "width": 0.5
             },
             "pattern": {
              "fillmode": "overlay",
              "size": 10,
              "solidity": 0.2
             }
            },
            "type": "bar"
           }
          ],
          "barpolar": [
           {
            "marker": {
             "line": {
              "color": "#E5ECF6",
              "width": 0.5
             },
             "pattern": {
              "fillmode": "overlay",
              "size": 10,
              "solidity": 0.2
             }
            },
            "type": "barpolar"
           }
          ],
          "carpet": [
           {
            "aaxis": {
             "endlinecolor": "#2a3f5f",
             "gridcolor": "white",
             "linecolor": "white",
             "minorgridcolor": "white",
             "startlinecolor": "#2a3f5f"
            },
            "baxis": {
             "endlinecolor": "#2a3f5f",
             "gridcolor": "white",
             "linecolor": "white",
             "minorgridcolor": "white",
             "startlinecolor": "#2a3f5f"
            },
            "type": "carpet"
           }
          ],
          "choropleth": [
           {
            "colorbar": {
             "outlinewidth": 0,
             "ticks": ""
            },
            "type": "choropleth"
           }
          ],
          "contour": [
           {
            "colorbar": {
             "outlinewidth": 0,
             "ticks": ""
            },
            "colorscale": [
             [
              0,
              "#0d0887"
             ],
             [
              0.1111111111111111,
              "#46039f"
             ],
             [
              0.2222222222222222,
              "#7201a8"
             ],
             [
              0.3333333333333333,
              "#9c179e"
             ],
             [
              0.4444444444444444,
              "#bd3786"
             ],
             [
              0.5555555555555556,
              "#d8576b"
             ],
             [
              0.6666666666666666,
              "#ed7953"
             ],
             [
              0.7777777777777778,
              "#fb9f3a"
             ],
             [
              0.8888888888888888,
              "#fdca26"
             ],
             [
              1,
              "#f0f921"
             ]
            ],
            "type": "contour"
           }
          ],
          "contourcarpet": [
           {
            "colorbar": {
             "outlinewidth": 0,
             "ticks": ""
            },
            "type": "contourcarpet"
           }
          ],
          "heatmap": [
           {
            "colorbar": {
             "outlinewidth": 0,
             "ticks": ""
            },
            "colorscale": [
             [
              0,
              "#0d0887"
             ],
             [
              0.1111111111111111,
              "#46039f"
             ],
             [
              0.2222222222222222,
              "#7201a8"
             ],
             [
              0.3333333333333333,
              "#9c179e"
             ],
             [
              0.4444444444444444,
              "#bd3786"
             ],
             [
              0.5555555555555556,
              "#d8576b"
             ],
             [
              0.6666666666666666,
              "#ed7953"
             ],
             [
              0.7777777777777778,
              "#fb9f3a"
             ],
             [
              0.8888888888888888,
              "#fdca26"
             ],
             [
              1,
              "#f0f921"
             ]
            ],
            "type": "heatmap"
           }
          ],
          "heatmapgl": [
           {
            "colorbar": {
             "outlinewidth": 0,
             "ticks": ""
            },
            "colorscale": [
             [
              0,
              "#0d0887"
             ],
             [
              0.1111111111111111,
              "#46039f"
             ],
             [
              0.2222222222222222,
              "#7201a8"
             ],
             [
              0.3333333333333333,
              "#9c179e"
             ],
             [
              0.4444444444444444,
              "#bd3786"
             ],
             [
              0.5555555555555556,
              "#d8576b"
             ],
             [
              0.6666666666666666,
              "#ed7953"
             ],
             [
              0.7777777777777778,
              "#fb9f3a"
             ],
             [
              0.8888888888888888,
              "#fdca26"
             ],
             [
              1,
              "#f0f921"
             ]
            ],
            "type": "heatmapgl"
           }
          ],
          "histogram": [
           {
            "marker": {
             "pattern": {
              "fillmode": "overlay",
              "size": 10,
              "solidity": 0.2
             }
            },
            "type": "histogram"
           }
          ],
          "histogram2d": [
           {
            "colorbar": {
             "outlinewidth": 0,
             "ticks": ""
            },
            "colorscale": [
             [
              0,
              "#0d0887"
             ],
             [
              0.1111111111111111,
              "#46039f"
             ],
             [
              0.2222222222222222,
              "#7201a8"
             ],
             [
              0.3333333333333333,
              "#9c179e"
             ],
             [
              0.4444444444444444,
              "#bd3786"
             ],
             [
              0.5555555555555556,
              "#d8576b"
             ],
             [
              0.6666666666666666,
              "#ed7953"
             ],
             [
              0.7777777777777778,
              "#fb9f3a"
             ],
             [
              0.8888888888888888,
              "#fdca26"
             ],
             [
              1,
              "#f0f921"
             ]
            ],
            "type": "histogram2d"
           }
          ],
          "histogram2dcontour": [
           {
            "colorbar": {
             "outlinewidth": 0,
             "ticks": ""
            },
            "colorscale": [
             [
              0,
              "#0d0887"
             ],
             [
              0.1111111111111111,
              "#46039f"
             ],
             [
              0.2222222222222222,
              "#7201a8"
             ],
             [
              0.3333333333333333,
              "#9c179e"
             ],
             [
              0.4444444444444444,
              "#bd3786"
             ],
             [
              0.5555555555555556,
              "#d8576b"
             ],
             [
              0.6666666666666666,
              "#ed7953"
             ],
             [
              0.7777777777777778,
              "#fb9f3a"
             ],
             [
              0.8888888888888888,
              "#fdca26"
             ],
             [
              1,
              "#f0f921"
             ]
            ],
            "type": "histogram2dcontour"
           }
          ],
          "mesh3d": [
           {
            "colorbar": {
             "outlinewidth": 0,
             "ticks": ""
            },
            "type": "mesh3d"
           }
          ],
          "parcoords": [
           {
            "line": {
             "colorbar": {
              "outlinewidth": 0,
              "ticks": ""
             }
            },
            "type": "parcoords"
           }
          ],
          "pie": [
           {
            "automargin": true,
            "type": "pie"
           }
          ],
          "scatter": [
           {
            "fillpattern": {
             "fillmode": "overlay",
             "size": 10,
             "solidity": 0.2
            },
            "type": "scatter"
           }
          ],
          "scatter3d": [
           {
            "line": {
             "colorbar": {
              "outlinewidth": 0,
              "ticks": ""
             }
            },
            "marker": {
             "colorbar": {
              "outlinewidth": 0,
              "ticks": ""
             }
            },
            "type": "scatter3d"
           }
          ],
          "scattercarpet": [
           {
            "marker": {
             "colorbar": {
              "outlinewidth": 0,
              "ticks": ""
             }
            },
            "type": "scattercarpet"
           }
          ],
          "scattergeo": [
           {
            "marker": {
             "colorbar": {
              "outlinewidth": 0,
              "ticks": ""
             }
            },
            "type": "scattergeo"
           }
          ],
          "scattergl": [
           {
            "marker": {
             "colorbar": {
              "outlinewidth": 0,
              "ticks": ""
             }
            },
            "type": "scattergl"
           }
          ],
          "scattermapbox": [
           {
            "marker": {
             "colorbar": {
              "outlinewidth": 0,
              "ticks": ""
             }
            },
            "type": "scattermapbox"
           }
          ],
          "scatterpolar": [
           {
            "marker": {
             "colorbar": {
              "outlinewidth": 0,
              "ticks": ""
             }
            },
            "type": "scatterpolar"
           }
          ],
          "scatterpolargl": [
           {
            "marker": {
             "colorbar": {
              "outlinewidth": 0,
              "ticks": ""
             }
            },
            "type": "scatterpolargl"
           }
          ],
          "scatterternary": [
           {
            "marker": {
             "colorbar": {
              "outlinewidth": 0,
              "ticks": ""
             }
            },
            "type": "scatterternary"
           }
          ],
          "surface": [
           {
            "colorbar": {
             "outlinewidth": 0,
             "ticks": ""
            },
            "colorscale": [
             [
              0,
              "#0d0887"
             ],
             [
              0.1111111111111111,
              "#46039f"
             ],
             [
              0.2222222222222222,
              "#7201a8"
             ],
             [
              0.3333333333333333,
              "#9c179e"
             ],
             [
              0.4444444444444444,
              "#bd3786"
             ],
             [
              0.5555555555555556,
              "#d8576b"
             ],
             [
              0.6666666666666666,
              "#ed7953"
             ],
             [
              0.7777777777777778,
              "#fb9f3a"
             ],
             [
              0.8888888888888888,
              "#fdca26"
             ],
             [
              1,
              "#f0f921"
             ]
            ],
            "type": "surface"
           }
          ],
          "table": [
           {
            "cells": {
             "fill": {
              "color": "#EBF0F8"
             },
             "line": {
              "color": "white"
             }
            },
            "header": {
             "fill": {
              "color": "#C8D4E3"
             },
             "line": {
              "color": "white"
             }
            },
            "type": "table"
           }
          ]
         },
         "layout": {
          "annotationdefaults": {
           "arrowcolor": "#2a3f5f",
           "arrowhead": 0,
           "arrowwidth": 1
          },
          "autotypenumbers": "strict",
          "coloraxis": {
           "colorbar": {
            "outlinewidth": 0,
            "ticks": ""
           }
          },
          "colorscale": {
           "diverging": [
            [
             0,
             "#8e0152"
            ],
            [
             0.1,
             "#c51b7d"
            ],
            [
             0.2,
             "#de77ae"
            ],
            [
             0.3,
             "#f1b6da"
            ],
            [
             0.4,
             "#fde0ef"
            ],
            [
             0.5,
             "#f7f7f7"
            ],
            [
             0.6,
             "#e6f5d0"
            ],
            [
             0.7,
             "#b8e186"
            ],
            [
             0.8,
             "#7fbc41"
            ],
            [
             0.9,
             "#4d9221"
            ],
            [
             1,
             "#276419"
            ]
           ],
           "sequential": [
            [
             0,
             "#0d0887"
            ],
            [
             0.1111111111111111,
             "#46039f"
            ],
            [
             0.2222222222222222,
             "#7201a8"
            ],
            [
             0.3333333333333333,
             "#9c179e"
            ],
            [
             0.4444444444444444,
             "#bd3786"
            ],
            [
             0.5555555555555556,
             "#d8576b"
            ],
            [
             0.6666666666666666,
             "#ed7953"
            ],
            [
             0.7777777777777778,
             "#fb9f3a"
            ],
            [
             0.8888888888888888,
             "#fdca26"
            ],
            [
             1,
             "#f0f921"
            ]
           ],
           "sequentialminus": [
            [
             0,
             "#0d0887"
            ],
            [
             0.1111111111111111,
             "#46039f"
            ],
            [
             0.2222222222222222,
             "#7201a8"
            ],
            [
             0.3333333333333333,
             "#9c179e"
            ],
            [
             0.4444444444444444,
             "#bd3786"
            ],
            [
             0.5555555555555556,
             "#d8576b"
            ],
            [
             0.6666666666666666,
             "#ed7953"
            ],
            [
             0.7777777777777778,
             "#fb9f3a"
            ],
            [
             0.8888888888888888,
             "#fdca26"
            ],
            [
             1,
             "#f0f921"
            ]
           ]
          },
          "colorway": [
           "#636efa",
           "#EF553B",
           "#00cc96",
           "#ab63fa",
           "#FFA15A",
           "#19d3f3",
           "#FF6692",
           "#B6E880",
           "#FF97FF",
           "#FECB52"
          ],
          "font": {
           "color": "#2a3f5f"
          },
          "geo": {
           "bgcolor": "white",
           "lakecolor": "white",
           "landcolor": "#E5ECF6",
           "showlakes": true,
           "showland": true,
           "subunitcolor": "white"
          },
          "hoverlabel": {
           "align": "left"
          },
          "hovermode": "closest",
          "mapbox": {
           "style": "light"
          },
          "paper_bgcolor": "white",
          "plot_bgcolor": "#E5ECF6",
          "polar": {
           "angularaxis": {
            "gridcolor": "white",
            "linecolor": "white",
            "ticks": ""
           },
           "bgcolor": "#E5ECF6",
           "radialaxis": {
            "gridcolor": "white",
            "linecolor": "white",
            "ticks": ""
           }
          },
          "scene": {
           "xaxis": {
            "backgroundcolor": "#E5ECF6",
            "gridcolor": "white",
            "gridwidth": 2,
            "linecolor": "white",
            "showbackground": true,
            "ticks": "",
            "zerolinecolor": "white"
           },
           "yaxis": {
            "backgroundcolor": "#E5ECF6",
            "gridcolor": "white",
            "gridwidth": 2,
            "linecolor": "white",
            "showbackground": true,
            "ticks": "",
            "zerolinecolor": "white"
           },
           "zaxis": {
            "backgroundcolor": "#E5ECF6",
            "gridcolor": "white",
            "gridwidth": 2,
            "linecolor": "white",
            "showbackground": true,
            "ticks": "",
            "zerolinecolor": "white"
           }
          },
          "shapedefaults": {
           "line": {
            "color": "#2a3f5f"
           }
          },
          "ternary": {
           "aaxis": {
            "gridcolor": "white",
            "linecolor": "white",
            "ticks": ""
           },
           "baxis": {
            "gridcolor": "white",
            "linecolor": "white",
            "ticks": ""
           },
           "bgcolor": "#E5ECF6",
           "caxis": {
            "gridcolor": "white",
            "linecolor": "white",
            "ticks": ""
           }
          },
          "title": {
           "x": 0.05
          },
          "xaxis": {
           "automargin": true,
           "gridcolor": "white",
           "linecolor": "white",
           "ticks": "",
           "title": {
            "standoff": 15
           },
           "zerolinecolor": "white",
           "zerolinewidth": 2
          },
          "yaxis": {
           "automargin": true,
           "gridcolor": "white",
           "linecolor": "white",
           "ticks": "",
           "title": {
            "standoff": 15
           },
           "zerolinecolor": "white",
           "zerolinewidth": 2
          }
         }
        },
        "xaxis": {
         "anchor": "y",
         "domain": [
          0,
          1
         ],
         "title": {
          "text": "Date"
         }
        },
        "yaxis": {
         "anchor": "x",
         "domain": [
          0,
          1
         ],
         "title": {
          "text": "Close"
         }
        }
       }
      }
     },
     "metadata": {},
     "output_type": "display_data"
    }
   ],
   "source": [
    "fig = px.line(topix, x=\"Date\", y=\"Close\")\n",
    "# fig = px.line(stocks.dropna(subset=['jpy_voo']), x=\"Date\", y=\"jpy_voo\")\n",
    "fig.show()"
   ]
  },
  {
   "cell_type": "code",
   "execution_count": 72,
   "id": "fce24dbd",
   "metadata": {},
   "outputs": [],
   "source": [
    "stocks = stocks.dropna(subset=['jpy_voo'])"
   ]
  },
  {
   "cell_type": "code",
   "execution_count": 83,
   "id": "24683481",
   "metadata": {},
   "outputs": [
    {
     "data": {
      "application/vnd.plotly.v1+json": {
       "config": {
        "plotlyServerURL": "https://plot.ly"
       },
       "data": [
        {
         "name": "VOO",
         "type": "scatter",
         "x": [
          "2020-01-02",
          "2020-01-03",
          "2020-01-06",
          "2020-01-07",
          "2020-01-08",
          "2020-01-09",
          "2020-01-10",
          "2020-01-13",
          "2020-01-14",
          "2020-01-15",
          "2020-01-16",
          "2020-01-17",
          "2020-01-21",
          "2020-01-22",
          "2020-01-23",
          "2020-01-24",
          "2020-01-27",
          "2020-01-28",
          "2020-01-29",
          "2020-01-30",
          "2020-01-31",
          "2020-02-03",
          "2020-02-04",
          "2020-02-05",
          "2020-02-06",
          "2020-02-07",
          "2020-02-10",
          "2020-02-11",
          "2020-02-12",
          "2020-02-13",
          "2020-02-14",
          "2020-02-18",
          "2020-02-19",
          "2020-02-20",
          "2020-02-21",
          "2020-02-24",
          "2020-02-25",
          "2020-02-26",
          "2020-02-27",
          "2020-02-28",
          "2020-03-02",
          "2020-03-03",
          "2020-03-04",
          "2020-03-05",
          "2020-03-06",
          "2020-03-09",
          "2020-03-10",
          "2020-03-11",
          "2020-03-12",
          "2020-03-13",
          "2020-03-16",
          "2020-03-17",
          "2020-03-18",
          "2020-03-19",
          "2020-03-20",
          "2020-03-23",
          "2020-03-24",
          "2020-03-25",
          "2020-03-26",
          "2020-03-27",
          "2020-03-30",
          "2020-03-31",
          "2020-04-01",
          "2020-04-02",
          "2020-04-06",
          "2020-04-07",
          "2020-04-08",
          "2020-04-09",
          "2020-04-13",
          "2020-04-14",
          "2020-04-15",
          "2020-04-16",
          "2020-04-20",
          "2020-04-21",
          "2020-04-22",
          "2020-04-23",
          "2020-04-27",
          "2020-04-28",
          "2020-04-29",
          "2020-04-30",
          "2020-05-04",
          "2020-05-05",
          "2020-05-06",
          "2020-05-07",
          "2020-05-11",
          "2020-05-12",
          "2020-05-13",
          "2020-05-14",
          "2020-05-18",
          "2020-05-19",
          "2020-05-20",
          "2020-05-21",
          "2020-05-26",
          "2020-05-27",
          "2020-05-28",
          "2020-06-01",
          "2020-06-02",
          "2020-06-03",
          "2020-06-04",
          "2020-06-08",
          "2020-06-09",
          "2020-06-10",
          "2020-06-11",
          "2020-06-15",
          "2020-06-16",
          "2020-06-17",
          "2020-06-18",
          "2020-06-22",
          "2020-06-23",
          "2020-06-24",
          "2020-06-25",
          "2020-06-29",
          "2020-06-30",
          "2020-07-01",
          "2020-07-02",
          "2020-07-06",
          "2020-07-07",
          "2020-07-08",
          "2020-07-09",
          "2020-07-13",
          "2020-07-14",
          "2020-07-15",
          "2020-07-16",
          "2020-07-20",
          "2020-07-21",
          "2020-07-22",
          "2020-07-23",
          "2020-07-27",
          "2020-07-28",
          "2020-07-29",
          "2020-07-30",
          "2020-08-03",
          "2020-08-04",
          "2020-08-05",
          "2020-08-06",
          "2020-08-10",
          "2020-08-11",
          "2020-08-12",
          "2020-08-13",
          "2020-08-17",
          "2020-08-18",
          "2020-08-19",
          "2020-08-20",
          "2020-08-24",
          "2020-08-25",
          "2020-08-26",
          "2020-08-27",
          "2020-08-31",
          "2020-09-01",
          "2020-09-02",
          "2020-09-03",
          "2020-09-08",
          "2020-09-09",
          "2020-09-10",
          "2020-09-14",
          "2020-09-15",
          "2020-09-16",
          "2020-09-17",
          "2020-09-21",
          "2020-09-22",
          "2020-09-23",
          "2020-09-24",
          "2020-09-28",
          "2020-09-29",
          "2020-09-30",
          "2020-10-01",
          "2020-10-05",
          "2020-10-06",
          "2020-10-07",
          "2020-10-08",
          "2020-10-12",
          "2020-10-13",
          "2020-10-14",
          "2020-10-15",
          "2020-10-19",
          "2020-10-20",
          "2020-10-21",
          "2020-10-22",
          "2020-10-26",
          "2020-10-27",
          "2020-10-28",
          "2020-10-29",
          "2020-10-30",
          "2020-11-02",
          "2020-11-03",
          "2020-11-04",
          "2020-11-05",
          "2020-11-06",
          "2020-11-09",
          "2020-11-10",
          "2020-11-11",
          "2020-11-12",
          "2020-11-13",
          "2020-11-16",
          "2020-11-17",
          "2020-11-18",
          "2020-11-19",
          "2020-11-20",
          "2020-11-23",
          "2020-11-24",
          "2020-11-25",
          "2020-11-27",
          "2020-11-30",
          "2020-12-01",
          "2020-12-02",
          "2020-12-03",
          "2020-12-04",
          "2020-12-07",
          "2020-12-08",
          "2020-12-09",
          "2020-12-10",
          "2020-12-11",
          "2020-12-14",
          "2020-12-15",
          "2020-12-16",
          "2020-12-17",
          "2020-12-18",
          "2020-12-21",
          "2020-12-22",
          "2020-12-23",
          "2020-12-24",
          "2020-12-28",
          "2020-12-29",
          "2020-12-30",
          "2020-12-31",
          "2021-01-04",
          "2021-01-05",
          "2021-01-06",
          "2021-01-07",
          "2021-01-08",
          "2021-01-11",
          "2021-01-12",
          "2021-01-13",
          "2021-01-14",
          "2021-01-15",
          "2021-01-19",
          "2021-01-20",
          "2021-01-21",
          "2021-01-22",
          "2021-01-25",
          "2021-01-26",
          "2021-01-27",
          "2021-01-28",
          "2021-01-29",
          "2021-02-01",
          "2021-02-02",
          "2021-02-03",
          "2021-02-04",
          "2021-02-05",
          "2021-02-08",
          "2021-02-09",
          "2021-02-10",
          "2021-02-11",
          "2021-02-12",
          "2021-02-16",
          "2021-02-17",
          "2021-02-18",
          "2021-02-19",
          "2021-02-22",
          "2021-02-23",
          "2021-02-24",
          "2021-02-25",
          "2021-02-26",
          "2021-03-01",
          "2021-03-02",
          "2021-03-03",
          "2021-03-04",
          "2021-03-05",
          "2021-03-08",
          "2021-03-09",
          "2021-03-10",
          "2021-03-11",
          "2021-03-12",
          "2021-03-15",
          "2021-03-16",
          "2021-03-17",
          "2021-03-18",
          "2021-03-19",
          "2021-03-22",
          "2021-03-23",
          "2021-03-24",
          "2021-03-25",
          "2021-03-26",
          "2021-03-29",
          "2021-03-30",
          "2021-03-31",
          "2021-04-01",
          "2021-04-05",
          "2021-04-06",
          "2021-04-07",
          "2021-04-08",
          "2021-04-12",
          "2021-04-13",
          "2021-04-14",
          "2021-04-15",
          "2021-04-19",
          "2021-04-20",
          "2021-04-21",
          "2021-04-22",
          "2021-04-26",
          "2021-04-27",
          "2021-04-28",
          "2021-04-29",
          "2021-05-03",
          "2021-05-04",
          "2021-05-05",
          "2021-05-06",
          "2021-05-10",
          "2021-05-11",
          "2021-05-12",
          "2021-05-13",
          "2021-05-17",
          "2021-05-18",
          "2021-05-19",
          "2021-05-20",
          "2021-05-24",
          "2021-05-25",
          "2021-05-26",
          "2021-05-27",
          "2021-06-01",
          "2021-06-02",
          "2021-06-03",
          "2021-06-07",
          "2021-06-08",
          "2021-06-09",
          "2021-06-10",
          "2021-06-14",
          "2021-06-15",
          "2021-06-16",
          "2021-06-17",
          "2021-06-21",
          "2021-06-22",
          "2021-06-23",
          "2021-06-24",
          "2021-06-28",
          "2021-06-29",
          "2021-06-30",
          "2021-07-01",
          "2021-07-06",
          "2021-07-07",
          "2021-07-08",
          "2021-07-12",
          "2021-07-13",
          "2021-07-14",
          "2021-07-15",
          "2021-07-19",
          "2021-07-20",
          "2021-07-21",
          "2021-07-22",
          "2021-07-26",
          "2021-07-27",
          "2021-07-28",
          "2021-07-29",
          "2021-08-02",
          "2021-08-03",
          "2021-08-04",
          "2021-08-05",
          "2021-08-09",
          "2021-08-10",
          "2021-08-11",
          "2021-08-12",
          "2021-08-16",
          "2021-08-17",
          "2021-08-18",
          "2021-08-19",
          "2021-08-23",
          "2021-08-24",
          "2021-08-25",
          "2021-08-26",
          "2021-08-30",
          "2021-08-31",
          "2021-09-01",
          "2021-09-02",
          "2021-09-07",
          "2021-09-08",
          "2021-09-09",
          "2021-09-13",
          "2021-09-14",
          "2021-09-15",
          "2021-09-16",
          "2021-09-20",
          "2021-09-21",
          "2021-09-22",
          "2021-09-23",
          "2021-09-27",
          "2021-09-28",
          "2021-09-29",
          "2021-09-30",
          "2021-10-04",
          "2021-10-05",
          "2021-10-06",
          "2021-10-07",
          "2021-10-11",
          "2021-10-12",
          "2021-10-13",
          "2021-10-14",
          "2021-10-18",
          "2021-10-19",
          "2021-10-20",
          "2021-10-21",
          "2021-10-25",
          "2021-10-26",
          "2021-10-27",
          "2021-10-28",
          "2021-11-01",
          "2021-11-02",
          "2021-11-03",
          "2021-11-04",
          "2021-11-05",
          "2021-11-08",
          "2021-11-09",
          "2021-11-10",
          "2021-11-11",
          "2021-11-12",
          "2021-11-15",
          "2021-11-16",
          "2021-11-17",
          "2021-11-18",
          "2021-11-19",
          "2021-11-22",
          "2021-11-23",
          "2021-11-24",
          "2021-11-26",
          "2021-11-29",
          "2021-11-30",
          "2021-12-01",
          "2021-12-02",
          "2021-12-03",
          "2021-12-06",
          "2021-12-07",
          "2021-12-08",
          "2021-12-09",
          "2021-12-10",
          "2021-12-13",
          "2021-12-14",
          "2021-12-15",
          "2021-12-16",
          "2021-12-17",
          "2021-12-20",
          "2021-12-21",
          "2021-12-22",
          "2021-12-23",
          "2021-12-27",
          "2021-12-28",
          "2021-12-29",
          "2021-12-30",
          "2021-12-31",
          "2022-01-03",
          "2022-01-04",
          "2022-01-05",
          "2022-01-06",
          "2022-01-07",
          "2022-01-10",
          "2022-01-11",
          "2022-01-12",
          "2022-01-13",
          "2022-01-14",
          "2022-01-18",
          "2022-01-19",
          "2022-01-20",
          "2022-01-21",
          "2022-01-24",
          "2022-01-25",
          "2022-01-26",
          "2022-01-27",
          "2022-01-28",
          "2022-01-31",
          "2022-02-01",
          "2022-02-02",
          "2022-02-03",
          "2022-02-04",
          "2022-02-07",
          "2022-02-08",
          "2022-02-09",
          "2022-02-10",
          "2022-02-11",
          "2022-02-14",
          "2022-02-15",
          "2022-02-16",
          "2022-02-17",
          "2022-02-18",
          "2022-02-22",
          "2022-02-23",
          "2022-02-24",
          "2022-02-25",
          "2022-02-28",
          "2022-03-01"
         ],
         "xaxis": "x",
         "y": [
          288.04,
          285.93,
          287.01,
          286.21,
          287.71,
          289.68,
          288.85,
          290.76,
          290.36,
          291.02,
          293.45,
          294.46,
          293.85,
          293.92,
          294.22,
          291.54,
          286.89,
          290.01,
          289.71,
          290.61,
          285.42,
          287.49,
          291.92,
          295.21,
          296.22,
          294.73,
          296.84,
          297.37,
          299.28,
          298.99,
          299.49,
          298.66,
          300.11,
          298.93,
          295.82,
          285.93,
          277.35,
          276.13,
          263.88,
          262.29,
          273.99,
          266.44,
          277.49,
          268.18,
          263.69,
          243.35,
          255.85,
          243.15,
          219.63,
          240.15,
          211.97,
          225.84,
          213.48,
          213.67,
          204.36,
          198.08,
          216.98,
          219.77,
          232.97,
          225.82,
          233.11,
          229.67,
          219.3,
          224.43,
          236.16,
          236.29,
          244.32,
          247.94,
          245.53,
          253.03,
          247.52,
          248.78,
          251.03,
          243.37,
          248.72,
          248.67,
          255.92,
          254.73,
          261.32,
          259.02,
          252.76,
          255.09,
          253.38,
          256.37,
          260.69,
          255.46,
          250.92,
          253.94,
          262.87,
          260.4,
          264.66,
          262.74,
          266.73,
          270.6,
          270.09,
          272.48,
          274.7,
          278.35,
          277.63,
          288.17,
          286.13,
          284.35,
          267.95,
          273.65,
          279.01,
          277.74,
          278,
          278.2,
          279.44,
          272.3,
          275.18,
          272.66,
          276.29,
          278.19,
          279.58,
          283.92,
          280.98,
          283.06,
          281.62,
          281.87,
          285.65,
          288.17,
          287.35,
          290.49,
          291.1,
          292.75,
          289.27,
          289.49,
          287.7,
          291.17,
          290.12,
          294.39,
          295.61,
          297.47,
          299.46,
          300.57,
          298.14,
          302.23,
          301.71,
          302.69,
          303.32,
          302.03,
          302.99,
          307.15,
          308.24,
          311.38,
          312,
          312.93,
          315.86,
          320.45,
          309.37,
          298.45,
          304.33,
          299.02,
          303.14,
          304.69,
          303.47,
          300.81,
          294.09,
          297.07,
          290.19,
          290.98,
          300.59,
          298.87,
          301.18,
          303.09,
          305.52,
          301.25,
          306.42,
          309.13,
          316.9,
          314.88,
          312.91,
          312.55,
          307.55,
          308.77,
          308.22,
          309.9,
          305.24,
          304.23,
          293.76,
          296.85,
          293.51,
          296.93,
          302.17,
          308.97,
          315.02,
          314.98,
          318.92,
          318.5,
          320.74,
          317.77,
          322.09,
          326,
          324.37,
          320.43,
          321.78,
          319.61,
          321.52,
          326.71,
          326.18,
          327.11,
          325.64,
          329.22,
          329.92,
          329.82,
          332.66,
          332.04,
          333.01,
          330.05,
          329.89,
          329.47,
          327.97,
          332.49,
          333.01,
          334.82,
          333.48,
          332.44,
          331.79,
          332.05,
          333.38,
          336.28,
          335.57,
          336.02,
          337.83,
          333.25,
          335.44,
          337.48,
          342.53,
          344.44,
          342.2,
          342.23,
          343.09,
          341.92,
          339.49,
          342.17,
          346.8,
          347.13,
          345.91,
          347.3,
          346.77,
          338.37,
          341.21,
          334.38,
          339.89,
          344.76,
          345.11,
          348.98,
          350.36,
          352.94,
          352.65,
          352.51,
          353.09,
          354.89,
          354.58,
          354.66,
          353.12,
          352.46,
          349.69,
          350.14,
          354.03,
          345.54,
          343.63,
          352.02,
          349.29,
          344.68,
          340.44,
          346.67,
          344.98,
          349.79,
          351.97,
          355.67,
          356.18,
          358.24,
          357.84,
          359.01,
          353.74,
          353.1,
          355.89,
          353.28,
          351.34,
          353.3,
          359.06,
          358.84,
          357.93,
          359.35,
          363.16,
          368.4,
          368.19,
          368.65,
          370.44,
          373.28,
          374.29,
          373.09,
          377.09,
          376.55,
          373.79,
          377.3,
          373.84,
          378.65,
          378.54,
          378.36,
          380.88,
          379.22,
          376.9,
          376.97,
          380.04,
          379.01,
          375.69,
          367.66,
          372.04,
          376.83,
          373.58,
          372.61,
          376.57,
          380.08,
          379.29,
          379.97,
          380.14,
          380.59,
          381.24,
          379.77,
          382.89,
          382.95,
          382.35,
          384.13,
          385.75,
          384.94,
          382.83,
          382.69,
          382.9,
          384.93,
          384.53,
          386.73,
          388.96,
          389.13,
          389.49,
          391.68,
          393.92,
          395.28,
          392.13,
          397.7,
          396.36,
          396.9,
          395.63,
          386.68,
          392.14,
          395.44,
          396.28,
          401.25,
          399.47,
          399.26,
          400.98,
          398.21,
          401.42,
          399.5,
          402,
          402.31,
          402.81,
          403.78,
          404.96,
          406.72,
          404.04,
          399.7,
          400.27,
          407,
          407.65,
          408.4,
          406.02,
          411.5,
          410.8,
          411.23,
          412.46,
          410.78,
          410.38,
          408.54,
          406.34,
          404.22,
          407.6,
          406.89,
          396.33,
          395.94,
          399.76,
          404.59,
          404.11,
          396.04,
          396.66,
          391.64,
          391.45,
          395.26,
          397.01,
          400.43,
          396.76,
          395.97,
          397.24,
          403.91,
          408.3,
          411.48,
          413.08,
          414.1,
          415.82,
          416.22,
          414.41,
          418.46,
          420.1,
          421.72,
          424.26,
          426.24,
          427.7,
          428.22,
          426.71,
          423.27,
          423.41,
          426.56,
          426.76,
          428.39,
          427.36,
          428.84,
          428.04,
          426.9,
          427.46,
          428.51,
          419.19,
          424.25,
          416.13,
          411.34,
          417.61,
          413.93,
          418.87,
          427.48,
          428.68,
          425.76,
          429.82,
          426.01,
          423.1,
          429.72,
          425.84,
          421.42,
          416.87,
          424.26,
          428.55,
          431.19,
          437.34,
          437.01,
          437.54,
          436.3,
          435.1,
          437.78,
          437.6,
          429.21,
          428.64,
          427.15,
          426.59,
          430.33,
          431.62,
          425.67,
          425.8,
          418.33,
          413.94,
          409.38,
          401.34,
          403.01,
          398.12,
          397.22,
          395.21,
          404.9,
          412.3,
          414.99,
          418.95,
          409.21,
          411.14,
          409.78,
          413.1,
          419.16,
          411.79,
          403.58,
          402.27,
          408.72,
          409.21,
          400.51,
          397.95,
          393.59,
          386.51,
          392.45,
          401.02,
          400.01,
          394.01
         ],
         "yaxis": "y"
        },
        {
         "name": "jpy_voo",
         "type": "scatter",
         "x": [
          "2020-01-02",
          "2020-01-03",
          "2020-01-06",
          "2020-01-07",
          "2020-01-08",
          "2020-01-09",
          "2020-01-10",
          "2020-01-13",
          "2020-01-14",
          "2020-01-15",
          "2020-01-16",
          "2020-01-17",
          "2020-01-21",
          "2020-01-22",
          "2020-01-23",
          "2020-01-24",
          "2020-01-27",
          "2020-01-28",
          "2020-01-29",
          "2020-01-30",
          "2020-01-31",
          "2020-02-03",
          "2020-02-04",
          "2020-02-05",
          "2020-02-06",
          "2020-02-07",
          "2020-02-10",
          "2020-02-11",
          "2020-02-12",
          "2020-02-13",
          "2020-02-14",
          "2020-02-18",
          "2020-02-19",
          "2020-02-20",
          "2020-02-21",
          "2020-02-24",
          "2020-02-25",
          "2020-02-26",
          "2020-02-27",
          "2020-02-28",
          "2020-03-02",
          "2020-03-03",
          "2020-03-04",
          "2020-03-05",
          "2020-03-06",
          "2020-03-09",
          "2020-03-10",
          "2020-03-11",
          "2020-03-12",
          "2020-03-13",
          "2020-03-16",
          "2020-03-17",
          "2020-03-18",
          "2020-03-19",
          "2020-03-20",
          "2020-03-23",
          "2020-03-24",
          "2020-03-25",
          "2020-03-26",
          "2020-03-27",
          "2020-03-30",
          "2020-03-31",
          "2020-04-01",
          "2020-04-02",
          "2020-04-06",
          "2020-04-07",
          "2020-04-08",
          "2020-04-09",
          "2020-04-13",
          "2020-04-14",
          "2020-04-15",
          "2020-04-16",
          "2020-04-20",
          "2020-04-21",
          "2020-04-22",
          "2020-04-23",
          "2020-04-27",
          "2020-04-28",
          "2020-04-29",
          "2020-04-30",
          "2020-05-04",
          "2020-05-05",
          "2020-05-06",
          "2020-05-07",
          "2020-05-11",
          "2020-05-12",
          "2020-05-13",
          "2020-05-14",
          "2020-05-18",
          "2020-05-19",
          "2020-05-20",
          "2020-05-21",
          "2020-05-26",
          "2020-05-27",
          "2020-05-28",
          "2020-06-01",
          "2020-06-02",
          "2020-06-03",
          "2020-06-04",
          "2020-06-08",
          "2020-06-09",
          "2020-06-10",
          "2020-06-11",
          "2020-06-15",
          "2020-06-16",
          "2020-06-17",
          "2020-06-18",
          "2020-06-22",
          "2020-06-23",
          "2020-06-24",
          "2020-06-25",
          "2020-06-29",
          "2020-06-30",
          "2020-07-01",
          "2020-07-02",
          "2020-07-06",
          "2020-07-07",
          "2020-07-08",
          "2020-07-09",
          "2020-07-13",
          "2020-07-14",
          "2020-07-15",
          "2020-07-16",
          "2020-07-20",
          "2020-07-21",
          "2020-07-22",
          "2020-07-23",
          "2020-07-27",
          "2020-07-28",
          "2020-07-29",
          "2020-07-30",
          "2020-08-03",
          "2020-08-04",
          "2020-08-05",
          "2020-08-06",
          "2020-08-10",
          "2020-08-11",
          "2020-08-12",
          "2020-08-13",
          "2020-08-17",
          "2020-08-18",
          "2020-08-19",
          "2020-08-20",
          "2020-08-24",
          "2020-08-25",
          "2020-08-26",
          "2020-08-27",
          "2020-08-31",
          "2020-09-01",
          "2020-09-02",
          "2020-09-03",
          "2020-09-08",
          "2020-09-09",
          "2020-09-10",
          "2020-09-14",
          "2020-09-15",
          "2020-09-16",
          "2020-09-17",
          "2020-09-21",
          "2020-09-22",
          "2020-09-23",
          "2020-09-24",
          "2020-09-28",
          "2020-09-29",
          "2020-09-30",
          "2020-10-01",
          "2020-10-05",
          "2020-10-06",
          "2020-10-07",
          "2020-10-08",
          "2020-10-12",
          "2020-10-13",
          "2020-10-14",
          "2020-10-15",
          "2020-10-19",
          "2020-10-20",
          "2020-10-21",
          "2020-10-22",
          "2020-10-26",
          "2020-10-27",
          "2020-10-28",
          "2020-10-29",
          "2020-10-30",
          "2020-11-02",
          "2020-11-03",
          "2020-11-04",
          "2020-11-05",
          "2020-11-06",
          "2020-11-09",
          "2020-11-10",
          "2020-11-11",
          "2020-11-12",
          "2020-11-13",
          "2020-11-16",
          "2020-11-17",
          "2020-11-18",
          "2020-11-19",
          "2020-11-20",
          "2020-11-23",
          "2020-11-24",
          "2020-11-25",
          "2020-11-27",
          "2020-11-30",
          "2020-12-01",
          "2020-12-02",
          "2020-12-03",
          "2020-12-04",
          "2020-12-07",
          "2020-12-08",
          "2020-12-09",
          "2020-12-10",
          "2020-12-11",
          "2020-12-14",
          "2020-12-15",
          "2020-12-16",
          "2020-12-17",
          "2020-12-18",
          "2020-12-21",
          "2020-12-22",
          "2020-12-23",
          "2020-12-24",
          "2020-12-28",
          "2020-12-29",
          "2020-12-30",
          "2020-12-31",
          "2021-01-04",
          "2021-01-05",
          "2021-01-06",
          "2021-01-07",
          "2021-01-08",
          "2021-01-11",
          "2021-01-12",
          "2021-01-13",
          "2021-01-14",
          "2021-01-15",
          "2021-01-19",
          "2021-01-20",
          "2021-01-21",
          "2021-01-22",
          "2021-01-25",
          "2021-01-26",
          "2021-01-27",
          "2021-01-28",
          "2021-01-29",
          "2021-02-01",
          "2021-02-02",
          "2021-02-03",
          "2021-02-04",
          "2021-02-05",
          "2021-02-08",
          "2021-02-09",
          "2021-02-10",
          "2021-02-11",
          "2021-02-12",
          "2021-02-16",
          "2021-02-17",
          "2021-02-18",
          "2021-02-19",
          "2021-02-22",
          "2021-02-23",
          "2021-02-24",
          "2021-02-25",
          "2021-02-26",
          "2021-03-01",
          "2021-03-02",
          "2021-03-03",
          "2021-03-04",
          "2021-03-05",
          "2021-03-08",
          "2021-03-09",
          "2021-03-10",
          "2021-03-11",
          "2021-03-12",
          "2021-03-15",
          "2021-03-16",
          "2021-03-17",
          "2021-03-18",
          "2021-03-19",
          "2021-03-22",
          "2021-03-23",
          "2021-03-24",
          "2021-03-25",
          "2021-03-26",
          "2021-03-29",
          "2021-03-30",
          "2021-03-31",
          "2021-04-01",
          "2021-04-05",
          "2021-04-06",
          "2021-04-07",
          "2021-04-08",
          "2021-04-12",
          "2021-04-13",
          "2021-04-14",
          "2021-04-15",
          "2021-04-19",
          "2021-04-20",
          "2021-04-21",
          "2021-04-22",
          "2021-04-26",
          "2021-04-27",
          "2021-04-28",
          "2021-04-29",
          "2021-05-03",
          "2021-05-04",
          "2021-05-05",
          "2021-05-06",
          "2021-05-10",
          "2021-05-11",
          "2021-05-12",
          "2021-05-13",
          "2021-05-17",
          "2021-05-18",
          "2021-05-19",
          "2021-05-20",
          "2021-05-24",
          "2021-05-25",
          "2021-05-26",
          "2021-05-27",
          "2021-06-01",
          "2021-06-02",
          "2021-06-03",
          "2021-06-07",
          "2021-06-08",
          "2021-06-09",
          "2021-06-10",
          "2021-06-14",
          "2021-06-15",
          "2021-06-16",
          "2021-06-17",
          "2021-06-21",
          "2021-06-22",
          "2021-06-23",
          "2021-06-24",
          "2021-06-28",
          "2021-06-29",
          "2021-06-30",
          "2021-07-01",
          "2021-07-06",
          "2021-07-07",
          "2021-07-08",
          "2021-07-12",
          "2021-07-13",
          "2021-07-14",
          "2021-07-15",
          "2021-07-19",
          "2021-07-20",
          "2021-07-21",
          "2021-07-22",
          "2021-07-26",
          "2021-07-27",
          "2021-07-28",
          "2021-07-29",
          "2021-08-02",
          "2021-08-03",
          "2021-08-04",
          "2021-08-05",
          "2021-08-09",
          "2021-08-10",
          "2021-08-11",
          "2021-08-12",
          "2021-08-16",
          "2021-08-17",
          "2021-08-18",
          "2021-08-19",
          "2021-08-23",
          "2021-08-24",
          "2021-08-25",
          "2021-08-26",
          "2021-08-30",
          "2021-08-31",
          "2021-09-01",
          "2021-09-02",
          "2021-09-07",
          "2021-09-08",
          "2021-09-09",
          "2021-09-13",
          "2021-09-14",
          "2021-09-15",
          "2021-09-16",
          "2021-09-20",
          "2021-09-21",
          "2021-09-22",
          "2021-09-23",
          "2021-09-27",
          "2021-09-28",
          "2021-09-29",
          "2021-09-30",
          "2021-10-04",
          "2021-10-05",
          "2021-10-06",
          "2021-10-07",
          "2021-10-11",
          "2021-10-12",
          "2021-10-13",
          "2021-10-14",
          "2021-10-18",
          "2021-10-19",
          "2021-10-20",
          "2021-10-21",
          "2021-10-25",
          "2021-10-26",
          "2021-10-27",
          "2021-10-28",
          "2021-11-01",
          "2021-11-02",
          "2021-11-03",
          "2021-11-04",
          "2021-11-05",
          "2021-11-08",
          "2021-11-09",
          "2021-11-10",
          "2021-11-11",
          "2021-11-12",
          "2021-11-15",
          "2021-11-16",
          "2021-11-17",
          "2021-11-18",
          "2021-11-19",
          "2021-11-22",
          "2021-11-23",
          "2021-11-24",
          "2021-11-26",
          "2021-11-29",
          "2021-11-30",
          "2021-12-01",
          "2021-12-02",
          "2021-12-03",
          "2021-12-06",
          "2021-12-07",
          "2021-12-08",
          "2021-12-09",
          "2021-12-10",
          "2021-12-13",
          "2021-12-14",
          "2021-12-15",
          "2021-12-16",
          "2021-12-17",
          "2021-12-20",
          "2021-12-21",
          "2021-12-22",
          "2021-12-23",
          "2021-12-27",
          "2021-12-28",
          "2021-12-29",
          "2021-12-30",
          "2021-12-31",
          "2022-01-03",
          "2022-01-04",
          "2022-01-05",
          "2022-01-06",
          "2022-01-07",
          "2022-01-10",
          "2022-01-11",
          "2022-01-12",
          "2022-01-13",
          "2022-01-14",
          "2022-01-18",
          "2022-01-19",
          "2022-01-20",
          "2022-01-21",
          "2022-01-24",
          "2022-01-25",
          "2022-01-26",
          "2022-01-27",
          "2022-01-28",
          "2022-01-31",
          "2022-02-01",
          "2022-02-02",
          "2022-02-03",
          "2022-02-04",
          "2022-02-07",
          "2022-02-08",
          "2022-02-09",
          "2022-02-10",
          "2022-02-11",
          "2022-02-14",
          "2022-02-15",
          "2022-02-16",
          "2022-02-17",
          "2022-02-18",
          "2022-02-22",
          "2022-02-23",
          "2022-02-24",
          "2022-02-25",
          "2022-02-28",
          "2022-03-01"
         ],
         "xaxis": "x",
         "y": [
          31313.691781616213,
          31035.699780578612,
          30986.74674659729,
          31026.88075340271,
          31077.28302635193,
          31584.099567260746,
          31631.0980430603,
          31857.410710144042,
          31937.2761807251,
          31969.70999649048,
          32245.16729927063,
          32442.1313986206,
          32374.335027694706,
          32304.158516845706,
          32284.171226196293,
          31938.790649414066,
          31214.206340332028,
          31587.888668975833,
          31616.63281631469,
          31672.71192810059,
          31075.673026428227,
          31155.86675376892,
          31706.014897460944,
          32309.84845558166,
          32529.10396591187,
          32410.869323577885,
          32547.02080352783,
          32641.11507514954,
          32873.813734130854,
          32842.85574073792,
          32871.4243888092,
          32801.82834686279,
          32987.790705337524,
          33244.005026321414,
          33118.232984161375,
          31897.49278312683,
          30746.189576339722,
          30453.274039535518,
          29122.58816619873,
          28762.72236053467,
          29507.900645370486,
          28905.276149902347,
          29701.69784133911,
          28876.818383789065,
          28016.53540969848,
          25293.313161468504,
          26381.205075073245,
          25537.072137451174,
          22962.317170257564,
          25122.09164657593,
          22614.65611038208,
          23978.562689208982,
          22922.84172546387,
          23153.281330413818,
          22743.42883483887,
          21880.312561035156,
          24047.243214874266,
          24420.843003616337,
          25830.781592025756,
          24638.994641876216,
          25184.039703674316,
          24691.363102951047,
          23521.460929870602,
          24238.66430671692,
          25768.59789550781,
          25673.145020751952,
          26611.82232421875,
          26916.613598480224,
          26424.675459747312,
          27100.524177932744,
          26635.37996704101,
          26854.55702407837,
          27028.14874824524,
          26216.059933395387,
          26815.250240478515,
          26773.552844467158,
          27455.86462585449,
          27190.13424591064,
          27859.32535949707,
          27788.96164855957,
          26968.73336517334,
          27154.841567459105,
          26906.676059417725,
          27267.257127304074,
          28041.3810332489,
          27369.473604736326,
          26831.628023071287,
          27264.267557525633,
          28227.242603607177,
          28073.723364257814,
          28475.034964599618,
          28278.968074035645,
          28671.073713684083,
          29170.137858581544,
          29073.29726005554,
          29304.678092041016,
          29889.83178024292,
          30339.871802902224,
          30303.31492362976,
          31240.220545043943,
          30843.954771728517,
          30420.048148345955,
          28617.864226150512,
          29407.522748184205,
          29968.465121765137,
          29688.7387802124,
          29747.667083740234,
          29740.414566040035,
          29741.357858276362,
          29148.080850982667,
          29486.912564086913,
          29335.48840148926,
          29836.280371551515,
          29868.146792907715,
          30054.01172073364,
          30481.367609252928,
          30227.267263183596,
          30367.52516799927,
          30199.80233718872,
          30237.88639526367,
          30634.53503456116,
          30810.271837234493,
          30826.333264923094,
          31139.36579177856,
          31098.79541320801,
          31375.482143402096,
          30905.027518463132,
          30472.007349395753,
          30239.284549713135,
          30582.166764678957,
          30370.631570434572,
          31214.171340637207,
          31220.554070892336,
          31398.851327590946,
          31617.286643829342,
          31858.014467697143,
          31758.172050018304,
          32284.812635726932,
          32278.746078414915,
          32083.62738136292,
          31916.543383789063,
          32039.04108894348,
          32015.43862739563,
          32555.748787689212,
          32798.27682373047,
          32961.44215423585,
          33270.74432373047,
          33171.83103240967,
          33448.31173599243,
          34034.35365867615,
          32819.825366821286,
          31626.15029220581,
          32329.28108444214,
          31738.879184722897,
          32046.443989868163,
          32108.535885772704,
          31883.16406570435,
          31494.20479248047,
          30788.282817993157,
          31202.44936462402,
          30558.16800796509,
          30679.475589599617,
          31692.10506637573,
          31579.800117797855,
          31759.731095428466,
          31989.02764801025,
          32295.60286376953,
          31824.04981613159,
          32469.794177856445,
          32773.34364189148,
          33381.92811355591,
          33210.393984375,
          32899.04447090149,
          32930.26819076538,
          32437.29887542725,
          32568.132479629516,
          32263.237491302494,
          32515.017162322994,
          31953.438510131837,
          31893.03958282471,
          30711.138662109377,
          30965.908474731445,
          30687.644790802005,
          31052.939943695066,
          31644.752788925172,
          32301.576884536746,
          32900.059875183106,
          32632.871940307617,
          32929.446234436036,
          33486.13483047485,
          33761.093085174565,
          33497.72484092712,
          33848.43692047119,
          34124.3768157959,
          33909.96428878784,
          33382.71775177002,
          33431.01041656493,
          33183.50727462769,
          33379.242271728515,
          34149.3632485199,
          34090.05049926758,
          34098.599561843876,
          33893.26271850586,
          34337.317965545655,
          34413.62465576172,
          34452.33762039185,
          34537.75853027344,
          34597.90327148438,
          34632.37434585571,
          34369.75745506287,
          34398.291127014156,
          34324.84327857971,
          34088.87481086731,
          34582.28561027528,
          34511.159234313964,
          34645.498989105225,
          34392.124780883794,
          34393.24532348633,
          34287.17738494873,
          34378.463565063474,
          34522.166411132814,
          34816.076275329586,
          34794.9187335968,
          34797.89454421997,
          34837.368172302246,
          34404.39622116089,
          34592.25,
          34651.77191375733,
          35288.811430816655,
          35749.42791534424,
          35619.94136962891,
          35635.72487602234,
          35596.27330307007,
          35503.94635131836,
          35248.56871459961,
          35484.05651245117,
          36031.4807006836,
          35947.04725593567,
          35803.75931991577,
          36041.75224838257,
          35980.855940780646,
          35056.146036071776,
          35534.632259445185,
          34872.82470245361,
          35581.72352348328,
          36158.772423706054,
          36246.21303787231,
          36641.1560585022,
          36988.20542816162,
          37199.8765385437,
          37102.30617713928,
          36863.73217422486,
          36938.50959571837,
          37171.532536926265,
          37368.12282791138,
          37630.488854370116,
          37381.63634155274,
          37238.10407058716,
          36897.19063865662,
          36759.09816604613,
          37273.339474411005,
          36607.889844360354,
          36555.01501495361,
          37491.18547988891,
          37321.98506515503,
          36797.34855499268,
          36446.82506286621,
          37424.76048477172,
          37402.38617782593,
          38105.77385612488,
          38215.84791450501,
          38566.00915779114,
          38665.12000869751,
          39090.07292114258,
          39052.51152099609,
          39142.50104896545,
          38519.101929779055,
          38463.53601379395,
          38746.10097198486,
          38428.385624999995,
          38127.415620574946,
          38435.507323455815,
          39201.81204681397,
          39413.54971435546,
          39481.46875923157,
          39798.012500000004,
          40170.21670318604,
          40595.10149230957,
          40424.68440032959,
          40496.93883247375,
          40500.20587829589,
          40827.126925048826,
          40769.16530784607,
          40627.26141250609,
          40985.5361377716,
          40704.301739120485,
          40419.03527915955,
          40763.11525268555,
          40366.49433349609,
          40970.68861732483,
          41166.225000000006,
          41053.95076080322,
          41479.355264282225,
          41367.97137619019,
          41206.10099716186,
          41172.28709724426,
          41443.36315979004,
          41252.9651108551,
          40843.136974182125,
          40319.06677856446,
          40744.332208557134,
          41165.66164100647,
          40670.906026306155,
          40716.21350791931,
          40993.410429840085,
          41372.087291259755,
          41267.51132080078,
          41481.32420425416,
          41742.792540740964,
          41671.93942977906,
          41781.99826538086,
          41875.7183795929,
          41839.922654571536,
          41921.15422782897,
          41909.383733367926,
          42027.277857055655,
          42448.31589126587,
          42375.73481903076,
          42406.07781486511,
          42220.27308212281,
          42262.20481033325,
          42594.04396156311,
          42687.444758987425,
          42896.47740943909,
          43020.14164550781,
          43012.48597503662,
          43281.68697395325,
          43700.52041015625,
          43568.338806152344,
          43731.803644409185,
          43056.267111282345,
          43876.25128631592,
          43835.43468383789,
          43652.65006027221,
          43431.47009170532,
          42354.60579833984,
          43104.02808197022,
          43599.236113891595,
          43646.27895812988,
          44258.678283691406,
          43864.20272247315,
          43875.08019699097,
          43870.819449462884,
          43512.007371978754,
          43751.16614196778,
          43756.835231781006,
          44120.30355834962,
          44377.20676177979,
          44549.980207901004,
          44566.813941802975,
          44708.7988305664,
          44453.2746484375,
          44257.330515747075,
          43903.84854660034,
          43936.83645606994,
          44638.9465713501,
          44731.43586845398,
          44914.19755249022,
          44681.68754745483,
          45241.95610046387,
          45211.00469970703,
          45274.778356094364,
          45347.91457412719,
          45307.38990219116,
          45231.263791809084,
          44849.92901687623,
          44694.96329925537,
          44350.614895477294,
          44584.51211853028,
          44635.42509178162,
          43373.16480697632,
          43216.45588165284,
          43902.44215881348,
          44636.79488304138,
          44841.66078208924,
          44169.54907165527,
          44400.53257369995,
          43652.585466308585,
          43438.42450790405,
          44066.35142700196,
          44232.07592964172,
          44712.81568649292,
          44987.82307373046,
          44950.11731826782,
          45007.69023406983,
          45978.69079208374,
          46662.566995239256,
          47132.15333862305,
          47251.80809478759,
          47145.28436813355,
          47305.762046203614,
          47527.33083343506,
          47149.91256469727,
          47543.750236206055,
          47990.54362564087,
          48115.72242645263,
          48349.51726547241,
          48621.196669921876,
          48688.0840385437,
          48592.26384658814,
          48326.613402404786,
          47792.263325042724,
          48228.51553314209,
          48646.18176757813,
          48642.53275817871,
          48893.009101104726,
          49105.37315307617,
          48969.24064697265,
          48917.26628723145,
          48725.512408447255,
          49068.13379135131,
          49339.06941307068,
          48235.77421234131,
          48245.28650093078,
          47357.25887557984,
          46604.412141265864,
          47140.65360031128,
          46783.19777374268,
          47349.902463302606,
          48501.02591827393,
          48665.89765411377,
          48402.09903442382,
          48762.21852050781,
          48352.560775985716,
          48054.43017196655,
          48877.64033386231,
          48603.67491577148,
          47899.86230880737,
          47322.247718582155,
          48222.24120758056,
          48852.13011245728,
          49207.834937438965,
          50002.39430007935,
          50165.25183998107,
          50217.77956832886,
          50151.81154785156,
          50063.912840271,
          50406.864011840815,
          50467.534082031256,
          49863.04408561706,
          49777.10521362304,
          49491.73383750915,
          49321.48100570679,
          49607.58168746947,
          49779.16677322388,
          48813.708549041745,
          48591.442788696295,
          47928.486072540276,
          47418.4831137085,
          46811.37490997315,
          45749.94910125733,
          45856.4943258667,
          45390.05995178223,
          45233.427500000005,
          45338.88667533874,
          46706.0237373352,
          47522.523027801515,
          47774.064701843265,
          48068.647225570676,
          46806.25976852416,
          47263.42128112793,
          47216.49031982422,
          47532.52676239014,
          48425.97321807862,
          47603.746499252324,
          46834.24707763672,
          46495.97553268432,
          47221.87519226074,
          47318.99922416687,
          46213.64778556824,
          45710.92363128662,
          45108.95676643371,
          44485.75521949768,
          45091.72112998962,
          46346.28207733153,
          46235.155483779905,
          45341.88393432617
         ],
         "yaxis": "y2"
        }
       ],
       "layout": {
        "template": {
         "data": {
          "bar": [
           {
            "error_x": {
             "color": "#2a3f5f"
            },
            "error_y": {
             "color": "#2a3f5f"
            },
            "marker": {
             "line": {
              "color": "#E5ECF6",
              "width": 0.5
             },
             "pattern": {
              "fillmode": "overlay",
              "size": 10,
              "solidity": 0.2
             }
            },
            "type": "bar"
           }
          ],
          "barpolar": [
           {
            "marker": {
             "line": {
              "color": "#E5ECF6",
              "width": 0.5
             },
             "pattern": {
              "fillmode": "overlay",
              "size": 10,
              "solidity": 0.2
             }
            },
            "type": "barpolar"
           }
          ],
          "carpet": [
           {
            "aaxis": {
             "endlinecolor": "#2a3f5f",
             "gridcolor": "white",
             "linecolor": "white",
             "minorgridcolor": "white",
             "startlinecolor": "#2a3f5f"
            },
            "baxis": {
             "endlinecolor": "#2a3f5f",
             "gridcolor": "white",
             "linecolor": "white",
             "minorgridcolor": "white",
             "startlinecolor": "#2a3f5f"
            },
            "type": "carpet"
           }
          ],
          "choropleth": [
           {
            "colorbar": {
             "outlinewidth": 0,
             "ticks": ""
            },
            "type": "choropleth"
           }
          ],
          "contour": [
           {
            "colorbar": {
             "outlinewidth": 0,
             "ticks": ""
            },
            "colorscale": [
             [
              0,
              "#0d0887"
             ],
             [
              0.1111111111111111,
              "#46039f"
             ],
             [
              0.2222222222222222,
              "#7201a8"
             ],
             [
              0.3333333333333333,
              "#9c179e"
             ],
             [
              0.4444444444444444,
              "#bd3786"
             ],
             [
              0.5555555555555556,
              "#d8576b"
             ],
             [
              0.6666666666666666,
              "#ed7953"
             ],
             [
              0.7777777777777778,
              "#fb9f3a"
             ],
             [
              0.8888888888888888,
              "#fdca26"
             ],
             [
              1,
              "#f0f921"
             ]
            ],
            "type": "contour"
           }
          ],
          "contourcarpet": [
           {
            "colorbar": {
             "outlinewidth": 0,
             "ticks": ""
            },
            "type": "contourcarpet"
           }
          ],
          "heatmap": [
           {
            "colorbar": {
             "outlinewidth": 0,
             "ticks": ""
            },
            "colorscale": [
             [
              0,
              "#0d0887"
             ],
             [
              0.1111111111111111,
              "#46039f"
             ],
             [
              0.2222222222222222,
              "#7201a8"
             ],
             [
              0.3333333333333333,
              "#9c179e"
             ],
             [
              0.4444444444444444,
              "#bd3786"
             ],
             [
              0.5555555555555556,
              "#d8576b"
             ],
             [
              0.6666666666666666,
              "#ed7953"
             ],
             [
              0.7777777777777778,
              "#fb9f3a"
             ],
             [
              0.8888888888888888,
              "#fdca26"
             ],
             [
              1,
              "#f0f921"
             ]
            ],
            "type": "heatmap"
           }
          ],
          "heatmapgl": [
           {
            "colorbar": {
             "outlinewidth": 0,
             "ticks": ""
            },
            "colorscale": [
             [
              0,
              "#0d0887"
             ],
             [
              0.1111111111111111,
              "#46039f"
             ],
             [
              0.2222222222222222,
              "#7201a8"
             ],
             [
              0.3333333333333333,
              "#9c179e"
             ],
             [
              0.4444444444444444,
              "#bd3786"
             ],
             [
              0.5555555555555556,
              "#d8576b"
             ],
             [
              0.6666666666666666,
              "#ed7953"
             ],
             [
              0.7777777777777778,
              "#fb9f3a"
             ],
             [
              0.8888888888888888,
              "#fdca26"
             ],
             [
              1,
              "#f0f921"
             ]
            ],
            "type": "heatmapgl"
           }
          ],
          "histogram": [
           {
            "marker": {
             "pattern": {
              "fillmode": "overlay",
              "size": 10,
              "solidity": 0.2
             }
            },
            "type": "histogram"
           }
          ],
          "histogram2d": [
           {
            "colorbar": {
             "outlinewidth": 0,
             "ticks": ""
            },
            "colorscale": [
             [
              0,
              "#0d0887"
             ],
             [
              0.1111111111111111,
              "#46039f"
             ],
             [
              0.2222222222222222,
              "#7201a8"
             ],
             [
              0.3333333333333333,
              "#9c179e"
             ],
             [
              0.4444444444444444,
              "#bd3786"
             ],
             [
              0.5555555555555556,
              "#d8576b"
             ],
             [
              0.6666666666666666,
              "#ed7953"
             ],
             [
              0.7777777777777778,
              "#fb9f3a"
             ],
             [
              0.8888888888888888,
              "#fdca26"
             ],
             [
              1,
              "#f0f921"
             ]
            ],
            "type": "histogram2d"
           }
          ],
          "histogram2dcontour": [
           {
            "colorbar": {
             "outlinewidth": 0,
             "ticks": ""
            },
            "colorscale": [
             [
              0,
              "#0d0887"
             ],
             [
              0.1111111111111111,
              "#46039f"
             ],
             [
              0.2222222222222222,
              "#7201a8"
             ],
             [
              0.3333333333333333,
              "#9c179e"
             ],
             [
              0.4444444444444444,
              "#bd3786"
             ],
             [
              0.5555555555555556,
              "#d8576b"
             ],
             [
              0.6666666666666666,
              "#ed7953"
             ],
             [
              0.7777777777777778,
              "#fb9f3a"
             ],
             [
              0.8888888888888888,
              "#fdca26"
             ],
             [
              1,
              "#f0f921"
             ]
            ],
            "type": "histogram2dcontour"
           }
          ],
          "mesh3d": [
           {
            "colorbar": {
             "outlinewidth": 0,
             "ticks": ""
            },
            "type": "mesh3d"
           }
          ],
          "parcoords": [
           {
            "line": {
             "colorbar": {
              "outlinewidth": 0,
              "ticks": ""
             }
            },
            "type": "parcoords"
           }
          ],
          "pie": [
           {
            "automargin": true,
            "type": "pie"
           }
          ],
          "scatter": [
           {
            "fillpattern": {
             "fillmode": "overlay",
             "size": 10,
             "solidity": 0.2
            },
            "type": "scatter"
           }
          ],
          "scatter3d": [
           {
            "line": {
             "colorbar": {
              "outlinewidth": 0,
              "ticks": ""
             }
            },
            "marker": {
             "colorbar": {
              "outlinewidth": 0,
              "ticks": ""
             }
            },
            "type": "scatter3d"
           }
          ],
          "scattercarpet": [
           {
            "marker": {
             "colorbar": {
              "outlinewidth": 0,
              "ticks": ""
             }
            },
            "type": "scattercarpet"
           }
          ],
          "scattergeo": [
           {
            "marker": {
             "colorbar": {
              "outlinewidth": 0,
              "ticks": ""
             }
            },
            "type": "scattergeo"
           }
          ],
          "scattergl": [
           {
            "marker": {
             "colorbar": {
              "outlinewidth": 0,
              "ticks": ""
             }
            },
            "type": "scattergl"
           }
          ],
          "scattermapbox": [
           {
            "marker": {
             "colorbar": {
              "outlinewidth": 0,
              "ticks": ""
             }
            },
            "type": "scattermapbox"
           }
          ],
          "scatterpolar": [
           {
            "marker": {
             "colorbar": {
              "outlinewidth": 0,
              "ticks": ""
             }
            },
            "type": "scatterpolar"
           }
          ],
          "scatterpolargl": [
           {
            "marker": {
             "colorbar": {
              "outlinewidth": 0,
              "ticks": ""
             }
            },
            "type": "scatterpolargl"
           }
          ],
          "scatterternary": [
           {
            "marker": {
             "colorbar": {
              "outlinewidth": 0,
              "ticks": ""
             }
            },
            "type": "scatterternary"
           }
          ],
          "surface": [
           {
            "colorbar": {
             "outlinewidth": 0,
             "ticks": ""
            },
            "colorscale": [
             [
              0,
              "#0d0887"
             ],
             [
              0.1111111111111111,
              "#46039f"
             ],
             [
              0.2222222222222222,
              "#7201a8"
             ],
             [
              0.3333333333333333,
              "#9c179e"
             ],
             [
              0.4444444444444444,
              "#bd3786"
             ],
             [
              0.5555555555555556,
              "#d8576b"
             ],
             [
              0.6666666666666666,
              "#ed7953"
             ],
             [
              0.7777777777777778,
              "#fb9f3a"
             ],
             [
              0.8888888888888888,
              "#fdca26"
             ],
             [
              1,
              "#f0f921"
             ]
            ],
            "type": "surface"
           }
          ],
          "table": [
           {
            "cells": {
             "fill": {
              "color": "#EBF0F8"
             },
             "line": {
              "color": "white"
             }
            },
            "header": {
             "fill": {
              "color": "#C8D4E3"
             },
             "line": {
              "color": "white"
             }
            },
            "type": "table"
           }
          ]
         },
         "layout": {
          "annotationdefaults": {
           "arrowcolor": "#2a3f5f",
           "arrowhead": 0,
           "arrowwidth": 1
          },
          "autotypenumbers": "strict",
          "coloraxis": {
           "colorbar": {
            "outlinewidth": 0,
            "ticks": ""
           }
          },
          "colorscale": {
           "diverging": [
            [
             0,
             "#8e0152"
            ],
            [
             0.1,
             "#c51b7d"
            ],
            [
             0.2,
             "#de77ae"
            ],
            [
             0.3,
             "#f1b6da"
            ],
            [
             0.4,
             "#fde0ef"
            ],
            [
             0.5,
             "#f7f7f7"
            ],
            [
             0.6,
             "#e6f5d0"
            ],
            [
             0.7,
             "#b8e186"
            ],
            [
             0.8,
             "#7fbc41"
            ],
            [
             0.9,
             "#4d9221"
            ],
            [
             1,
             "#276419"
            ]
           ],
           "sequential": [
            [
             0,
             "#0d0887"
            ],
            [
             0.1111111111111111,
             "#46039f"
            ],
            [
             0.2222222222222222,
             "#7201a8"
            ],
            [
             0.3333333333333333,
             "#9c179e"
            ],
            [
             0.4444444444444444,
             "#bd3786"
            ],
            [
             0.5555555555555556,
             "#d8576b"
            ],
            [
             0.6666666666666666,
             "#ed7953"
            ],
            [
             0.7777777777777778,
             "#fb9f3a"
            ],
            [
             0.8888888888888888,
             "#fdca26"
            ],
            [
             1,
             "#f0f921"
            ]
           ],
           "sequentialminus": [
            [
             0,
             "#0d0887"
            ],
            [
             0.1111111111111111,
             "#46039f"
            ],
            [
             0.2222222222222222,
             "#7201a8"
            ],
            [
             0.3333333333333333,
             "#9c179e"
            ],
            [
             0.4444444444444444,
             "#bd3786"
            ],
            [
             0.5555555555555556,
             "#d8576b"
            ],
            [
             0.6666666666666666,
             "#ed7953"
            ],
            [
             0.7777777777777778,
             "#fb9f3a"
            ],
            [
             0.8888888888888888,
             "#fdca26"
            ],
            [
             1,
             "#f0f921"
            ]
           ]
          },
          "colorway": [
           "#636efa",
           "#EF553B",
           "#00cc96",
           "#ab63fa",
           "#FFA15A",
           "#19d3f3",
           "#FF6692",
           "#B6E880",
           "#FF97FF",
           "#FECB52"
          ],
          "font": {
           "color": "#2a3f5f"
          },
          "geo": {
           "bgcolor": "white",
           "lakecolor": "white",
           "landcolor": "#E5ECF6",
           "showlakes": true,
           "showland": true,
           "subunitcolor": "white"
          },
          "hoverlabel": {
           "align": "left"
          },
          "hovermode": "closest",
          "mapbox": {
           "style": "light"
          },
          "paper_bgcolor": "white",
          "plot_bgcolor": "#E5ECF6",
          "polar": {
           "angularaxis": {
            "gridcolor": "white",
            "linecolor": "white",
            "ticks": ""
           },
           "bgcolor": "#E5ECF6",
           "radialaxis": {
            "gridcolor": "white",
            "linecolor": "white",
            "ticks": ""
           }
          },
          "scene": {
           "xaxis": {
            "backgroundcolor": "#E5ECF6",
            "gridcolor": "white",
            "gridwidth": 2,
            "linecolor": "white",
            "showbackground": true,
            "ticks": "",
            "zerolinecolor": "white"
           },
           "yaxis": {
            "backgroundcolor": "#E5ECF6",
            "gridcolor": "white",
            "gridwidth": 2,
            "linecolor": "white",
            "showbackground": true,
            "ticks": "",
            "zerolinecolor": "white"
           },
           "zaxis": {
            "backgroundcolor": "#E5ECF6",
            "gridcolor": "white",
            "gridwidth": 2,
            "linecolor": "white",
            "showbackground": true,
            "ticks": "",
            "zerolinecolor": "white"
           }
          },
          "shapedefaults": {
           "line": {
            "color": "#2a3f5f"
           }
          },
          "ternary": {
           "aaxis": {
            "gridcolor": "white",
            "linecolor": "white",
            "ticks": ""
           },
           "baxis": {
            "gridcolor": "white",
            "linecolor": "white",
            "ticks": ""
           },
           "bgcolor": "#E5ECF6",
           "caxis": {
            "gridcolor": "white",
            "linecolor": "white",
            "ticks": ""
           }
          },
          "title": {
           "x": 0.05
          },
          "xaxis": {
           "automargin": true,
           "gridcolor": "white",
           "linecolor": "white",
           "ticks": "",
           "title": {
            "standoff": 15
           },
           "zerolinecolor": "white",
           "zerolinewidth": 2
          },
          "yaxis": {
           "automargin": true,
           "gridcolor": "white",
           "linecolor": "white",
           "ticks": "",
           "title": {
            "standoff": 15
           },
           "zerolinecolor": "white",
           "zerolinewidth": 2
          }
         }
        },
        "title": {
         "text": "Double Y Axis Example"
        },
        "xaxis": {
         "anchor": "y",
         "domain": [
          0,
          0.94
         ],
         "showgrid": false,
         "title": {
          "text": "xaxis title"
         },
         "zeroline": false
        },
        "yaxis": {
         "anchor": "x",
         "domain": [
          0,
          1
         ],
         "showgrid": false,
         "title": {
          "text": "<b>primary</b> yaxis title"
         },
         "zeroline": false
        },
        "yaxis2": {
         "anchor": "x",
         "overlaying": "y",
         "showgrid": false,
         "side": "right",
         "title": {
          "text": "<b>secondary</b> yaxis title"
         },
         "zeroline": false
        }
       }
      }
     },
     "metadata": {},
     "output_type": "display_data"
    }
   ],
   "source": [
    "\n",
    "\n",
    "# Create figure with secondary y-axis\n",
    "fig = make_subplots(specs=[[{\"secondary_y\": True}]])\n",
    "\n",
    "x1 = stocks['Date'].values\n",
    "y1 = stocks['Close_y'].values\n",
    "x2 = stocks['Date'].values\n",
    "y2 = stocks['jpy_voo'].values\n",
    "\n",
    "# Add traces\n",
    "fig.add_trace(\n",
    "    go.Scatter(x=x1, y=y1, name=\"VOO\"),\n",
    "    secondary_y=False,\n",
    ")\n",
    "\n",
    "fig.add_trace(\n",
    "    go.Scatter(x=x2, y=y2, name=\"jpy_voo\"),\n",
    "    secondary_y=True,\n",
    ")\n",
    "\n",
    "# Add figure title\n",
    "fig.update_layout(\n",
    "    title_text=\"Double Y Axis Example\"\n",
    ")\n",
    "\n",
    "# Set x-axis title\n",
    "fig.update_xaxes(title_text=\"xaxis title\")\n",
    "\n",
    "# Set y-axes titles\n",
    "fig.update_yaxes(title_text=\"<b>primary</b> yaxis title\", secondary_y=False)\n",
    "fig.update_yaxes(title_text=\"<b>secondary</b> yaxis title\", secondary_y=True)\n",
    "\n",
    "# off grid and zero axis\n",
    "fig.update_xaxes(showgrid=False, zeroline=False)\n",
    "fig.update_yaxes(showgrid=False, zeroline=False)\n",
    "\n",
    "fig.show()"
   ]
  },
  {
   "cell_type": "code",
   "execution_count": 74,
   "id": "82d00aba",
   "metadata": {},
   "outputs": [],
   "source": [
    "# シャープレシオ\n",
    "# 1年前のレコードをJOINする\n",
    "# 円換算で、レシオ計算、NAN処理忘れずに"
   ]
  },
  {
   "cell_type": "code",
   "execution_count": 75,
   "id": "3ff49934",
   "metadata": {},
   "outputs": [],
   "source": [
    "# ポートフォリオ\n",
    "# 株式：VOO、VEA、VWO、1306、2833、HEZU\n",
    "# コモディティ：1540、BTC、USO、DBA\n",
    "# 債券：BND\n",
    "# 現金：円、ドル"
   ]
  },
  {
   "cell_type": "code",
   "execution_count": 315,
   "id": "8586433a",
   "metadata": {},
   "outputs": [],
   "source": [
    "tickers = [\n",
    "        \"VOO\",\n",
    "        \"VWO\",\n",
    "        \"VEA\",\n",
    "        \"VTI\",\n",
    "        \"1306.JP\",\n",
    "        \"1540.JP\",\n",
    "        \"BND\",\n",
    "        \"BTC-USD\",\n",
    "        \"HEZU\",\n",
    "        \"JPY=X\",\n",
    "    ]"
   ]
  },
  {
   "cell_type": "code",
   "execution_count": 316,
   "id": "20f34754",
   "metadata": {},
   "outputs": [],
   "source": [
    "stc_dt = pd.DataFrame()\n",
    "for t in tickers:\n",
    "    df = pd.read_csv(f\"../data/{t}.csv\")\n",
    "    stc_dt = pd.concat([stc_dt, df], axis=0)\n",
    "stc_dt = stc_dt.drop_duplicates(subset=\"Date\", keep=\"first\")\n",
    "stc_dt = stc_dt.sort_values('Date')\n"
   ]
  },
  {
   "cell_type": "code",
   "execution_count": 317,
   "id": "64d45c49",
   "metadata": {},
   "outputs": [],
   "source": [
    "stc = stc_dt['Date']\n",
    "for t in tickers:\n",
    "    df = pd.read_csv(f'../data/{t}.csv')\n",
    "    df = df.add_suffix(f'_{t}')\n",
    "    df_unq = f'Date_{t}'\n",
    "    stc = pd.merge(stc, df, how='left', left_on='Date', right_on=df_unq)"
   ]
  },
  {
   "cell_type": "code",
   "execution_count": 3,
   "id": "a4558550",
   "metadata": {},
   "outputs": [],
   "source": [
    "portfolio_master = {\n",
    "    \"VOO\": {\"currency\": \"USD\", 'type': 'stock', \"detail\": \"S&P500\", \"number_of_hold\": 0, \"recent_value\": 0},\n",
    "    \"VWO\": {\"currency\": \"USD\", 'type': 'stock', \"detail\": \"Emerging Country\", \"number_of_hold\": 0, \"recent_value\": 0},\n",
    "    \"VEA\": {\"currency\": \"USD\", 'type': 'stock', \"detail\": \"Developed Country\", \"number_of_hold\": 0, \"recent_value\": 0},\n",
    "    \"VTI\": {\"currency\": \"USD\", 'type': 'stock', \"detail\": \"All Country\", \"number_of_hold\": 0, \"recent_value\": 0},\n",
    "    \"1306.JP\": {\"currency\": \"JPY\", 'type': 'stock', \"detail\": \"TOPIX\", \"number_of_hold\": 0, \"recent_value\": 0},\n",
    "    \"1540.JP\": {\"currency\": \"JPY\", 'type': 'commodity', \"detail\": \"Gold\", \"number_of_hold\": 0, \"recent_value\": 0},\n",
    "    \"BND\": {\"currency\": \"USD\", 'type': 'bond', \"detail\": \"USA Bond\", \"number_of_hold\": 0, \"recent_value\": 0},\n",
    "    \"BTC-USD\": {\"currency\": \"USD\", 'type': 'commodity', \"detail\": \"Bitcoin\", \"number_of_hold\": 0, \"recent_value\": 0},\n",
    "    \"HEZU\": {\"currency\": \"USD\", 'type': 'stock', \"detail\": \"Eurozone Stocks\", \"number_of_hold\": 0, \"recent_value\": 0},\n",
    "}\n"
   ]
  },
  {
   "cell_type": "code",
   "execution_count": 4,
   "id": "ed9f7b10",
   "metadata": {},
   "outputs": [],
   "source": []
  },
  {
   "cell_type": "code",
   "execution_count": 7,
   "id": "eb744da2",
   "metadata": {},
   "outputs": [],
   "source": [
    "with open(\"../portfolio.yaml\", \"w\") as f:\n",
    "    yaml.dump(portfolio_master, f)"
   ]
  },
  {
   "cell_type": "code",
   "execution_count": 333,
   "id": "173990a5",
   "metadata": {},
   "outputs": [],
   "source": [
    "# number of holds\n",
    "portfolio_master['VOO']['number_of_holds'] = 1\n",
    "portfolio_master['VWO']['number_of_holds'] = 1\n",
    "portfolio_master['VEA']['number_of_holds'] = 1\n",
    "portfolio_master['VTI']['number_of_holds'] = 1\n",
    "portfolio_master['1306.JP']['number_of_holds'] = 10\n",
    "portfolio_master['1540.JP']['number_of_holds'] = 10\n",
    "portfolio_master['BND']['number_of_holds'] = 10\n",
    "portfolio_master['BTC-USD']['number_of_holds'] = 0.01\n",
    "portfolio_master['HEZU']['number_of_holds'] = 1\n"
   ]
  },
  {
   "cell_type": "code",
   "execution_count": 334,
   "id": "aff435c6",
   "metadata": {},
   "outputs": [],
   "source": [
    "def usd_to_jpy(x, col):\n",
    "    if np.isnan(x[col]) or np.isnan(x['Close_JPY=X']):\n",
    "        return np.nan\n",
    "    else:\n",
    "        return x[col] * x['Close_JPY=X']"
   ]
  },
  {
   "cell_type": "code",
   "execution_count": 335,
   "id": "78b82d70",
   "metadata": {},
   "outputs": [],
   "source": [
    "# USD -> JPY / JPY -> JPY\n",
    "for k in portfolio_master.keys():\n",
    "    if portfolio_master[k]['currency'] == 'USD':\n",
    "        stc[f'Close_{k}_JPY'] = stc.apply(lambda x: usd_to_jpy(x, f'Close_{k}'), axis=1)\n",
    "    elif portfolio_master[k]['currency'] == 'JPY':\n",
    "        stc[f'Close_{k}_JPY'] = stc[f'Close_{k}']\n",
    "    else:\n",
    "        raise KeyError"
   ]
  },
  {
   "cell_type": "code",
   "execution_count": 336,
   "id": "0314c2c2",
   "metadata": {},
   "outputs": [
    {
     "data": {
      "application/vnd.plotly.v1+json": {
       "config": {
        "plotlyServerURL": "https://plot.ly"
       },
       "data": [
        {
         "hovertemplate": "Date=%{x}<br>Close_1540.JP_JPY=%{y}<extra></extra>",
         "legendgroup": "",
         "line": {
          "color": "#636efa",
          "dash": "solid"
         },
         "marker": {
          "symbol": "circle"
         },
         "mode": "lines",
         "name": "",
         "orientation": "v",
         "showlegend": false,
         "type": "scatter",
         "x": [
          "2020-01-06",
          "2020-01-07",
          "2020-01-08",
          "2020-01-09",
          "2020-01-10",
          "2020-01-14",
          "2020-01-15",
          "2020-01-16",
          "2020-01-17",
          "2020-01-20",
          "2020-01-21",
          "2020-01-22",
          "2020-01-23",
          "2020-01-24",
          "2020-01-27",
          "2020-01-28",
          "2020-01-29",
          "2020-01-30",
          "2020-01-31",
          "2020-02-03",
          "2020-02-04",
          "2020-02-05",
          "2020-02-06",
          "2020-02-07",
          "2020-02-10",
          "2020-02-12",
          "2020-02-13",
          "2020-02-14",
          "2020-02-17",
          "2020-02-18",
          "2020-02-19",
          "2020-02-20",
          "2020-02-21",
          "2020-02-25",
          "2020-02-26",
          "2020-02-27",
          "2020-02-28",
          "2020-03-02",
          "2020-03-03",
          "2020-03-04",
          "2020-03-05",
          "2020-03-06",
          "2020-03-09",
          "2020-03-10",
          "2020-03-11",
          "2020-03-12",
          "2020-03-13",
          "2020-03-16",
          "2020-03-17",
          "2020-03-18",
          "2020-03-19",
          "2020-03-23",
          "2020-03-24",
          "2020-03-25",
          "2020-03-26",
          "2020-03-27",
          "2020-03-30",
          "2020-03-31",
          "2020-04-01",
          "2020-04-02",
          "2020-04-03",
          "2020-04-06",
          "2020-04-07",
          "2020-04-08",
          "2020-04-09",
          "2020-04-10",
          "2020-04-13",
          "2020-04-14",
          "2020-04-15",
          "2020-04-16",
          "2020-04-17",
          "2020-04-20",
          "2020-04-21",
          "2020-04-22",
          "2020-04-23",
          "2020-04-24",
          "2020-04-27",
          "2020-04-28",
          "2020-04-30",
          "2020-05-01",
          "2020-05-07",
          "2020-05-08",
          "2020-05-11",
          "2020-05-12",
          "2020-05-13",
          "2020-05-14",
          "2020-05-15",
          "2020-05-18",
          "2020-05-19",
          "2020-05-20",
          "2020-05-21",
          "2020-05-22",
          "2020-05-25",
          "2020-05-26",
          "2020-05-27",
          "2020-05-28",
          "2020-05-29",
          "2020-06-01",
          "2020-06-02",
          "2020-06-03",
          "2020-06-04",
          "2020-06-05",
          "2020-06-08",
          "2020-06-09",
          "2020-06-10",
          "2020-06-11",
          "2020-06-12",
          "2020-06-15",
          "2020-06-16",
          "2020-06-17",
          "2020-06-18",
          "2020-06-19",
          "2020-06-22",
          "2020-06-23",
          "2020-06-24",
          "2020-06-25",
          "2020-06-26",
          "2020-06-29",
          "2020-06-30",
          "2020-07-01",
          "2020-07-02",
          "2020-07-03",
          "2020-07-06",
          "2020-07-07",
          "2020-07-08",
          "2020-07-09",
          "2020-07-10",
          "2020-07-13",
          "2020-07-14",
          "2020-07-15",
          "2020-07-16",
          "2020-07-17",
          "2020-07-20",
          "2020-07-21",
          "2020-07-22",
          "2020-07-27",
          "2020-07-28",
          "2020-07-29",
          "2020-07-30",
          "2020-07-31",
          "2020-08-03",
          "2020-08-04",
          "2020-08-05",
          "2020-08-06",
          "2020-08-07",
          "2020-08-11",
          "2020-08-12",
          "2020-08-13",
          "2020-08-14",
          "2020-08-17",
          "2020-08-18",
          "2020-08-19",
          "2020-08-20",
          "2020-08-21",
          "2020-08-24",
          "2020-08-25",
          "2020-08-26",
          "2020-08-27",
          "2020-08-28",
          "2020-08-31",
          "2020-09-01",
          "2020-09-02",
          "2020-09-03",
          "2020-09-04",
          "2020-09-07",
          "2020-09-08",
          "2020-09-09",
          "2020-09-10",
          "2020-09-11",
          "2020-09-14",
          "2020-09-15",
          "2020-09-16",
          "2020-09-17",
          "2020-09-18",
          "2020-09-23",
          "2020-09-24",
          "2020-09-25",
          "2020-09-28",
          "2020-09-29",
          "2020-09-30",
          "2020-10-02",
          "2020-10-05",
          "2020-10-06",
          "2020-10-07",
          "2020-10-08",
          "2020-10-09",
          "2020-10-12",
          "2020-10-13",
          "2020-10-14",
          "2020-10-15",
          "2020-10-16",
          "2020-10-19",
          "2020-10-20",
          "2020-10-21",
          "2020-10-22",
          "2020-10-23",
          "2020-10-26",
          "2020-10-27",
          "2020-10-28",
          "2020-10-29",
          "2020-10-30",
          "2020-11-02",
          "2020-11-04",
          "2020-11-05",
          "2020-11-06",
          "2020-11-09",
          "2020-11-10",
          "2020-11-11",
          "2020-11-12",
          "2020-11-13",
          "2020-11-16",
          "2020-11-17",
          "2020-11-18",
          "2020-11-19",
          "2020-11-20",
          "2020-11-24",
          "2020-11-25",
          "2020-11-26",
          "2020-11-27",
          "2020-11-30",
          "2020-12-01",
          "2020-12-02",
          "2020-12-03",
          "2020-12-04",
          "2020-12-07",
          "2020-12-08",
          "2020-12-09",
          "2020-12-10",
          "2020-12-11",
          "2020-12-14",
          "2020-12-15",
          "2020-12-16",
          "2020-12-17",
          "2020-12-18",
          "2020-12-21",
          "2020-12-22",
          "2020-12-23",
          "2020-12-24",
          "2020-12-25",
          "2020-12-28",
          "2020-12-29",
          "2020-12-30",
          "2021-01-04",
          "2021-01-05",
          "2021-01-06",
          "2021-01-07",
          "2021-01-08",
          "2021-01-12",
          "2021-01-13",
          "2021-01-14",
          "2021-01-15",
          "2021-01-18",
          "2021-01-19",
          "2021-01-20",
          "2021-01-21",
          "2021-01-22",
          "2021-01-25",
          "2021-01-26",
          "2021-01-27",
          "2021-01-28",
          "2021-01-29",
          "2021-02-01",
          "2021-02-02",
          "2021-02-03",
          "2021-02-04",
          "2021-02-05",
          "2021-02-08",
          "2021-02-09",
          "2021-02-10",
          "2021-02-12",
          "2021-02-15",
          "2021-02-16",
          "2021-02-17",
          "2021-02-18",
          "2021-02-19",
          "2021-02-22",
          "2021-02-24",
          "2021-02-25",
          "2021-02-26",
          "2021-03-01",
          "2021-03-02",
          "2021-03-03",
          "2021-03-04",
          "2021-03-05",
          "2021-03-08",
          "2021-03-09",
          "2021-03-10",
          "2021-03-11",
          "2021-03-12",
          "2021-03-15",
          "2021-03-16",
          "2021-03-17",
          "2021-03-18",
          "2021-03-19",
          "2021-03-22",
          "2021-03-23",
          "2021-03-24",
          "2021-03-25",
          "2021-03-26",
          "2021-03-29",
          "2021-03-30",
          "2021-03-31",
          "2021-04-01",
          "2021-04-02",
          "2021-04-05",
          "2021-04-06",
          "2021-04-07",
          "2021-04-08",
          "2021-04-09",
          "2021-04-12",
          "2021-04-13",
          "2021-04-14",
          "2021-04-15",
          "2021-04-16",
          "2021-04-19",
          "2021-04-20",
          "2021-04-21",
          "2021-04-22",
          "2021-04-23",
          "2021-04-26",
          "2021-04-27",
          "2021-04-28",
          "2021-04-30",
          "2021-05-06",
          "2021-05-07",
          "2021-05-10",
          "2021-05-11",
          "2021-05-12",
          "2021-05-13",
          "2021-05-14",
          "2021-05-17",
          "2021-05-18",
          "2021-05-19",
          "2021-05-20",
          "2021-05-21",
          "2021-05-24",
          "2021-05-25",
          "2021-05-26",
          "2021-05-27",
          "2021-05-28",
          "2021-05-31",
          "2021-06-01",
          "2021-06-02",
          "2021-06-03",
          "2021-06-04",
          "2021-06-07",
          "2021-06-08",
          "2021-06-09",
          "2021-06-10",
          "2021-06-11",
          "2021-06-14",
          "2021-06-15",
          "2021-06-16",
          "2021-06-17",
          "2021-06-18",
          "2021-06-21",
          "2021-06-22",
          "2021-06-23",
          "2021-06-24",
          "2021-06-25",
          "2021-06-28",
          "2021-06-29",
          "2021-06-30",
          "2021-07-01",
          "2021-07-02",
          "2021-07-05",
          "2021-07-06",
          "2021-07-07",
          "2021-07-08",
          "2021-07-09",
          "2021-07-12",
          "2021-07-13",
          "2021-07-14",
          "2021-07-15",
          "2021-07-16",
          "2021-07-19",
          "2021-07-20",
          "2021-07-21",
          "2021-07-26",
          "2021-07-27",
          "2021-07-28",
          "2021-07-29",
          "2021-07-30",
          "2021-08-02",
          "2021-08-03",
          "2021-08-04",
          "2021-08-05",
          "2021-08-06",
          "2021-08-10",
          "2021-08-11",
          "2021-08-12",
          "2021-08-13",
          "2021-08-16",
          "2021-08-17",
          "2021-08-18",
          "2021-08-19",
          "2021-08-20",
          "2021-08-23",
          "2021-08-24",
          "2021-08-25",
          "2021-08-26",
          "2021-08-27",
          "2021-08-30",
          "2021-08-31",
          "2021-09-01",
          "2021-09-02",
          "2021-09-03",
          "2021-09-06",
          "2021-09-07",
          "2021-09-08",
          "2021-09-09",
          "2021-09-10",
          "2021-09-13",
          "2021-09-14",
          "2021-09-15",
          "2021-09-16",
          "2021-09-17",
          "2021-09-21",
          "2021-09-22",
          "2021-09-24",
          "2021-09-27",
          "2021-09-28",
          "2021-09-29",
          "2021-09-30",
          "2021-10-01",
          "2021-10-04",
          "2021-10-05",
          "2021-10-06",
          "2021-10-07",
          "2021-10-08",
          "2021-10-11",
          "2021-10-12",
          "2021-10-13",
          "2021-10-14",
          "2021-10-15",
          "2021-10-18",
          "2021-10-19",
          "2021-10-20",
          "2021-10-21",
          "2021-10-22",
          "2021-10-25",
          "2021-10-26",
          "2021-10-27",
          "2021-10-28",
          "2021-10-29",
          "2021-11-01",
          "2021-11-02",
          "2021-11-04",
          "2021-11-05",
          "2021-11-08",
          "2021-11-09",
          "2021-11-10",
          "2021-11-11",
          "2021-11-12",
          "2021-11-15",
          "2021-11-16",
          "2021-11-17",
          "2021-11-18",
          "2021-11-19",
          "2021-11-22",
          "2021-11-24",
          "2021-11-25",
          "2021-11-26",
          "2021-11-29",
          "2021-11-30",
          "2021-12-01",
          "2021-12-02",
          "2021-12-03",
          "2021-12-06",
          "2021-12-07",
          "2021-12-08",
          "2021-12-09",
          "2021-12-10",
          "2021-12-13",
          "2021-12-14",
          "2021-12-15",
          "2021-12-16",
          "2021-12-17",
          "2021-12-20",
          "2021-12-21",
          "2021-12-22",
          "2021-12-23",
          "2021-12-24",
          "2021-12-27",
          "2021-12-28",
          "2021-12-29",
          "2021-12-30",
          "2022-01-04",
          "2022-01-05",
          "2022-01-06",
          "2022-01-07",
          "2022-01-11",
          "2022-01-12",
          "2022-01-13",
          "2022-01-14",
          "2022-01-17",
          "2022-01-18",
          "2022-01-19",
          "2022-01-20",
          "2022-01-21",
          "2022-01-24",
          "2022-01-25",
          "2022-01-26",
          "2022-01-27",
          "2022-01-28",
          "2022-01-31",
          "2022-02-01",
          "2022-02-02",
          "2022-02-03",
          "2022-02-04",
          "2022-02-07",
          "2022-02-08",
          "2022-02-09",
          "2022-02-10",
          "2022-02-14",
          "2022-02-15",
          "2022-02-16",
          "2022-02-17",
          "2022-02-18",
          "2022-02-21",
          "2022-02-22",
          "2022-02-24",
          "2022-02-25",
          "2022-02-28",
          "2022-03-01",
          "2022-03-02",
          "2022-03-03",
          "2022-03-04",
          "2022-03-07",
          "2022-03-08",
          "2022-03-09",
          "2022-03-10",
          "2022-03-11",
          "2022-03-14",
          "2022-03-15",
          "2022-03-16",
          "2022-03-17",
          "2022-03-18",
          "2022-03-22",
          "2022-03-23",
          "2022-03-24",
          "2022-03-25",
          "2022-03-28",
          "2022-03-29",
          "2022-03-30",
          "2022-03-31",
          "2022-04-01",
          "2022-04-04",
          "2022-04-05",
          "2022-04-06",
          "2022-04-07",
          "2022-04-08",
          "2022-04-11",
          "2022-04-12",
          "2022-04-13",
          "2022-04-14",
          "2022-04-15",
          "2022-04-18",
          "2022-04-19",
          "2022-04-20",
          "2022-04-21",
          "2022-04-22",
          "2022-04-25",
          "2022-04-26",
          "2022-04-27",
          "2022-04-28"
         ],
         "xaxis": "x",
         "y": [
          5250,
          5230,
          5310,
          5220,
          5200,
          5200,
          5240,
          5240,
          5290,
          5290,
          5290,
          5280,
          5270,
          5270,
          5310,
          5290,
          5290,
          5310,
          5300,
          5300,
          5300,
          5310,
          5350,
          5360,
          5360,
          5340,
          5390,
          5390,
          5490,
          5490,
          5540,
          5600,
          5700,
          5860,
          5660,
          5700,
          5560,
          5400,
          5410,
          5550,
          5540,
          5660,
          5470,
          5430,
          5460,
          5290,
          5130,
          5050,
          4905,
          4990,
          4925,
          5080,
          5280,
          5430,
          5450,
          5450,
          5370,
          5400,
          5230,
          5270,
          5380,
          5470,
          5590,
          5570,
          5600,
          5720,
          5760,
          5790,
          5760,
          5710,
          5640,
          5590,
          5600,
          5590,
          5730,
          5740,
          5720,
          5660,
          5630,
          5570,
          5590,
          5670,
          5650,
          5660,
          5690,
          5710,
          5760,
          5850,
          5770,
          5820,
          5790,
          5750,
          5750,
          5750,
          5710,
          5730,
          5700,
          5770,
          5760,
          5770,
          5730,
          5730,
          5720,
          5680,
          5690,
          5680,
          5690,
          5700,
          5730,
          5730,
          5690,
          5710,
          5790,
          5790,
          5860,
          5830,
          5830,
          5980,
          5980,
          6050,
          6000,
          6000,
          6050,
          6020,
          6030,
          6110,
          6030,
          6080,
          6000,
          6000,
          6000,
          5990,
          6040,
          6050,
          6160,
          6450,
          6450,
          6500,
          6420,
          6440,
          6500,
          6510,
          6630,
          6660,
          6740,
          6590,
          6210,
          6330,
          6480,
          6430,
          6610,
          6560,
          6490,
          6450,
          6400,
          6380,
          6370,
          6410,
          6430,
          6500,
          6510,
          6470,
          6390,
          6350,
          6360,
          6330,
          6320,
          6400,
          6370,
          6400,
          6450,
          6370,
          6290,
          6270,
          6150,
          6030,
          6070,
          6020,
          6130,
          6140,
          6200,
          6180,
          6190,
          6180,
          6160,
          6220,
          6280,
          6220,
          6190,
          6180,
          6220,
          6220,
          6200,
          6230,
          6170,
          6150,
          6140,
          6160,
          6150,
          6070,
          6010,
          6090,
          6140,
          6140,
          6190,
          6260,
          6100,
          6100,
          6060,
          6070,
          6090,
          6080,
          6030,
          5950,
          5980,
          5870,
          5800,
          5800,
          5790,
          5650,
          5760,
          5830,
          5920,
          5880,
          5910,
          5980,
          5980,
          5910,
          5900,
          5880,
          5900,
          5930,
          5960,
          6200,
          6140,
          6070,
          6010,
          6040,
          6040,
          6100,
          6080,
          6090,
          6210,
          6270,
          6240,
          6190,
          6170,
          6050,
          5990,
          5970,
          5980,
          5920,
          5930,
          5990,
          6010,
          5980,
          5930,
          5960,
          5940,
          5930,
          5980,
          6030,
          6040,
          5990,
          5930,
          5880,
          5930,
          5970,
          5980,
          5920,
          5930,
          5940,
          5890,
          5850,
          5790,
          5840,
          5900,
          5890,
          5770,
          5760,
          5660,
          5740,
          5690,
          5670,
          5700,
          5690,
          5770,
          5850,
          5790,
          5830,
          5860,
          5850,
          5910,
          5880,
          5870,
          5840,
          5810,
          5840,
          5840,
          5860,
          5810,
          5770,
          5870,
          5880,
          5870,
          5890,
          5890,
          5900,
          5900,
          5880,
          5840,
          5850,
          5830,
          5930,
          5970,
          5920,
          5950,
          5950,
          5910,
          5890,
          5940,
          5920,
          5890,
          6020,
          6080,
          6130,
          6120,
          6100,
          6090,
          6120,
          6230,
          6280,
          6260,
          6260,
          6240,
          6290,
          6220,
          6330,
          6340,
          6350,
          6410,
          6430,
          6400,
          6370,
          6270,
          6280,
          6320,
          6310,
          6280,
          6320,
          6170,
          6180,
          6180,
          6080,
          5980,
          5930,
          6020,
          6020,
          6030,
          6040,
          6070,
          6030,
          5960,
          6050,
          6080,
          6110,
          6150,
          6120,
          6100,
          6080,
          6080,
          6110,
          6140,
          6170,
          6160,
          6120,
          6100,
          6080,
          6100,
          6070,
          6090,
          6110,
          6120,
          6070,
          6040,
          6040,
          6060,
          6030,
          5860,
          5880,
          5900,
          5940,
          5930,
          6000,
          6010,
          6000,
          5970,
          6010,
          6060,
          6020,
          6000,
          6070,
          6090,
          6100,
          6110,
          6100,
          6090,
          6130,
          6100,
          6070,
          6020,
          6050,
          6020,
          6040,
          6060,
          6000,
          5950,
          5930,
          5980,
          5940,
          5950,
          5940,
          5940,
          5940,
          5980,
          5990,
          5990,
          6010,
          6010,
          6020,
          6050,
          6110,
          6100,
          6210,
          6240,
          6190,
          6200,
          6210,
          6230,
          6220,
          6240,
          6290,
          6220,
          6260,
          6190,
          6190,
          6230,
          6180,
          6220,
          6290,
          6270,
          6300,
          6460,
          6490,
          6450,
          6500,
          6510,
          6510,
          6480,
          6430,
          6310,
          6320,
          6300,
          6229,
          6225,
          6229,
          6168,
          6165,
          6182,
          6209,
          6238,
          6232,
          6189,
          6215,
          6232,
          6170,
          6236,
          6288,
          6271,
          6258,
          6251,
          6326,
          6337,
          6338,
          6377,
          6358,
          6345,
          6399,
          6468,
          6402,
          6355,
          6380,
          6430,
          6412,
          6374,
          6381,
          6380,
          6347,
          6447,
          6423,
          6407,
          6428,
          6451,
          6369,
          6358,
          6326,
          6371,
          6338,
          6350,
          6377,
          6409,
          6453,
          6468,
          6499,
          6571,
          6648,
          6560,
          6620,
          6663,
          6664,
          6710,
          6805,
          6730,
          6733,
          6709,
          6805,
          6803,
          6855,
          7035,
          7068,
          7266,
          7053,
          7062,
          7092,
          6950,
          6931,
          7024,
          7020,
          7135,
          7106,
          7203,
          7295,
          7280,
          7275,
          7174,
          7172,
          7242,
          7197,
          7233,
          7279,
          7268,
          7319,
          7444,
          7535,
          7589,
          7578,
          7699,
          7716,
          7751,
          7658,
          7670,
          7656,
          7519,
          7480,
          7430,
          7458
         ],
         "yaxis": "y"
        }
       ],
       "layout": {
        "legend": {
         "tracegroupgap": 0
        },
        "margin": {
         "t": 60
        },
        "template": {
         "data": {
          "bar": [
           {
            "error_x": {
             "color": "#2a3f5f"
            },
            "error_y": {
             "color": "#2a3f5f"
            },
            "marker": {
             "line": {
              "color": "#E5ECF6",
              "width": 0.5
             },
             "pattern": {
              "fillmode": "overlay",
              "size": 10,
              "solidity": 0.2
             }
            },
            "type": "bar"
           }
          ],
          "barpolar": [
           {
            "marker": {
             "line": {
              "color": "#E5ECF6",
              "width": 0.5
             },
             "pattern": {
              "fillmode": "overlay",
              "size": 10,
              "solidity": 0.2
             }
            },
            "type": "barpolar"
           }
          ],
          "carpet": [
           {
            "aaxis": {
             "endlinecolor": "#2a3f5f",
             "gridcolor": "white",
             "linecolor": "white",
             "minorgridcolor": "white",
             "startlinecolor": "#2a3f5f"
            },
            "baxis": {
             "endlinecolor": "#2a3f5f",
             "gridcolor": "white",
             "linecolor": "white",
             "minorgridcolor": "white",
             "startlinecolor": "#2a3f5f"
            },
            "type": "carpet"
           }
          ],
          "choropleth": [
           {
            "colorbar": {
             "outlinewidth": 0,
             "ticks": ""
            },
            "type": "choropleth"
           }
          ],
          "contour": [
           {
            "colorbar": {
             "outlinewidth": 0,
             "ticks": ""
            },
            "colorscale": [
             [
              0,
              "#0d0887"
             ],
             [
              0.1111111111111111,
              "#46039f"
             ],
             [
              0.2222222222222222,
              "#7201a8"
             ],
             [
              0.3333333333333333,
              "#9c179e"
             ],
             [
              0.4444444444444444,
              "#bd3786"
             ],
             [
              0.5555555555555556,
              "#d8576b"
             ],
             [
              0.6666666666666666,
              "#ed7953"
             ],
             [
              0.7777777777777778,
              "#fb9f3a"
             ],
             [
              0.8888888888888888,
              "#fdca26"
             ],
             [
              1,
              "#f0f921"
             ]
            ],
            "type": "contour"
           }
          ],
          "contourcarpet": [
           {
            "colorbar": {
             "outlinewidth": 0,
             "ticks": ""
            },
            "type": "contourcarpet"
           }
          ],
          "heatmap": [
           {
            "colorbar": {
             "outlinewidth": 0,
             "ticks": ""
            },
            "colorscale": [
             [
              0,
              "#0d0887"
             ],
             [
              0.1111111111111111,
              "#46039f"
             ],
             [
              0.2222222222222222,
              "#7201a8"
             ],
             [
              0.3333333333333333,
              "#9c179e"
             ],
             [
              0.4444444444444444,
              "#bd3786"
             ],
             [
              0.5555555555555556,
              "#d8576b"
             ],
             [
              0.6666666666666666,
              "#ed7953"
             ],
             [
              0.7777777777777778,
              "#fb9f3a"
             ],
             [
              0.8888888888888888,
              "#fdca26"
             ],
             [
              1,
              "#f0f921"
             ]
            ],
            "type": "heatmap"
           }
          ],
          "heatmapgl": [
           {
            "colorbar": {
             "outlinewidth": 0,
             "ticks": ""
            },
            "colorscale": [
             [
              0,
              "#0d0887"
             ],
             [
              0.1111111111111111,
              "#46039f"
             ],
             [
              0.2222222222222222,
              "#7201a8"
             ],
             [
              0.3333333333333333,
              "#9c179e"
             ],
             [
              0.4444444444444444,
              "#bd3786"
             ],
             [
              0.5555555555555556,
              "#d8576b"
             ],
             [
              0.6666666666666666,
              "#ed7953"
             ],
             [
              0.7777777777777778,
              "#fb9f3a"
             ],
             [
              0.8888888888888888,
              "#fdca26"
             ],
             [
              1,
              "#f0f921"
             ]
            ],
            "type": "heatmapgl"
           }
          ],
          "histogram": [
           {
            "marker": {
             "pattern": {
              "fillmode": "overlay",
              "size": 10,
              "solidity": 0.2
             }
            },
            "type": "histogram"
           }
          ],
          "histogram2d": [
           {
            "colorbar": {
             "outlinewidth": 0,
             "ticks": ""
            },
            "colorscale": [
             [
              0,
              "#0d0887"
             ],
             [
              0.1111111111111111,
              "#46039f"
             ],
             [
              0.2222222222222222,
              "#7201a8"
             ],
             [
              0.3333333333333333,
              "#9c179e"
             ],
             [
              0.4444444444444444,
              "#bd3786"
             ],
             [
              0.5555555555555556,
              "#d8576b"
             ],
             [
              0.6666666666666666,
              "#ed7953"
             ],
             [
              0.7777777777777778,
              "#fb9f3a"
             ],
             [
              0.8888888888888888,
              "#fdca26"
             ],
             [
              1,
              "#f0f921"
             ]
            ],
            "type": "histogram2d"
           }
          ],
          "histogram2dcontour": [
           {
            "colorbar": {
             "outlinewidth": 0,
             "ticks": ""
            },
            "colorscale": [
             [
              0,
              "#0d0887"
             ],
             [
              0.1111111111111111,
              "#46039f"
             ],
             [
              0.2222222222222222,
              "#7201a8"
             ],
             [
              0.3333333333333333,
              "#9c179e"
             ],
             [
              0.4444444444444444,
              "#bd3786"
             ],
             [
              0.5555555555555556,
              "#d8576b"
             ],
             [
              0.6666666666666666,
              "#ed7953"
             ],
             [
              0.7777777777777778,
              "#fb9f3a"
             ],
             [
              0.8888888888888888,
              "#fdca26"
             ],
             [
              1,
              "#f0f921"
             ]
            ],
            "type": "histogram2dcontour"
           }
          ],
          "mesh3d": [
           {
            "colorbar": {
             "outlinewidth": 0,
             "ticks": ""
            },
            "type": "mesh3d"
           }
          ],
          "parcoords": [
           {
            "line": {
             "colorbar": {
              "outlinewidth": 0,
              "ticks": ""
             }
            },
            "type": "parcoords"
           }
          ],
          "pie": [
           {
            "automargin": true,
            "type": "pie"
           }
          ],
          "scatter": [
           {
            "fillpattern": {
             "fillmode": "overlay",
             "size": 10,
             "solidity": 0.2
            },
            "type": "scatter"
           }
          ],
          "scatter3d": [
           {
            "line": {
             "colorbar": {
              "outlinewidth": 0,
              "ticks": ""
             }
            },
            "marker": {
             "colorbar": {
              "outlinewidth": 0,
              "ticks": ""
             }
            },
            "type": "scatter3d"
           }
          ],
          "scattercarpet": [
           {
            "marker": {
             "colorbar": {
              "outlinewidth": 0,
              "ticks": ""
             }
            },
            "type": "scattercarpet"
           }
          ],
          "scattergeo": [
           {
            "marker": {
             "colorbar": {
              "outlinewidth": 0,
              "ticks": ""
             }
            },
            "type": "scattergeo"
           }
          ],
          "scattergl": [
           {
            "marker": {
             "colorbar": {
              "outlinewidth": 0,
              "ticks": ""
             }
            },
            "type": "scattergl"
           }
          ],
          "scattermapbox": [
           {
            "marker": {
             "colorbar": {
              "outlinewidth": 0,
              "ticks": ""
             }
            },
            "type": "scattermapbox"
           }
          ],
          "scatterpolar": [
           {
            "marker": {
             "colorbar": {
              "outlinewidth": 0,
              "ticks": ""
             }
            },
            "type": "scatterpolar"
           }
          ],
          "scatterpolargl": [
           {
            "marker": {
             "colorbar": {
              "outlinewidth": 0,
              "ticks": ""
             }
            },
            "type": "scatterpolargl"
           }
          ],
          "scatterternary": [
           {
            "marker": {
             "colorbar": {
              "outlinewidth": 0,
              "ticks": ""
             }
            },
            "type": "scatterternary"
           }
          ],
          "surface": [
           {
            "colorbar": {
             "outlinewidth": 0,
             "ticks": ""
            },
            "colorscale": [
             [
              0,
              "#0d0887"
             ],
             [
              0.1111111111111111,
              "#46039f"
             ],
             [
              0.2222222222222222,
              "#7201a8"
             ],
             [
              0.3333333333333333,
              "#9c179e"
             ],
             [
              0.4444444444444444,
              "#bd3786"
             ],
             [
              0.5555555555555556,
              "#d8576b"
             ],
             [
              0.6666666666666666,
              "#ed7953"
             ],
             [
              0.7777777777777778,
              "#fb9f3a"
             ],
             [
              0.8888888888888888,
              "#fdca26"
             ],
             [
              1,
              "#f0f921"
             ]
            ],
            "type": "surface"
           }
          ],
          "table": [
           {
            "cells": {
             "fill": {
              "color": "#EBF0F8"
             },
             "line": {
              "color": "white"
             }
            },
            "header": {
             "fill": {
              "color": "#C8D4E3"
             },
             "line": {
              "color": "white"
             }
            },
            "type": "table"
           }
          ]
         },
         "layout": {
          "annotationdefaults": {
           "arrowcolor": "#2a3f5f",
           "arrowhead": 0,
           "arrowwidth": 1
          },
          "autotypenumbers": "strict",
          "coloraxis": {
           "colorbar": {
            "outlinewidth": 0,
            "ticks": ""
           }
          },
          "colorscale": {
           "diverging": [
            [
             0,
             "#8e0152"
            ],
            [
             0.1,
             "#c51b7d"
            ],
            [
             0.2,
             "#de77ae"
            ],
            [
             0.3,
             "#f1b6da"
            ],
            [
             0.4,
             "#fde0ef"
            ],
            [
             0.5,
             "#f7f7f7"
            ],
            [
             0.6,
             "#e6f5d0"
            ],
            [
             0.7,
             "#b8e186"
            ],
            [
             0.8,
             "#7fbc41"
            ],
            [
             0.9,
             "#4d9221"
            ],
            [
             1,
             "#276419"
            ]
           ],
           "sequential": [
            [
             0,
             "#0d0887"
            ],
            [
             0.1111111111111111,
             "#46039f"
            ],
            [
             0.2222222222222222,
             "#7201a8"
            ],
            [
             0.3333333333333333,
             "#9c179e"
            ],
            [
             0.4444444444444444,
             "#bd3786"
            ],
            [
             0.5555555555555556,
             "#d8576b"
            ],
            [
             0.6666666666666666,
             "#ed7953"
            ],
            [
             0.7777777777777778,
             "#fb9f3a"
            ],
            [
             0.8888888888888888,
             "#fdca26"
            ],
            [
             1,
             "#f0f921"
            ]
           ],
           "sequentialminus": [
            [
             0,
             "#0d0887"
            ],
            [
             0.1111111111111111,
             "#46039f"
            ],
            [
             0.2222222222222222,
             "#7201a8"
            ],
            [
             0.3333333333333333,
             "#9c179e"
            ],
            [
             0.4444444444444444,
             "#bd3786"
            ],
            [
             0.5555555555555556,
             "#d8576b"
            ],
            [
             0.6666666666666666,
             "#ed7953"
            ],
            [
             0.7777777777777778,
             "#fb9f3a"
            ],
            [
             0.8888888888888888,
             "#fdca26"
            ],
            [
             1,
             "#f0f921"
            ]
           ]
          },
          "colorway": [
           "#636efa",
           "#EF553B",
           "#00cc96",
           "#ab63fa",
           "#FFA15A",
           "#19d3f3",
           "#FF6692",
           "#B6E880",
           "#FF97FF",
           "#FECB52"
          ],
          "font": {
           "color": "#2a3f5f"
          },
          "geo": {
           "bgcolor": "white",
           "lakecolor": "white",
           "landcolor": "#E5ECF6",
           "showlakes": true,
           "showland": true,
           "subunitcolor": "white"
          },
          "hoverlabel": {
           "align": "left"
          },
          "hovermode": "closest",
          "mapbox": {
           "style": "light"
          },
          "paper_bgcolor": "white",
          "plot_bgcolor": "#E5ECF6",
          "polar": {
           "angularaxis": {
            "gridcolor": "white",
            "linecolor": "white",
            "ticks": ""
           },
           "bgcolor": "#E5ECF6",
           "radialaxis": {
            "gridcolor": "white",
            "linecolor": "white",
            "ticks": ""
           }
          },
          "scene": {
           "xaxis": {
            "backgroundcolor": "#E5ECF6",
            "gridcolor": "white",
            "gridwidth": 2,
            "linecolor": "white",
            "showbackground": true,
            "ticks": "",
            "zerolinecolor": "white"
           },
           "yaxis": {
            "backgroundcolor": "#E5ECF6",
            "gridcolor": "white",
            "gridwidth": 2,
            "linecolor": "white",
            "showbackground": true,
            "ticks": "",
            "zerolinecolor": "white"
           },
           "zaxis": {
            "backgroundcolor": "#E5ECF6",
            "gridcolor": "white",
            "gridwidth": 2,
            "linecolor": "white",
            "showbackground": true,
            "ticks": "",
            "zerolinecolor": "white"
           }
          },
          "shapedefaults": {
           "line": {
            "color": "#2a3f5f"
           }
          },
          "ternary": {
           "aaxis": {
            "gridcolor": "white",
            "linecolor": "white",
            "ticks": ""
           },
           "baxis": {
            "gridcolor": "white",
            "linecolor": "white",
            "ticks": ""
           },
           "bgcolor": "#E5ECF6",
           "caxis": {
            "gridcolor": "white",
            "linecolor": "white",
            "ticks": ""
           }
          },
          "title": {
           "x": 0.05
          },
          "xaxis": {
           "automargin": true,
           "gridcolor": "white",
           "linecolor": "white",
           "ticks": "",
           "title": {
            "standoff": 15
           },
           "zerolinecolor": "white",
           "zerolinewidth": 2
          },
          "yaxis": {
           "automargin": true,
           "gridcolor": "white",
           "linecolor": "white",
           "ticks": "",
           "title": {
            "standoff": 15
           },
           "zerolinecolor": "white",
           "zerolinewidth": 2
          }
         }
        },
        "xaxis": {
         "anchor": "y",
         "domain": [
          0,
          1
         ],
         "title": {
          "text": "Date"
         }
        },
        "yaxis": {
         "anchor": "x",
         "domain": [
          0,
          1
         ],
         "title": {
          "text": "Close_1540.JP_JPY"
         }
        }
       }
      }
     },
     "metadata": {},
     "output_type": "display_data"
    }
   ],
   "source": [
    "# plot topix\n",
    "fig = px.line(stc.dropna(subset='Close_1540.JP_JPY'), x=\"Date\", y=\"Close_1540.JP_JPY\")\n",
    "fig.show()"
   ]
  },
  {
   "cell_type": "code",
   "execution_count": 337,
   "id": "8d2dbe90",
   "metadata": {},
   "outputs": [],
   "source": [
    "def calc_pf(x):\n",
    "    pf_sum = 0\n",
    "    for k in portfolio_master.keys():\n",
    "        pf_sum += x[f'Close_{k}_JPY'] * portfolio_master[k]['number_of_holds']\n",
    "    return pf_sum"
   ]
  },
  {
   "cell_type": "code",
   "execution_count": 338,
   "id": "53a797e4",
   "metadata": {},
   "outputs": [],
   "source": [
    "stc['pf'] = stc.apply(lambda x: calc_pf(x), axis=1)"
   ]
  },
  {
   "cell_type": "code",
   "execution_count": 339,
   "id": "54f93b02",
   "metadata": {},
   "outputs": [],
   "source": [
    "# recent value\n",
    "for k in portfolio_master.keys():\n",
    "    portfolio_master[k]['recent_value'] = stc.dropna(subset=f'Close_{k}_JPY')[f'Close_{k}_JPY'].values[-1] * portfolio_master[k]['number_of_holds']"
   ]
  },
  {
   "cell_type": "code",
   "execution_count": 340,
   "id": "b090ff0a",
   "metadata": {},
   "outputs": [],
   "source": [
    "pfdf = pd.concat([pd.DataFrame({'ticker': list(portfolio_master.keys())}), pd.DataFrame(list(portfolio_master.values()))], axis=1)"
   ]
  },
  {
   "cell_type": "code",
   "execution_count": 341,
   "id": "d607643c",
   "metadata": {},
   "outputs": [],
   "source": [
    "# # pie chart\n",
    "# fig = px.sunburst(pfdf, path=['type', 'ticker'], values='recent_value')\n",
    "# fig.show()"
   ]
  },
  {
   "cell_type": "code",
   "execution_count": 1,
   "id": "ea6b6df9",
   "metadata": {},
   "outputs": [
    {
     "ename": "NameError",
     "evalue": "name 'stc' is not defined",
     "output_type": "error",
     "traceback": [
      "\u001b[0;31m---------------------------------------------------------------------------\u001b[0m",
      "\u001b[0;31mNameError\u001b[0m                                 Traceback (most recent call last)",
      "\u001b[1;32m/Users/koyajima/code/invest-analytics/notebooks/vis_stock.ipynb Cell 42'\u001b[0m in \u001b[0;36m<cell line: 2>\u001b[0;34m()\u001b[0m\n\u001b[1;32m      <a href='vscode-notebook-cell:/Users/koyajima/code/invest-analytics/notebooks/vis_stock.ipynb#ch0000041?line=0'>1</a>\u001b[0m \u001b[39m# output\u001b[39;00m\n\u001b[0;32m----> <a href='vscode-notebook-cell:/Users/koyajima/code/invest-analytics/notebooks/vis_stock.ipynb#ch0000041?line=1'>2</a>\u001b[0m stc\u001b[39m.\u001b[39mto_pickle(\u001b[39m'\u001b[39m\u001b[39m../data/stocks.pkl\u001b[39m\u001b[39m'\u001b[39m)\n\u001b[1;32m      <a href='vscode-notebook-cell:/Users/koyajima/code/invest-analytics/notebooks/vis_stock.ipynb#ch0000041?line=2'>3</a>\u001b[0m pfdf\u001b[39m.\u001b[39mto_pickle(\u001b[39m'\u001b[39m\u001b[39m../data/portfolio.pkl\u001b[39m\u001b[39m'\u001b[39m)\n",
      "\u001b[0;31mNameError\u001b[0m: name 'stc' is not defined"
     ]
    }
   ],
   "source": [
    "# output\n",
    "stc.to_pickle('../data/stocks.pkl')\n",
    "pfdf.to_pickle('../data/portfolio.pkl')"
   ]
  },
  {
   "cell_type": "code",
   "execution_count": 6,
   "id": "212fecfe",
   "metadata": {},
   "outputs": [],
   "source": [
    "# output\n",
    "stc = pd.read_pickle('../data/stocks.pkl')\n",
    "pfdf = pd.read_pickle('../data/portfolio.pkl')"
   ]
  },
  {
   "cell_type": "code",
   "execution_count": 17,
   "id": "4b40cfc4",
   "metadata": {},
   "outputs": [
    {
     "data": {
      "text/html": [
       "<div>\n",
       "<style scoped>\n",
       "    .dataframe tbody tr th:only-of-type {\n",
       "        vertical-align: middle;\n",
       "    }\n",
       "\n",
       "    .dataframe tbody tr th {\n",
       "        vertical-align: top;\n",
       "    }\n",
       "\n",
       "    .dataframe thead th {\n",
       "        text-align: right;\n",
       "    }\n",
       "</style>\n",
       "<table border=\"1\" class=\"dataframe\">\n",
       "  <thead>\n",
       "    <tr style=\"text-align: right;\">\n",
       "      <th></th>\n",
       "      <th>ticker</th>\n",
       "      <th>currency</th>\n",
       "      <th>type</th>\n",
       "      <th>detail</th>\n",
       "      <th>number_of_hold</th>\n",
       "      <th>recent_value</th>\n",
       "      <th>number_of_holds</th>\n",
       "      <th>hatena</th>\n",
       "    </tr>\n",
       "  </thead>\n",
       "  <tbody>\n",
       "    <tr>\n",
       "      <th>0</th>\n",
       "      <td>VOO</td>\n",
       "      <td>USD</td>\n",
       "      <td>stock</td>\n",
       "      <td>S&amp;P500</td>\n",
       "      <td>0</td>\n",
       "      <td>45341.883934</td>\n",
       "      <td>1.00</td>\n",
       "      <td>?</td>\n",
       "    </tr>\n",
       "    <tr>\n",
       "      <th>1</th>\n",
       "      <td>VWO</td>\n",
       "      <td>USD</td>\n",
       "      <td>stock</td>\n",
       "      <td>Emerging Country</td>\n",
       "      <td>0</td>\n",
       "      <td>5412.578790</td>\n",
       "      <td>1.00</td>\n",
       "      <td>?</td>\n",
       "    </tr>\n",
       "    <tr>\n",
       "      <th>2</th>\n",
       "      <td>VEA</td>\n",
       "      <td>USD</td>\n",
       "      <td>stock</td>\n",
       "      <td>Developed Country</td>\n",
       "      <td>0</td>\n",
       "      <td>5382.083119</td>\n",
       "      <td>1.00</td>\n",
       "      <td>?</td>\n",
       "    </tr>\n",
       "    <tr>\n",
       "      <th>3</th>\n",
       "      <td>VTI</td>\n",
       "      <td>USD</td>\n",
       "      <td>stock</td>\n",
       "      <td>All Country</td>\n",
       "      <td>0</td>\n",
       "      <td>24976.529756</td>\n",
       "      <td>1.00</td>\n",
       "      <td>?</td>\n",
       "    </tr>\n",
       "    <tr>\n",
       "      <th>4</th>\n",
       "      <td>1306.JP</td>\n",
       "      <td>JPY</td>\n",
       "      <td>stock</td>\n",
       "      <td>TOPIX</td>\n",
       "      <td>0</td>\n",
       "      <td>20000.000000</td>\n",
       "      <td>10.00</td>\n",
       "      <td>?</td>\n",
       "    </tr>\n",
       "    <tr>\n",
       "      <th>5</th>\n",
       "      <td>1540.JP</td>\n",
       "      <td>JPY</td>\n",
       "      <td>commodity</td>\n",
       "      <td>Gold</td>\n",
       "      <td>0</td>\n",
       "      <td>74580.000000</td>\n",
       "      <td>10.00</td>\n",
       "      <td>?</td>\n",
       "    </tr>\n",
       "    <tr>\n",
       "      <th>6</th>\n",
       "      <td>BND</td>\n",
       "      <td>USD</td>\n",
       "      <td>bond</td>\n",
       "      <td>USA Bond</td>\n",
       "      <td>0</td>\n",
       "      <td>94381.224103</td>\n",
       "      <td>10.00</td>\n",
       "      <td>?</td>\n",
       "    </tr>\n",
       "    <tr>\n",
       "      <th>7</th>\n",
       "      <td>BTC-USD</td>\n",
       "      <td>USD</td>\n",
       "      <td>commodity</td>\n",
       "      <td>Bitcoin</td>\n",
       "      <td>0</td>\n",
       "      <td>51042.430143</td>\n",
       "      <td>0.01</td>\n",
       "      <td>?</td>\n",
       "    </tr>\n",
       "    <tr>\n",
       "      <th>8</th>\n",
       "      <td>HEZU</td>\n",
       "      <td>USD</td>\n",
       "      <td>stock</td>\n",
       "      <td>Eurozone Stocks</td>\n",
       "      <td>0</td>\n",
       "      <td>3813.685017</td>\n",
       "      <td>1.00</td>\n",
       "      <td>?</td>\n",
       "    </tr>\n",
       "  </tbody>\n",
       "</table>\n",
       "</div>"
      ],
      "text/plain": [
       "    ticker currency       type             detail  number_of_hold  \\\n",
       "0      VOO      USD      stock             S&P500               0   \n",
       "1      VWO      USD      stock   Emerging Country               0   \n",
       "2      VEA      USD      stock  Developed Country               0   \n",
       "3      VTI      USD      stock        All Country               0   \n",
       "4  1306.JP      JPY      stock              TOPIX               0   \n",
       "5  1540.JP      JPY  commodity               Gold               0   \n",
       "6      BND      USD       bond           USA Bond               0   \n",
       "7  BTC-USD      USD  commodity            Bitcoin               0   \n",
       "8     HEZU      USD      stock    Eurozone Stocks               0   \n",
       "\n",
       "   recent_value  number_of_holds hatena  \n",
       "0  45341.883934             1.00      ?  \n",
       "1   5412.578790             1.00      ?  \n",
       "2   5382.083119             1.00      ?  \n",
       "3  24976.529756             1.00      ?  \n",
       "4  20000.000000            10.00      ?  \n",
       "5  74580.000000            10.00      ?  \n",
       "6  94381.224103            10.00      ?  \n",
       "7  51042.430143             0.01      ?  \n",
       "8   3813.685017             1.00      ?  "
      ]
     },
     "execution_count": 17,
     "metadata": {},
     "output_type": "execute_result"
    }
   ],
   "source": [
    "pfdf"
   ]
  },
  {
   "cell_type": "code",
   "execution_count": 19,
   "id": "450a0797",
   "metadata": {},
   "outputs": [],
   "source": [
    "pfdf['hatena'] = pfdf.ticker.apply(lambda x: x + \"?\")"
   ]
  },
  {
   "cell_type": "code",
   "execution_count": 20,
   "id": "711d4043",
   "metadata": {},
   "outputs": [
    {
     "data": {
      "application/vnd.plotly.v1+json": {
       "config": {
        "plotlyServerURL": "https://plot.ly"
       },
       "data": [
        {
         "branchvalues": "total",
         "domain": {
          "x": [
           0,
           1
          ],
          "y": [
           0,
           1
          ]
         },
         "hovertemplate": "labels=%{label}<br>recent_value=%{value}<br>parent=%{parent}<br>id=%{id}<extra></extra>",
         "ids": [
          "BND?",
          "BTC-USD?",
          "VOO?"
         ],
         "labels": [
          "BND?",
          "BTC-USD?",
          "VOO?"
         ],
         "name": "",
         "parents": [
          "",
          "",
          ""
         ],
         "type": "sunburst",
         "values": [
          94381.22410278319,
          51042.43014265537,
          45341.88393432617
         ]
        }
       ],
       "layout": {
        "legend": {
         "tracegroupgap": 0
        },
        "template": {
         "data": {
          "bar": [
           {
            "error_x": {
             "color": "#2a3f5f"
            },
            "error_y": {
             "color": "#2a3f5f"
            },
            "marker": {
             "line": {
              "color": "#E5ECF6",
              "width": 0.5
             },
             "pattern": {
              "fillmode": "overlay",
              "size": 10,
              "solidity": 0.2
             }
            },
            "type": "bar"
           }
          ],
          "barpolar": [
           {
            "marker": {
             "line": {
              "color": "#E5ECF6",
              "width": 0.5
             },
             "pattern": {
              "fillmode": "overlay",
              "size": 10,
              "solidity": 0.2
             }
            },
            "type": "barpolar"
           }
          ],
          "carpet": [
           {
            "aaxis": {
             "endlinecolor": "#2a3f5f",
             "gridcolor": "white",
             "linecolor": "white",
             "minorgridcolor": "white",
             "startlinecolor": "#2a3f5f"
            },
            "baxis": {
             "endlinecolor": "#2a3f5f",
             "gridcolor": "white",
             "linecolor": "white",
             "minorgridcolor": "white",
             "startlinecolor": "#2a3f5f"
            },
            "type": "carpet"
           }
          ],
          "choropleth": [
           {
            "colorbar": {
             "outlinewidth": 0,
             "ticks": ""
            },
            "type": "choropleth"
           }
          ],
          "contour": [
           {
            "colorbar": {
             "outlinewidth": 0,
             "ticks": ""
            },
            "colorscale": [
             [
              0,
              "#0d0887"
             ],
             [
              0.1111111111111111,
              "#46039f"
             ],
             [
              0.2222222222222222,
              "#7201a8"
             ],
             [
              0.3333333333333333,
              "#9c179e"
             ],
             [
              0.4444444444444444,
              "#bd3786"
             ],
             [
              0.5555555555555556,
              "#d8576b"
             ],
             [
              0.6666666666666666,
              "#ed7953"
             ],
             [
              0.7777777777777778,
              "#fb9f3a"
             ],
             [
              0.8888888888888888,
              "#fdca26"
             ],
             [
              1,
              "#f0f921"
             ]
            ],
            "type": "contour"
           }
          ],
          "contourcarpet": [
           {
            "colorbar": {
             "outlinewidth": 0,
             "ticks": ""
            },
            "type": "contourcarpet"
           }
          ],
          "heatmap": [
           {
            "colorbar": {
             "outlinewidth": 0,
             "ticks": ""
            },
            "colorscale": [
             [
              0,
              "#0d0887"
             ],
             [
              0.1111111111111111,
              "#46039f"
             ],
             [
              0.2222222222222222,
              "#7201a8"
             ],
             [
              0.3333333333333333,
              "#9c179e"
             ],
             [
              0.4444444444444444,
              "#bd3786"
             ],
             [
              0.5555555555555556,
              "#d8576b"
             ],
             [
              0.6666666666666666,
              "#ed7953"
             ],
             [
              0.7777777777777778,
              "#fb9f3a"
             ],
             [
              0.8888888888888888,
              "#fdca26"
             ],
             [
              1,
              "#f0f921"
             ]
            ],
            "type": "heatmap"
           }
          ],
          "heatmapgl": [
           {
            "colorbar": {
             "outlinewidth": 0,
             "ticks": ""
            },
            "colorscale": [
             [
              0,
              "#0d0887"
             ],
             [
              0.1111111111111111,
              "#46039f"
             ],
             [
              0.2222222222222222,
              "#7201a8"
             ],
             [
              0.3333333333333333,
              "#9c179e"
             ],
             [
              0.4444444444444444,
              "#bd3786"
             ],
             [
              0.5555555555555556,
              "#d8576b"
             ],
             [
              0.6666666666666666,
              "#ed7953"
             ],
             [
              0.7777777777777778,
              "#fb9f3a"
             ],
             [
              0.8888888888888888,
              "#fdca26"
             ],
             [
              1,
              "#f0f921"
             ]
            ],
            "type": "heatmapgl"
           }
          ],
          "histogram": [
           {
            "marker": {
             "pattern": {
              "fillmode": "overlay",
              "size": 10,
              "solidity": 0.2
             }
            },
            "type": "histogram"
           }
          ],
          "histogram2d": [
           {
            "colorbar": {
             "outlinewidth": 0,
             "ticks": ""
            },
            "colorscale": [
             [
              0,
              "#0d0887"
             ],
             [
              0.1111111111111111,
              "#46039f"
             ],
             [
              0.2222222222222222,
              "#7201a8"
             ],
             [
              0.3333333333333333,
              "#9c179e"
             ],
             [
              0.4444444444444444,
              "#bd3786"
             ],
             [
              0.5555555555555556,
              "#d8576b"
             ],
             [
              0.6666666666666666,
              "#ed7953"
             ],
             [
              0.7777777777777778,
              "#fb9f3a"
             ],
             [
              0.8888888888888888,
              "#fdca26"
             ],
             [
              1,
              "#f0f921"
             ]
            ],
            "type": "histogram2d"
           }
          ],
          "histogram2dcontour": [
           {
            "colorbar": {
             "outlinewidth": 0,
             "ticks": ""
            },
            "colorscale": [
             [
              0,
              "#0d0887"
             ],
             [
              0.1111111111111111,
              "#46039f"
             ],
             [
              0.2222222222222222,
              "#7201a8"
             ],
             [
              0.3333333333333333,
              "#9c179e"
             ],
             [
              0.4444444444444444,
              "#bd3786"
             ],
             [
              0.5555555555555556,
              "#d8576b"
             ],
             [
              0.6666666666666666,
              "#ed7953"
             ],
             [
              0.7777777777777778,
              "#fb9f3a"
             ],
             [
              0.8888888888888888,
              "#fdca26"
             ],
             [
              1,
              "#f0f921"
             ]
            ],
            "type": "histogram2dcontour"
           }
          ],
          "mesh3d": [
           {
            "colorbar": {
             "outlinewidth": 0,
             "ticks": ""
            },
            "type": "mesh3d"
           }
          ],
          "parcoords": [
           {
            "line": {
             "colorbar": {
              "outlinewidth": 0,
              "ticks": ""
             }
            },
            "type": "parcoords"
           }
          ],
          "pie": [
           {
            "automargin": true,
            "type": "pie"
           }
          ],
          "scatter": [
           {
            "fillpattern": {
             "fillmode": "overlay",
             "size": 10,
             "solidity": 0.2
            },
            "type": "scatter"
           }
          ],
          "scatter3d": [
           {
            "line": {
             "colorbar": {
              "outlinewidth": 0,
              "ticks": ""
             }
            },
            "marker": {
             "colorbar": {
              "outlinewidth": 0,
              "ticks": ""
             }
            },
            "type": "scatter3d"
           }
          ],
          "scattercarpet": [
           {
            "marker": {
             "colorbar": {
              "outlinewidth": 0,
              "ticks": ""
             }
            },
            "type": "scattercarpet"
           }
          ],
          "scattergeo": [
           {
            "marker": {
             "colorbar": {
              "outlinewidth": 0,
              "ticks": ""
             }
            },
            "type": "scattergeo"
           }
          ],
          "scattergl": [
           {
            "marker": {
             "colorbar": {
              "outlinewidth": 0,
              "ticks": ""
             }
            },
            "type": "scattergl"
           }
          ],
          "scattermapbox": [
           {
            "marker": {
             "colorbar": {
              "outlinewidth": 0,
              "ticks": ""
             }
            },
            "type": "scattermapbox"
           }
          ],
          "scatterpolar": [
           {
            "marker": {
             "colorbar": {
              "outlinewidth": 0,
              "ticks": ""
             }
            },
            "type": "scatterpolar"
           }
          ],
          "scatterpolargl": [
           {
            "marker": {
             "colorbar": {
              "outlinewidth": 0,
              "ticks": ""
             }
            },
            "type": "scatterpolargl"
           }
          ],
          "scatterternary": [
           {
            "marker": {
             "colorbar": {
              "outlinewidth": 0,
              "ticks": ""
             }
            },
            "type": "scatterternary"
           }
          ],
          "surface": [
           {
            "colorbar": {
             "outlinewidth": 0,
             "ticks": ""
            },
            "colorscale": [
             [
              0,
              "#0d0887"
             ],
             [
              0.1111111111111111,
              "#46039f"
             ],
             [
              0.2222222222222222,
              "#7201a8"
             ],
             [
              0.3333333333333333,
              "#9c179e"
             ],
             [
              0.4444444444444444,
              "#bd3786"
             ],
             [
              0.5555555555555556,
              "#d8576b"
             ],
             [
              0.6666666666666666,
              "#ed7953"
             ],
             [
              0.7777777777777778,
              "#fb9f3a"
             ],
             [
              0.8888888888888888,
              "#fdca26"
             ],
             [
              1,
              "#f0f921"
             ]
            ],
            "type": "surface"
           }
          ],
          "table": [
           {
            "cells": {
             "fill": {
              "color": "#EBF0F8"
             },
             "line": {
              "color": "white"
             }
            },
            "header": {
             "fill": {
              "color": "#C8D4E3"
             },
             "line": {
              "color": "white"
             }
            },
            "type": "table"
           }
          ]
         },
         "layout": {
          "annotationdefaults": {
           "arrowcolor": "#2a3f5f",
           "arrowhead": 0,
           "arrowwidth": 1
          },
          "autotypenumbers": "strict",
          "coloraxis": {
           "colorbar": {
            "outlinewidth": 0,
            "ticks": ""
           }
          },
          "colorscale": {
           "diverging": [
            [
             0,
             "#8e0152"
            ],
            [
             0.1,
             "#c51b7d"
            ],
            [
             0.2,
             "#de77ae"
            ],
            [
             0.3,
             "#f1b6da"
            ],
            [
             0.4,
             "#fde0ef"
            ],
            [
             0.5,
             "#f7f7f7"
            ],
            [
             0.6,
             "#e6f5d0"
            ],
            [
             0.7,
             "#b8e186"
            ],
            [
             0.8,
             "#7fbc41"
            ],
            [
             0.9,
             "#4d9221"
            ],
            [
             1,
             "#276419"
            ]
           ],
           "sequential": [
            [
             0,
             "#0d0887"
            ],
            [
             0.1111111111111111,
             "#46039f"
            ],
            [
             0.2222222222222222,
             "#7201a8"
            ],
            [
             0.3333333333333333,
             "#9c179e"
            ],
            [
             0.4444444444444444,
             "#bd3786"
            ],
            [
             0.5555555555555556,
             "#d8576b"
            ],
            [
             0.6666666666666666,
             "#ed7953"
            ],
            [
             0.7777777777777778,
             "#fb9f3a"
            ],
            [
             0.8888888888888888,
             "#fdca26"
            ],
            [
             1,
             "#f0f921"
            ]
           ],
           "sequentialminus": [
            [
             0,
             "#0d0887"
            ],
            [
             0.1111111111111111,
             "#46039f"
            ],
            [
             0.2222222222222222,
             "#7201a8"
            ],
            [
             0.3333333333333333,
             "#9c179e"
            ],
            [
             0.4444444444444444,
             "#bd3786"
            ],
            [
             0.5555555555555556,
             "#d8576b"
            ],
            [
             0.6666666666666666,
             "#ed7953"
            ],
            [
             0.7777777777777778,
             "#fb9f3a"
            ],
            [
             0.8888888888888888,
             "#fdca26"
            ],
            [
             1,
             "#f0f921"
            ]
           ]
          },
          "colorway": [
           "#636efa",
           "#EF553B",
           "#00cc96",
           "#ab63fa",
           "#FFA15A",
           "#19d3f3",
           "#FF6692",
           "#B6E880",
           "#FF97FF",
           "#FECB52"
          ],
          "font": {
           "color": "#2a3f5f"
          },
          "geo": {
           "bgcolor": "white",
           "lakecolor": "white",
           "landcolor": "#E5ECF6",
           "showlakes": true,
           "showland": true,
           "subunitcolor": "white"
          },
          "hoverlabel": {
           "align": "left"
          },
          "hovermode": "closest",
          "mapbox": {
           "style": "light"
          },
          "paper_bgcolor": "white",
          "plot_bgcolor": "#E5ECF6",
          "polar": {
           "angularaxis": {
            "gridcolor": "white",
            "linecolor": "white",
            "ticks": ""
           },
           "bgcolor": "#E5ECF6",
           "radialaxis": {
            "gridcolor": "white",
            "linecolor": "white",
            "ticks": ""
           }
          },
          "scene": {
           "xaxis": {
            "backgroundcolor": "#E5ECF6",
            "gridcolor": "white",
            "gridwidth": 2,
            "linecolor": "white",
            "showbackground": true,
            "ticks": "",
            "zerolinecolor": "white"
           },
           "yaxis": {
            "backgroundcolor": "#E5ECF6",
            "gridcolor": "white",
            "gridwidth": 2,
            "linecolor": "white",
            "showbackground": true,
            "ticks": "",
            "zerolinecolor": "white"
           },
           "zaxis": {
            "backgroundcolor": "#E5ECF6",
            "gridcolor": "white",
            "gridwidth": 2,
            "linecolor": "white",
            "showbackground": true,
            "ticks": "",
            "zerolinecolor": "white"
           }
          },
          "shapedefaults": {
           "line": {
            "color": "#2a3f5f"
           }
          },
          "ternary": {
           "aaxis": {
            "gridcolor": "white",
            "linecolor": "white",
            "ticks": ""
           },
           "baxis": {
            "gridcolor": "white",
            "linecolor": "white",
            "ticks": ""
           },
           "bgcolor": "#E5ECF6",
           "caxis": {
            "gridcolor": "white",
            "linecolor": "white",
            "ticks": ""
           }
          },
          "title": {
           "x": 0.05
          },
          "xaxis": {
           "automargin": true,
           "gridcolor": "white",
           "linecolor": "white",
           "ticks": "",
           "title": {
            "standoff": 15
           },
           "zerolinecolor": "white",
           "zerolinewidth": 2
          },
          "yaxis": {
           "automargin": true,
           "gridcolor": "white",
           "linecolor": "white",
           "ticks": "",
           "title": {
            "standoff": 15
           },
           "zerolinecolor": "white",
           "zerolinewidth": 2
          }
         }
        },
        "title": {
         "text": "Portfolio Balance"
        },
        "xaxis": {
         "showgrid": false,
         "zeroline": false
        },
        "yaxis": {
         "showgrid": false,
         "zeroline": false
        }
       }
      }
     },
     "metadata": {},
     "output_type": "display_data"
    }
   ],
   "source": [
    "fig = px.sunburst(\n",
    "pfdf.query('ticker in [\"VOO\", \"BTC-USD\", \"BND\"]'),\n",
    "path=[\"hatena\"],\n",
    "values=\"recent_value\",\n",
    "title=\"Portfolio Balance\",\n",
    ")\n",
    "fig.update_xaxes(showgrid=False, zeroline=False)\n",
    "fig.update_yaxes(showgrid=False, zeroline=False)\n",
    "fig.show()"
   ]
  },
  {
   "cell_type": "code",
   "execution_count": null,
   "id": "5e5cc9c9",
   "metadata": {},
   "outputs": [],
   "source": []
  }
 ],
 "metadata": {
  "interpreter": {
   "hash": "73216352e3721904c4bcb37e181ab523054a26c0526106a3da1ff4f99952902f"
  },
  "kernelspec": {
   "display_name": "Python 3.9.11 ('.venv': poetry)",
   "language": "python",
   "name": "python3"
  },
  "language_info": {
   "codemirror_mode": {
    "name": "ipython",
    "version": 3
   },
   "file_extension": ".py",
   "mimetype": "text/x-python",
   "name": "python",
   "nbconvert_exporter": "python",
   "pygments_lexer": "ipython3",
   "version": "3.9.11"
  }
 },
 "nbformat": 4,
 "nbformat_minor": 5
}
