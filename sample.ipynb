{
 "cells": [
  {
   "cell_type": "code",
   "execution_count": 1,
   "metadata": {},
   "outputs": [],
   "source": [
    "import pandas as pd\n",
    "import numpy as np"
   ]
  },
  {
   "cell_type": "code",
   "execution_count": 2,
   "metadata": {},
   "outputs": [],
   "source": [
    "df = pd.DataFrame()\n",
    "for i in range(10):\n",
    "    num = str(i).zfill(3)\n",
    "    df[f'feature_{num}'] = np.random.normal(0, 0.1, 100)"
   ]
  },
  {
   "cell_type": "code",
   "execution_count": 3,
   "metadata": {},
   "outputs": [
    {
     "data": {
      "text/html": [
       "<div>\n",
       "<style scoped>\n",
       "    .dataframe tbody tr th:only-of-type {\n",
       "        vertical-align: middle;\n",
       "    }\n",
       "\n",
       "    .dataframe tbody tr th {\n",
       "        vertical-align: top;\n",
       "    }\n",
       "\n",
       "    .dataframe thead th {\n",
       "        text-align: right;\n",
       "    }\n",
       "</style>\n",
       "<table border=\"1\" class=\"dataframe\">\n",
       "  <thead>\n",
       "    <tr style=\"text-align: right;\">\n",
       "      <th></th>\n",
       "      <th>feature_000</th>\n",
       "      <th>feature_001</th>\n",
       "      <th>feature_002</th>\n",
       "      <th>feature_003</th>\n",
       "      <th>feature_004</th>\n",
       "      <th>feature_005</th>\n",
       "      <th>feature_006</th>\n",
       "      <th>feature_007</th>\n",
       "      <th>feature_008</th>\n",
       "      <th>feature_009</th>\n",
       "    </tr>\n",
       "  </thead>\n",
       "  <tbody>\n",
       "    <tr>\n",
       "      <th>0</th>\n",
       "      <td>0.080318</td>\n",
       "      <td>-0.113893</td>\n",
       "      <td>0.002451</td>\n",
       "      <td>-0.001294</td>\n",
       "      <td>0.033985</td>\n",
       "      <td>-0.099607</td>\n",
       "      <td>-0.023247</td>\n",
       "      <td>0.037972</td>\n",
       "      <td>0.076350</td>\n",
       "      <td>0.015384</td>\n",
       "    </tr>\n",
       "    <tr>\n",
       "      <th>1</th>\n",
       "      <td>0.066393</td>\n",
       "      <td>-0.017842</td>\n",
       "      <td>0.140568</td>\n",
       "      <td>0.098733</td>\n",
       "      <td>-0.058484</td>\n",
       "      <td>-0.064894</td>\n",
       "      <td>0.050023</td>\n",
       "      <td>-0.047545</td>\n",
       "      <td>0.114584</td>\n",
       "      <td>0.214487</td>\n",
       "    </tr>\n",
       "    <tr>\n",
       "      <th>2</th>\n",
       "      <td>0.062154</td>\n",
       "      <td>-0.030802</td>\n",
       "      <td>0.124888</td>\n",
       "      <td>0.038053</td>\n",
       "      <td>-0.011303</td>\n",
       "      <td>0.037726</td>\n",
       "      <td>-0.043269</td>\n",
       "      <td>0.022046</td>\n",
       "      <td>-0.175499</td>\n",
       "      <td>0.062629</td>\n",
       "    </tr>\n",
       "    <tr>\n",
       "      <th>3</th>\n",
       "      <td>-0.059428</td>\n",
       "      <td>0.014927</td>\n",
       "      <td>-0.026308</td>\n",
       "      <td>0.016263</td>\n",
       "      <td>0.023710</td>\n",
       "      <td>0.064092</td>\n",
       "      <td>0.051497</td>\n",
       "      <td>-0.215383</td>\n",
       "      <td>-0.178998</td>\n",
       "      <td>0.053893</td>\n",
       "    </tr>\n",
       "    <tr>\n",
       "      <th>4</th>\n",
       "      <td>-0.010442</td>\n",
       "      <td>0.044619</td>\n",
       "      <td>0.108276</td>\n",
       "      <td>0.126085</td>\n",
       "      <td>0.080850</td>\n",
       "      <td>0.011532</td>\n",
       "      <td>-0.074260</td>\n",
       "      <td>0.103563</td>\n",
       "      <td>0.031373</td>\n",
       "      <td>0.130081</td>\n",
       "    </tr>\n",
       "  </tbody>\n",
       "</table>\n",
       "</div>"
      ],
      "text/plain": [
       "   feature_000  feature_001  feature_002  feature_003  feature_004  \\\n",
       "0     0.080318    -0.113893     0.002451    -0.001294     0.033985   \n",
       "1     0.066393    -0.017842     0.140568     0.098733    -0.058484   \n",
       "2     0.062154    -0.030802     0.124888     0.038053    -0.011303   \n",
       "3    -0.059428     0.014927    -0.026308     0.016263     0.023710   \n",
       "4    -0.010442     0.044619     0.108276     0.126085     0.080850   \n",
       "\n",
       "   feature_005  feature_006  feature_007  feature_008  feature_009  \n",
       "0    -0.099607    -0.023247     0.037972     0.076350     0.015384  \n",
       "1    -0.064894     0.050023    -0.047545     0.114584     0.214487  \n",
       "2     0.037726    -0.043269     0.022046    -0.175499     0.062629  \n",
       "3     0.064092     0.051497    -0.215383    -0.178998     0.053893  \n",
       "4     0.011532    -0.074260     0.103563     0.031373     0.130081  "
      ]
     },
     "execution_count": 3,
     "metadata": {},
     "output_type": "execute_result"
    }
   ],
   "source": [
    "df.head()"
   ]
  },
  {
   "cell_type": "code",
   "execution_count": 4,
   "metadata": {},
   "outputs": [],
   "source": [
    "df.to_csv('sample.csv', index=None)"
   ]
  },
  {
   "cell_type": "code",
   "execution_count": null,
   "metadata": {},
   "outputs": [],
   "source": []
  }
 ],
 "metadata": {
  "kernelspec": {
   "display_name": "Python 3.9.11 ('.venv': poetry)",
   "language": "python",
   "name": "python3"
  },
  "language_info": {
   "codemirror_mode": {
    "name": "ipython",
    "version": 3
   },
   "file_extension": ".py",
   "mimetype": "text/x-python",
   "name": "python",
   "nbconvert_exporter": "python",
   "pygments_lexer": "ipython3",
   "version": "3.9.11"
  },
  "orig_nbformat": 4,
  "vscode": {
   "interpreter": {
    "hash": "b0cbdc97e1d8d66fa316bb0307cbf625a84bd70eaf55923ff5c8be33d6f1062f"
   }
  }
 },
 "nbformat": 4,
 "nbformat_minor": 2
}
